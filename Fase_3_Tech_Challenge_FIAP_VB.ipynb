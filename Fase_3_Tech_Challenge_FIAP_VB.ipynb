{
  "nbformat": 4,
  "nbformat_minor": 0,
  "metadata": {
    "colab": {
      "provenance": [],
      "authorship_tag": "ABX9TyMRF1bQuZnmRLh/jAszImF7",
      "include_colab_link": true
    },
    "kernelspec": {
      "name": "python3",
      "display_name": "Python 3"
    },
    "language_info": {
      "name": "python"
    }
  },
  "cells": [
    {
      "cell_type": "markdown",
      "metadata": {
        "id": "view-in-github",
        "colab_type": "text"
      },
      "source": [
        "<a href=\"https://colab.research.google.com/github/Baaprado/Pos_Tech_FIAP/blob/main/Fase_3_Tech_Challenge_FIAP_VB.ipynb\" target=\"_parent\"><img src=\"https://colab.research.google.com/assets/colab-badge.svg\" alt=\"Open In Colab\"/></a>"
      ]
    },
    {
      "cell_type": "markdown",
      "source": [
        "# Leitura inicial dos arquivos"
      ],
      "metadata": {
        "id": "mZtW2Sxl-dW9"
      }
    },
    {
      "cell_type": "code",
      "source": [
        "!pip install pyspark==3.4.1"
      ],
      "metadata": {
        "colab": {
          "base_uri": "https://localhost:8080/"
        },
        "id": "sha8Mrgu-goV",
        "outputId": "487327b5-b406-4634-ce97-2ab304065c83"
      },
      "execution_count": 1,
      "outputs": [
        {
          "output_type": "stream",
          "name": "stdout",
          "text": [
            "Collecting pyspark==3.4.1\n",
            "  Downloading pyspark-3.4.1.tar.gz (310.8 MB)\n",
            "\u001b[2K     \u001b[90m━━━━━━━━━━━━━━━━━━━━━━━━━━━━━━━━━━━━━━━━\u001b[0m \u001b[32m310.8/310.8 MB\u001b[0m \u001b[31m2.5 MB/s\u001b[0m eta \u001b[36m0:00:00\u001b[0m\n",
            "\u001b[?25h  Preparing metadata (setup.py) ... \u001b[?25l\u001b[?25hdone\n",
            "Requirement already satisfied: py4j==0.10.9.7 in /usr/local/lib/python3.10/dist-packages (from pyspark==3.4.1) (0.10.9.7)\n",
            "Building wheels for collected packages: pyspark\n",
            "  Building wheel for pyspark (setup.py) ... \u001b[?25l\u001b[?25hdone\n",
            "  Created wheel for pyspark: filename=pyspark-3.4.1-py2.py3-none-any.whl size=311285391 sha256=2fefd7681332b9374788fe824c920f64b2410dc9e8d8ed8704518f2f0567b39e\n",
            "  Stored in directory: /root/.cache/pip/wheels/0d/77/a3/ff2f74cc9ab41f8f594dabf0579c2a7c6de920d584206e0834\n",
            "Successfully built pyspark\n",
            "Installing collected packages: pyspark\n",
            "  Attempting uninstall: pyspark\n",
            "    Found existing installation: pyspark 3.5.3\n",
            "    Uninstalling pyspark-3.5.3:\n",
            "      Successfully uninstalled pyspark-3.5.3\n",
            "Successfully installed pyspark-3.4.1\n"
          ]
        }
      ]
    },
    {
      "cell_type": "code",
      "source": [
        "!pip install xlrd"
      ],
      "metadata": {
        "colab": {
          "base_uri": "https://localhost:8080/"
        },
        "id": "fPjIM5pgCDsG",
        "outputId": "940d3f40-b46b-4dc8-ab77-aca50a39388a"
      },
      "execution_count": 6,
      "outputs": [
        {
          "output_type": "stream",
          "name": "stdout",
          "text": [
            "Requirement already satisfied: xlrd in /usr/local/lib/python3.10/dist-packages (2.0.1)\n"
          ]
        }
      ]
    },
    {
      "cell_type": "markdown",
      "source": [
        "Importação das bibliotecas e inicialização da SparkSession"
      ],
      "metadata": {
        "id": "EXQhqiKx-lAB"
      }
    },
    {
      "cell_type": "code",
      "source": [
        "from pyspark.sql import SparkSession\n",
        "from pyspark.sql.functions import *\n",
        "from pyspark.sql.types import *\n",
        "import pandas as pd\n",
        "import re\n",
        "\n",
        "spark = SparkSession.builder.appName(\"PNAD_COVID\").getOrCreate()"
      ],
      "metadata": {
        "id": "d8a5IOaM-j0S"
      },
      "execution_count": 36,
      "outputs": []
    },
    {
      "cell_type": "markdown",
      "source": [
        "Leitura da base com os questionamentos para um DataFrame do PySpark"
      ],
      "metadata": {
        "id": "wWVdA29k-wjF"
      }
    },
    {
      "cell_type": "code",
      "source": [
        "!wget \"https://github.com/Baaprado/Pos_Tech_FIAP/raw/main/072020.zip\" -O \"072020.zip\"\n",
        "!unzip -o \"072020.zip\" -d \"072020\"\n",
        "\n",
        "caminho_arquivo_csv = \"072020/PNAD_COVID_072020.csv\"\n",
        "microdados_072020 = spark.read.csv(caminho_arquivo_csv, header=True, inferSchema=True, sep=\",\")"
      ],
      "metadata": {
        "colab": {
          "base_uri": "https://localhost:8080/"
        },
        "id": "kpi4Cuzx-vnv",
        "outputId": "0b9a9c76-ebee-4125-bdb8-1e3ec9ead939"
      },
      "execution_count": 43,
      "outputs": [
        {
          "output_type": "stream",
          "name": "stdout",
          "text": [
            "--2024-12-17 01:27:45--  https://github.com/Baaprado/Pos_Tech_FIAP/raw/main/072020.zip\n",
            "Resolving github.com (github.com)... 140.82.113.3\n",
            "Connecting to github.com (github.com)|140.82.113.3|:443... connected.\n",
            "HTTP request sent, awaiting response... 302 Found\n",
            "Location: https://raw.githubusercontent.com/Baaprado/Pos_Tech_FIAP/main/072020.zip [following]\n",
            "--2024-12-17 01:27:46--  https://raw.githubusercontent.com/Baaprado/Pos_Tech_FIAP/main/072020.zip\n",
            "Resolving raw.githubusercontent.com (raw.githubusercontent.com)... 185.199.111.133, 185.199.108.133, 185.199.109.133, ...\n",
            "Connecting to raw.githubusercontent.com (raw.githubusercontent.com)|185.199.111.133|:443... connected.\n",
            "HTTP request sent, awaiting response... 200 OK\n",
            "Length: 14242290 (14M) [application/zip]\n",
            "Saving to: ‘072020.zip’\n",
            "\n",
            "072020.zip          100%[===================>]  13.58M  --.-KB/s    in 0.1s    \n",
            "\n",
            "2024-12-17 01:27:46 (110 MB/s) - ‘072020.zip’ saved [14242290/14242290]\n",
            "\n",
            "Archive:  072020.zip\n",
            "  inflating: 072020/Dicionario_PNAD_COVID_072020_20220621.xls  \n",
            "  inflating: 072020/__MACOSX/._Dicionario_PNAD_COVID_072020_20220621.xls  \n",
            "  inflating: 072020/PNAD_COVID_072020.csv  \n",
            "  inflating: 072020/__MACOSX/._PNAD_COVID_072020.csv  \n",
            "  inflating: 072020/pnad_covid19_202007_saude_BR_GR_UF.xlsx  \n",
            "  inflating: 072020/__MACOSX/._pnad_covid19_202007_saude_BR_GR_UF.xlsx  \n"
          ]
        }
      ]
    },
    {
      "cell_type": "code",
      "source": [
        "!wget \"https://github.com/Baaprado/Pos_Tech_FIAP/raw/main/092020.zip\" -O \"092020.zip\"\n",
        "!unzip -o \"092020.zip\" -d \"092020\"\n",
        "\n",
        "caminho_arquivo_csv = \"092020/PNAD_COVID_092020.csv\"\n",
        "microdados_092020 = spark.read.csv(caminho_arquivo_csv, header=True, inferSchema=True, sep=\",\")"
      ],
      "metadata": {
        "colab": {
          "base_uri": "https://localhost:8080/"
        },
        "id": "sALtNZM0N-9m",
        "outputId": "f16761c2-2742-423e-c81f-385eb54a06e7"
      },
      "execution_count": 44,
      "outputs": [
        {
          "output_type": "stream",
          "name": "stdout",
          "text": [
            "--2024-12-17 01:27:53--  https://github.com/Baaprado/Pos_Tech_FIAP/raw/main/092020.zip\n",
            "Resolving github.com (github.com)... 140.82.113.3\n",
            "Connecting to github.com (github.com)|140.82.113.3|:443... connected.\n",
            "HTTP request sent, awaiting response... 302 Found\n",
            "Location: https://raw.githubusercontent.com/Baaprado/Pos_Tech_FIAP/main/092020.zip [following]\n",
            "--2024-12-17 01:27:54--  https://raw.githubusercontent.com/Baaprado/Pos_Tech_FIAP/main/092020.zip\n",
            "Resolving raw.githubusercontent.com (raw.githubusercontent.com)... 185.199.108.133, 185.199.109.133, 185.199.111.133, ...\n",
            "Connecting to raw.githubusercontent.com (raw.githubusercontent.com)|185.199.108.133|:443... connected.\n",
            "HTTP request sent, awaiting response... 200 OK\n",
            "Length: 15777969 (15M) [application/zip]\n",
            "Saving to: ‘092020.zip’\n",
            "\n",
            "092020.zip          100%[===================>]  15.05M  --.-KB/s    in 0.1s    \n",
            "\n",
            "2024-12-17 01:27:54 (102 MB/s) - ‘092020.zip’ saved [15777969/15777969]\n",
            "\n",
            "Archive:  092020.zip\n",
            "  inflating: 092020/Dicionario_PNAD_COVID_092020_20220621.xls  \n",
            "  inflating: 092020/__MACOSX/._Dicionario_PNAD_COVID_092020_20220621.xls  \n",
            "  inflating: 092020/PNAD_COVID_092020.csv  \n",
            "  inflating: 092020/__MACOSX/._PNAD_COVID_092020.csv  \n",
            "  inflating: 092020/pnad_covid19_202009_saude_BR_GR_UF.xlsx  \n",
            "  inflating: 092020/__MACOSX/._pnad_covid19_202009_saude_BR_GR_UF.xlsx  \n"
          ]
        }
      ]
    },
    {
      "cell_type": "code",
      "source": [
        "!wget \"https://github.com/Baaprado/Pos_Tech_FIAP/raw/main/112020.zip\" -O \"112020.zip\"\n",
        "!unzip -o \"112020.zip\" -d \"112020\"\n",
        "\n",
        "caminho_arquivo_csv = \"112020/PNAD_COVID_112020.csv\"\n",
        "microdados_112020 = spark.read.csv(caminho_arquivo_csv, header=True, inferSchema=True, sep=\",\")"
      ],
      "metadata": {
        "colab": {
          "base_uri": "https://localhost:8080/"
        },
        "id": "kVv2I7i8OP45",
        "outputId": "2a698c09-e206-41d9-977f-44f169e45aa7"
      },
      "execution_count": 45,
      "outputs": [
        {
          "output_type": "stream",
          "name": "stdout",
          "text": [
            "--2024-12-17 01:28:04--  https://github.com/Baaprado/Pos_Tech_FIAP/raw/main/112020.zip\n",
            "Resolving github.com (github.com)... 140.82.113.3\n",
            "Connecting to github.com (github.com)|140.82.113.3|:443... connected.\n",
            "HTTP request sent, awaiting response... 302 Found\n",
            "Location: https://raw.githubusercontent.com/Baaprado/Pos_Tech_FIAP/main/112020.zip [following]\n",
            "--2024-12-17 01:28:04--  https://raw.githubusercontent.com/Baaprado/Pos_Tech_FIAP/main/112020.zip\n",
            "Resolving raw.githubusercontent.com (raw.githubusercontent.com)... 185.199.108.133, 185.199.109.133, 185.199.110.133, ...\n",
            "Connecting to raw.githubusercontent.com (raw.githubusercontent.com)|185.199.108.133|:443... connected.\n",
            "HTTP request sent, awaiting response... 200 OK\n",
            "Length: 16693899 (16M) [application/zip]\n",
            "Saving to: ‘112020.zip’\n",
            "\n",
            "112020.zip          100%[===================>]  15.92M  --.-KB/s    in 0.1s    \n",
            "\n",
            "2024-12-17 01:28:04 (128 MB/s) - ‘112020.zip’ saved [16693899/16693899]\n",
            "\n",
            "Archive:  112020.zip\n",
            "  inflating: 112020/Dicionario_PNAD_COVID_112020_20220621.xls  \n",
            "  inflating: 112020/__MACOSX/._Dicionario_PNAD_COVID_112020_20220621.xls  \n",
            "  inflating: 112020/PNAD_COVID_112020.csv  \n",
            "  inflating: 112020/__MACOSX/._PNAD_COVID_112020.csv  \n",
            "  inflating: 112020/pnad_covid19_202011_saude_BR_GR_UF.xlsx  \n",
            "  inflating: 112020/__MACOSX/._pnad_covid19_202011_saude_BR_GR_UF.xlsx  \n"
          ]
        }
      ]
    },
    {
      "cell_type": "code",
      "source": [
        "microdados_072020.show()"
      ],
      "metadata": {
        "colab": {
          "base_uri": "https://localhost:8080/"
        },
        "id": "QdBEXwkxDkDj",
        "outputId": "1890800e-9229-419f-d9e7-8aaf024580a8"
      },
      "execution_count": 46,
      "outputs": [
        {
          "output_type": "stream",
          "name": "stdout",
          "text": [
            "+----+---+-------+-------+-----+-----+-----+-----+-------+---------+-----+-----+------+------------+------------+------+----+-----+------+------+------+----+----+----+----+----+----+----+----+-----+-----+-----+-----+-----+-----+-----+-----+-----+------+------+------+------+----+-----+-----+-----+-----+-----+-----+-----+-----+-----+-----+-----+-----+-----+----+----+----+----+-----+-----+-----+-----+-----+-----+-----+-----+-----+-----+-----+-----+----+----+----+----+----+----+-----+-----+-----+----+----+-----+-----+-----+-----+-----+------+------+-----+----+----+-----+----+-----+------+------+-----+------+------+-----+-----+-----+------+-------+-------+------+-------+-------+----+----+----+----+----+-----+-----+-----+-----+-----+-----+-----+-----+-----+-----+-----+-----+-----+-----+-----+----+-----+-----+-----+-----+----+-----+-----+------+------+------+------+------+-----+----+\n",
            "| Ano| UF|CAPITAL|RM_RIDE|V1008|V1012|V1013|V1016|Estrato|      UPA|V1022|V1023| V1030|       V1031|       V1032|posest|A001|A001A|A001B1|A001B2|A001B3|A002|A003|A004|A005|A006|A007|A008|A009|B0011|B0012|B0013|B0014|B0015|B0016|B0017|B0018|B0019|B00110|B00111|B00112|B00113|B002|B0031|B0032|B0033|B0034|B0035|B0036|B0037|B0041|B0042|B0043|B0044|B0045|B0046|B005|B006|B007|B008|B009A|B009B|B009C|B009D|B009E|B009F|B0101|B0102|B0103|B0104|B0105|B0106|B011|C001|C002|C003|C004|C005|C0051|C0052|C0053|C006|C007|C007A|C007B|C007C|C007D|C007E|C007E1|C007E2|C007F|C008|C009|C009A|C010|C0101|C01011|C01012|C0102|C01021|C01022|C0103|C0104|C011A|C011A1|C011A11|C011A12|C011A2|C011A21|C011A22|C012|C013|C014|C015|C016|C017A|D0011|D0013|D0021|D0023|D0031|D0033|D0041|D0043|D0051|D0053|D0061|D0063|D0071|D0073|E001|E0021|E0022|E0023|E0024|F001|F0021|F0022|F002A1|F002A2|F002A3|F002A4|F002A5|F0061|F006|\n",
            "+----+---+-------+-------+-----+-----+-----+-----+-------+---------+-----+-----+------+------------+------------+------+----+-----+------+------+------+----+----+----+----+----+----+----+----+-----+-----+-----+-----+-----+-----+-----+-----+-----+------+------+------+------+----+-----+-----+-----+-----+-----+-----+-----+-----+-----+-----+-----+-----+-----+----+----+----+----+-----+-----+-----+-----+-----+-----+-----+-----+-----+-----+-----+-----+----+----+----+----+----+----+-----+-----+-----+----+----+-----+-----+-----+-----+-----+------+------+-----+----+----+-----+----+-----+------+------+-----+------+------+-----+-----+-----+------+-------+-------+------+-------+-------+----+----+----+----+----+-----+-----+-----+-----+-----+-----+-----+-----+-----+-----+-----+-----+-----+-----+-----+----+-----+-----+-----+-----+----+-----+-----+------+------+------+------+------+-----+----+\n",
            "|2020| 11|     11|   null|    1|    4|    7|    3|1110011|110015970|    1|    1|152452|130.59560514|149.67110856|  1114|   1|    1|     5|     8|  1984|  35|   1|   4|   5|null|null|null|null|    2|    2|    2|    2|    2|    2|    2|    2|    2|     2|     2|     2|     2|null| null| null| null| null| null| null| null| null| null| null| null| null| null|null|null|   1|   2| null| null| null| null| null| null|    2|    2|    2|    2|    2|    2|   2|   1|null|null|null|null| null| null| null|   2|   4| null|    1|   35|    6| null|  null|  null| null|  48|  48| null|   1|    1|     4|  1045| null|  null|  null| null| null|    1|     1|      4|   1045|  null|   null|   null|   1|null|null|null|null| null|    2| null|    2| null|    2| null|    2| null|    1| 1200|    2| null|    2| null|   3| null| null| null| null|   1| null| null|     1|     1|     1|     2|     1|    1|   2|\n",
            "|2020| 11|     11|   null|    1|    4|    7|    3|1110011|110015970|    1|    1|154289|130.59560514|145.29668757|  1123|   2|    2|    18|     8|  1990|  29|   2|   4|   7|   2|null|null|null|    2|    2|    2|    2|    2|    2|    2|    2|    2|     2|     2|     2|     2|null| null| null| null| null| null| null| null| null| null| null| null| null| null|null|null|   2|   2| null| null| null| null| null| null|    2|    2|    2|    2|    2|    2|   3|   2|   1|   1|   2|   2|    4| null| null|null|null| null| null| null| null| null|  null|  null| null|null|null| null|null| null|  null|  null| null|  null|  null| null| null| null|  null|   null|   null|  null|   null|   null|null|null|   2|   2|  10|    1|    2| null|    2| null|    2| null|    2| null|    1| 1200|    2| null|    2| null|   3| null| null| null| null|   1| null| null|     1|     1|     1|     2|     1|    1|   2|\n",
            "|2020| 11|     11|   null|    1|    4|    7|    3|1110011|110015970|    1|    1|145749|130.59560514|166.25411441|  1112|   3|    4|    25|    12|  2006|  13|   1|   4|   2|   1|   1|   5|   3|    2|    2|    2|    2|    2|    2|    2|    2|    2|     2|     2|     2|     2|null| null| null| null| null| null| null| null| null| null| null| null| null| null|null|null|   1|   2| null| null| null| null| null| null|    2|    2|    2|    2|    2|    2|   4|null|null|null|null|null| null| null| null|null|null| null| null| null| null| null|  null|  null| null|null|null| null|null| null|  null|  null| null|  null|  null| null| null| null|  null|   null|   null|  null|   null|   null|null|null|null|null|null| null|    2| null|    2| null|    2| null|    2| null|    1| 1200|    2| null|    2| null|   3| null| null| null| null|   1| null| null|     1|     1|     1|     2|     1|    1|   2|\n",
            "|2020| 11|     11|   null|    1|    4|    7|    3|1110011|110015970|    1|    1|145749|130.59560514|166.25411441|  1112|   4|    4|    24|     8|  2009|  10|   1|   4|   2|   1|   1|   5|   3|    2|    2|    2|    2|    2|    2|    2|    2|    2|     2|     2|     2|     2|null| null| null| null| null| null| null| null| null| null| null| null| null| null|null|null|   1|   2| null| null| null| null| null| null|    2|    2|    2|    2|    2|    2|   4|null|null|null|null|null| null| null| null|null|null| null| null| null| null| null|  null|  null| null|null|null| null|null| null|  null|  null| null|  null|  null| null| null| null|  null|   null|   null|  null|   null|   null|null|null|null|null|null| null|    2| null|    2| null|    2| null|    2| null|    1| 1200|    2| null|    2| null|   3| null| null| null| null|   1| null| null|     1|     1|     1|     2|     1|    1|   2|\n",
            "|2020| 11|     11|   null|    2|    1|    7|    3|1110011|110015970|    1|    1| 91395|130.59560514|126.96047655|  1126|   1|    1|    18|     5|  1963|  57|   2|   1|   2|null|null|null|null|    2|    2|    2|    2|    2|    2|    2|    2|    2|     2|     2|     2|     2|null| null| null| null| null| null| null| null| null| null| null| null| null| null|null|null|   2|   2| null| null| null| null| null| null|    2|    2|    2|    2|    2|    2|   3|   2|   2|null|null|null| null| null| null|null|null| null| null| null| null| null|  null|  null| null|null|null| null|null| null|  null|  null| null|  null|  null| null| null| null|  null|   null|   null|  null|   null|   null|null|null|   2|   2|   1|    1|    2| null|    2| null|    2| null|    1| 1045|    2| null|    2| null|    2| null|   3| null| null| null| null|   1| null| null|     1|     1|     1|     2|     1|    1|   1|\n",
            "|2020| 11|     11|   null|    4|    4|    7|    3|1110011|110015970|    1|    1|122744|130.59560514|165.55065666|  1115|   1|    1|    18|     2|  1973|  47|   1|   4|   2|null|null|null|null|    2|    2|    2|    2|    2|    2|    2|    2|    2|     2|     2|     2|     2|null| null| null| null| null| null| null| null| null| null| null| null| null| null|null|null|   2|   1|    2| null|    1|    2|    2| null|    2|    2|    2|    2|    2|    2|   2|   2|   1|   1|   2|   2|    3| null| null|   2|   7| null| null|   18|    5| null|  null|  null| null|  44|   0| null|   1|    1|     5|  2000| null|  null|  null| null| null|    1|     1|      0|      0|  null|   null|   null|null|null|   2|null|null| null|    2| null|    2| null|    2| null|    2| null|    1|  600|    2| null|    2| null|   3| null| null| null| null|   1| null| null|     1|     1|     1|     2|     1|    1|   1|\n",
            "|2020| 11|     11|   null|    4|    4|    7|    3|1110011|110015970|    1|    1|139562|130.59560514|157.41948743|  1122|   3|    5|    99|    99|  9999|  18|   2|   4|   2|   1|   4|null|null|    2|    2|    2|    2|    2|    2|    2|    2|    2|     2|     2|     2|     2|null| null| null| null| null| null| null| null| null| null| null| null| null| null|null|null|   2|   2| null| null| null| null| null| null|    2|    2|    2|    2|    2|    2|   2|   2|   2|null|null|null| null| null| null|null|null| null| null| null| null| null|  null|  null| null|null|null| null|null| null|  null|  null| null|  null|  null| null| null| null|  null|   null|   null|  null|   null|   null|null|null|   2|   2|   7|    1|    2| null|    2| null|    2| null|    2| null|    1|  600|    2| null|    2| null|   3| null| null| null| null|   1| null| null|     1|     1|     1|     2|     1|    1|   1|\n",
            "|2020| 11|     11|   null|    4|    4|    7|    3|1110011|110015970|    1|    1|145749|130.59560514|166.25411441|  1112|   6|    5|    99|    99|  9999|  11|   1|   4|   2|   1|   4|null|null|    2|    2|    2|    2|    2|    2|    2|    2|    2|     2|     2|     2|     2|null| null| null| null| null| null| null| null| null| null| null| null| null| null|null|null|   2|   2| null| null| null| null| null| null|    2|    2|    2|    2|    2|    2|   2|null|null|null|null|null| null| null| null|null|null| null| null| null| null| null|  null|  null| null|null|null| null|null| null|  null|  null| null|  null|  null| null| null| null|  null|   null|   null|  null|   null|   null|null|null|null|null|null| null|    2| null|    2| null|    2| null|    2| null|    1|  600|    2| null|    2| null|   3| null| null| null| null|   1| null| null|     1|     1|     1|     2|     1|    1|   1|\n",
            "|2020| 11|     11|   null|    4|    4|    7|    3|1110011|110015970|    1|    1|133935|130.59560514|158.57027492|  1121|   8|    5|    99|    99|  9999|   9|   2|   4|   2|   1|   4|null|null|    2|    2|    2|    2|    2|    2|    2|    2|    2|     2|     2|     2|     2|null| null| null| null| null| null| null| null| null| null| null| null| null| null|null|null|   2|   2| null| null| null| null| null| null|    2|    2|    2|    2|    2|    2|   2|null|null|null|null|null| null| null| null|null|null| null| null| null| null| null|  null|  null| null|null|null| null|null| null|  null|  null| null|  null|  null| null| null| null|  null|   null|   null|  null|   null|   null|null|null|null|null|null| null|    2| null|    2| null|    2| null|    2| null|    1|  600|    2| null|    2| null|   3| null| null| null| null|   1| null| null|     1|     1|     1|     2|     1|    1|   1|\n",
            "|2020| 11|     11|   null|    4|    4|    7|    3|1110011|110015970|    1|    1|145749|130.59560514|166.25411441|  1112|   7|    5|    99|    99|  9999|  10|   1|   4|   2|   1|   4|null|null|    2|    2|    2|    2|    2|    2|    2|    2|    2|     2|     2|     2|     2|null| null| null| null| null| null| null| null| null| null| null| null| null| null|null|null|   2|   2| null| null| null| null| null| null|    2|    2|    2|    2|    2|    2|   2|null|null|null|null|null| null| null| null|null|null| null| null| null| null| null|  null|  null| null|null|null| null|null| null|  null|  null| null|  null|  null| null| null| null|  null|   null|   null|  null|   null|   null|null|null|null|null|null| null|    2| null|    2| null|    2| null|    2| null|    1|  600|    2| null|    2| null|   3| null| null| null| null|   1| null| null|     1|     1|     1|     2|     1|    1|   1|\n",
            "|2020| 11|     11|   null|    4|    4|    7|    3|1110011|110015970|    1|    1|157445|130.59560514|169.30836916|  1113|   2|    5|     3|     3|  1994|  26|   1|   4|   5|   2|null|null|null|    2|    2|    2|    2|    2|    2|    2|    2|    2|     2|     2|     2|     2|null| null| null| null| null| null| null| null| null| null| null| null| null| null|null|null|   2|   2| null| null| null| null| null| null|    2|    2|    2|    2|    2|    2|   2|   2|   2|null|null|null| null| null| null|null|null| null| null| null| null| null|  null|  null| null|null|null| null|null| null|  null|  null| null|  null|  null| null| null| null|  null|   null|   null|  null|   null|   null|null|null|   2|   1|null| null|    2| null|    2| null|    2| null|    2| null|    1|  600|    2| null|    2| null|   3| null| null| null| null|   1| null| null|     1|     1|     1|     2|     1|    1|   1|\n",
            "|2020| 11|     11|   null|    4|    4|    7|    3|1110011|110015970|    1|    1|145749|130.59560514|166.25411441|  1112|   5|    5|    99|    99|  9999|  14|   1|   3|   2|   1|   4|null|null|    2|    2|    2|    2|    2|    2|    2|    2|    2|     2|     2|     2|     2|null| null| null| null| null| null| null| null| null| null| null| null| null| null|null|null|   2|   2| null| null| null| null| null| null|    2|    2|    2|    2|    2|    2|   2|   2|   2|null|null|null| null| null| null|null|null| null| null| null| null| null|  null|  null| null|null|null| null|null| null|  null|  null| null|  null|  null| null| null| null|  null|   null|   null|  null|   null|   null|null|null|   2|   1|null| null|    2| null|    2| null|    2| null|    2| null|    1|  600|    2| null|    2| null|   3| null| null| null| null|   1| null| null|     1|     1|     1|     2|     1|    1|   1|\n",
            "|2020| 11|     11|   null|    4|    4|    7|    3|1110011|110015970|    1|    1|139562|130.59560514|157.41948743|  1122|   4|    5|    99|    99|  9999|  15|   2|   4|   2|   1|   4|null|null|    2|    2|    2|    2|    2|    2|    2|    2|    2|     2|     2|     2|     2|null| null| null| null| null| null| null| null| null| null| null| null| null| null|null|null|   2|   2| null| null| null| null| null| null|    2|    2|    2|    2|    2|    2|   2|   2|   2|null|null|null| null| null| null|null|null| null| null| null| null| null|  null|  null| null|null|null| null|null| null|  null|  null| null|  null|  null| null| null| null|  null|   null|   null|  null|   null|   null|null|null|   2|   2|   4|    2|    2| null|    2| null|    2| null|    2| null|    1|  600|    2| null|    2| null|   3| null| null| null| null|   1| null| null|     1|     1|     1|     2|     1|    1|   1|\n",
            "|2020| 11|     11|   null|    5|    3|    7|    3|1110011|110015970|    1|    1| 56060|130.59560514|135.37295436|  1117|   1|    1|    25|     5|  1958|  62|   1|   4|   1|null|null|null|null|    2|    2|    2|    2|    2|    2|    2|    2|    2|     2|     2|     2|     2|null| null| null| null| null| null| null| null| null| null| null| null| null| null|null|null|   2|   2| null| null| null| null| null| null|    1|    2|    2|    2|    2|    2|   3|   1|null|null|null|null| null| null| null|   2|   7| null| null|   19|    7| null|  null|  null| null|  44|  44| null|   1|    1|     4|  1045| null|  null|  null| null| null|    1|     1|      0|      0|  null|   null|   null|   1|null|   2|null|null| null|    2| null|    2| null|    2| null|    2| null|    1|  600|    2| null|    2| null|   3| null| null| null| null|   5| null| null|     1|     1|     1|     2|     1|    1|   1|\n",
            "|2020| 11|     11|   null|    5|    3|    7|    3|1110011|110015970|    1|    1| 54899|130.59560514|118.29949481|  1127|   2|    2|    31|     3|  1958|  62|   2|   4|   2|null|null|null|null|    2|    2|    2|    2|    2|    2|    2|    2|    2|     2|     2|     2|     2|null| null| null| null| null| null| null| null| null| null| null| null| null| null|null|null|   2|   2| null| null| null| null| null| null|    2|    1|    2|    2|    2|    2|   3|   2|   2|null|null|null| null| null| null|null|null| null| null| null| null| null|  null|  null| null|null|null| null|null| null|  null|  null| null|  null|  null| null| null| null|  null|   null|   null|  null|   null|   null|null|null|   2|   1|null| null|    2| null|    2| null|    2| null|    2| null|    1|  600|    2| null|    2| null|   3| null| null| null| null|   5| null| null|     1|     1|     1|     2|     1|    1|   1|\n",
            "|2020| 11|     11|   null|    6|    2|    7|    3|1110011|110015970|    1|    1| 91395|130.59560514|126.96047655|  1126|   1|    1|     1|    11|  1963|  56|   2|   4|   2|null|null|null|null|    2|    2|    2|    2|    2|    2|    2|    2|    2|     2|     2|     2|     2|null| null| null| null| null| null| null| null| null| null| null| null| null| null|null|null|   2|   2| null| null| null| null| null| null|    2|    2|    1|    2|    2|    2|   4|   2|   2|null|null|null| null| null| null|null|null| null| null| null| null| null|  null|  null| null|null|null| null|null| null|  null|  null| null|  null|  null| null| null| null|  null|   null|   null|  null|   null|   null|null|null|   2|   2|   8|    1|    2| null|    2| null|    2| null|    2| null|    1| 1200|    2| null|    2| null|   3| null| null| null| null|   1| null| null|     1|     1|     1|     2|     1|    1|   1|\n",
            "|2020| 11|     11|   null|    6|    2|    7|    3|1110011|110015970|    1|    1| 95468|130.59560514| 139.9845248|  1116|   2|    2|    29|     5|  1967|  53|   1|   2|   2|null|null|null|null|    2|    2|    2|    2|    2|    2|    2|    2|    2|     2|     2|     2|     2|null| null| null| null| null| null| null| null| null| null| null| null| null| null|null|null|   2|   2| null| null| null| null| null| null|    2|    2|    2|    2|    2|    2|   2|   2|   1|   2|null|null| null| null| null|   2|   7| null| null|   18|    5| null|  null|  null| null|  44|   0| null|   1|    1|     4|  1200| null|  null|  null| null| null|    1|     1|      4|   1000|  null|   null|   null|null|null|   2|null|null| null|    2| null|    2| null|    2| null|    2| null|    1| 1200|    2| null|    2| null|   3| null| null| null| null|   1| null| null|     1|     1|     1|     2|     1|    1|   1|\n",
            "|2020| 11|     11|   null|    6|    2|    7|    3|1110011|110015970|    1|    1|139562|130.59560514|157.41948743|  1122|   3|    4|    20|    12|  2002|  17|   2|   1|   4|   2|null|null|null|    2|    2|    2|    2|    2|    2|    2|    2|    2|     2|     2|     2|     2|null| null| null| null| null| null| null| null| null| null| null| null| null| null|null|null|   2|   2| null| null| null| null| null| null|    2|    2|    2|    2|    2|    2|   4|   2|   2|null|null|null| null| null| null|null|null| null| null| null| null| null|  null|  null| null|null|null| null|null| null|  null|  null| null|  null|  null| null| null| null|  null|   null|   null|  null|   null|   null|null|null|   2|   2|   3|    2|    2| null|    2| null|    2| null|    2| null|    1| 1200|    2| null|    2| null|   3| null| null| null| null|   1| null| null|     1|     1|     1|     2|     1|    1|   1|\n",
            "|2020| 11|     11|   null|    7|    3|    7|    3|1110011|110015970|    1|    1|152452|130.59560514|149.67110856|  1114|   1|    1|    30|     5|  1986|  34|   1|   4|   5|null|null|null|null|    2|    2|    2|    2|    2|    2|    2|    2|    2|     2|     2|     2|     2|null| null| null| null| null| null| null| null| null| null| null| null| null| null|null|null|   2|   1|    2| null|    2| null|    1|    2|    2|    2|    2|    2|    2|    2|   2|   1|null|null|null|null| null| null| null|   2|   4| null|    1|    8|    5| null|  null|  null| null|  44|  44| null|   1|    1|     4|  1500| null|  null|  null| null| null|    1|     1|      4|   1500|  null|   null|   null|   1|null|null|null|null| null|    2| null|    2| null|    2| null|    2| null|    2| null|    2| null|    2| null|   3| null| null| null| null|   1| null| null|     1|     1|     1|     2|     1|    1|   1|\n",
            "|2020| 11|     11|   null|    7|    3|    7|    3|1110011|110015970|    1|    1|154289|130.59560514|145.29668757|  1123|   2|    2|    16|     1|  1994|  26|   2|   4|   6|   2|null|null|null|    2|    2|    2|    2|    2|    2|    2|    2|    2|     2|     2|     2|     2|null| null| null| null| null| null| null| null| null| null| null| null| null| null|null|null|   2|   2| null| null| null| null| null| null|    2|    2|    2|    2|    2|    2|   2|   1|null|null|null|null| null| null| null|   2|   4| null|    1|    4|   25| null|  null|  null| null|  40|  40| null|   1|    1|     4|  1600| null|  null|  null| null| null|    1|     1|      4|   1300|  null|   null|   null|   1|null|null|null|null| null|    2| null|    2| null|    2| null|    2| null|    2| null|    2| null|    2| null|   3| null| null| null| null|   1| null| null|     1|     1|     1|     2|     1|    1|   1|\n",
            "+----+---+-------+-------+-----+-----+-----+-----+-------+---------+-----+-----+------+------------+------------+------+----+-----+------+------+------+----+----+----+----+----+----+----+----+-----+-----+-----+-----+-----+-----+-----+-----+-----+------+------+------+------+----+-----+-----+-----+-----+-----+-----+-----+-----+-----+-----+-----+-----+-----+----+----+----+----+-----+-----+-----+-----+-----+-----+-----+-----+-----+-----+-----+-----+----+----+----+----+----+----+-----+-----+-----+----+----+-----+-----+-----+-----+-----+------+------+-----+----+----+-----+----+-----+------+------+-----+------+------+-----+-----+-----+------+-------+-------+------+-------+-------+----+----+----+----+----+-----+-----+-----+-----+-----+-----+-----+-----+-----+-----+-----+-----+-----+-----+-----+----+-----+-----+-----+-----+----+-----+-----+------+------+------+------+------+-----+----+\n",
            "only showing top 20 rows\n",
            "\n"
          ]
        }
      ]
    },
    {
      "cell_type": "code",
      "source": [
        "selected_columns = ['UF','V1013','A002','A003','A004','A005','C007D','C01011','C013','C016','D0051','B0011','B0012','B0014','B0016','B00111','B002','B005','B007','B011']\n",
        "\n",
        "df_pnad_202007_selected = microdados_072020.select(selected_columns)\n",
        "df_pnad_202009_selected = microdados_092020.select(selected_columns)\n",
        "df_pnad_202011_selected = microdados_112020.select(selected_columns)\n",
        "df_final = df_pnad_202007_selected.union(df_pnad_202009_selected).union(df_pnad_202011_selected)\n",
        "\n",
        "df_final.show()"
      ],
      "metadata": {
        "colab": {
          "base_uri": "https://localhost:8080/"
        },
        "id": "T33-AN-6Ob0Z",
        "outputId": "8220c592-4d6a-4312-ef8a-4be1e399d8a1"
      },
      "execution_count": 47,
      "outputs": [
        {
          "output_type": "stream",
          "name": "stdout",
          "text": [
            "+---+-----+----+----+----+----+-----+------+----+----+-----+-----+-----+-----+-----+------+----+----+----+----+\n",
            "| UF|V1013|A002|A003|A004|A005|C007D|C01011|C013|C016|D0051|B0011|B0012|B0014|B0016|B00111|B002|B005|B007|B011|\n",
            "+---+-----+----+----+----+----+-----+------+----+----+-----+-----+-----+-----+-----+------+----+----+----+----+\n",
            "| 11|    7|  35|   1|   4|   5|    6|     4|null|null|    1|    2|    2|    2|    2|     2|null|null|   1|   2|\n",
            "| 11|    7|  29|   2|   4|   7| null|  null|null|  10|    1|    2|    2|    2|    2|     2|null|null|   2|   3|\n",
            "| 11|    7|  13|   1|   4|   2| null|  null|null|null|    1|    2|    2|    2|    2|     2|null|null|   1|   4|\n",
            "| 11|    7|  10|   1|   4|   2| null|  null|null|null|    1|    2|    2|    2|    2|     2|null|null|   1|   4|\n",
            "| 11|    7|  57|   2|   1|   2| null|  null|null|   1|    2|    2|    2|    2|    2|     2|null|null|   2|   3|\n",
            "| 11|    7|  47|   1|   4|   2|    5|     5|null|null|    1|    2|    2|    2|    2|     2|null|null|   2|   2|\n",
            "| 11|    7|  18|   2|   4|   2| null|  null|null|   7|    1|    2|    2|    2|    2|     2|null|null|   2|   2|\n",
            "| 11|    7|  11|   1|   4|   2| null|  null|null|null|    1|    2|    2|    2|    2|     2|null|null|   2|   2|\n",
            "| 11|    7|   9|   2|   4|   2| null|  null|null|null|    1|    2|    2|    2|    2|     2|null|null|   2|   2|\n",
            "| 11|    7|  10|   1|   4|   2| null|  null|null|null|    1|    2|    2|    2|    2|     2|null|null|   2|   2|\n",
            "| 11|    7|  26|   1|   4|   5| null|  null|null|null|    1|    2|    2|    2|    2|     2|null|null|   2|   2|\n",
            "| 11|    7|  14|   1|   3|   2| null|  null|null|null|    1|    2|    2|    2|    2|     2|null|null|   2|   2|\n",
            "| 11|    7|  15|   2|   4|   2| null|  null|null|   4|    1|    2|    2|    2|    2|     2|null|null|   2|   2|\n",
            "| 11|    7|  62|   1|   4|   1|    7|     4|null|null|    1|    2|    2|    2|    2|     2|null|null|   2|   3|\n",
            "| 11|    7|  62|   2|   4|   2| null|  null|null|null|    1|    2|    2|    2|    2|     2|null|null|   2|   3|\n",
            "| 11|    7|  56|   2|   4|   2| null|  null|null|   8|    1|    2|    2|    2|    2|     2|null|null|   2|   4|\n",
            "| 11|    7|  53|   1|   2|   2|    5|     4|null|null|    1|    2|    2|    2|    2|     2|null|null|   2|   2|\n",
            "| 11|    7|  17|   2|   1|   4| null|  null|null|   3|    1|    2|    2|    2|    2|     2|null|null|   2|   4|\n",
            "| 11|    7|  34|   1|   4|   5|    5|     4|null|null|    2|    2|    2|    2|    2|     2|null|null|   2|   2|\n",
            "| 11|    7|  26|   2|   4|   6|   25|     4|null|null|    2|    2|    2|    2|    2|     2|null|null|   2|   2|\n",
            "+---+-----+----+----+----+----+-----+------+----+----+-----+-----+-----+-----+-----+------+----+----+----+----+\n",
            "only showing top 20 rows\n",
            "\n"
          ]
        }
      ]
    },
    {
      "cell_type": "markdown",
      "source": [
        "Leitura do dicionário para um DataFrame do PySpark"
      ],
      "metadata": {
        "id": "KelSNdWp_gcM"
      }
    },
    {
      "cell_type": "code",
      "source": [
        "import xlrd\n",
        "import os\n",
        "\n",
        "def ler_arquivo_com_tratamento(arquivo, cabecalho, iniciar_linha=6):\n",
        "    workbook = xlrd.open_workbook(arquivo)\n",
        "    sheet = workbook.sheet_by_index(0)\n",
        "\n",
        "    dados = []\n",
        "    valores_anteriores = [None] * sheet.ncols\n",
        "    for i in range(iniciar_linha - 1, sheet.nrows):\n",
        "        row = []\n",
        "        for j in range(sheet.ncols):\n",
        "            cell = sheet.cell_value(rowx=i, colx=j)\n",
        "            if cell == '':\n",
        "                cell = valores_anteriores[j]\n",
        "            else:\n",
        "                valores_anteriores[j] = cell\n",
        "            row.append(cell)\n",
        "        dados.append(row)\n",
        "\n",
        "    return pd.DataFrame(dados, columns=cabecalho)\n",
        "\n",
        "arquivo_xls = os.path.join(\"072020\", \"Dicionario_PNAD_COVID_072020_20220621.xls\")\n",
        "cabecalho = ['tamanho_variavel', 'cod_variavel', 'numero_variavel', 'descricao_variavel', 'tipo_categoria', 'descricao_categoria']\n",
        "\n",
        "dicionario_pandas = ler_arquivo_com_tratamento(arquivo_xls, cabecalho)\n",
        "\n",
        "dicionario_spark = spark.createDataFrame(dicionario_pandas)\n",
        "\n",
        "print(\"Dicionário carregado (XLS):\")\n",
        "dicionario_spark.show(5)"
      ],
      "metadata": {
        "colab": {
          "base_uri": "https://localhost:8080/"
        },
        "id": "LXz8VDe3GFwf",
        "outputId": "237317e8-a7cb-4cd9-a15a-8045743b7a5b"
      },
      "execution_count": 35,
      "outputs": [
        {
          "output_type": "stream",
          "name": "stdout",
          "text": [
            "Dicionário carregado (XLS):\n",
            "+----------------+------------+---------------+--------------------+--------------+-------------------+\n",
            "|tamanho_variavel|cod_variavel|numero_variavel|  descricao_variavel|tipo_categoria|descricao_categoria|\n",
            "+----------------+------------+---------------+--------------------+--------------+-------------------+\n",
            "|             2.0|          UF|           null|Unidade da Federação|          11.0|           Rondônia|\n",
            "|             2.0|          UF|           null|Unidade da Federação|          12.0|               Acre|\n",
            "|             2.0|          UF|           null|Unidade da Federação|          13.0|           Amazonas|\n",
            "|             2.0|          UF|           null|Unidade da Federação|          14.0|            Roraima|\n",
            "|             2.0|          UF|           null|Unidade da Federação|          15.0|               Pará|\n",
            "+----------------+------------+---------------+--------------------+--------------+-------------------+\n",
            "only showing top 5 rows\n",
            "\n"
          ]
        }
      ]
    }
  ]
}