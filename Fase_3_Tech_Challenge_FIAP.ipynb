{
  "nbformat": 4,
  "nbformat_minor": 0,
  "metadata": {
    "colab": {
      "provenance": [],
      "authorship_tag": "ABX9TyP7LG4NagYjkXKI/5qHtyQg",
      "include_colab_link": true
    },
    "kernelspec": {
      "name": "python3",
      "display_name": "Python 3"
    },
    "language_info": {
      "name": "python"
    }
  },
  "cells": [
    {
      "cell_type": "markdown",
      "metadata": {
        "id": "view-in-github",
        "colab_type": "text"
      },
      "source": [
        "<a href=\"https://colab.research.google.com/github/Baaprado/Pos_Tech_FIAP/blob/main/Fase_3_Tech_Challenge_FIAP.ipynb\" target=\"_parent\"><img src=\"https://colab.research.google.com/assets/colab-badge.svg\" alt=\"Open In Colab\"/></a>"
      ]
    },
    {
      "cell_type": "markdown",
      "source": [
        "# **Leitura inicial dos arquivos**"
      ],
      "metadata": {
        "id": "mZtW2Sxl-dW9"
      }
    },
    {
      "cell_type": "markdown",
      "source": [
        "## **Instalações**"
      ],
      "metadata": {
        "id": "VDSVw-LPeIqR"
      }
    },
    {
      "cell_type": "code",
      "source": [
        "!pip install pyspark==3.4.1"
      ],
      "metadata": {
        "colab": {
          "base_uri": "https://localhost:8080/"
        },
        "id": "sha8Mrgu-goV",
        "outputId": "487327b5-b406-4634-ce97-2ab304065c83"
      },
      "execution_count": 1,
      "outputs": [
        {
          "output_type": "stream",
          "name": "stdout",
          "text": [
            "Collecting pyspark==3.4.1\n",
            "  Downloading pyspark-3.4.1.tar.gz (310.8 MB)\n",
            "\u001b[2K     \u001b[90m━━━━━━━━━━━━━━━━━━━━━━━━━━━━━━━━━━━━━━━━\u001b[0m \u001b[32m310.8/310.8 MB\u001b[0m \u001b[31m2.5 MB/s\u001b[0m eta \u001b[36m0:00:00\u001b[0m\n",
            "\u001b[?25h  Preparing metadata (setup.py) ... \u001b[?25l\u001b[?25hdone\n",
            "Requirement already satisfied: py4j==0.10.9.7 in /usr/local/lib/python3.10/dist-packages (from pyspark==3.4.1) (0.10.9.7)\n",
            "Building wheels for collected packages: pyspark\n",
            "  Building wheel for pyspark (setup.py) ... \u001b[?25l\u001b[?25hdone\n",
            "  Created wheel for pyspark: filename=pyspark-3.4.1-py2.py3-none-any.whl size=311285391 sha256=2fefd7681332b9374788fe824c920f64b2410dc9e8d8ed8704518f2f0567b39e\n",
            "  Stored in directory: /root/.cache/pip/wheels/0d/77/a3/ff2f74cc9ab41f8f594dabf0579c2a7c6de920d584206e0834\n",
            "Successfully built pyspark\n",
            "Installing collected packages: pyspark\n",
            "  Attempting uninstall: pyspark\n",
            "    Found existing installation: pyspark 3.5.3\n",
            "    Uninstalling pyspark-3.5.3:\n",
            "      Successfully uninstalled pyspark-3.5.3\n",
            "Successfully installed pyspark-3.4.1\n"
          ]
        }
      ]
    },
    {
      "cell_type": "code",
      "source": [
        "!pip install xlrd"
      ],
      "metadata": {
        "colab": {
          "base_uri": "https://localhost:8080/"
        },
        "id": "fPjIM5pgCDsG",
        "outputId": "940d3f40-b46b-4dc8-ab77-aca50a39388a"
      },
      "execution_count": 6,
      "outputs": [
        {
          "output_type": "stream",
          "name": "stdout",
          "text": [
            "Requirement already satisfied: xlrd in /usr/local/lib/python3.10/dist-packages (2.0.1)\n"
          ]
        }
      ]
    },
    {
      "cell_type": "markdown",
      "source": [
        "## **Importação das bibliotecas e inicialização da SparkSession**"
      ],
      "metadata": {
        "id": "EXQhqiKx-lAB"
      }
    },
    {
      "cell_type": "code",
      "source": [
        "from pyspark.sql import SparkSession\n",
        "from pyspark.sql.functions import *\n",
        "from pyspark.sql.types import *\n",
        "import pandas as pd\n",
        "import re\n",
        "\n",
        "spark = SparkSession.builder.appName(\"PNAD_COVID\").getOrCreate()"
      ],
      "metadata": {
        "id": "d8a5IOaM-j0S"
      },
      "execution_count": 80,
      "outputs": []
    },
    {
      "cell_type": "markdown",
      "source": [
        "## **Leitura da base com os questionamentos para um DataFrame do PySpark**"
      ],
      "metadata": {
        "id": "wWVdA29k-wjF"
      }
    },
    {
      "cell_type": "code",
      "source": [
        "!wget \"https://github.com/Baaprado/Pos_Tech_FIAP/raw/main/072020.zip\" -O \"072020.zip\"\n",
        "!unzip -o \"072020.zip\" -d \"072020\"\n",
        "\n",
        "caminho_arquivo_csv = \"072020/PNAD_COVID_072020.csv\"\n",
        "microdados_072020 = spark.read.csv(caminho_arquivo_csv, header=True, inferSchema=True, sep=\",\")"
      ],
      "metadata": {
        "colab": {
          "base_uri": "https://localhost:8080/"
        },
        "id": "kpi4Cuzx-vnv",
        "outputId": "c56cc555-c268-43f7-b96f-29a0d97440b7"
      },
      "execution_count": 81,
      "outputs": [
        {
          "output_type": "stream",
          "name": "stdout",
          "text": [
            "--2024-12-17 02:35:24--  https://github.com/Baaprado/Pos_Tech_FIAP/raw/main/072020.zip\n",
            "Resolving github.com (github.com)... 140.82.114.4\n",
            "Connecting to github.com (github.com)|140.82.114.4|:443... connected.\n",
            "HTTP request sent, awaiting response... 302 Found\n",
            "Location: https://raw.githubusercontent.com/Baaprado/Pos_Tech_FIAP/main/072020.zip [following]\n",
            "--2024-12-17 02:35:24--  https://raw.githubusercontent.com/Baaprado/Pos_Tech_FIAP/main/072020.zip\n",
            "Resolving raw.githubusercontent.com (raw.githubusercontent.com)... 185.199.108.133, 185.199.111.133, 185.199.110.133, ...\n",
            "Connecting to raw.githubusercontent.com (raw.githubusercontent.com)|185.199.108.133|:443... connected.\n",
            "HTTP request sent, awaiting response... 200 OK\n",
            "Length: 14242290 (14M) [application/zip]\n",
            "Saving to: ‘072020.zip’\n",
            "\n",
            "072020.zip          100%[===================>]  13.58M  --.-KB/s    in 0.1s    \n",
            "\n",
            "2024-12-17 02:35:25 (106 MB/s) - ‘072020.zip’ saved [14242290/14242290]\n",
            "\n",
            "Archive:  072020.zip\n",
            "  inflating: 072020/Dicionario_PNAD_COVID_072020_20220621.xls  \n",
            "  inflating: 072020/__MACOSX/._Dicionario_PNAD_COVID_072020_20220621.xls  \n",
            "  inflating: 072020/PNAD_COVID_072020.csv  \n",
            "  inflating: 072020/__MACOSX/._PNAD_COVID_072020.csv  \n",
            "  inflating: 072020/pnad_covid19_202007_saude_BR_GR_UF.xlsx  \n",
            "  inflating: 072020/__MACOSX/._pnad_covid19_202007_saude_BR_GR_UF.xlsx  \n"
          ]
        }
      ]
    },
    {
      "cell_type": "code",
      "source": [
        "!wget \"https://github.com/Baaprado/Pos_Tech_FIAP/raw/main/092020.zip\" -O \"092020.zip\"\n",
        "!unzip -o \"092020.zip\" -d \"092020\"\n",
        "\n",
        "caminho_arquivo_csv = \"092020/PNAD_COVID_092020.csv\"\n",
        "microdados_092020 = spark.read.csv(caminho_arquivo_csv, header=True, inferSchema=True, sep=\",\")"
      ],
      "metadata": {
        "colab": {
          "base_uri": "https://localhost:8080/"
        },
        "id": "sALtNZM0N-9m",
        "outputId": "f5f7b6f2-8eb5-471f-8a02-63e327dc91a7"
      },
      "execution_count": 82,
      "outputs": [
        {
          "output_type": "stream",
          "name": "stdout",
          "text": [
            "--2024-12-17 02:35:32--  https://github.com/Baaprado/Pos_Tech_FIAP/raw/main/092020.zip\n",
            "Resolving github.com (github.com)... 140.82.112.4\n",
            "Connecting to github.com (github.com)|140.82.112.4|:443... connected.\n",
            "HTTP request sent, awaiting response... 302 Found\n",
            "Location: https://raw.githubusercontent.com/Baaprado/Pos_Tech_FIAP/main/092020.zip [following]\n",
            "--2024-12-17 02:35:32--  https://raw.githubusercontent.com/Baaprado/Pos_Tech_FIAP/main/092020.zip\n",
            "Resolving raw.githubusercontent.com (raw.githubusercontent.com)... 185.199.108.133, 185.199.111.133, 185.199.109.133, ...\n",
            "Connecting to raw.githubusercontent.com (raw.githubusercontent.com)|185.199.108.133|:443... connected.\n",
            "HTTP request sent, awaiting response... 200 OK\n",
            "Length: 15777969 (15M) [application/zip]\n",
            "Saving to: ‘092020.zip’\n",
            "\n",
            "092020.zip          100%[===================>]  15.05M  --.-KB/s    in 0.1s    \n",
            "\n",
            "2024-12-17 02:35:32 (112 MB/s) - ‘092020.zip’ saved [15777969/15777969]\n",
            "\n",
            "Archive:  092020.zip\n",
            "  inflating: 092020/Dicionario_PNAD_COVID_092020_20220621.xls  \n",
            "  inflating: 092020/__MACOSX/._Dicionario_PNAD_COVID_092020_20220621.xls  \n",
            "  inflating: 092020/PNAD_COVID_092020.csv  \n",
            "  inflating: 092020/__MACOSX/._PNAD_COVID_092020.csv  \n",
            "  inflating: 092020/pnad_covid19_202009_saude_BR_GR_UF.xlsx  \n",
            "  inflating: 092020/__MACOSX/._pnad_covid19_202009_saude_BR_GR_UF.xlsx  \n"
          ]
        }
      ]
    },
    {
      "cell_type": "code",
      "source": [
        "!wget \"https://github.com/Baaprado/Pos_Tech_FIAP/raw/main/112020.zip\" -O \"112020.zip\"\n",
        "!unzip -o \"112020.zip\" -d \"112020\"\n",
        "\n",
        "caminho_arquivo_csv = \"112020/PNAD_COVID_112020.csv\"\n",
        "microdados_112020 = spark.read.csv(caminho_arquivo_csv, header=True, inferSchema=True, sep=\",\")"
      ],
      "metadata": {
        "colab": {
          "base_uri": "https://localhost:8080/"
        },
        "id": "kVv2I7i8OP45",
        "outputId": "530d1d04-2598-4dd1-809d-fe62872fde40"
      },
      "execution_count": 83,
      "outputs": [
        {
          "output_type": "stream",
          "name": "stdout",
          "text": [
            "--2024-12-17 02:35:42--  https://github.com/Baaprado/Pos_Tech_FIAP/raw/main/112020.zip\n",
            "Resolving github.com (github.com)... 140.82.112.4\n",
            "Connecting to github.com (github.com)|140.82.112.4|:443... connected.\n",
            "HTTP request sent, awaiting response... 302 Found\n",
            "Location: https://raw.githubusercontent.com/Baaprado/Pos_Tech_FIAP/main/112020.zip [following]\n",
            "--2024-12-17 02:35:42--  https://raw.githubusercontent.com/Baaprado/Pos_Tech_FIAP/main/112020.zip\n",
            "Resolving raw.githubusercontent.com (raw.githubusercontent.com)... 185.199.108.133, 185.199.111.133, 185.199.110.133, ...\n",
            "Connecting to raw.githubusercontent.com (raw.githubusercontent.com)|185.199.108.133|:443... connected.\n",
            "HTTP request sent, awaiting response... 200 OK\n",
            "Length: 16693899 (16M) [application/zip]\n",
            "Saving to: ‘112020.zip’\n",
            "\n",
            "112020.zip          100%[===================>]  15.92M  --.-KB/s    in 0.1s    \n",
            "\n",
            "2024-12-17 02:35:42 (119 MB/s) - ‘112020.zip’ saved [16693899/16693899]\n",
            "\n",
            "Archive:  112020.zip\n",
            "  inflating: 112020/Dicionario_PNAD_COVID_112020_20220621.xls  \n",
            "  inflating: 112020/__MACOSX/._Dicionario_PNAD_COVID_112020_20220621.xls  \n",
            "  inflating: 112020/PNAD_COVID_112020.csv  \n",
            "  inflating: 112020/__MACOSX/._PNAD_COVID_112020.csv  \n",
            "  inflating: 112020/pnad_covid19_202011_saude_BR_GR_UF.xlsx  \n",
            "  inflating: 112020/__MACOSX/._pnad_covid19_202011_saude_BR_GR_UF.xlsx  \n"
          ]
        }
      ]
    },
    {
      "cell_type": "code",
      "source": [
        "microdados_072020.show()"
      ],
      "metadata": {
        "colab": {
          "base_uri": "https://localhost:8080/"
        },
        "id": "QdBEXwkxDkDj",
        "outputId": "51ac8e92-69cd-4f4a-bc9c-8f4532568f38"
      },
      "execution_count": 84,
      "outputs": [
        {
          "output_type": "stream",
          "name": "stdout",
          "text": [
            "+----+---+-------+-------+-----+-----+-----+-----+-------+---------+-----+-----+------+------------+------------+------+----+-----+------+------+------+----+----+----+----+----+----+----+----+-----+-----+-----+-----+-----+-----+-----+-----+-----+------+------+------+------+----+-----+-----+-----+-----+-----+-----+-----+-----+-----+-----+-----+-----+-----+----+----+----+----+-----+-----+-----+-----+-----+-----+-----+-----+-----+-----+-----+-----+----+----+----+----+----+----+-----+-----+-----+----+----+-----+-----+-----+-----+-----+------+------+-----+----+----+-----+----+-----+------+------+-----+------+------+-----+-----+-----+------+-------+-------+------+-------+-------+----+----+----+----+----+-----+-----+-----+-----+-----+-----+-----+-----+-----+-----+-----+-----+-----+-----+-----+----+-----+-----+-----+-----+----+-----+-----+------+------+------+------+------+-----+----+\n",
            "| Ano| UF|CAPITAL|RM_RIDE|V1008|V1012|V1013|V1016|Estrato|      UPA|V1022|V1023| V1030|       V1031|       V1032|posest|A001|A001A|A001B1|A001B2|A001B3|A002|A003|A004|A005|A006|A007|A008|A009|B0011|B0012|B0013|B0014|B0015|B0016|B0017|B0018|B0019|B00110|B00111|B00112|B00113|B002|B0031|B0032|B0033|B0034|B0035|B0036|B0037|B0041|B0042|B0043|B0044|B0045|B0046|B005|B006|B007|B008|B009A|B009B|B009C|B009D|B009E|B009F|B0101|B0102|B0103|B0104|B0105|B0106|B011|C001|C002|C003|C004|C005|C0051|C0052|C0053|C006|C007|C007A|C007B|C007C|C007D|C007E|C007E1|C007E2|C007F|C008|C009|C009A|C010|C0101|C01011|C01012|C0102|C01021|C01022|C0103|C0104|C011A|C011A1|C011A11|C011A12|C011A2|C011A21|C011A22|C012|C013|C014|C015|C016|C017A|D0011|D0013|D0021|D0023|D0031|D0033|D0041|D0043|D0051|D0053|D0061|D0063|D0071|D0073|E001|E0021|E0022|E0023|E0024|F001|F0021|F0022|F002A1|F002A2|F002A3|F002A4|F002A5|F0061|F006|\n",
            "+----+---+-------+-------+-----+-----+-----+-----+-------+---------+-----+-----+------+------------+------------+------+----+-----+------+------+------+----+----+----+----+----+----+----+----+-----+-----+-----+-----+-----+-----+-----+-----+-----+------+------+------+------+----+-----+-----+-----+-----+-----+-----+-----+-----+-----+-----+-----+-----+-----+----+----+----+----+-----+-----+-----+-----+-----+-----+-----+-----+-----+-----+-----+-----+----+----+----+----+----+----+-----+-----+-----+----+----+-----+-----+-----+-----+-----+------+------+-----+----+----+-----+----+-----+------+------+-----+------+------+-----+-----+-----+------+-------+-------+------+-------+-------+----+----+----+----+----+-----+-----+-----+-----+-----+-----+-----+-----+-----+-----+-----+-----+-----+-----+-----+----+-----+-----+-----+-----+----+-----+-----+------+------+------+------+------+-----+----+\n",
            "|2020| 11|     11|   null|    1|    4|    7|    3|1110011|110015970|    1|    1|152452|130.59560514|149.67110856|  1114|   1|    1|     5|     8|  1984|  35|   1|   4|   5|null|null|null|null|    2|    2|    2|    2|    2|    2|    2|    2|    2|     2|     2|     2|     2|null| null| null| null| null| null| null| null| null| null| null| null| null| null|null|null|   1|   2| null| null| null| null| null| null|    2|    2|    2|    2|    2|    2|   2|   1|null|null|null|null| null| null| null|   2|   4| null|    1|   35|    6| null|  null|  null| null|  48|  48| null|   1|    1|     4|  1045| null|  null|  null| null| null|    1|     1|      4|   1045|  null|   null|   null|   1|null|null|null|null| null|    2| null|    2| null|    2| null|    2| null|    1| 1200|    2| null|    2| null|   3| null| null| null| null|   1| null| null|     1|     1|     1|     2|     1|    1|   2|\n",
            "|2020| 11|     11|   null|    1|    4|    7|    3|1110011|110015970|    1|    1|154289|130.59560514|145.29668757|  1123|   2|    2|    18|     8|  1990|  29|   2|   4|   7|   2|null|null|null|    2|    2|    2|    2|    2|    2|    2|    2|    2|     2|     2|     2|     2|null| null| null| null| null| null| null| null| null| null| null| null| null| null|null|null|   2|   2| null| null| null| null| null| null|    2|    2|    2|    2|    2|    2|   3|   2|   1|   1|   2|   2|    4| null| null|null|null| null| null| null| null| null|  null|  null| null|null|null| null|null| null|  null|  null| null|  null|  null| null| null| null|  null|   null|   null|  null|   null|   null|null|null|   2|   2|  10|    1|    2| null|    2| null|    2| null|    2| null|    1| 1200|    2| null|    2| null|   3| null| null| null| null|   1| null| null|     1|     1|     1|     2|     1|    1|   2|\n",
            "|2020| 11|     11|   null|    1|    4|    7|    3|1110011|110015970|    1|    1|145749|130.59560514|166.25411441|  1112|   3|    4|    25|    12|  2006|  13|   1|   4|   2|   1|   1|   5|   3|    2|    2|    2|    2|    2|    2|    2|    2|    2|     2|     2|     2|     2|null| null| null| null| null| null| null| null| null| null| null| null| null| null|null|null|   1|   2| null| null| null| null| null| null|    2|    2|    2|    2|    2|    2|   4|null|null|null|null|null| null| null| null|null|null| null| null| null| null| null|  null|  null| null|null|null| null|null| null|  null|  null| null|  null|  null| null| null| null|  null|   null|   null|  null|   null|   null|null|null|null|null|null| null|    2| null|    2| null|    2| null|    2| null|    1| 1200|    2| null|    2| null|   3| null| null| null| null|   1| null| null|     1|     1|     1|     2|     1|    1|   2|\n",
            "|2020| 11|     11|   null|    1|    4|    7|    3|1110011|110015970|    1|    1|145749|130.59560514|166.25411441|  1112|   4|    4|    24|     8|  2009|  10|   1|   4|   2|   1|   1|   5|   3|    2|    2|    2|    2|    2|    2|    2|    2|    2|     2|     2|     2|     2|null| null| null| null| null| null| null| null| null| null| null| null| null| null|null|null|   1|   2| null| null| null| null| null| null|    2|    2|    2|    2|    2|    2|   4|null|null|null|null|null| null| null| null|null|null| null| null| null| null| null|  null|  null| null|null|null| null|null| null|  null|  null| null|  null|  null| null| null| null|  null|   null|   null|  null|   null|   null|null|null|null|null|null| null|    2| null|    2| null|    2| null|    2| null|    1| 1200|    2| null|    2| null|   3| null| null| null| null|   1| null| null|     1|     1|     1|     2|     1|    1|   2|\n",
            "|2020| 11|     11|   null|    2|    1|    7|    3|1110011|110015970|    1|    1| 91395|130.59560514|126.96047655|  1126|   1|    1|    18|     5|  1963|  57|   2|   1|   2|null|null|null|null|    2|    2|    2|    2|    2|    2|    2|    2|    2|     2|     2|     2|     2|null| null| null| null| null| null| null| null| null| null| null| null| null| null|null|null|   2|   2| null| null| null| null| null| null|    2|    2|    2|    2|    2|    2|   3|   2|   2|null|null|null| null| null| null|null|null| null| null| null| null| null|  null|  null| null|null|null| null|null| null|  null|  null| null|  null|  null| null| null| null|  null|   null|   null|  null|   null|   null|null|null|   2|   2|   1|    1|    2| null|    2| null|    2| null|    1| 1045|    2| null|    2| null|    2| null|   3| null| null| null| null|   1| null| null|     1|     1|     1|     2|     1|    1|   1|\n",
            "|2020| 11|     11|   null|    4|    4|    7|    3|1110011|110015970|    1|    1|122744|130.59560514|165.55065666|  1115|   1|    1|    18|     2|  1973|  47|   1|   4|   2|null|null|null|null|    2|    2|    2|    2|    2|    2|    2|    2|    2|     2|     2|     2|     2|null| null| null| null| null| null| null| null| null| null| null| null| null| null|null|null|   2|   1|    2| null|    1|    2|    2| null|    2|    2|    2|    2|    2|    2|   2|   2|   1|   1|   2|   2|    3| null| null|   2|   7| null| null|   18|    5| null|  null|  null| null|  44|   0| null|   1|    1|     5|  2000| null|  null|  null| null| null|    1|     1|      0|      0|  null|   null|   null|null|null|   2|null|null| null|    2| null|    2| null|    2| null|    2| null|    1|  600|    2| null|    2| null|   3| null| null| null| null|   1| null| null|     1|     1|     1|     2|     1|    1|   1|\n",
            "|2020| 11|     11|   null|    4|    4|    7|    3|1110011|110015970|    1|    1|139562|130.59560514|157.41948743|  1122|   3|    5|    99|    99|  9999|  18|   2|   4|   2|   1|   4|null|null|    2|    2|    2|    2|    2|    2|    2|    2|    2|     2|     2|     2|     2|null| null| null| null| null| null| null| null| null| null| null| null| null| null|null|null|   2|   2| null| null| null| null| null| null|    2|    2|    2|    2|    2|    2|   2|   2|   2|null|null|null| null| null| null|null|null| null| null| null| null| null|  null|  null| null|null|null| null|null| null|  null|  null| null|  null|  null| null| null| null|  null|   null|   null|  null|   null|   null|null|null|   2|   2|   7|    1|    2| null|    2| null|    2| null|    2| null|    1|  600|    2| null|    2| null|   3| null| null| null| null|   1| null| null|     1|     1|     1|     2|     1|    1|   1|\n",
            "|2020| 11|     11|   null|    4|    4|    7|    3|1110011|110015970|    1|    1|145749|130.59560514|166.25411441|  1112|   6|    5|    99|    99|  9999|  11|   1|   4|   2|   1|   4|null|null|    2|    2|    2|    2|    2|    2|    2|    2|    2|     2|     2|     2|     2|null| null| null| null| null| null| null| null| null| null| null| null| null| null|null|null|   2|   2| null| null| null| null| null| null|    2|    2|    2|    2|    2|    2|   2|null|null|null|null|null| null| null| null|null|null| null| null| null| null| null|  null|  null| null|null|null| null|null| null|  null|  null| null|  null|  null| null| null| null|  null|   null|   null|  null|   null|   null|null|null|null|null|null| null|    2| null|    2| null|    2| null|    2| null|    1|  600|    2| null|    2| null|   3| null| null| null| null|   1| null| null|     1|     1|     1|     2|     1|    1|   1|\n",
            "|2020| 11|     11|   null|    4|    4|    7|    3|1110011|110015970|    1|    1|133935|130.59560514|158.57027492|  1121|   8|    5|    99|    99|  9999|   9|   2|   4|   2|   1|   4|null|null|    2|    2|    2|    2|    2|    2|    2|    2|    2|     2|     2|     2|     2|null| null| null| null| null| null| null| null| null| null| null| null| null| null|null|null|   2|   2| null| null| null| null| null| null|    2|    2|    2|    2|    2|    2|   2|null|null|null|null|null| null| null| null|null|null| null| null| null| null| null|  null|  null| null|null|null| null|null| null|  null|  null| null|  null|  null| null| null| null|  null|   null|   null|  null|   null|   null|null|null|null|null|null| null|    2| null|    2| null|    2| null|    2| null|    1|  600|    2| null|    2| null|   3| null| null| null| null|   1| null| null|     1|     1|     1|     2|     1|    1|   1|\n",
            "|2020| 11|     11|   null|    4|    4|    7|    3|1110011|110015970|    1|    1|145749|130.59560514|166.25411441|  1112|   7|    5|    99|    99|  9999|  10|   1|   4|   2|   1|   4|null|null|    2|    2|    2|    2|    2|    2|    2|    2|    2|     2|     2|     2|     2|null| null| null| null| null| null| null| null| null| null| null| null| null| null|null|null|   2|   2| null| null| null| null| null| null|    2|    2|    2|    2|    2|    2|   2|null|null|null|null|null| null| null| null|null|null| null| null| null| null| null|  null|  null| null|null|null| null|null| null|  null|  null| null|  null|  null| null| null| null|  null|   null|   null|  null|   null|   null|null|null|null|null|null| null|    2| null|    2| null|    2| null|    2| null|    1|  600|    2| null|    2| null|   3| null| null| null| null|   1| null| null|     1|     1|     1|     2|     1|    1|   1|\n",
            "|2020| 11|     11|   null|    4|    4|    7|    3|1110011|110015970|    1|    1|157445|130.59560514|169.30836916|  1113|   2|    5|     3|     3|  1994|  26|   1|   4|   5|   2|null|null|null|    2|    2|    2|    2|    2|    2|    2|    2|    2|     2|     2|     2|     2|null| null| null| null| null| null| null| null| null| null| null| null| null| null|null|null|   2|   2| null| null| null| null| null| null|    2|    2|    2|    2|    2|    2|   2|   2|   2|null|null|null| null| null| null|null|null| null| null| null| null| null|  null|  null| null|null|null| null|null| null|  null|  null| null|  null|  null| null| null| null|  null|   null|   null|  null|   null|   null|null|null|   2|   1|null| null|    2| null|    2| null|    2| null|    2| null|    1|  600|    2| null|    2| null|   3| null| null| null| null|   1| null| null|     1|     1|     1|     2|     1|    1|   1|\n",
            "|2020| 11|     11|   null|    4|    4|    7|    3|1110011|110015970|    1|    1|145749|130.59560514|166.25411441|  1112|   5|    5|    99|    99|  9999|  14|   1|   3|   2|   1|   4|null|null|    2|    2|    2|    2|    2|    2|    2|    2|    2|     2|     2|     2|     2|null| null| null| null| null| null| null| null| null| null| null| null| null| null|null|null|   2|   2| null| null| null| null| null| null|    2|    2|    2|    2|    2|    2|   2|   2|   2|null|null|null| null| null| null|null|null| null| null| null| null| null|  null|  null| null|null|null| null|null| null|  null|  null| null|  null|  null| null| null| null|  null|   null|   null|  null|   null|   null|null|null|   2|   1|null| null|    2| null|    2| null|    2| null|    2| null|    1|  600|    2| null|    2| null|   3| null| null| null| null|   1| null| null|     1|     1|     1|     2|     1|    1|   1|\n",
            "|2020| 11|     11|   null|    4|    4|    7|    3|1110011|110015970|    1|    1|139562|130.59560514|157.41948743|  1122|   4|    5|    99|    99|  9999|  15|   2|   4|   2|   1|   4|null|null|    2|    2|    2|    2|    2|    2|    2|    2|    2|     2|     2|     2|     2|null| null| null| null| null| null| null| null| null| null| null| null| null| null|null|null|   2|   2| null| null| null| null| null| null|    2|    2|    2|    2|    2|    2|   2|   2|   2|null|null|null| null| null| null|null|null| null| null| null| null| null|  null|  null| null|null|null| null|null| null|  null|  null| null|  null|  null| null| null| null|  null|   null|   null|  null|   null|   null|null|null|   2|   2|   4|    2|    2| null|    2| null|    2| null|    2| null|    1|  600|    2| null|    2| null|   3| null| null| null| null|   1| null| null|     1|     1|     1|     2|     1|    1|   1|\n",
            "|2020| 11|     11|   null|    5|    3|    7|    3|1110011|110015970|    1|    1| 56060|130.59560514|135.37295436|  1117|   1|    1|    25|     5|  1958|  62|   1|   4|   1|null|null|null|null|    2|    2|    2|    2|    2|    2|    2|    2|    2|     2|     2|     2|     2|null| null| null| null| null| null| null| null| null| null| null| null| null| null|null|null|   2|   2| null| null| null| null| null| null|    1|    2|    2|    2|    2|    2|   3|   1|null|null|null|null| null| null| null|   2|   7| null| null|   19|    7| null|  null|  null| null|  44|  44| null|   1|    1|     4|  1045| null|  null|  null| null| null|    1|     1|      0|      0|  null|   null|   null|   1|null|   2|null|null| null|    2| null|    2| null|    2| null|    2| null|    1|  600|    2| null|    2| null|   3| null| null| null| null|   5| null| null|     1|     1|     1|     2|     1|    1|   1|\n",
            "|2020| 11|     11|   null|    5|    3|    7|    3|1110011|110015970|    1|    1| 54899|130.59560514|118.29949481|  1127|   2|    2|    31|     3|  1958|  62|   2|   4|   2|null|null|null|null|    2|    2|    2|    2|    2|    2|    2|    2|    2|     2|     2|     2|     2|null| null| null| null| null| null| null| null| null| null| null| null| null| null|null|null|   2|   2| null| null| null| null| null| null|    2|    1|    2|    2|    2|    2|   3|   2|   2|null|null|null| null| null| null|null|null| null| null| null| null| null|  null|  null| null|null|null| null|null| null|  null|  null| null|  null|  null| null| null| null|  null|   null|   null|  null|   null|   null|null|null|   2|   1|null| null|    2| null|    2| null|    2| null|    2| null|    1|  600|    2| null|    2| null|   3| null| null| null| null|   5| null| null|     1|     1|     1|     2|     1|    1|   1|\n",
            "|2020| 11|     11|   null|    6|    2|    7|    3|1110011|110015970|    1|    1| 91395|130.59560514|126.96047655|  1126|   1|    1|     1|    11|  1963|  56|   2|   4|   2|null|null|null|null|    2|    2|    2|    2|    2|    2|    2|    2|    2|     2|     2|     2|     2|null| null| null| null| null| null| null| null| null| null| null| null| null| null|null|null|   2|   2| null| null| null| null| null| null|    2|    2|    1|    2|    2|    2|   4|   2|   2|null|null|null| null| null| null|null|null| null| null| null| null| null|  null|  null| null|null|null| null|null| null|  null|  null| null|  null|  null| null| null| null|  null|   null|   null|  null|   null|   null|null|null|   2|   2|   8|    1|    2| null|    2| null|    2| null|    2| null|    1| 1200|    2| null|    2| null|   3| null| null| null| null|   1| null| null|     1|     1|     1|     2|     1|    1|   1|\n",
            "|2020| 11|     11|   null|    6|    2|    7|    3|1110011|110015970|    1|    1| 95468|130.59560514| 139.9845248|  1116|   2|    2|    29|     5|  1967|  53|   1|   2|   2|null|null|null|null|    2|    2|    2|    2|    2|    2|    2|    2|    2|     2|     2|     2|     2|null| null| null| null| null| null| null| null| null| null| null| null| null| null|null|null|   2|   2| null| null| null| null| null| null|    2|    2|    2|    2|    2|    2|   2|   2|   1|   2|null|null| null| null| null|   2|   7| null| null|   18|    5| null|  null|  null| null|  44|   0| null|   1|    1|     4|  1200| null|  null|  null| null| null|    1|     1|      4|   1000|  null|   null|   null|null|null|   2|null|null| null|    2| null|    2| null|    2| null|    2| null|    1| 1200|    2| null|    2| null|   3| null| null| null| null|   1| null| null|     1|     1|     1|     2|     1|    1|   1|\n",
            "|2020| 11|     11|   null|    6|    2|    7|    3|1110011|110015970|    1|    1|139562|130.59560514|157.41948743|  1122|   3|    4|    20|    12|  2002|  17|   2|   1|   4|   2|null|null|null|    2|    2|    2|    2|    2|    2|    2|    2|    2|     2|     2|     2|     2|null| null| null| null| null| null| null| null| null| null| null| null| null| null|null|null|   2|   2| null| null| null| null| null| null|    2|    2|    2|    2|    2|    2|   4|   2|   2|null|null|null| null| null| null|null|null| null| null| null| null| null|  null|  null| null|null|null| null|null| null|  null|  null| null|  null|  null| null| null| null|  null|   null|   null|  null|   null|   null|null|null|   2|   2|   3|    2|    2| null|    2| null|    2| null|    2| null|    1| 1200|    2| null|    2| null|   3| null| null| null| null|   1| null| null|     1|     1|     1|     2|     1|    1|   1|\n",
            "|2020| 11|     11|   null|    7|    3|    7|    3|1110011|110015970|    1|    1|152452|130.59560514|149.67110856|  1114|   1|    1|    30|     5|  1986|  34|   1|   4|   5|null|null|null|null|    2|    2|    2|    2|    2|    2|    2|    2|    2|     2|     2|     2|     2|null| null| null| null| null| null| null| null| null| null| null| null| null| null|null|null|   2|   1|    2| null|    2| null|    1|    2|    2|    2|    2|    2|    2|    2|   2|   1|null|null|null|null| null| null| null|   2|   4| null|    1|    8|    5| null|  null|  null| null|  44|  44| null|   1|    1|     4|  1500| null|  null|  null| null| null|    1|     1|      4|   1500|  null|   null|   null|   1|null|null|null|null| null|    2| null|    2| null|    2| null|    2| null|    2| null|    2| null|    2| null|   3| null| null| null| null|   1| null| null|     1|     1|     1|     2|     1|    1|   1|\n",
            "|2020| 11|     11|   null|    7|    3|    7|    3|1110011|110015970|    1|    1|154289|130.59560514|145.29668757|  1123|   2|    2|    16|     1|  1994|  26|   2|   4|   6|   2|null|null|null|    2|    2|    2|    2|    2|    2|    2|    2|    2|     2|     2|     2|     2|null| null| null| null| null| null| null| null| null| null| null| null| null| null|null|null|   2|   2| null| null| null| null| null| null|    2|    2|    2|    2|    2|    2|   2|   1|null|null|null|null| null| null| null|   2|   4| null|    1|    4|   25| null|  null|  null| null|  40|  40| null|   1|    1|     4|  1600| null|  null|  null| null| null|    1|     1|      4|   1300|  null|   null|   null|   1|null|null|null|null| null|    2| null|    2| null|    2| null|    2| null|    2| null|    2| null|    2| null|   3| null| null| null| null|   1| null| null|     1|     1|     1|     2|     1|    1|   1|\n",
            "+----+---+-------+-------+-----+-----+-----+-----+-------+---------+-----+-----+------+------------+------------+------+----+-----+------+------+------+----+----+----+----+----+----+----+----+-----+-----+-----+-----+-----+-----+-----+-----+-----+------+------+------+------+----+-----+-----+-----+-----+-----+-----+-----+-----+-----+-----+-----+-----+-----+----+----+----+----+-----+-----+-----+-----+-----+-----+-----+-----+-----+-----+-----+-----+----+----+----+----+----+----+-----+-----+-----+----+----+-----+-----+-----+-----+-----+------+------+-----+----+----+-----+----+-----+------+------+-----+------+------+-----+-----+-----+------+-------+-------+------+-------+-------+----+----+----+----+----+-----+-----+-----+-----+-----+-----+-----+-----+-----+-----+-----+-----+-----+-----+-----+----+-----+-----+-----+-----+----+-----+-----+------+------+------+------+------+-----+----+\n",
            "only showing top 20 rows\n",
            "\n"
          ]
        }
      ]
    },
    {
      "cell_type": "markdown",
      "source": [
        "## **Seleção das questões a serem analisadas e união dos DataFrames referentes a 3 meses**"
      ],
      "metadata": {
        "id": "18amP7VPPNct"
      }
    },
    {
      "cell_type": "code",
      "source": [
        "selected_columns = ['UF','V1013','A002','A003','A004','A005','C007D','C01011','C013','C016','D0051','B0011','B0012','B0014','B0016','B00111','B002','B005','B007','B011']\n",
        "\n",
        "df_pnad_202007_selected = microdados_072020.select(selected_columns)\n",
        "df_pnad_202009_selected = microdados_092020.select(selected_columns)\n",
        "df_pnad_202011_selected = microdados_112020.select(selected_columns)\n",
        "df_final = df_pnad_202007_selected.union(df_pnad_202009_selected).union(df_pnad_202011_selected)\n",
        "\n",
        "df_final.show()"
      ],
      "metadata": {
        "colab": {
          "base_uri": "https://localhost:8080/"
        },
        "id": "T33-AN-6Ob0Z",
        "outputId": "360aad6a-01b6-4f35-ddbf-bcd9c7d22042"
      },
      "execution_count": 85,
      "outputs": [
        {
          "output_type": "stream",
          "name": "stdout",
          "text": [
            "+---+-----+----+----+----+----+-----+------+----+----+-----+-----+-----+-----+-----+------+----+----+----+----+\n",
            "| UF|V1013|A002|A003|A004|A005|C007D|C01011|C013|C016|D0051|B0011|B0012|B0014|B0016|B00111|B002|B005|B007|B011|\n",
            "+---+-----+----+----+----+----+-----+------+----+----+-----+-----+-----+-----+-----+------+----+----+----+----+\n",
            "| 11|    7|  35|   1|   4|   5|    6|     4|null|null|    1|    2|    2|    2|    2|     2|null|null|   1|   2|\n",
            "| 11|    7|  29|   2|   4|   7| null|  null|null|  10|    1|    2|    2|    2|    2|     2|null|null|   2|   3|\n",
            "| 11|    7|  13|   1|   4|   2| null|  null|null|null|    1|    2|    2|    2|    2|     2|null|null|   1|   4|\n",
            "| 11|    7|  10|   1|   4|   2| null|  null|null|null|    1|    2|    2|    2|    2|     2|null|null|   1|   4|\n",
            "| 11|    7|  57|   2|   1|   2| null|  null|null|   1|    2|    2|    2|    2|    2|     2|null|null|   2|   3|\n",
            "| 11|    7|  47|   1|   4|   2|    5|     5|null|null|    1|    2|    2|    2|    2|     2|null|null|   2|   2|\n",
            "| 11|    7|  18|   2|   4|   2| null|  null|null|   7|    1|    2|    2|    2|    2|     2|null|null|   2|   2|\n",
            "| 11|    7|  11|   1|   4|   2| null|  null|null|null|    1|    2|    2|    2|    2|     2|null|null|   2|   2|\n",
            "| 11|    7|   9|   2|   4|   2| null|  null|null|null|    1|    2|    2|    2|    2|     2|null|null|   2|   2|\n",
            "| 11|    7|  10|   1|   4|   2| null|  null|null|null|    1|    2|    2|    2|    2|     2|null|null|   2|   2|\n",
            "| 11|    7|  26|   1|   4|   5| null|  null|null|null|    1|    2|    2|    2|    2|     2|null|null|   2|   2|\n",
            "| 11|    7|  14|   1|   3|   2| null|  null|null|null|    1|    2|    2|    2|    2|     2|null|null|   2|   2|\n",
            "| 11|    7|  15|   2|   4|   2| null|  null|null|   4|    1|    2|    2|    2|    2|     2|null|null|   2|   2|\n",
            "| 11|    7|  62|   1|   4|   1|    7|     4|null|null|    1|    2|    2|    2|    2|     2|null|null|   2|   3|\n",
            "| 11|    7|  62|   2|   4|   2| null|  null|null|null|    1|    2|    2|    2|    2|     2|null|null|   2|   3|\n",
            "| 11|    7|  56|   2|   4|   2| null|  null|null|   8|    1|    2|    2|    2|    2|     2|null|null|   2|   4|\n",
            "| 11|    7|  53|   1|   2|   2|    5|     4|null|null|    1|    2|    2|    2|    2|     2|null|null|   2|   2|\n",
            "| 11|    7|  17|   2|   1|   4| null|  null|null|   3|    1|    2|    2|    2|    2|     2|null|null|   2|   4|\n",
            "| 11|    7|  34|   1|   4|   5|    5|     4|null|null|    2|    2|    2|    2|    2|     2|null|null|   2|   2|\n",
            "| 11|    7|  26|   2|   4|   6|   25|     4|null|null|    2|    2|    2|    2|    2|     2|null|null|   2|   2|\n",
            "+---+-----+----+----+----+----+-----+------+----+----+-----+-----+-----+-----+-----+------+----+----+----+----+\n",
            "only showing top 20 rows\n",
            "\n"
          ]
        }
      ]
    },
    {
      "cell_type": "markdown",
      "source": [
        "## **Tratamento do DataFrame de acordo com o dicionário**"
      ],
      "metadata": {
        "id": "KelSNdWp_gcM"
      }
    },
    {
      "cell_type": "code",
      "source": [
        "UF = {\n",
        "    11: \"Rondônia\",12: \"Acre\",13: \"Amazonas\",14: \"Roraima\",15: \"Pará\",16: \"Amapá\",\n",
        "    17: \"Tocantins\",21: \"Maranhão\",22: \"Piauí\",23: \"Ceará\",24: \"Rio Grande do Norte\",\n",
        "    25: \"Paraíba\",26: \"Pernambuco\",27: \"Alagoas\",28: \"Sergipe\",29: \"Bahia\",31: \"Minas Gerais\",\n",
        "    32: \"Espírito Santo\",33: \"Rio de Janeiro\",35: \"São Paulo\",41: \"Paraná\",42: \"Santa Catarina\",\n",
        "    43: \"Rio Grande do Sul\",50: \"Mato Grosso do Sul\",51: \"Mato Grosso\",52: \"Goiás\",53: \"Distrito Federal\"}\n",
        "\n",
        "A003 ={1:'Homem',2:'Mulher'}\n",
        "A004 ={1:'Branca',2:'Preta',3:'Amarela',4:'Parda',5:'Indígena',9:'Não informado'}\n",
        "A005 = {1: \"Sem instrução\",2: \"Fundamental incompleto\",3: \"Fundamental completo\",4: \"Médio incompleto\",5: \"Médio completo\",6: \"Superior incompleto\",7: \"Superior completo\",8:\"Pós Graduação, Mestrado ou Doutorado\"}\n",
        "C007D = {\n",
        "            1: \"Agricultura, pecuária, produção florestal e pesca\",\n",
        "            2: \"Extração de petróleo, carvão mineral, minerais metálicos, pedra, areia, sal etc.\",\n",
        "            3: \"Indústria da transformação (inclusive confecção e fabricação caseira)\",\n",
        "            4: \"Fornecimento de eletricidade e gás, água, esgoto e coleta de lixo\",\n",
        "            5: \"Construção\",\n",
        "            6: \"Comércio no atacado e varejo\",\n",
        "            7: \"Reparação de veículos automotores e motocicletas\",\n",
        "            8: \"Transporte de passageiros\",\n",
        "            9: \"Transporte de mercadorias\",\n",
        "            10: \"Armazenamento, correios e serviços de entregas\",\n",
        "            11: \"Hospedagem (hotéis, pousadas etc.)\",\n",
        "            12: \"Serviço de alimentação (bares, restaurantes, ambulantes de alimentação)\",\n",
        "            13: \"Informação e comunicação (jornais, rádio e televisão, telecomunicações e informática)\",\n",
        "            14: \"Bancos, atividades financeiras e de seguros\",\n",
        "            15: \"Atividades imobiliárias\",\n",
        "            16: \"Escritórios de advocacia, engenharia, publicidade e veterinária (Atividades profissionais, científicas e técnicas)\",\n",
        "            17: \"Atividades de locação de mão de obra, segurança, limpeza, paisagismo e teleatendimento\",\n",
        "            18: \"Administração pública (governo federal, estadual e municipal)\",\n",
        "            19: \"Educação\",\n",
        "            20: \"Saúde humana e assistência social\",\n",
        "            21: \"Organizações religiosas, sindicatos e associações\",\n",
        "            22: \"Atividades artísticas, esportivas e de recreação\",\n",
        "            23: \"Cabeleireiros, tratamento de beleza e serviços pessoais\",\n",
        "            24: \"Serviço doméstico remunerado (será imputado da posição na ocupação)\",\n",
        "            25: \"Outro\"\n",
        "        }\n",
        "C01011 = {\n",
        "    0: \"0 - 100\",\n",
        "    1: \"101 - 300\",\n",
        "    2: \"301 - 600\",\n",
        "    3: \"601 - 800\",\n",
        "    4: \"801 - 1.600\",\n",
        "    5: \"1.601 - 3.000\",\n",
        "    6: \"3.001 - 10.000\",\n",
        "    7: \"10.001 - 50.000\",\n",
        "    8: \"50.001 - 100.000\",\n",
        "    9: \"Mais de 100.000\"\n",
        "}\n",
        "\n",
        "C013 = {1: \"Sim\",2: \"Não\"}\n",
        "\n",
        "C016 = {\n",
        "        1: \"Devido à pandemia (isolamento, quarentena ou distanciamento social)\",\n",
        "        2: \"Por problemas de saúde ou gravidez\",\n",
        "        4: \"Não quer trabalhar ou é aposentado\",\n",
        "        5: \"Não tinha experiência profissional ou qualificação\",\n",
        "        6: \"Acha que não vai encontrar trabalho por ser muito jovem ou idoso\",\n",
        "        7: \"Não havia trabalho na localidade\",\n",
        "        8: \"Tinha que cuidar dos afazeres domésticos e/ou de parentes\",\n",
        "        9: \"Estava aguardando resposta de medida tomada para conseguir trabalho\",\n",
        "        10: \"Outro motivo\"\n",
        "       }\n",
        "\n",
        "D0051 = {1: \"Sim\",2: \"Não\"}\n",
        "B0011 = {1: \"Sim\",2: \"Não\",3: \"Não sei\",9: \"Ignorado\"}\n",
        "B0012 = {1: \"Sim\",2: \"Não\",3: \"Não sei\",9: \"Ignorado\"}\n",
        "B0014 = {1: \"Sim\",2: \"Não\",3: \"Não sei\",9: \"Ignorado\"}\n",
        "B0016 = {1: \"Sim\",2: \"Não\",3: \"Não sei\",9: \"Ignorado\"}\n",
        "B00111 = {1: \"Sim\",2: \"Não\",3: \"Não sei\",9: \"Ignorado\"}\n",
        "B002 = {1: \"Sim\",2: \"Não\",9: \"Ignorado\"}\n",
        "B005 = {1: \"Sim\",2: \"Não\",9: \"Ignorado\"}\n",
        "B007 = {1: \"Sim\",2: \"Não\",9: \"Ignorado\"}\n",
        "B011 = {\n",
        "        1: \"Não fez restrição, levou vida normal como antes da pandemia\",\n",
        "        2: \"Reduziu o contato com as pessoas, mas continuou saindo de casa para trabalho ou atividades não essenciais e/ou recebendo visitas\",\n",
        "        3: \"Ficou em casa e só saiu em caso de necessidade básica\",\n",
        "        4: \"Ficou rigorosamente em casa\",\n",
        "        9: \"Ignorado\"\n",
        "        }"
      ],
      "metadata": {
        "id": "oBlb9vq6c8RR"
      },
      "execution_count": 86,
      "outputs": []
    },
    {
      "cell_type": "code",
      "source": [
        "NME_COLUNA =['UF','NUM_MES_PESQUISA','NUM_IDADE_MORADOR','DSC_SEXO','DSC_COR_RACA','DSC_NIVEL_INSTRUCAO','DSC_AREA_ATUACAO','DSC_FAIXA_RECEBIDO','DSC_TELETRABALHO','DSC_MOTIVO_N_PROCUROU_TRABALHO','DSC_AUXILIO_CORONAVIRUS','DSC_FEBRE','DSC_TOSSE','DSC_DIFICULDADE_RESPIRATORIA','DSC_DOR_PEITO','DSC_PERDA_OLFATO_PALADAR','DSC_FOI_ESTABELECIMENTO_SAUDE','DSC_FOI_INTERNADO','DSC_PLANO_SAUDE','DSC_CONTATO_COM_OUTRAS_PESSOAS']\n",
        "\n",
        "col_dict = {\n",
        "    'UF': UF,\n",
        "    'A003': A003,\n",
        "    'A004': A004,\n",
        "    'A005': A005,\n",
        "    'C007D': C007D,\n",
        "    'C01011':C01011,\n",
        "    'C013':C013,\n",
        "    'C016':C016,\n",
        "    'D0051':D0051,\n",
        "    'B0011':B0011,\n",
        "    'B0012':B0012,\n",
        "    'B0014':B0014,\n",
        "    'B0016':B0016,\n",
        "    'B00111':B00111,\n",
        "    'B002':B002,\n",
        "    'B005':B005,\n",
        "    'B007':B007,\n",
        "    'B011':B011\n",
        "}\n",
        "\n",
        "for col, lookup in col_dict.items():\n",
        "    mapping_expr = when(df_final[col].isin(list(lookup.keys())),\n",
        "                      create_map([lit(x) for x in chain(*lookup.items())])[df_final[col]]) \\\n",
        "                   .otherwise(df_final[col])\n",
        "\n",
        "    df_final= df_final.withColumn(col, mapping_expr)\n",
        "\n",
        "df_final= df_final.toDF(*NME_COLUNA)\n",
        "\n",
        "df_final= df_final.na.fill('Não aplicável')"
      ],
      "metadata": {
        "id": "812jEfa0c-2m"
      },
      "execution_count": 87,
      "outputs": []
    },
    {
      "cell_type": "markdown",
      "source": [
        "## **Visualização do DataFrame**"
      ],
      "metadata": {
        "id": "ZCylDBJad9Gt"
      }
    },
    {
      "cell_type": "code",
      "source": [
        "df_final.show()"
      ],
      "metadata": {
        "colab": {
          "base_uri": "https://localhost:8080/"
        },
        "id": "RtZJK-30eB0Q",
        "outputId": "fe216575-d57b-4d1b-81d9-521246ac0a19"
      },
      "execution_count": 88,
      "outputs": [
        {
          "output_type": "stream",
          "name": "stdout",
          "text": [
            "+--------+----------------+-----------------+--------+------------+--------------------+--------------------+------------------+----------------+------------------------------+-----------------------+---------+---------+----------------------------+-------------+------------------------+-----------------------------+-----------------+---------------+------------------------------+\n",
            "|      UF|NUM_MES_PESQUISA|NUM_IDADE_MORADOR|DSC_SEXO|DSC_COR_RACA| DSC_NIVEL_INSTRUCAO|    DSC_AREA_ATUACAO|DSC_FAIXA_RECEBIDO|DSC_TELETRABALHO|DSC_MOTIVO_N_PROCUROU_TRABALHO|DSC_AUXILIO_CORONAVIRUS|DSC_FEBRE|DSC_TOSSE|DSC_DIFICULDADE_RESPIRATORIA|DSC_DOR_PEITO|DSC_PERDA_OLFATO_PALADAR|DSC_FOI_ESTABELECIMENTO_SAUDE|DSC_FOI_INTERNADO|DSC_PLANO_SAUDE|DSC_CONTATO_COM_OUTRAS_PESSOAS|\n",
            "+--------+----------------+-----------------+--------+------------+--------------------+--------------------+------------------+----------------+------------------------------+-----------------------+---------+---------+----------------------------+-------------+------------------------+-----------------------------+-----------------+---------------+------------------------------+\n",
            "|Rondônia|               7|               35|   Homem|       Parda|      Médio completo|Comércio no ataca...|       801 - 1.600|   Não aplicável|                 Não aplicável|                    Sim|      Não|      Não|                         Não|          Não|                     Não|                Não aplicável|    Não aplicável|            Sim|          Reduziu o contato...|\n",
            "|Rondônia|               7|               29|  Mulher|       Parda|   Superior completo|       Não aplicável|     Não aplicável|   Não aplicável|                  Outro motivo|                    Sim|      Não|      Não|                         Não|          Não|                     Não|                Não aplicável|    Não aplicável|            Não|          Ficou em casa e s...|\n",
            "|Rondônia|               7|               13|   Homem|       Parda|Fundamental incom...|       Não aplicável|     Não aplicável|   Não aplicável|                 Não aplicável|                    Sim|      Não|      Não|                         Não|          Não|                     Não|                Não aplicável|    Não aplicável|            Sim|          Ficou rigorosamen...|\n",
            "|Rondônia|               7|               10|   Homem|       Parda|Fundamental incom...|       Não aplicável|     Não aplicável|   Não aplicável|                 Não aplicável|                    Sim|      Não|      Não|                         Não|          Não|                     Não|                Não aplicável|    Não aplicável|            Sim|          Ficou rigorosamen...|\n",
            "|Rondônia|               7|               57|  Mulher|      Branca|Fundamental incom...|       Não aplicável|     Não aplicável|   Não aplicável|          Devido à pandemia...|                    Não|      Não|      Não|                         Não|          Não|                     Não|                Não aplicável|    Não aplicável|            Não|          Ficou em casa e s...|\n",
            "|Rondônia|               7|               47|   Homem|       Parda|Fundamental incom...|          Construção|     1.601 - 3.000|   Não aplicável|                 Não aplicável|                    Sim|      Não|      Não|                         Não|          Não|                     Não|                Não aplicável|    Não aplicável|            Não|          Reduziu o contato...|\n",
            "|Rondônia|               7|               18|  Mulher|       Parda|Fundamental incom...|       Não aplicável|     Não aplicável|   Não aplicável|          Não havia trabalh...|                    Sim|      Não|      Não|                         Não|          Não|                     Não|                Não aplicável|    Não aplicável|            Não|          Reduziu o contato...|\n",
            "|Rondônia|               7|               11|   Homem|       Parda|Fundamental incom...|       Não aplicável|     Não aplicável|   Não aplicável|                 Não aplicável|                    Sim|      Não|      Não|                         Não|          Não|                     Não|                Não aplicável|    Não aplicável|            Não|          Reduziu o contato...|\n",
            "|Rondônia|               7|                9|  Mulher|       Parda|Fundamental incom...|       Não aplicável|     Não aplicável|   Não aplicável|                 Não aplicável|                    Sim|      Não|      Não|                         Não|          Não|                     Não|                Não aplicável|    Não aplicável|            Não|          Reduziu o contato...|\n",
            "|Rondônia|               7|               10|   Homem|       Parda|Fundamental incom...|       Não aplicável|     Não aplicável|   Não aplicável|                 Não aplicável|                    Sim|      Não|      Não|                         Não|          Não|                     Não|                Não aplicável|    Não aplicável|            Não|          Reduziu o contato...|\n",
            "|Rondônia|               7|               26|   Homem|       Parda|      Médio completo|       Não aplicável|     Não aplicável|   Não aplicável|                 Não aplicável|                    Sim|      Não|      Não|                         Não|          Não|                     Não|                Não aplicável|    Não aplicável|            Não|          Reduziu o contato...|\n",
            "|Rondônia|               7|               14|   Homem|     Amarela|Fundamental incom...|       Não aplicável|     Não aplicável|   Não aplicável|                 Não aplicável|                    Sim|      Não|      Não|                         Não|          Não|                     Não|                Não aplicável|    Não aplicável|            Não|          Reduziu o contato...|\n",
            "|Rondônia|               7|               15|  Mulher|       Parda|Fundamental incom...|       Não aplicável|     Não aplicável|   Não aplicável|          Não quer trabalha...|                    Sim|      Não|      Não|                         Não|          Não|                     Não|                Não aplicável|    Não aplicável|            Não|          Reduziu o contato...|\n",
            "|Rondônia|               7|               62|   Homem|       Parda|       Sem instrução|Reparação de veíc...|       801 - 1.600|   Não aplicável|                 Não aplicável|                    Sim|      Não|      Não|                         Não|          Não|                     Não|                Não aplicável|    Não aplicável|            Não|          Ficou em casa e s...|\n",
            "|Rondônia|               7|               62|  Mulher|       Parda|Fundamental incom...|       Não aplicável|     Não aplicável|   Não aplicável|                 Não aplicável|                    Sim|      Não|      Não|                         Não|          Não|                     Não|                Não aplicável|    Não aplicável|            Não|          Ficou em casa e s...|\n",
            "|Rondônia|               7|               56|  Mulher|       Parda|Fundamental incom...|       Não aplicável|     Não aplicável|   Não aplicável|          Tinha que cuidar ...|                    Sim|      Não|      Não|                         Não|          Não|                     Não|                Não aplicável|    Não aplicável|            Não|          Ficou rigorosamen...|\n",
            "|Rondônia|               7|               53|   Homem|       Preta|Fundamental incom...|          Construção|       801 - 1.600|   Não aplicável|                 Não aplicável|                    Sim|      Não|      Não|                         Não|          Não|                     Não|                Não aplicável|    Não aplicável|            Não|          Reduziu o contato...|\n",
            "|Rondônia|               7|               17|  Mulher|      Branca|    Médio incompleto|       Não aplicável|     Não aplicável|   Não aplicável|                             3|                    Sim|      Não|      Não|                         Não|          Não|                     Não|                Não aplicável|    Não aplicável|            Não|          Ficou rigorosamen...|\n",
            "|Rondônia|               7|               34|   Homem|       Parda|      Médio completo|          Construção|       801 - 1.600|   Não aplicável|                 Não aplicável|                    Não|      Não|      Não|                         Não|          Não|                     Não|                Não aplicável|    Não aplicável|            Não|          Reduziu o contato...|\n",
            "|Rondônia|               7|               26|  Mulher|       Parda| Superior incompleto|               Outro|       801 - 1.600|   Não aplicável|                 Não aplicável|                    Não|      Não|      Não|                         Não|          Não|                     Não|                Não aplicável|    Não aplicável|            Não|          Reduziu o contato...|\n",
            "+--------+----------------+-----------------+--------+------------+--------------------+--------------------+------------------+----------------+------------------------------+-----------------------+---------+---------+----------------------------+-------------+------------------------+-----------------------------+-----------------+---------------+------------------------------+\n",
            "only showing top 20 rows\n",
            "\n"
          ]
        }
      ]
    },
    {
      "cell_type": "markdown",
      "source": [
        "# **Exploração dos dados**"
      ],
      "metadata": {
        "id": "2k_tWOLWmAPy"
      }
    },
    {
      "cell_type": "code",
      "source": [
        "# Distribuição de sexo\n",
        "spark.sql(\"\"\"\n",
        "SELECT DSC_SEXO, COUNT(*) AS total,\n",
        "       ROUND((COUNT(*) * 100.0 / SUM(COUNT(*)) OVER ()), 2) AS percentual\n",
        "FROM tabela_microdados\n",
        "GROUP BY DSC_SEXO\n",
        "ORDER BY total DESC\n",
        "\"\"\").show()"
      ],
      "metadata": {
        "colab": {
          "base_uri": "https://localhost:8080/"
        },
        "id": "BAz_WyFZoTe_",
        "outputId": "27f7ac7d-d00e-4008-f586-22f532e03ee3"
      },
      "execution_count": 100,
      "outputs": [
        {
          "output_type": "stream",
          "name": "stdout",
          "text": [
            "+--------+------+----------+\n",
            "|DSC_SEXO| total|percentual|\n",
            "+--------+------+----------+\n",
            "|  Mulher|600115|     52.05|\n",
            "|   Homem|552787|     47.95|\n",
            "+--------+------+----------+\n",
            "\n"
          ]
        }
      ]
    },
    {
      "cell_type": "code",
      "source": [
        "# Distribuição de cor/raça\n",
        "spark.sql(\"\"\"\n",
        "SELECT DSC_COR_RACA, COUNT(*) AS total,\n",
        "       ROUND((COUNT(*) * 100.0 / SUM(COUNT(*)) OVER ()), 2) AS percentual\n",
        "FROM tabela_microdados\n",
        "GROUP BY DSC_COR_RACA\n",
        "ORDER BY total DESC\n",
        "\"\"\").show()"
      ],
      "metadata": {
        "colab": {
          "base_uri": "https://localhost:8080/"
        },
        "id": "oaJ4apjPobxe",
        "outputId": "f03abdeb-2c60-4fc5-b495-a268e133b8f1"
      },
      "execution_count": 101,
      "outputs": [
        {
          "output_type": "stream",
          "name": "stdout",
          "text": [
            "+-------------+------+----------+\n",
            "| DSC_COR_RACA| total|percentual|\n",
            "+-------------+------+----------+\n",
            "|        Parda|565448|     49.05|\n",
            "|       Branca|481264|     41.74|\n",
            "|        Preta| 94542|      8.20|\n",
            "|      Amarela|  6920|      0.60|\n",
            "|     Indígena|  4445|      0.39|\n",
            "|Não informado|   283|      0.02|\n",
            "+-------------+------+----------+\n",
            "\n"
          ]
        }
      ]
    },
    {
      "cell_type": "code",
      "source": [
        "# Distribuição de nível de instrução\n",
        "spark.sql(\"\"\"\n",
        "SELECT DSC_NIVEL_INSTRUCAO, COUNT(*) AS total\n",
        "FROM tabela_microdados\n",
        "GROUP BY DSC_NIVEL_INSTRUCAO\n",
        "ORDER BY total DESC\n",
        "\"\"\").show()"
      ],
      "metadata": {
        "colab": {
          "base_uri": "https://localhost:8080/"
        },
        "id": "xnCawv3bodOs",
        "outputId": "aaf439ad-cd97-406e-f4db-cde040c9928a"
      },
      "execution_count": 102,
      "outputs": [
        {
          "output_type": "stream",
          "name": "stdout",
          "text": [
            "+--------------------+------+\n",
            "| DSC_NIVEL_INSTRUCAO| total|\n",
            "+--------------------+------+\n",
            "|Fundamental incom...|389050|\n",
            "|      Médio completo|257051|\n",
            "|       Sem instrução|124279|\n",
            "|    Médio incompleto|108080|\n",
            "|   Superior completo|108019|\n",
            "|Fundamental completo| 76365|\n",
            "| Superior incompleto| 59914|\n",
            "|Pós Graduação, Me...| 30144|\n",
            "+--------------------+------+\n",
            "\n"
          ]
        }
      ]
    },
    {
      "cell_type": "code",
      "source": [
        "# Estatísticas descritivas da idade\n",
        "spark.sql(\"\"\"\n",
        "SELECT\n",
        "    MIN(NUM_IDADE_MORADOR) AS idade_min,\n",
        "    MAX(NUM_IDADE_MORADOR) AS idade_max,\n",
        "    AVG(NUM_IDADE_MORADOR) AS idade_media,\n",
        "    PERCENTILE(NUM_IDADE_MORADOR, 0.5) AS idade_mediana\n",
        "FROM tabela_microdados\n",
        "\"\"\").show()"
      ],
      "metadata": {
        "colab": {
          "base_uri": "https://localhost:8080/"
        },
        "id": "ALZtrQ4CohIb",
        "outputId": "6377aac2-d65c-4701-aa4b-205aae084dfa"
      },
      "execution_count": 103,
      "outputs": [
        {
          "output_type": "stream",
          "name": "stdout",
          "text": [
            "+---------+---------+-----------------+-------------+\n",
            "|idade_min|idade_max|      idade_media|idade_mediana|\n",
            "+---------+---------+-----------------+-------------+\n",
            "|        0|      111|36.88995161774375|         36.0|\n",
            "+---------+---------+-----------------+-------------+\n",
            "\n"
          ]
        }
      ]
    },
    {
      "cell_type": "code",
      "source": [
        "# Incidência de sintomas (febre) por faixa etária\n",
        "spark.sql(\"\"\"\n",
        "SELECT\n",
        "    CASE\n",
        "        WHEN NUM_IDADE_MORADOR BETWEEN 0 AND 17 THEN '0-17'\n",
        "        WHEN NUM_IDADE_MORADOR BETWEEN 18 AND 35 THEN '18-35'\n",
        "        WHEN NUM_IDADE_MORADOR BETWEEN 36 AND 60 THEN '36-60'\n",
        "        ELSE '60+'\n",
        "    END AS faixa_etaria,\n",
        "    COUNT(*) AS total_febre\n",
        "FROM tabela_microdados\n",
        "WHERE DSC_FEBRE = 'Sim'\n",
        "GROUP BY faixa_etaria\n",
        "ORDER BY faixa_etaria\n",
        "\"\"\").show()"
      ],
      "metadata": {
        "colab": {
          "base_uri": "https://localhost:8080/"
        },
        "id": "6NpGdQRYojgh",
        "outputId": "a74bfdb8-2231-4cea-91e5-411e983a7f2b"
      },
      "execution_count": 104,
      "outputs": [
        {
          "output_type": "stream",
          "name": "stdout",
          "text": [
            "+------------+-----------+\n",
            "|faixa_etaria|total_febre|\n",
            "+------------+-----------+\n",
            "|        0-17|       2551|\n",
            "|       18-35|       3470|\n",
            "|       36-60|       4601|\n",
            "|         60+|       1462|\n",
            "+------------+-----------+\n",
            "\n"
          ]
        }
      ]
    },
    {
      "cell_type": "code",
      "source": [
        "# Relação entre nível de instrução, faixa de rendimento e gênero\n",
        "spark.sql(\"\"\"\n",
        "SELECT\n",
        "    DSC_NIVEL_INSTRUCAO,\n",
        "    DSC_SEXO,\n",
        "    DSC_FAIXA_RECEBIDO,\n",
        "    COUNT(*) AS total\n",
        "FROM tabela_microdados\n",
        "WHERE DSC_FAIXA_RECEBIDO IS NOT NULL\n",
        "GROUP BY DSC_NIVEL_INSTRUCAO, DSC_SEXO, DSC_FAIXA_RECEBIDO\n",
        "ORDER BY DSC_NIVEL_INSTRUCAO, DSC_FAIXA_RECEBIDO\n",
        "\"\"\").show()"
      ],
      "metadata": {
        "colab": {
          "base_uri": "https://localhost:8080/"
        },
        "id": "ajp2qCUiol0s",
        "outputId": "24d88df7-9ba2-4d29-87e3-9fb4e860eafc"
      },
      "execution_count": 105,
      "outputs": [
        {
          "output_type": "stream",
          "name": "stdout",
          "text": [
            "+--------------------+--------+------------------+-----+\n",
            "| DSC_NIVEL_INSTRUCAO|DSC_SEXO|DSC_FAIXA_RECEBIDO|total|\n",
            "+--------------------+--------+------------------+-----+\n",
            "|Fundamental completo|  Mulher|           0 - 100|  123|\n",
            "|Fundamental completo|   Homem|           0 - 100|   99|\n",
            "|Fundamental completo|  Mulher|     1.601 - 3.000| 1404|\n",
            "|Fundamental completo|   Homem|     1.601 - 3.000| 5924|\n",
            "|Fundamental completo|   Homem|   10.001 - 50.000|   76|\n",
            "|Fundamental completo|  Mulher|   10.001 - 50.000|   16|\n",
            "|Fundamental completo|  Mulher|         101 - 300|  579|\n",
            "|Fundamental completo|   Homem|         101 - 300|  501|\n",
            "|Fundamental completo|   Homem|    3.001 - 10.000| 1417|\n",
            "|Fundamental completo|  Mulher|    3.001 - 10.000|  304|\n",
            "|Fundamental completo|  Mulher|         301 - 600| 1163|\n",
            "|Fundamental completo|   Homem|         301 - 600| 1319|\n",
            "|Fundamental completo|  Mulher|         601 - 800|  677|\n",
            "|Fundamental completo|   Homem|         601 - 800|  907|\n",
            "|Fundamental completo|   Homem|       801 - 1.600| 9929|\n",
            "|Fundamental completo|  Mulher|       801 - 1.600| 6212|\n",
            "|Fundamental completo|  Mulher|     Não aplicável|29098|\n",
            "|Fundamental completo|   Homem|     Não aplicável|16617|\n",
            "|Fundamental incom...|   Homem|           0 - 100|  753|\n",
            "|Fundamental incom...|  Mulher|           0 - 100|  594|\n",
            "+--------------------+--------+------------------+-----+\n",
            "only showing top 20 rows\n",
            "\n"
          ]
        }
      ]
    },
    {
      "cell_type": "code",
      "source": [
        "# Distribuição de faixa de renda por área de atuação\n",
        "spark.sql(\"\"\"\n",
        "SELECT\n",
        "    DSC_AREA_ATUACAO,\n",
        "    DSC_FAIXA_RECEBIDO,\n",
        "    COUNT(*) AS total\n",
        "FROM tabela_microdados\n",
        "WHERE DSC_AREA_ATUACAO IS NOT NULL\n",
        "GROUP BY DSC_AREA_ATUACAO, DSC_FAIXA_RECEBIDO\n",
        "ORDER BY total DESC\n",
        "\"\"\").show()"
      ],
      "metadata": {
        "colab": {
          "base_uri": "https://localhost:8080/"
        },
        "id": "Tm3gDRqTon3b",
        "outputId": "0b055e76-a1aa-458b-f091-4a587871e45b"
      },
      "execution_count": 106,
      "outputs": [
        {
          "output_type": "stream",
          "name": "stdout",
          "text": [
            "+--------------------+------------------+------+\n",
            "|    DSC_AREA_ATUACAO|DSC_FAIXA_RECEBIDO| total|\n",
            "+--------------------+------------------+------+\n",
            "|       Não aplicável|     Não aplicável|718741|\n",
            "|Comércio no ataca...|       801 - 1.600| 30482|\n",
            "|Agricultura, pecu...|       801 - 1.600| 22231|\n",
            "|Indústria da tran...|       801 - 1.600| 16951|\n",
            "|          Construção|       801 - 1.600| 14250|\n",
            "|Comércio no ataca...|     1.601 - 3.000| 12620|\n",
            "|Saúde humana e as...|       801 - 1.600| 12205|\n",
            "|               Outro|       801 - 1.600| 11802|\n",
            "|Serviço doméstico...|       801 - 1.600| 11309|\n",
            "|            Educação|       801 - 1.600| 11072|\n",
            "|Serviço de alimen...|       801 - 1.600| 10040|\n",
            "|Indústria da tran...|     1.601 - 3.000| 10004|\n",
            "|            Educação|     1.601 - 3.000|  9975|\n",
            "|Administração púb...|       801 - 1.600|  9093|\n",
            "|Agricultura, pecu...|     Não aplicável|  8958|\n",
            "|            Educação|    3.001 - 10.000|  8894|\n",
            "|Agricultura, pecu...|     1.601 - 3.000|  8692|\n",
            "|Saúde humana e as...|     1.601 - 3.000|  8410|\n",
            "|Agricultura, pecu...|         301 - 600|  8213|\n",
            "|Atividades de loc...|       801 - 1.600|  7948|\n",
            "+--------------------+------------------+------+\n",
            "only showing top 20 rows\n",
            "\n"
          ]
        }
      ]
    },
    {
      "cell_type": "code",
      "source": [
        "# Relação entre sintomas, faixa etária e acesso a hospitais\n",
        "spark.sql(\"\"\"\n",
        "SELECT\n",
        "    CASE\n",
        "        WHEN NUM_IDADE_MORADOR BETWEEN 0 AND 17 THEN '0-17'\n",
        "        WHEN NUM_IDADE_MORADOR BETWEEN 18 AND 35 THEN '18-35'\n",
        "        WHEN NUM_IDADE_MORADOR BETWEEN 36 AND 60 THEN '36-60'\n",
        "        ELSE '60+'\n",
        "    END AS faixa_etaria,\n",
        "    COUNT(*) AS total_sintomas,\n",
        "    SUM(CASE WHEN DSC_FOI_ESTABELECIMENTO_SAUDE = 'Sim' THEN 1 ELSE 0 END) AS procurou_saude\n",
        "FROM tabela_microdados\n",
        "WHERE DSC_FEBRE = 'Sim' OR DSC_TOSSE = 'Sim' OR DSC_DOR_PEITO = 'Sim'\n",
        "GROUP BY faixa_etaria\n",
        "ORDER BY faixa_etaria\n",
        "\"\"\").show()"
      ],
      "metadata": {
        "colab": {
          "base_uri": "https://localhost:8080/"
        },
        "id": "B-ODsrg1op79",
        "outputId": "38fd8ebb-f752-45e3-e3d3-cefb1860131c"
      },
      "execution_count": 107,
      "outputs": [
        {
          "output_type": "stream",
          "name": "stdout",
          "text": [
            "+------------+--------------+--------------+\n",
            "|faixa_etaria|total_sintomas|procurou_saude|\n",
            "+------------+--------------+--------------+\n",
            "|        0-17|          4784|          1532|\n",
            "|       18-35|          6696|          2703|\n",
            "|       36-60|          9924|          3833|\n",
            "|         60+|          4742|          1536|\n",
            "+------------+--------------+--------------+\n",
            "\n"
          ]
        }
      ]
    },
    {
      "cell_type": "code",
      "source": [
        "# Análise entre teletrabalho, faixa de renda e sintomas\n",
        "spark.sql(\"\"\"\n",
        "SELECT\n",
        "    DSC_FAIXA_RECEBIDO,\n",
        "    DSC_TELETRABALHO,\n",
        "    COUNT(*) AS total,\n",
        "    SUM(CASE WHEN DSC_FEBRE = 'Sim' OR DSC_TOSSE = 'Sim' THEN 1 ELSE 0 END) AS total_sintomas\n",
        "FROM tabela_microdados\n",
        "GROUP BY DSC_FAIXA_RECEBIDO, DSC_TELETRABALHO\n",
        "ORDER BY DSC_FAIXA_RECEBIDO\n",
        "\"\"\").show()"
      ],
      "metadata": {
        "colab": {
          "base_uri": "https://localhost:8080/"
        },
        "id": "Sm5thVEporxr",
        "outputId": "b5297651-8d7e-47d8-9d77-b970564ed97f"
      },
      "execution_count": 108,
      "outputs": [
        {
          "output_type": "stream",
          "name": "stdout",
          "text": [
            "+------------------+----------------+-----+--------------+\n",
            "|DSC_FAIXA_RECEBIDO|DSC_TELETRABALHO|total|total_sintomas|\n",
            "+------------------+----------------+-----+--------------+\n",
            "|           0 - 100|             Não|  177|            12|\n",
            "|           0 - 100|             Sim|   20|             2|\n",
            "|           0 - 100|   Não aplicável| 2788|            73|\n",
            "|     1.601 - 3.000|   Não aplicável|89012|          1991|\n",
            "|     1.601 - 3.000|             Sim|10558|           229|\n",
            "|     1.601 - 3.000|             Não| 3200|            65|\n",
            "|   10.001 - 50.000|   Não aplicável| 4976|           129|\n",
            "|   10.001 - 50.000|             Não|  101|             3|\n",
            "|   10.001 - 50.000|             Sim| 2748|            63|\n",
            "|         101 - 300|   Não aplicável|13266|           381|\n",
            "|         101 - 300|             Sim|  104|             4|\n",
            "|         101 - 300|             Não|  921|            12|\n",
            "|    3.001 - 10.000|   Não aplicável|42891|           941|\n",
            "|    3.001 - 10.000|             Não| 1228|            34|\n",
            "|    3.001 - 10.000|             Sim|13627|           285|\n",
            "|         301 - 600|             Não| 1713|            34|\n",
            "|         301 - 600|             Sim|  686|            10|\n",
            "|         301 - 600|   Não aplicável|27809|           679|\n",
            "|  50.001 - 100.000|             Sim|   10|             1|\n",
            "|  50.001 - 100.000|   Não aplicável|   46|             1|\n",
            "+------------------+----------------+-----+--------------+\n",
            "only showing top 20 rows\n",
            "\n"
          ]
        }
      ]
    }
  ]
}