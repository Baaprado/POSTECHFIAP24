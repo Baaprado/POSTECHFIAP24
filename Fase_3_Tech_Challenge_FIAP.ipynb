{
  "nbformat": 4,
  "nbformat_minor": 0,
  "metadata": {
    "colab": {
      "provenance": [],
      "authorship_tag": "ABX9TyPdsafmzeA0dPNyj+O6OThf",
      "include_colab_link": true
    },
    "kernelspec": {
      "name": "python3",
      "display_name": "Python 3"
    },
    "language_info": {
      "name": "python"
    }
  },
  "cells": [
    {
      "cell_type": "markdown",
      "metadata": {
        "id": "view-in-github",
        "colab_type": "text"
      },
      "source": [
        "<a href=\"https://colab.research.google.com/github/Baaprado/Pos_Tech_FIAP/blob/main/Fase_3_Tech_Challenge_FIAP.ipynb\" target=\"_parent\"><img src=\"https://colab.research.google.com/assets/colab-badge.svg\" alt=\"Open In Colab\"/></a>"
      ]
    },
    {
      "cell_type": "markdown",
      "source": [
        "# **Leitura inicial dos arquivos**"
      ],
      "metadata": {
        "id": "mZtW2Sxl-dW9"
      }
    },
    {
      "cell_type": "markdown",
      "source": [
        "## **Instalações**"
      ],
      "metadata": {
        "id": "VDSVw-LPeIqR"
      }
    },
    {
      "cell_type": "code",
      "source": [
        "!pip install pyspark==3.4.1"
      ],
      "metadata": {
        "colab": {
          "base_uri": "https://localhost:8080/"
        },
        "id": "sha8Mrgu-goV",
        "outputId": "b66a9fba-3e9f-4f32-e468-c16eebebef6b"
      },
      "execution_count": 2,
      "outputs": [
        {
          "output_type": "stream",
          "name": "stdout",
          "text": [
            "Collecting pyspark==3.4.1\n",
            "  Downloading pyspark-3.4.1.tar.gz (310.8 MB)\n",
            "\u001b[2K     \u001b[90m━━━━━━━━━━━━━━━━━━━━━━━━━━━━━━━━━━━━━━━━\u001b[0m \u001b[32m310.8/310.8 MB\u001b[0m \u001b[31m4.3 MB/s\u001b[0m eta \u001b[36m0:00:00\u001b[0m\n",
            "\u001b[?25h  Preparing metadata (setup.py) ... \u001b[?25l\u001b[?25hdone\n",
            "Requirement already satisfied: py4j==0.10.9.7 in /usr/local/lib/python3.10/dist-packages (from pyspark==3.4.1) (0.10.9.7)\n",
            "Building wheels for collected packages: pyspark\n",
            "  Building wheel for pyspark (setup.py) ... \u001b[?25l\u001b[?25hdone\n",
            "  Created wheel for pyspark: filename=pyspark-3.4.1-py2.py3-none-any.whl size=311285391 sha256=83d344b1d763f397cfedbd3c117c2f90adfbfda9758eea8f8af1ad2e45532f6c\n",
            "  Stored in directory: /root/.cache/pip/wheels/0d/77/a3/ff2f74cc9ab41f8f594dabf0579c2a7c6de920d584206e0834\n",
            "Successfully built pyspark\n",
            "Installing collected packages: pyspark\n",
            "  Attempting uninstall: pyspark\n",
            "    Found existing installation: pyspark 3.5.3\n",
            "    Uninstalling pyspark-3.5.3:\n",
            "      Successfully uninstalled pyspark-3.5.3\n",
            "Successfully installed pyspark-3.4.1\n"
          ]
        }
      ]
    },
    {
      "cell_type": "code",
      "source": [
        "!pip install xlrd"
      ],
      "metadata": {
        "colab": {
          "base_uri": "https://localhost:8080/"
        },
        "id": "fPjIM5pgCDsG",
        "outputId": "319d09d0-8287-4ba5-dbba-916e36d0d359"
      },
      "execution_count": 3,
      "outputs": [
        {
          "output_type": "stream",
          "name": "stdout",
          "text": [
            "Requirement already satisfied: xlrd in /usr/local/lib/python3.10/dist-packages (2.0.1)\n"
          ]
        }
      ]
    },
    {
      "cell_type": "markdown",
      "source": [
        "## **Importação das bibliotecas e inicialização da SparkSession**"
      ],
      "metadata": {
        "id": "EXQhqiKx-lAB"
      }
    },
    {
      "cell_type": "code",
      "source": [
        "from pyspark.sql import SparkSession\n",
        "from pyspark.sql.functions import *\n",
        "from pyspark.sql.types import *\n",
        "import pandas as pd\n",
        "import re\n",
        "\n",
        "spark = SparkSession.builder.appName(\"PNAD_COVID\").getOrCreate()"
      ],
      "metadata": {
        "id": "d8a5IOaM-j0S"
      },
      "execution_count": 4,
      "outputs": []
    },
    {
      "cell_type": "markdown",
      "source": [
        "## **Leitura da base com os questionamentos para um DataFrame do PySpark**"
      ],
      "metadata": {
        "id": "wWVdA29k-wjF"
      }
    },
    {
      "cell_type": "code",
      "source": [
        "!wget \"https://github.com/Baaprado/Pos_Tech_FIAP/raw/main/072020.zip\" -O \"072020.zip\"\n",
        "!unzip -o \"072020.zip\" -d \"072020\"\n",
        "\n",
        "caminho_arquivo_csv = \"072020/PNAD_COVID_072020.csv\"\n",
        "microdados_072020 = spark.read.csv(caminho_arquivo_csv, header=True, inferSchema=True, sep=\",\")"
      ],
      "metadata": {
        "colab": {
          "base_uri": "https://localhost:8080/"
        },
        "id": "kpi4Cuzx-vnv",
        "outputId": "39a0f7a5-5adb-4c69-eb60-2dfd8706314e"
      },
      "execution_count": 5,
      "outputs": [
        {
          "output_type": "stream",
          "name": "stdout",
          "text": [
            "--2024-12-17 11:25:09--  https://github.com/Baaprado/Pos_Tech_FIAP/raw/main/072020.zip\n",
            "Resolving github.com (github.com)... 20.27.177.113\n",
            "Connecting to github.com (github.com)|20.27.177.113|:443... connected.\n",
            "HTTP request sent, awaiting response... 302 Found\n",
            "Location: https://raw.githubusercontent.com/Baaprado/Pos_Tech_FIAP/main/072020.zip [following]\n",
            "--2024-12-17 11:25:09--  https://raw.githubusercontent.com/Baaprado/Pos_Tech_FIAP/main/072020.zip\n",
            "Resolving raw.githubusercontent.com (raw.githubusercontent.com)... 185.199.108.133, 185.199.109.133, 185.199.110.133, ...\n",
            "Connecting to raw.githubusercontent.com (raw.githubusercontent.com)|185.199.108.133|:443... connected.\n",
            "HTTP request sent, awaiting response... 200 OK\n",
            "Length: 14242290 (14M) [application/zip]\n",
            "Saving to: ‘072020.zip’\n",
            "\n",
            "072020.zip          100%[===================>]  13.58M  27.5MB/s    in 0.5s    \n",
            "\n",
            "2024-12-17 11:25:19 (27.5 MB/s) - ‘072020.zip’ saved [14242290/14242290]\n",
            "\n",
            "Archive:  072020.zip\n",
            "  inflating: 072020/Dicionario_PNAD_COVID_072020_20220621.xls  \n",
            "  inflating: 072020/__MACOSX/._Dicionario_PNAD_COVID_072020_20220621.xls  \n",
            "  inflating: 072020/PNAD_COVID_072020.csv  \n",
            "  inflating: 072020/__MACOSX/._PNAD_COVID_072020.csv  \n",
            "  inflating: 072020/pnad_covid19_202007_saude_BR_GR_UF.xlsx  \n",
            "  inflating: 072020/__MACOSX/._pnad_covid19_202007_saude_BR_GR_UF.xlsx  \n"
          ]
        }
      ]
    },
    {
      "cell_type": "code",
      "source": [
        "!wget \"https://github.com/Baaprado/Pos_Tech_FIAP/raw/main/092020.zip\" -O \"092020.zip\"\n",
        "!unzip -o \"092020.zip\" -d \"092020\"\n",
        "\n",
        "caminho_arquivo_csv = \"092020/PNAD_COVID_092020.csv\"\n",
        "microdados_092020 = spark.read.csv(caminho_arquivo_csv, header=True, inferSchema=True, sep=\",\")"
      ],
      "metadata": {
        "colab": {
          "base_uri": "https://localhost:8080/"
        },
        "id": "sALtNZM0N-9m",
        "outputId": "4430ae1e-19e6-4e18-b21c-259287ace75b"
      },
      "execution_count": 6,
      "outputs": [
        {
          "output_type": "stream",
          "name": "stdout",
          "text": [
            "--2024-12-17 11:25:45--  https://github.com/Baaprado/Pos_Tech_FIAP/raw/main/092020.zip\n",
            "Resolving github.com (github.com)... 20.27.177.113\n",
            "Connecting to github.com (github.com)|20.27.177.113|:443... connected.\n",
            "HTTP request sent, awaiting response... 302 Found\n",
            "Location: https://raw.githubusercontent.com/Baaprado/Pos_Tech_FIAP/main/092020.zip [following]\n",
            "--2024-12-17 11:25:45--  https://raw.githubusercontent.com/Baaprado/Pos_Tech_FIAP/main/092020.zip\n",
            "Resolving raw.githubusercontent.com (raw.githubusercontent.com)... 185.199.111.133, 185.199.109.133, 185.199.108.133, ...\n",
            "Connecting to raw.githubusercontent.com (raw.githubusercontent.com)|185.199.111.133|:443... connected.\n",
            "HTTP request sent, awaiting response... 200 OK\n",
            "Length: 15777969 (15M) [application/zip]\n",
            "Saving to: ‘092020.zip’\n",
            "\n",
            "092020.zip          100%[===================>]  15.05M  32.3MB/s    in 0.5s    \n",
            "\n",
            "2024-12-17 11:25:47 (32.3 MB/s) - ‘092020.zip’ saved [15777969/15777969]\n",
            "\n",
            "Archive:  092020.zip\n",
            "  inflating: 092020/Dicionario_PNAD_COVID_092020_20220621.xls  \n",
            "  inflating: 092020/__MACOSX/._Dicionario_PNAD_COVID_092020_20220621.xls  \n",
            "  inflating: 092020/PNAD_COVID_092020.csv  \n",
            "  inflating: 092020/__MACOSX/._PNAD_COVID_092020.csv  \n",
            "  inflating: 092020/pnad_covid19_202009_saude_BR_GR_UF.xlsx  \n",
            "  inflating: 092020/__MACOSX/._pnad_covid19_202009_saude_BR_GR_UF.xlsx  \n"
          ]
        }
      ]
    },
    {
      "cell_type": "code",
      "source": [
        "!wget \"https://github.com/Baaprado/Pos_Tech_FIAP/raw/main/112020.zip\" -O \"112020.zip\"\n",
        "!unzip -o \"112020.zip\" -d \"112020\"\n",
        "\n",
        "caminho_arquivo_csv = \"112020/PNAD_COVID_112020.csv\"\n",
        "microdados_112020 = spark.read.csv(caminho_arquivo_csv, header=True, inferSchema=True, sep=\",\")"
      ],
      "metadata": {
        "colab": {
          "base_uri": "https://localhost:8080/"
        },
        "id": "kVv2I7i8OP45",
        "outputId": "b65c39c8-2c64-4d7d-d547-1a07ef1d1e30"
      },
      "execution_count": 7,
      "outputs": [
        {
          "output_type": "stream",
          "name": "stdout",
          "text": [
            "--2024-12-17 11:26:04--  https://github.com/Baaprado/Pos_Tech_FIAP/raw/main/112020.zip\n",
            "Resolving github.com (github.com)... 20.27.177.113\n",
            "Connecting to github.com (github.com)|20.27.177.113|:443... connected.\n",
            "HTTP request sent, awaiting response... 302 Found\n",
            "Location: https://raw.githubusercontent.com/Baaprado/Pos_Tech_FIAP/main/112020.zip [following]\n",
            "--2024-12-17 11:26:04--  https://raw.githubusercontent.com/Baaprado/Pos_Tech_FIAP/main/112020.zip\n",
            "Resolving raw.githubusercontent.com (raw.githubusercontent.com)... 185.199.108.133, 185.199.109.133, 185.199.110.133, ...\n",
            "Connecting to raw.githubusercontent.com (raw.githubusercontent.com)|185.199.108.133|:443... connected.\n",
            "HTTP request sent, awaiting response... 200 OK\n",
            "Length: 16693899 (16M) [application/zip]\n",
            "Saving to: ‘112020.zip’\n",
            "\n",
            "112020.zip          100%[===================>]  15.92M  37.3MB/s    in 0.4s    \n",
            "\n",
            "2024-12-17 11:26:30 (37.3 MB/s) - ‘112020.zip’ saved [16693899/16693899]\n",
            "\n",
            "Archive:  112020.zip\n",
            "  inflating: 112020/Dicionario_PNAD_COVID_112020_20220621.xls  \n",
            "  inflating: 112020/__MACOSX/._Dicionario_PNAD_COVID_112020_20220621.xls  \n",
            "  inflating: 112020/PNAD_COVID_112020.csv  \n",
            "  inflating: 112020/__MACOSX/._PNAD_COVID_112020.csv  \n",
            "  inflating: 112020/pnad_covid19_202011_saude_BR_GR_UF.xlsx  \n",
            "  inflating: 112020/__MACOSX/._pnad_covid19_202011_saude_BR_GR_UF.xlsx  \n"
          ]
        }
      ]
    },
    {
      "cell_type": "code",
      "source": [
        "microdados_072020.show()"
      ],
      "metadata": {
        "colab": {
          "base_uri": "https://localhost:8080/"
        },
        "id": "QdBEXwkxDkDj",
        "outputId": "f3b735d0-b2a6-493e-bb9c-5df898795718"
      },
      "execution_count": 8,
      "outputs": [
        {
          "output_type": "stream",
          "name": "stdout",
          "text": [
            "+----+---+-------+-------+-----+-----+-----+-----+-------+---------+-----+-----+------+------------+------------+------+----+-----+------+------+------+----+----+----+----+----+----+----+----+-----+-----+-----+-----+-----+-----+-----+-----+-----+------+------+------+------+----+-----+-----+-----+-----+-----+-----+-----+-----+-----+-----+-----+-----+-----+----+----+----+----+-----+-----+-----+-----+-----+-----+-----+-----+-----+-----+-----+-----+----+----+----+----+----+----+-----+-----+-----+----+----+-----+-----+-----+-----+-----+------+------+-----+----+----+-----+----+-----+------+------+-----+------+------+-----+-----+-----+------+-------+-------+------+-------+-------+----+----+----+----+----+-----+-----+-----+-----+-----+-----+-----+-----+-----+-----+-----+-----+-----+-----+-----+----+-----+-----+-----+-----+----+-----+-----+------+------+------+------+------+-----+----+\n",
            "| Ano| UF|CAPITAL|RM_RIDE|V1008|V1012|V1013|V1016|Estrato|      UPA|V1022|V1023| V1030|       V1031|       V1032|posest|A001|A001A|A001B1|A001B2|A001B3|A002|A003|A004|A005|A006|A007|A008|A009|B0011|B0012|B0013|B0014|B0015|B0016|B0017|B0018|B0019|B00110|B00111|B00112|B00113|B002|B0031|B0032|B0033|B0034|B0035|B0036|B0037|B0041|B0042|B0043|B0044|B0045|B0046|B005|B006|B007|B008|B009A|B009B|B009C|B009D|B009E|B009F|B0101|B0102|B0103|B0104|B0105|B0106|B011|C001|C002|C003|C004|C005|C0051|C0052|C0053|C006|C007|C007A|C007B|C007C|C007D|C007E|C007E1|C007E2|C007F|C008|C009|C009A|C010|C0101|C01011|C01012|C0102|C01021|C01022|C0103|C0104|C011A|C011A1|C011A11|C011A12|C011A2|C011A21|C011A22|C012|C013|C014|C015|C016|C017A|D0011|D0013|D0021|D0023|D0031|D0033|D0041|D0043|D0051|D0053|D0061|D0063|D0071|D0073|E001|E0021|E0022|E0023|E0024|F001|F0021|F0022|F002A1|F002A2|F002A3|F002A4|F002A5|F0061|F006|\n",
            "+----+---+-------+-------+-----+-----+-----+-----+-------+---------+-----+-----+------+------------+------------+------+----+-----+------+------+------+----+----+----+----+----+----+----+----+-----+-----+-----+-----+-----+-----+-----+-----+-----+------+------+------+------+----+-----+-----+-----+-----+-----+-----+-----+-----+-----+-----+-----+-----+-----+----+----+----+----+-----+-----+-----+-----+-----+-----+-----+-----+-----+-----+-----+-----+----+----+----+----+----+----+-----+-----+-----+----+----+-----+-----+-----+-----+-----+------+------+-----+----+----+-----+----+-----+------+------+-----+------+------+-----+-----+-----+------+-------+-------+------+-------+-------+----+----+----+----+----+-----+-----+-----+-----+-----+-----+-----+-----+-----+-----+-----+-----+-----+-----+-----+----+-----+-----+-----+-----+----+-----+-----+------+------+------+------+------+-----+----+\n",
            "|2020| 11|     11|   null|    1|    4|    7|    3|1110011|110015970|    1|    1|152452|130.59560514|149.67110856|  1114|   1|    1|     5|     8|  1984|  35|   1|   4|   5|null|null|null|null|    2|    2|    2|    2|    2|    2|    2|    2|    2|     2|     2|     2|     2|null| null| null| null| null| null| null| null| null| null| null| null| null| null|null|null|   1|   2| null| null| null| null| null| null|    2|    2|    2|    2|    2|    2|   2|   1|null|null|null|null| null| null| null|   2|   4| null|    1|   35|    6| null|  null|  null| null|  48|  48| null|   1|    1|     4|  1045| null|  null|  null| null| null|    1|     1|      4|   1045|  null|   null|   null|   1|null|null|null|null| null|    2| null|    2| null|    2| null|    2| null|    1| 1200|    2| null|    2| null|   3| null| null| null| null|   1| null| null|     1|     1|     1|     2|     1|    1|   2|\n",
            "|2020| 11|     11|   null|    1|    4|    7|    3|1110011|110015970|    1|    1|154289|130.59560514|145.29668757|  1123|   2|    2|    18|     8|  1990|  29|   2|   4|   7|   2|null|null|null|    2|    2|    2|    2|    2|    2|    2|    2|    2|     2|     2|     2|     2|null| null| null| null| null| null| null| null| null| null| null| null| null| null|null|null|   2|   2| null| null| null| null| null| null|    2|    2|    2|    2|    2|    2|   3|   2|   1|   1|   2|   2|    4| null| null|null|null| null| null| null| null| null|  null|  null| null|null|null| null|null| null|  null|  null| null|  null|  null| null| null| null|  null|   null|   null|  null|   null|   null|null|null|   2|   2|  10|    1|    2| null|    2| null|    2| null|    2| null|    1| 1200|    2| null|    2| null|   3| null| null| null| null|   1| null| null|     1|     1|     1|     2|     1|    1|   2|\n",
            "|2020| 11|     11|   null|    1|    4|    7|    3|1110011|110015970|    1|    1|145749|130.59560514|166.25411441|  1112|   3|    4|    25|    12|  2006|  13|   1|   4|   2|   1|   1|   5|   3|    2|    2|    2|    2|    2|    2|    2|    2|    2|     2|     2|     2|     2|null| null| null| null| null| null| null| null| null| null| null| null| null| null|null|null|   1|   2| null| null| null| null| null| null|    2|    2|    2|    2|    2|    2|   4|null|null|null|null|null| null| null| null|null|null| null| null| null| null| null|  null|  null| null|null|null| null|null| null|  null|  null| null|  null|  null| null| null| null|  null|   null|   null|  null|   null|   null|null|null|null|null|null| null|    2| null|    2| null|    2| null|    2| null|    1| 1200|    2| null|    2| null|   3| null| null| null| null|   1| null| null|     1|     1|     1|     2|     1|    1|   2|\n",
            "|2020| 11|     11|   null|    1|    4|    7|    3|1110011|110015970|    1|    1|145749|130.59560514|166.25411441|  1112|   4|    4|    24|     8|  2009|  10|   1|   4|   2|   1|   1|   5|   3|    2|    2|    2|    2|    2|    2|    2|    2|    2|     2|     2|     2|     2|null| null| null| null| null| null| null| null| null| null| null| null| null| null|null|null|   1|   2| null| null| null| null| null| null|    2|    2|    2|    2|    2|    2|   4|null|null|null|null|null| null| null| null|null|null| null| null| null| null| null|  null|  null| null|null|null| null|null| null|  null|  null| null|  null|  null| null| null| null|  null|   null|   null|  null|   null|   null|null|null|null|null|null| null|    2| null|    2| null|    2| null|    2| null|    1| 1200|    2| null|    2| null|   3| null| null| null| null|   1| null| null|     1|     1|     1|     2|     1|    1|   2|\n",
            "|2020| 11|     11|   null|    2|    1|    7|    3|1110011|110015970|    1|    1| 91395|130.59560514|126.96047655|  1126|   1|    1|    18|     5|  1963|  57|   2|   1|   2|null|null|null|null|    2|    2|    2|    2|    2|    2|    2|    2|    2|     2|     2|     2|     2|null| null| null| null| null| null| null| null| null| null| null| null| null| null|null|null|   2|   2| null| null| null| null| null| null|    2|    2|    2|    2|    2|    2|   3|   2|   2|null|null|null| null| null| null|null|null| null| null| null| null| null|  null|  null| null|null|null| null|null| null|  null|  null| null|  null|  null| null| null| null|  null|   null|   null|  null|   null|   null|null|null|   2|   2|   1|    1|    2| null|    2| null|    2| null|    1| 1045|    2| null|    2| null|    2| null|   3| null| null| null| null|   1| null| null|     1|     1|     1|     2|     1|    1|   1|\n",
            "|2020| 11|     11|   null|    4|    4|    7|    3|1110011|110015970|    1|    1|122744|130.59560514|165.55065666|  1115|   1|    1|    18|     2|  1973|  47|   1|   4|   2|null|null|null|null|    2|    2|    2|    2|    2|    2|    2|    2|    2|     2|     2|     2|     2|null| null| null| null| null| null| null| null| null| null| null| null| null| null|null|null|   2|   1|    2| null|    1|    2|    2| null|    2|    2|    2|    2|    2|    2|   2|   2|   1|   1|   2|   2|    3| null| null|   2|   7| null| null|   18|    5| null|  null|  null| null|  44|   0| null|   1|    1|     5|  2000| null|  null|  null| null| null|    1|     1|      0|      0|  null|   null|   null|null|null|   2|null|null| null|    2| null|    2| null|    2| null|    2| null|    1|  600|    2| null|    2| null|   3| null| null| null| null|   1| null| null|     1|     1|     1|     2|     1|    1|   1|\n",
            "|2020| 11|     11|   null|    4|    4|    7|    3|1110011|110015970|    1|    1|139562|130.59560514|157.41948743|  1122|   3|    5|    99|    99|  9999|  18|   2|   4|   2|   1|   4|null|null|    2|    2|    2|    2|    2|    2|    2|    2|    2|     2|     2|     2|     2|null| null| null| null| null| null| null| null| null| null| null| null| null| null|null|null|   2|   2| null| null| null| null| null| null|    2|    2|    2|    2|    2|    2|   2|   2|   2|null|null|null| null| null| null|null|null| null| null| null| null| null|  null|  null| null|null|null| null|null| null|  null|  null| null|  null|  null| null| null| null|  null|   null|   null|  null|   null|   null|null|null|   2|   2|   7|    1|    2| null|    2| null|    2| null|    2| null|    1|  600|    2| null|    2| null|   3| null| null| null| null|   1| null| null|     1|     1|     1|     2|     1|    1|   1|\n",
            "|2020| 11|     11|   null|    4|    4|    7|    3|1110011|110015970|    1|    1|145749|130.59560514|166.25411441|  1112|   6|    5|    99|    99|  9999|  11|   1|   4|   2|   1|   4|null|null|    2|    2|    2|    2|    2|    2|    2|    2|    2|     2|     2|     2|     2|null| null| null| null| null| null| null| null| null| null| null| null| null| null|null|null|   2|   2| null| null| null| null| null| null|    2|    2|    2|    2|    2|    2|   2|null|null|null|null|null| null| null| null|null|null| null| null| null| null| null|  null|  null| null|null|null| null|null| null|  null|  null| null|  null|  null| null| null| null|  null|   null|   null|  null|   null|   null|null|null|null|null|null| null|    2| null|    2| null|    2| null|    2| null|    1|  600|    2| null|    2| null|   3| null| null| null| null|   1| null| null|     1|     1|     1|     2|     1|    1|   1|\n",
            "|2020| 11|     11|   null|    4|    4|    7|    3|1110011|110015970|    1|    1|133935|130.59560514|158.57027492|  1121|   8|    5|    99|    99|  9999|   9|   2|   4|   2|   1|   4|null|null|    2|    2|    2|    2|    2|    2|    2|    2|    2|     2|     2|     2|     2|null| null| null| null| null| null| null| null| null| null| null| null| null| null|null|null|   2|   2| null| null| null| null| null| null|    2|    2|    2|    2|    2|    2|   2|null|null|null|null|null| null| null| null|null|null| null| null| null| null| null|  null|  null| null|null|null| null|null| null|  null|  null| null|  null|  null| null| null| null|  null|   null|   null|  null|   null|   null|null|null|null|null|null| null|    2| null|    2| null|    2| null|    2| null|    1|  600|    2| null|    2| null|   3| null| null| null| null|   1| null| null|     1|     1|     1|     2|     1|    1|   1|\n",
            "|2020| 11|     11|   null|    4|    4|    7|    3|1110011|110015970|    1|    1|145749|130.59560514|166.25411441|  1112|   7|    5|    99|    99|  9999|  10|   1|   4|   2|   1|   4|null|null|    2|    2|    2|    2|    2|    2|    2|    2|    2|     2|     2|     2|     2|null| null| null| null| null| null| null| null| null| null| null| null| null| null|null|null|   2|   2| null| null| null| null| null| null|    2|    2|    2|    2|    2|    2|   2|null|null|null|null|null| null| null| null|null|null| null| null| null| null| null|  null|  null| null|null|null| null|null| null|  null|  null| null|  null|  null| null| null| null|  null|   null|   null|  null|   null|   null|null|null|null|null|null| null|    2| null|    2| null|    2| null|    2| null|    1|  600|    2| null|    2| null|   3| null| null| null| null|   1| null| null|     1|     1|     1|     2|     1|    1|   1|\n",
            "|2020| 11|     11|   null|    4|    4|    7|    3|1110011|110015970|    1|    1|157445|130.59560514|169.30836916|  1113|   2|    5|     3|     3|  1994|  26|   1|   4|   5|   2|null|null|null|    2|    2|    2|    2|    2|    2|    2|    2|    2|     2|     2|     2|     2|null| null| null| null| null| null| null| null| null| null| null| null| null| null|null|null|   2|   2| null| null| null| null| null| null|    2|    2|    2|    2|    2|    2|   2|   2|   2|null|null|null| null| null| null|null|null| null| null| null| null| null|  null|  null| null|null|null| null|null| null|  null|  null| null|  null|  null| null| null| null|  null|   null|   null|  null|   null|   null|null|null|   2|   1|null| null|    2| null|    2| null|    2| null|    2| null|    1|  600|    2| null|    2| null|   3| null| null| null| null|   1| null| null|     1|     1|     1|     2|     1|    1|   1|\n",
            "|2020| 11|     11|   null|    4|    4|    7|    3|1110011|110015970|    1|    1|145749|130.59560514|166.25411441|  1112|   5|    5|    99|    99|  9999|  14|   1|   3|   2|   1|   4|null|null|    2|    2|    2|    2|    2|    2|    2|    2|    2|     2|     2|     2|     2|null| null| null| null| null| null| null| null| null| null| null| null| null| null|null|null|   2|   2| null| null| null| null| null| null|    2|    2|    2|    2|    2|    2|   2|   2|   2|null|null|null| null| null| null|null|null| null| null| null| null| null|  null|  null| null|null|null| null|null| null|  null|  null| null|  null|  null| null| null| null|  null|   null|   null|  null|   null|   null|null|null|   2|   1|null| null|    2| null|    2| null|    2| null|    2| null|    1|  600|    2| null|    2| null|   3| null| null| null| null|   1| null| null|     1|     1|     1|     2|     1|    1|   1|\n",
            "|2020| 11|     11|   null|    4|    4|    7|    3|1110011|110015970|    1|    1|139562|130.59560514|157.41948743|  1122|   4|    5|    99|    99|  9999|  15|   2|   4|   2|   1|   4|null|null|    2|    2|    2|    2|    2|    2|    2|    2|    2|     2|     2|     2|     2|null| null| null| null| null| null| null| null| null| null| null| null| null| null|null|null|   2|   2| null| null| null| null| null| null|    2|    2|    2|    2|    2|    2|   2|   2|   2|null|null|null| null| null| null|null|null| null| null| null| null| null|  null|  null| null|null|null| null|null| null|  null|  null| null|  null|  null| null| null| null|  null|   null|   null|  null|   null|   null|null|null|   2|   2|   4|    2|    2| null|    2| null|    2| null|    2| null|    1|  600|    2| null|    2| null|   3| null| null| null| null|   1| null| null|     1|     1|     1|     2|     1|    1|   1|\n",
            "|2020| 11|     11|   null|    5|    3|    7|    3|1110011|110015970|    1|    1| 56060|130.59560514|135.37295436|  1117|   1|    1|    25|     5|  1958|  62|   1|   4|   1|null|null|null|null|    2|    2|    2|    2|    2|    2|    2|    2|    2|     2|     2|     2|     2|null| null| null| null| null| null| null| null| null| null| null| null| null| null|null|null|   2|   2| null| null| null| null| null| null|    1|    2|    2|    2|    2|    2|   3|   1|null|null|null|null| null| null| null|   2|   7| null| null|   19|    7| null|  null|  null| null|  44|  44| null|   1|    1|     4|  1045| null|  null|  null| null| null|    1|     1|      0|      0|  null|   null|   null|   1|null|   2|null|null| null|    2| null|    2| null|    2| null|    2| null|    1|  600|    2| null|    2| null|   3| null| null| null| null|   5| null| null|     1|     1|     1|     2|     1|    1|   1|\n",
            "|2020| 11|     11|   null|    5|    3|    7|    3|1110011|110015970|    1|    1| 54899|130.59560514|118.29949481|  1127|   2|    2|    31|     3|  1958|  62|   2|   4|   2|null|null|null|null|    2|    2|    2|    2|    2|    2|    2|    2|    2|     2|     2|     2|     2|null| null| null| null| null| null| null| null| null| null| null| null| null| null|null|null|   2|   2| null| null| null| null| null| null|    2|    1|    2|    2|    2|    2|   3|   2|   2|null|null|null| null| null| null|null|null| null| null| null| null| null|  null|  null| null|null|null| null|null| null|  null|  null| null|  null|  null| null| null| null|  null|   null|   null|  null|   null|   null|null|null|   2|   1|null| null|    2| null|    2| null|    2| null|    2| null|    1|  600|    2| null|    2| null|   3| null| null| null| null|   5| null| null|     1|     1|     1|     2|     1|    1|   1|\n",
            "|2020| 11|     11|   null|    6|    2|    7|    3|1110011|110015970|    1|    1| 91395|130.59560514|126.96047655|  1126|   1|    1|     1|    11|  1963|  56|   2|   4|   2|null|null|null|null|    2|    2|    2|    2|    2|    2|    2|    2|    2|     2|     2|     2|     2|null| null| null| null| null| null| null| null| null| null| null| null| null| null|null|null|   2|   2| null| null| null| null| null| null|    2|    2|    1|    2|    2|    2|   4|   2|   2|null|null|null| null| null| null|null|null| null| null| null| null| null|  null|  null| null|null|null| null|null| null|  null|  null| null|  null|  null| null| null| null|  null|   null|   null|  null|   null|   null|null|null|   2|   2|   8|    1|    2| null|    2| null|    2| null|    2| null|    1| 1200|    2| null|    2| null|   3| null| null| null| null|   1| null| null|     1|     1|     1|     2|     1|    1|   1|\n",
            "|2020| 11|     11|   null|    6|    2|    7|    3|1110011|110015970|    1|    1| 95468|130.59560514| 139.9845248|  1116|   2|    2|    29|     5|  1967|  53|   1|   2|   2|null|null|null|null|    2|    2|    2|    2|    2|    2|    2|    2|    2|     2|     2|     2|     2|null| null| null| null| null| null| null| null| null| null| null| null| null| null|null|null|   2|   2| null| null| null| null| null| null|    2|    2|    2|    2|    2|    2|   2|   2|   1|   2|null|null| null| null| null|   2|   7| null| null|   18|    5| null|  null|  null| null|  44|   0| null|   1|    1|     4|  1200| null|  null|  null| null| null|    1|     1|      4|   1000|  null|   null|   null|null|null|   2|null|null| null|    2| null|    2| null|    2| null|    2| null|    1| 1200|    2| null|    2| null|   3| null| null| null| null|   1| null| null|     1|     1|     1|     2|     1|    1|   1|\n",
            "|2020| 11|     11|   null|    6|    2|    7|    3|1110011|110015970|    1|    1|139562|130.59560514|157.41948743|  1122|   3|    4|    20|    12|  2002|  17|   2|   1|   4|   2|null|null|null|    2|    2|    2|    2|    2|    2|    2|    2|    2|     2|     2|     2|     2|null| null| null| null| null| null| null| null| null| null| null| null| null| null|null|null|   2|   2| null| null| null| null| null| null|    2|    2|    2|    2|    2|    2|   4|   2|   2|null|null|null| null| null| null|null|null| null| null| null| null| null|  null|  null| null|null|null| null|null| null|  null|  null| null|  null|  null| null| null| null|  null|   null|   null|  null|   null|   null|null|null|   2|   2|   3|    2|    2| null|    2| null|    2| null|    2| null|    1| 1200|    2| null|    2| null|   3| null| null| null| null|   1| null| null|     1|     1|     1|     2|     1|    1|   1|\n",
            "|2020| 11|     11|   null|    7|    3|    7|    3|1110011|110015970|    1|    1|152452|130.59560514|149.67110856|  1114|   1|    1|    30|     5|  1986|  34|   1|   4|   5|null|null|null|null|    2|    2|    2|    2|    2|    2|    2|    2|    2|     2|     2|     2|     2|null| null| null| null| null| null| null| null| null| null| null| null| null| null|null|null|   2|   1|    2| null|    2| null|    1|    2|    2|    2|    2|    2|    2|    2|   2|   1|null|null|null|null| null| null| null|   2|   4| null|    1|    8|    5| null|  null|  null| null|  44|  44| null|   1|    1|     4|  1500| null|  null|  null| null| null|    1|     1|      4|   1500|  null|   null|   null|   1|null|null|null|null| null|    2| null|    2| null|    2| null|    2| null|    2| null|    2| null|    2| null|   3| null| null| null| null|   1| null| null|     1|     1|     1|     2|     1|    1|   1|\n",
            "|2020| 11|     11|   null|    7|    3|    7|    3|1110011|110015970|    1|    1|154289|130.59560514|145.29668757|  1123|   2|    2|    16|     1|  1994|  26|   2|   4|   6|   2|null|null|null|    2|    2|    2|    2|    2|    2|    2|    2|    2|     2|     2|     2|     2|null| null| null| null| null| null| null| null| null| null| null| null| null| null|null|null|   2|   2| null| null| null| null| null| null|    2|    2|    2|    2|    2|    2|   2|   1|null|null|null|null| null| null| null|   2|   4| null|    1|    4|   25| null|  null|  null| null|  40|  40| null|   1|    1|     4|  1600| null|  null|  null| null| null|    1|     1|      4|   1300|  null|   null|   null|   1|null|null|null|null| null|    2| null|    2| null|    2| null|    2| null|    2| null|    2| null|    2| null|   3| null| null| null| null|   1| null| null|     1|     1|     1|     2|     1|    1|   1|\n",
            "+----+---+-------+-------+-----+-----+-----+-----+-------+---------+-----+-----+------+------------+------------+------+----+-----+------+------+------+----+----+----+----+----+----+----+----+-----+-----+-----+-----+-----+-----+-----+-----+-----+------+------+------+------+----+-----+-----+-----+-----+-----+-----+-----+-----+-----+-----+-----+-----+-----+----+----+----+----+-----+-----+-----+-----+-----+-----+-----+-----+-----+-----+-----+-----+----+----+----+----+----+----+-----+-----+-----+----+----+-----+-----+-----+-----+-----+------+------+-----+----+----+-----+----+-----+------+------+-----+------+------+-----+-----+-----+------+-------+-------+------+-------+-------+----+----+----+----+----+-----+-----+-----+-----+-----+-----+-----+-----+-----+-----+-----+-----+-----+-----+-----+----+-----+-----+-----+-----+----+-----+-----+------+------+------+------+------+-----+----+\n",
            "only showing top 20 rows\n",
            "\n"
          ]
        }
      ]
    },
    {
      "cell_type": "markdown",
      "source": [
        "## **Seleção das questões a serem analisadas e união dos DataFrames referentes a 3 meses**"
      ],
      "metadata": {
        "id": "18amP7VPPNct"
      }
    },
    {
      "cell_type": "code",
      "source": [
        "selected_columns = ['UF','V1013','A002','A003','A004','A005','C007D','C01011','C013','C016','D0051','B0011','B0012','B0014','B0016','B00111','B002','B005','B007','B011']\n",
        "\n",
        "df_pnad_202007_selected = microdados_072020.select(selected_columns)\n",
        "df_pnad_202009_selected = microdados_092020.select(selected_columns)\n",
        "df_pnad_202011_selected = microdados_112020.select(selected_columns)\n",
        "df_final = df_pnad_202007_selected.union(df_pnad_202009_selected).union(df_pnad_202011_selected)\n",
        "\n",
        "df_final.show()"
      ],
      "metadata": {
        "colab": {
          "base_uri": "https://localhost:8080/"
        },
        "id": "T33-AN-6Ob0Z",
        "outputId": "cab43e06-1cf2-4c34-f45f-2b8d180bd248"
      },
      "execution_count": 9,
      "outputs": [
        {
          "output_type": "stream",
          "name": "stdout",
          "text": [
            "+---+-----+----+----+----+----+-----+------+----+----+-----+-----+-----+-----+-----+------+----+----+----+----+\n",
            "| UF|V1013|A002|A003|A004|A005|C007D|C01011|C013|C016|D0051|B0011|B0012|B0014|B0016|B00111|B002|B005|B007|B011|\n",
            "+---+-----+----+----+----+----+-----+------+----+----+-----+-----+-----+-----+-----+------+----+----+----+----+\n",
            "| 11|    7|  35|   1|   4|   5|    6|     4|null|null|    1|    2|    2|    2|    2|     2|null|null|   1|   2|\n",
            "| 11|    7|  29|   2|   4|   7| null|  null|null|  10|    1|    2|    2|    2|    2|     2|null|null|   2|   3|\n",
            "| 11|    7|  13|   1|   4|   2| null|  null|null|null|    1|    2|    2|    2|    2|     2|null|null|   1|   4|\n",
            "| 11|    7|  10|   1|   4|   2| null|  null|null|null|    1|    2|    2|    2|    2|     2|null|null|   1|   4|\n",
            "| 11|    7|  57|   2|   1|   2| null|  null|null|   1|    2|    2|    2|    2|    2|     2|null|null|   2|   3|\n",
            "| 11|    7|  47|   1|   4|   2|    5|     5|null|null|    1|    2|    2|    2|    2|     2|null|null|   2|   2|\n",
            "| 11|    7|  18|   2|   4|   2| null|  null|null|   7|    1|    2|    2|    2|    2|     2|null|null|   2|   2|\n",
            "| 11|    7|  11|   1|   4|   2| null|  null|null|null|    1|    2|    2|    2|    2|     2|null|null|   2|   2|\n",
            "| 11|    7|   9|   2|   4|   2| null|  null|null|null|    1|    2|    2|    2|    2|     2|null|null|   2|   2|\n",
            "| 11|    7|  10|   1|   4|   2| null|  null|null|null|    1|    2|    2|    2|    2|     2|null|null|   2|   2|\n",
            "| 11|    7|  26|   1|   4|   5| null|  null|null|null|    1|    2|    2|    2|    2|     2|null|null|   2|   2|\n",
            "| 11|    7|  14|   1|   3|   2| null|  null|null|null|    1|    2|    2|    2|    2|     2|null|null|   2|   2|\n",
            "| 11|    7|  15|   2|   4|   2| null|  null|null|   4|    1|    2|    2|    2|    2|     2|null|null|   2|   2|\n",
            "| 11|    7|  62|   1|   4|   1|    7|     4|null|null|    1|    2|    2|    2|    2|     2|null|null|   2|   3|\n",
            "| 11|    7|  62|   2|   4|   2| null|  null|null|null|    1|    2|    2|    2|    2|     2|null|null|   2|   3|\n",
            "| 11|    7|  56|   2|   4|   2| null|  null|null|   8|    1|    2|    2|    2|    2|     2|null|null|   2|   4|\n",
            "| 11|    7|  53|   1|   2|   2|    5|     4|null|null|    1|    2|    2|    2|    2|     2|null|null|   2|   2|\n",
            "| 11|    7|  17|   2|   1|   4| null|  null|null|   3|    1|    2|    2|    2|    2|     2|null|null|   2|   4|\n",
            "| 11|    7|  34|   1|   4|   5|    5|     4|null|null|    2|    2|    2|    2|    2|     2|null|null|   2|   2|\n",
            "| 11|    7|  26|   2|   4|   6|   25|     4|null|null|    2|    2|    2|    2|    2|     2|null|null|   2|   2|\n",
            "+---+-----+----+----+----+----+-----+------+----+----+-----+-----+-----+-----+-----+------+----+----+----+----+\n",
            "only showing top 20 rows\n",
            "\n"
          ]
        }
      ]
    },
    {
      "cell_type": "markdown",
      "source": [
        "## **Tratamento do DataFrame de acordo com o dicionário**"
      ],
      "metadata": {
        "id": "KelSNdWp_gcM"
      }
    },
    {
      "cell_type": "code",
      "source": [
        "UF = {\n",
        "    11: \"Rondônia\",12: \"Acre\",13: \"Amazonas\",14: \"Roraima\",15: \"Pará\",16: \"Amapá\",\n",
        "    17: \"Tocantins\",21: \"Maranhão\",22: \"Piauí\",23: \"Ceará\",24: \"Rio Grande do Norte\",\n",
        "    25: \"Paraíba\",26: \"Pernambuco\",27: \"Alagoas\",28: \"Sergipe\",29: \"Bahia\",31: \"Minas Gerais\",\n",
        "    32: \"Espírito Santo\",33: \"Rio de Janeiro\",35: \"São Paulo\",41: \"Paraná\",42: \"Santa Catarina\",\n",
        "    43: \"Rio Grande do Sul\",50: \"Mato Grosso do Sul\",51: \"Mato Grosso\",52: \"Goiás\",53: \"Distrito Federal\"}\n",
        "\n",
        "A003 ={1:'Homem',2:'Mulher'}\n",
        "A004 ={1:'Branca',2:'Preta',3:'Amarela',4:'Parda',5:'Indígena',9:'Não informado'}\n",
        "A005 = {1: \"Sem instrução\",2: \"Fundamental incompleto\",3: \"Fundamental completo\",4: \"Médio incompleto\",5: \"Médio completo\",6: \"Superior incompleto\",7: \"Superior completo\",8:\"Pós Graduação, Mestrado ou Doutorado\"}\n",
        "C007D = {\n",
        "            1: \"Agricultura, pecuária, produção florestal e pesca\",\n",
        "            2: \"Extração de petróleo, carvão mineral, minerais metálicos, pedra, areia, sal etc.\",\n",
        "            3: \"Indústria da transformação (inclusive confecção e fabricação caseira)\",\n",
        "            4: \"Fornecimento de eletricidade e gás, água, esgoto e coleta de lixo\",\n",
        "            5: \"Construção\",\n",
        "            6: \"Comércio no atacado e varejo\",\n",
        "            7: \"Reparação de veículos automotores e motocicletas\",\n",
        "            8: \"Transporte de passageiros\",\n",
        "            9: \"Transporte de mercadorias\",\n",
        "            10: \"Armazenamento, correios e serviços de entregas\",\n",
        "            11: \"Hospedagem (hotéis, pousadas etc.)\",\n",
        "            12: \"Serviço de alimentação (bares, restaurantes, ambulantes de alimentação)\",\n",
        "            13: \"Informação e comunicação (jornais, rádio e televisão, telecomunicações e informática)\",\n",
        "            14: \"Bancos, atividades financeiras e de seguros\",\n",
        "            15: \"Atividades imobiliárias\",\n",
        "            16: \"Escritórios de advocacia, engenharia, publicidade e veterinária (Atividades profissionais, científicas e técnicas)\",\n",
        "            17: \"Atividades de locação de mão de obra, segurança, limpeza, paisagismo e teleatendimento\",\n",
        "            18: \"Administração pública (governo federal, estadual e municipal)\",\n",
        "            19: \"Educação\",\n",
        "            20: \"Saúde humana e assistência social\",\n",
        "            21: \"Organizações religiosas, sindicatos e associações\",\n",
        "            22: \"Atividades artísticas, esportivas e de recreação\",\n",
        "            23: \"Cabeleireiros, tratamento de beleza e serviços pessoais\",\n",
        "            24: \"Serviço doméstico remunerado (será imputado da posição na ocupação)\",\n",
        "            25: \"Outro\"\n",
        "        }\n",
        "C01011 = {\n",
        "    0: \"0 - 100\",\n",
        "    1: \"101 - 300\",\n",
        "    2: \"301 - 600\",\n",
        "    3: \"601 - 800\",\n",
        "    4: \"801 - 1.600\",\n",
        "    5: \"1.601 - 3.000\",\n",
        "    6: \"3.001 - 10.000\",\n",
        "    7: \"10.001 - 50.000\",\n",
        "    8: \"50.001 - 100.000\",\n",
        "    9: \"Mais de 100.000\"\n",
        "}\n",
        "\n",
        "C013 = {1: \"Sim\",2: \"Não\"}\n",
        "\n",
        "C016 = {\n",
        "        1: \"Devido à pandemia (isolamento, quarentena ou distanciamento social)\",\n",
        "        2: \"Por problemas de saúde ou gravidez\",\n",
        "        4: \"Não quer trabalhar ou é aposentado\",\n",
        "        5: \"Não tinha experiência profissional ou qualificação\",\n",
        "        6: \"Acha que não vai encontrar trabalho por ser muito jovem ou idoso\",\n",
        "        7: \"Não havia trabalho na localidade\",\n",
        "        8: \"Tinha que cuidar dos afazeres domésticos e/ou de parentes\",\n",
        "        9: \"Estava aguardando resposta de medida tomada para conseguir trabalho\",\n",
        "        10: \"Outro motivo\"\n",
        "       }\n",
        "\n",
        "D0051 = {1: \"Sim\",2: \"Não\"}\n",
        "B0011 = {1: \"Sim\",2: \"Não\",3: \"Não sei\",9: \"Ignorado\"}\n",
        "B0012 = {1: \"Sim\",2: \"Não\",3: \"Não sei\",9: \"Ignorado\"}\n",
        "B0014 = {1: \"Sim\",2: \"Não\",3: \"Não sei\",9: \"Ignorado\"}\n",
        "B0016 = {1: \"Sim\",2: \"Não\",3: \"Não sei\",9: \"Ignorado\"}\n",
        "B00111 = {1: \"Sim\",2: \"Não\",3: \"Não sei\",9: \"Ignorado\"}\n",
        "B002 = {1: \"Sim\",2: \"Não\",9: \"Ignorado\"}\n",
        "B005 = {1: \"Sim\",2: \"Não\",9: \"Ignorado\"}\n",
        "B007 = {1: \"Sim\",2: \"Não\",9: \"Ignorado\"}\n",
        "B011 = {\n",
        "        1: \"Não fez restrição, levou vida normal como antes da pandemia\",\n",
        "        2: \"Reduziu o contato com as pessoas, mas continuou saindo de casa para trabalho ou atividades não essenciais e/ou recebendo visitas\",\n",
        "        3: \"Ficou em casa e só saiu em caso de necessidade básica\",\n",
        "        4: \"Ficou rigorosamente em casa\",\n",
        "        9: \"Ignorado\"\n",
        "        }"
      ],
      "metadata": {
        "id": "oBlb9vq6c8RR"
      },
      "execution_count": 10,
      "outputs": []
    },
    {
      "cell_type": "code",
      "source": [
        "from itertools import chain\n",
        "\n",
        "NME_COLUNA =['UF','NUM_MES_PESQUISA','NUM_IDADE_MORADOR','DSC_SEXO','DSC_COR_RACA','DSC_NIVEL_INSTRUCAO','DSC_AREA_ATUACAO','DSC_FAIXA_RECEBIDO','DSC_TELETRABALHO','DSC_MOTIVO_N_PROCUROU_TRABALHO','DSC_AUXILIO_CORONAVIRUS','DSC_FEBRE','DSC_TOSSE','DSC_DIFICULDADE_RESPIRATORIA','DSC_DOR_PEITO','DSC_PERDA_OLFATO_PALADAR','DSC_FOI_ESTABELECIMENTO_SAUDE','DSC_FOI_INTERNADO','DSC_PLANO_SAUDE','DSC_CONTATO_COM_OUTRAS_PESSOAS']\n",
        "\n",
        "col_dict = {\n",
        "    'UF': UF,\n",
        "    'A003': A003,\n",
        "    'A004': A004,\n",
        "    'A005': A005,\n",
        "    'C007D': C007D,\n",
        "    'C01011':C01011,\n",
        "    'C013':C013,\n",
        "    'C016':C016,\n",
        "    'D0051':D0051,\n",
        "    'B0011':B0011,\n",
        "    'B0012':B0012,\n",
        "    'B0014':B0014,\n",
        "    'B0016':B0016,\n",
        "    'B00111':B00111,\n",
        "    'B002':B002,\n",
        "    'B005':B005,\n",
        "    'B007':B007,\n",
        "    'B011':B011\n",
        "}\n",
        "\n",
        "for col, lookup in col_dict.items():\n",
        "    mapping_expr = when(df_final[col].isin(list(lookup.keys())),\n",
        "                      create_map([lit(x) for x in chain(*lookup.items())])[df_final[col]]) \\\n",
        "                   .otherwise(df_final[col])\n",
        "\n",
        "    df_final= df_final.withColumn(col, mapping_expr)\n",
        "\n",
        "df_final= df_final.toDF(*NME_COLUNA)\n",
        "\n",
        "df_final= df_final.na.fill('Não aplicável')"
      ],
      "metadata": {
        "id": "812jEfa0c-2m"
      },
      "execution_count": 12,
      "outputs": []
    },
    {
      "cell_type": "markdown",
      "source": [
        "## **Visualização do DataFrame**"
      ],
      "metadata": {
        "id": "ZCylDBJad9Gt"
      }
    },
    {
      "cell_type": "code",
      "source": [
        "df_final.show()"
      ],
      "metadata": {
        "colab": {
          "base_uri": "https://localhost:8080/"
        },
        "id": "RtZJK-30eB0Q",
        "outputId": "31a3c8a8-66f5-4347-bd67-efca4c2584ab"
      },
      "execution_count": 13,
      "outputs": [
        {
          "output_type": "stream",
          "name": "stdout",
          "text": [
            "+--------+----------------+-----------------+--------+------------+--------------------+--------------------+------------------+----------------+------------------------------+-----------------------+---------+---------+----------------------------+-------------+------------------------+-----------------------------+-----------------+---------------+------------------------------+\n",
            "|      UF|NUM_MES_PESQUISA|NUM_IDADE_MORADOR|DSC_SEXO|DSC_COR_RACA| DSC_NIVEL_INSTRUCAO|    DSC_AREA_ATUACAO|DSC_FAIXA_RECEBIDO|DSC_TELETRABALHO|DSC_MOTIVO_N_PROCUROU_TRABALHO|DSC_AUXILIO_CORONAVIRUS|DSC_FEBRE|DSC_TOSSE|DSC_DIFICULDADE_RESPIRATORIA|DSC_DOR_PEITO|DSC_PERDA_OLFATO_PALADAR|DSC_FOI_ESTABELECIMENTO_SAUDE|DSC_FOI_INTERNADO|DSC_PLANO_SAUDE|DSC_CONTATO_COM_OUTRAS_PESSOAS|\n",
            "+--------+----------------+-----------------+--------+------------+--------------------+--------------------+------------------+----------------+------------------------------+-----------------------+---------+---------+----------------------------+-------------+------------------------+-----------------------------+-----------------+---------------+------------------------------+\n",
            "|Rondônia|               7|               35|   Homem|       Parda|      Médio completo|Comércio no ataca...|       801 - 1.600|   Não aplicável|                 Não aplicável|                    Sim|      Não|      Não|                         Não|          Não|                     Não|                Não aplicável|    Não aplicável|            Sim|          Reduziu o contato...|\n",
            "|Rondônia|               7|               29|  Mulher|       Parda|   Superior completo|       Não aplicável|     Não aplicável|   Não aplicável|                  Outro motivo|                    Sim|      Não|      Não|                         Não|          Não|                     Não|                Não aplicável|    Não aplicável|            Não|          Ficou em casa e s...|\n",
            "|Rondônia|               7|               13|   Homem|       Parda|Fundamental incom...|       Não aplicável|     Não aplicável|   Não aplicável|                 Não aplicável|                    Sim|      Não|      Não|                         Não|          Não|                     Não|                Não aplicável|    Não aplicável|            Sim|          Ficou rigorosamen...|\n",
            "|Rondônia|               7|               10|   Homem|       Parda|Fundamental incom...|       Não aplicável|     Não aplicável|   Não aplicável|                 Não aplicável|                    Sim|      Não|      Não|                         Não|          Não|                     Não|                Não aplicável|    Não aplicável|            Sim|          Ficou rigorosamen...|\n",
            "|Rondônia|               7|               57|  Mulher|      Branca|Fundamental incom...|       Não aplicável|     Não aplicável|   Não aplicável|          Devido à pandemia...|                    Não|      Não|      Não|                         Não|          Não|                     Não|                Não aplicável|    Não aplicável|            Não|          Ficou em casa e s...|\n",
            "|Rondônia|               7|               47|   Homem|       Parda|Fundamental incom...|          Construção|     1.601 - 3.000|   Não aplicável|                 Não aplicável|                    Sim|      Não|      Não|                         Não|          Não|                     Não|                Não aplicável|    Não aplicável|            Não|          Reduziu o contato...|\n",
            "|Rondônia|               7|               18|  Mulher|       Parda|Fundamental incom...|       Não aplicável|     Não aplicável|   Não aplicável|          Não havia trabalh...|                    Sim|      Não|      Não|                         Não|          Não|                     Não|                Não aplicável|    Não aplicável|            Não|          Reduziu o contato...|\n",
            "|Rondônia|               7|               11|   Homem|       Parda|Fundamental incom...|       Não aplicável|     Não aplicável|   Não aplicável|                 Não aplicável|                    Sim|      Não|      Não|                         Não|          Não|                     Não|                Não aplicável|    Não aplicável|            Não|          Reduziu o contato...|\n",
            "|Rondônia|               7|                9|  Mulher|       Parda|Fundamental incom...|       Não aplicável|     Não aplicável|   Não aplicável|                 Não aplicável|                    Sim|      Não|      Não|                         Não|          Não|                     Não|                Não aplicável|    Não aplicável|            Não|          Reduziu o contato...|\n",
            "|Rondônia|               7|               10|   Homem|       Parda|Fundamental incom...|       Não aplicável|     Não aplicável|   Não aplicável|                 Não aplicável|                    Sim|      Não|      Não|                         Não|          Não|                     Não|                Não aplicável|    Não aplicável|            Não|          Reduziu o contato...|\n",
            "|Rondônia|               7|               26|   Homem|       Parda|      Médio completo|       Não aplicável|     Não aplicável|   Não aplicável|                 Não aplicável|                    Sim|      Não|      Não|                         Não|          Não|                     Não|                Não aplicável|    Não aplicável|            Não|          Reduziu o contato...|\n",
            "|Rondônia|               7|               14|   Homem|     Amarela|Fundamental incom...|       Não aplicável|     Não aplicável|   Não aplicável|                 Não aplicável|                    Sim|      Não|      Não|                         Não|          Não|                     Não|                Não aplicável|    Não aplicável|            Não|          Reduziu o contato...|\n",
            "|Rondônia|               7|               15|  Mulher|       Parda|Fundamental incom...|       Não aplicável|     Não aplicável|   Não aplicável|          Não quer trabalha...|                    Sim|      Não|      Não|                         Não|          Não|                     Não|                Não aplicável|    Não aplicável|            Não|          Reduziu o contato...|\n",
            "|Rondônia|               7|               62|   Homem|       Parda|       Sem instrução|Reparação de veíc...|       801 - 1.600|   Não aplicável|                 Não aplicável|                    Sim|      Não|      Não|                         Não|          Não|                     Não|                Não aplicável|    Não aplicável|            Não|          Ficou em casa e s...|\n",
            "|Rondônia|               7|               62|  Mulher|       Parda|Fundamental incom...|       Não aplicável|     Não aplicável|   Não aplicável|                 Não aplicável|                    Sim|      Não|      Não|                         Não|          Não|                     Não|                Não aplicável|    Não aplicável|            Não|          Ficou em casa e s...|\n",
            "|Rondônia|               7|               56|  Mulher|       Parda|Fundamental incom...|       Não aplicável|     Não aplicável|   Não aplicável|          Tinha que cuidar ...|                    Sim|      Não|      Não|                         Não|          Não|                     Não|                Não aplicável|    Não aplicável|            Não|          Ficou rigorosamen...|\n",
            "|Rondônia|               7|               53|   Homem|       Preta|Fundamental incom...|          Construção|       801 - 1.600|   Não aplicável|                 Não aplicável|                    Sim|      Não|      Não|                         Não|          Não|                     Não|                Não aplicável|    Não aplicável|            Não|          Reduziu o contato...|\n",
            "|Rondônia|               7|               17|  Mulher|      Branca|    Médio incompleto|       Não aplicável|     Não aplicável|   Não aplicável|                             3|                    Sim|      Não|      Não|                         Não|          Não|                     Não|                Não aplicável|    Não aplicável|            Não|          Ficou rigorosamen...|\n",
            "|Rondônia|               7|               34|   Homem|       Parda|      Médio completo|          Construção|       801 - 1.600|   Não aplicável|                 Não aplicável|                    Não|      Não|      Não|                         Não|          Não|                     Não|                Não aplicável|    Não aplicável|            Não|          Reduziu o contato...|\n",
            "|Rondônia|               7|               26|  Mulher|       Parda| Superior incompleto|               Outro|       801 - 1.600|   Não aplicável|                 Não aplicável|                    Não|      Não|      Não|                         Não|          Não|                     Não|                Não aplicável|    Não aplicável|            Não|          Reduziu o contato...|\n",
            "+--------+----------------+-----------------+--------+------------+--------------------+--------------------+------------------+----------------+------------------------------+-----------------------+---------+---------+----------------------------+-------------+------------------------+-----------------------------+-----------------+---------------+------------------------------+\n",
            "only showing top 20 rows\n",
            "\n"
          ]
        }
      ]
    },
    {
      "cell_type": "markdown",
      "source": [
        "# **Exploração dos dados**"
      ],
      "metadata": {
        "id": "2k_tWOLWmAPy"
      }
    },
    {
      "cell_type": "markdown",
      "source": [
        "## **Exploração inicial**"
      ],
      "metadata": {
        "id": "0ssAQZaoq-cx"
      }
    },
    {
      "cell_type": "code",
      "source": [
        "df_final.createOrReplaceTempView(\"tabela_microdados\")"
      ],
      "metadata": {
        "id": "smoxPzwWYQy9"
      },
      "execution_count": 15,
      "outputs": []
    },
    {
      "cell_type": "markdown",
      "source": [
        "**Distribuição de sexo**"
      ],
      "metadata": {
        "id": "r4c06v6ErFWL"
      }
    },
    {
      "cell_type": "code",
      "source": [
        "spark.sql(\"\"\"\n",
        "SELECT\n",
        " DSC_SEXO,\n",
        " COUNT(*) AS TOTAL,\n",
        " ROUND((COUNT(*) * 100.0 / SUM(COUNT(*)) OVER ()), 2) AS PERCENTUAL\n",
        "FROM tabela_microdados\n",
        "GROUP BY DSC_SEXO\n",
        "ORDER BY TOTAL DESC\n",
        "\"\"\").show()"
      ],
      "metadata": {
        "colab": {
          "base_uri": "https://localhost:8080/"
        },
        "id": "BAz_WyFZoTe_",
        "outputId": "ffe45b0c-b286-41e9-9778-7e5ea2df1795"
      },
      "execution_count": 16,
      "outputs": [
        {
          "output_type": "stream",
          "name": "stdout",
          "text": [
            "+--------+------+----------+\n",
            "|DSC_SEXO| TOTAL|PERCENTUAL|\n",
            "+--------+------+----------+\n",
            "|  Mulher|600115|     52.05|\n",
            "|   Homem|552787|     47.95|\n",
            "+--------+------+----------+\n",
            "\n"
          ]
        }
      ]
    },
    {
      "cell_type": "markdown",
      "source": [
        "**Distribuição de cor/raça**"
      ],
      "metadata": {
        "id": "xPdrtvDorKvg"
      }
    },
    {
      "cell_type": "code",
      "source": [
        "spark.sql(\"\"\"\n",
        "SELECT\n",
        " DSC_COR_RACA,\n",
        " COUNT(*) AS TOTAL,\n",
        " ROUND((COUNT(*) * 100.0 / SUM(COUNT(*)) OVER ()), 2) AS PERCENTUAL\n",
        "FROM tabela_microdados\n",
        "GROUP BY DSC_COR_RACA\n",
        "ORDER BY TOTAL DESC\n",
        "\"\"\").show()"
      ],
      "metadata": {
        "colab": {
          "base_uri": "https://localhost:8080/"
        },
        "id": "oaJ4apjPobxe",
        "outputId": "bbe6a7fe-0ebb-478a-974a-8808e58ae08d"
      },
      "execution_count": 17,
      "outputs": [
        {
          "output_type": "stream",
          "name": "stdout",
          "text": [
            "+-------------+------+----------+\n",
            "| DSC_COR_RACA| TOTAL|PERCENTUAL|\n",
            "+-------------+------+----------+\n",
            "|        Parda|565448|     49.05|\n",
            "|       Branca|481264|     41.74|\n",
            "|        Preta| 94542|      8.20|\n",
            "|      Amarela|  6920|      0.60|\n",
            "|     Indígena|  4445|      0.39|\n",
            "|Não informado|   283|      0.02|\n",
            "+-------------+------+----------+\n",
            "\n"
          ]
        }
      ]
    },
    {
      "cell_type": "markdown",
      "source": [
        "**Distribuição de nível de instrução**"
      ],
      "metadata": {
        "id": "nm2XAjhFrOGk"
      }
    },
    {
      "cell_type": "code",
      "source": [
        "spark.sql(\"\"\"\n",
        "SELECT\n",
        " DSC_NIVEL_INSTRUCAO,\n",
        " COUNT(*) AS TOTAL\n",
        "FROM tabela_microdados\n",
        "GROUP BY DSC_NIVEL_INSTRUCAO\n",
        "ORDER BY TOTAL DESC\n",
        "\"\"\").show()"
      ],
      "metadata": {
        "colab": {
          "base_uri": "https://localhost:8080/"
        },
        "id": "xnCawv3bodOs",
        "outputId": "dc766e96-467a-4f4c-f9e7-3137323b73d8"
      },
      "execution_count": 18,
      "outputs": [
        {
          "output_type": "stream",
          "name": "stdout",
          "text": [
            "+--------------------+------+\n",
            "| DSC_NIVEL_INSTRUCAO| TOTAL|\n",
            "+--------------------+------+\n",
            "|Fundamental incom...|389050|\n",
            "|      Médio completo|257051|\n",
            "|       Sem instrução|124279|\n",
            "|    Médio incompleto|108080|\n",
            "|   Superior completo|108019|\n",
            "|Fundamental completo| 76365|\n",
            "| Superior incompleto| 59914|\n",
            "|Pós Graduação, Me...| 30144|\n",
            "+--------------------+------+\n",
            "\n"
          ]
        }
      ]
    },
    {
      "cell_type": "markdown",
      "source": [
        "**Estatísticas descritivas da idade**"
      ],
      "metadata": {
        "id": "XOK5C-NFrRYP"
      }
    },
    {
      "cell_type": "code",
      "source": [
        "spark.sql(\"\"\"\n",
        "SELECT\n",
        " MIN(NUM_IDADE_MORADOR) AS IDADE_MIN,\n",
        " MAX(NUM_IDADE_MORADOR) AS IDADE_MAX,\n",
        " CAST(AVG(NUM_IDADE_MORADOR) AS INT) AS IDADE_MEDIA,\n",
        " CAST(PERCENTILE(NUM_IDADE_MORADOR, 0.5) AS INT) AS IDADE_MEDIANA\n",
        "FROM tabela_microdados\n",
        "\"\"\").show()"
      ],
      "metadata": {
        "colab": {
          "base_uri": "https://localhost:8080/"
        },
        "id": "ALZtrQ4CohIb",
        "outputId": "7295f7f6-3c80-49d0-c8c4-b33fa77d284d"
      },
      "execution_count": 33,
      "outputs": [
        {
          "output_type": "stream",
          "name": "stdout",
          "text": [
            "+---------+---------+-----------+-------------+\n",
            "|IDADE_MIN|IDADE_MAX|IDADE_MEDIA|IDADE_MEDIANA|\n",
            "+---------+---------+-----------+-------------+\n",
            "|        0|      111|         36|           36|\n",
            "+---------+---------+-----------+-------------+\n",
            "\n"
          ]
        }
      ]
    },
    {
      "cell_type": "markdown",
      "source": [
        "**Incidência de sintomas (febre) por faixa etária**"
      ],
      "metadata": {
        "id": "GeuYDi_ZrW7-"
      }
    },
    {
      "cell_type": "code",
      "source": [
        "spark.sql(\"\"\"\n",
        "SELECT\n",
        " CASE\n",
        "   WHEN NUM_IDADE_MORADOR BETWEEN 0 AND 17 THEN '0-17'\n",
        "   WHEN NUM_IDADE_MORADOR BETWEEN 18 AND 35 THEN '18-35'\n",
        "   WHEN NUM_IDADE_MORADOR BETWEEN 36 AND 60 THEN '36-60'\n",
        " ELSE '60+'\n",
        " END AS FAIXA_ETARIA,\n",
        " COUNT(*) AS TOTAL_FEBRE\n",
        "FROM tabela_microdados\n",
        "WHERE DSC_FEBRE = 'Sim'\n",
        "GROUP BY FAIXA_ETARIA\n",
        "ORDER BY FAIXA_ETARIA\n",
        "\"\"\").show()"
      ],
      "metadata": {
        "colab": {
          "base_uri": "https://localhost:8080/"
        },
        "id": "6NpGdQRYojgh",
        "outputId": "fabd4875-0814-47b1-e3d2-d34332be1608"
      },
      "execution_count": 20,
      "outputs": [
        {
          "output_type": "stream",
          "name": "stdout",
          "text": [
            "+------------+-----------+\n",
            "|FAIXA_ETARIA|TOTAL_FEBRE|\n",
            "+------------+-----------+\n",
            "|        0-17|       2551|\n",
            "|       18-35|       3470|\n",
            "|       36-60|       4601|\n",
            "|         60+|       1462|\n",
            "+------------+-----------+\n",
            "\n"
          ]
        }
      ]
    },
    {
      "cell_type": "markdown",
      "source": [
        "**Relação entre nível de instrução, faixa de rendimento e gênero**"
      ],
      "metadata": {
        "id": "9Ki73259rapd"
      }
    },
    {
      "cell_type": "code",
      "source": [
        "spark.sql(\"\"\"\n",
        "SELECT\n",
        " DSC_NIVEL_INSTRUCAO,\n",
        " DSC_SEXO,\n",
        " DSC_FAIXA_RECEBIDO,\n",
        " COUNT(*) AS TOTAL\n",
        "FROM tabela_microdados\n",
        "WHERE DSC_FAIXA_RECEBIDO IS NOT NULL\n",
        "GROUP BY DSC_NIVEL_INSTRUCAO, DSC_SEXO, DSC_FAIXA_RECEBIDO\n",
        "ORDER BY DSC_NIVEL_INSTRUCAO, DSC_FAIXA_RECEBIDO\n",
        "\"\"\").show()"
      ],
      "metadata": {
        "colab": {
          "base_uri": "https://localhost:8080/"
        },
        "id": "ajp2qCUiol0s",
        "outputId": "a6f6062b-f139-48e0-b6e3-3ae9e6e21f1a"
      },
      "execution_count": 21,
      "outputs": [
        {
          "output_type": "stream",
          "name": "stdout",
          "text": [
            "+--------------------+--------+------------------+-----+\n",
            "| DSC_NIVEL_INSTRUCAO|DSC_SEXO|DSC_FAIXA_RECEBIDO|TOTAL|\n",
            "+--------------------+--------+------------------+-----+\n",
            "|Fundamental completo|  Mulher|           0 - 100|  123|\n",
            "|Fundamental completo|   Homem|           0 - 100|   99|\n",
            "|Fundamental completo|  Mulher|     1.601 - 3.000| 1404|\n",
            "|Fundamental completo|   Homem|     1.601 - 3.000| 5924|\n",
            "|Fundamental completo|   Homem|   10.001 - 50.000|   76|\n",
            "|Fundamental completo|  Mulher|   10.001 - 50.000|   16|\n",
            "|Fundamental completo|  Mulher|         101 - 300|  579|\n",
            "|Fundamental completo|   Homem|         101 - 300|  501|\n",
            "|Fundamental completo|   Homem|    3.001 - 10.000| 1417|\n",
            "|Fundamental completo|  Mulher|    3.001 - 10.000|  304|\n",
            "|Fundamental completo|  Mulher|         301 - 600| 1163|\n",
            "|Fundamental completo|   Homem|         301 - 600| 1319|\n",
            "|Fundamental completo|  Mulher|         601 - 800|  677|\n",
            "|Fundamental completo|   Homem|         601 - 800|  907|\n",
            "|Fundamental completo|   Homem|       801 - 1.600| 9929|\n",
            "|Fundamental completo|  Mulher|       801 - 1.600| 6212|\n",
            "|Fundamental completo|  Mulher|     Não aplicável|29098|\n",
            "|Fundamental completo|   Homem|     Não aplicável|16617|\n",
            "|Fundamental incom...|   Homem|           0 - 100|  753|\n",
            "|Fundamental incom...|  Mulher|           0 - 100|  594|\n",
            "+--------------------+--------+------------------+-----+\n",
            "only showing top 20 rows\n",
            "\n"
          ]
        }
      ]
    },
    {
      "cell_type": "markdown",
      "source": [
        "**Distribuição de faixa de renda por área de atuação**"
      ],
      "metadata": {
        "id": "6Tc9mUh1rgGq"
      }
    },
    {
      "cell_type": "code",
      "source": [
        "spark.sql(\"\"\"\n",
        "SELECT\n",
        " DSC_AREA_ATUACAO,\n",
        " DSC_FAIXA_RECEBIDO,\n",
        " COUNT(*) AS TOTAL\n",
        "FROM tabela_microdados\n",
        "WHERE DSC_AREA_ATUACAO IS NOT NULL\n",
        "GROUP BY DSC_AREA_ATUACAO, DSC_FAIXA_RECEBIDO\n",
        "ORDER BY TOTAL DESC\n",
        "\"\"\").show()"
      ],
      "metadata": {
        "colab": {
          "base_uri": "https://localhost:8080/"
        },
        "id": "Tm3gDRqTon3b",
        "outputId": "f1228468-9170-48b9-8a5d-5a424a0f19cc"
      },
      "execution_count": 22,
      "outputs": [
        {
          "output_type": "stream",
          "name": "stdout",
          "text": [
            "+--------------------+------------------+------+\n",
            "|    DSC_AREA_ATUACAO|DSC_FAIXA_RECEBIDO| TOTAL|\n",
            "+--------------------+------------------+------+\n",
            "|       Não aplicável|     Não aplicável|718741|\n",
            "|Comércio no ataca...|       801 - 1.600| 30482|\n",
            "|Agricultura, pecu...|       801 - 1.600| 22231|\n",
            "|Indústria da tran...|       801 - 1.600| 16951|\n",
            "|          Construção|       801 - 1.600| 14250|\n",
            "|Comércio no ataca...|     1.601 - 3.000| 12620|\n",
            "|Saúde humana e as...|       801 - 1.600| 12205|\n",
            "|               Outro|       801 - 1.600| 11802|\n",
            "|Serviço doméstico...|       801 - 1.600| 11309|\n",
            "|            Educação|       801 - 1.600| 11072|\n",
            "|Serviço de alimen...|       801 - 1.600| 10040|\n",
            "|Indústria da tran...|     1.601 - 3.000| 10004|\n",
            "|            Educação|     1.601 - 3.000|  9975|\n",
            "|Administração púb...|       801 - 1.600|  9093|\n",
            "|Agricultura, pecu...|     Não aplicável|  8958|\n",
            "|            Educação|    3.001 - 10.000|  8894|\n",
            "|Agricultura, pecu...|     1.601 - 3.000|  8692|\n",
            "|Saúde humana e as...|     1.601 - 3.000|  8410|\n",
            "|Agricultura, pecu...|         301 - 600|  8213|\n",
            "|Atividades de loc...|       801 - 1.600|  7948|\n",
            "+--------------------+------------------+------+\n",
            "only showing top 20 rows\n",
            "\n"
          ]
        }
      ]
    },
    {
      "cell_type": "markdown",
      "source": [
        "**Relação entre sintomas, faixa etária e acesso a hospitais**"
      ],
      "metadata": {
        "id": "XrU-h1M4rjNG"
      }
    },
    {
      "cell_type": "code",
      "source": [
        "spark.sql(\"\"\"\n",
        "SELECT\n",
        " CASE\n",
        "   WHEN NUM_IDADE_MORADOR BETWEEN 0 AND 17 THEN '0-17'\n",
        "   WHEN NUM_IDADE_MORADOR BETWEEN 18 AND 35 THEN '18-35'\n",
        "   WHEN NUM_IDADE_MORADOR BETWEEN 36 AND 60 THEN '36-60'\n",
        " ELSE '60+'\n",
        " END AS FAIXA_ETARIA,\n",
        " COUNT(*) AS TOTAL_SINTOMAS,\n",
        " SUM(CASE WHEN DSC_FOI_ESTABELECIMENTO_SAUDE = 'Sim' THEN 1 ELSE 0 END) AS PROCUROU_SAUDE\n",
        "FROM tabela_microdados\n",
        "WHERE DSC_FEBRE = 'Sim' OR DSC_TOSSE = 'Sim' OR DSC_DOR_PEITO = 'Sim'\n",
        "GROUP BY FAIXA_ETARIA\n",
        "ORDER BY FAIXA_ETARIA\n",
        "\"\"\").show()"
      ],
      "metadata": {
        "colab": {
          "base_uri": "https://localhost:8080/"
        },
        "id": "B-ODsrg1op79",
        "outputId": "f6bf9c7c-0967-4567-f08f-4457a0afeff0"
      },
      "execution_count": 23,
      "outputs": [
        {
          "output_type": "stream",
          "name": "stdout",
          "text": [
            "+------------+--------------+--------------+\n",
            "|FAIXA_ETARIA|TOTAL_SINTOMAS|PROCUROU_SAUDE|\n",
            "+------------+--------------+--------------+\n",
            "|        0-17|          4784|          1532|\n",
            "|       18-35|          6696|          2703|\n",
            "|       36-60|          9924|          3833|\n",
            "|         60+|          4742|          1536|\n",
            "+------------+--------------+--------------+\n",
            "\n"
          ]
        }
      ]
    },
    {
      "cell_type": "markdown",
      "source": [
        "**Análise entre teletrabalho, faixa de renda e sintomas**"
      ],
      "metadata": {
        "id": "ETuW2TcGrnqi"
      }
    },
    {
      "cell_type": "code",
      "source": [
        "spark.sql(\"\"\"\n",
        "SELECT\n",
        " DSC_FAIXA_RECEBIDO,\n",
        " DSC_TELETRABALHO,\n",
        " COUNT(*) AS TOTAL,\n",
        " SUM(CASE WHEN DSC_FEBRE = 'Sim' OR DSC_TOSSE = 'Sim' THEN 1 ELSE 0 END) AS TOTAL_SINTOMAS\n",
        "FROM tabela_microdados\n",
        "GROUP BY DSC_FAIXA_RECEBIDO, DSC_TELETRABALHO\n",
        "ORDER BY DSC_FAIXA_RECEBIDO\n",
        "\"\"\").show()"
      ],
      "metadata": {
        "colab": {
          "base_uri": "https://localhost:8080/"
        },
        "id": "Sm5thVEporxr",
        "outputId": "9c11562c-7984-4456-cd74-2608e817a467"
      },
      "execution_count": 24,
      "outputs": [
        {
          "output_type": "stream",
          "name": "stdout",
          "text": [
            "+------------------+----------------+-----+--------------+\n",
            "|DSC_FAIXA_RECEBIDO|DSC_TELETRABALHO|TOTAL|TOTAL_SINTOMAS|\n",
            "+------------------+----------------+-----+--------------+\n",
            "|           0 - 100|             Não|  177|            12|\n",
            "|           0 - 100|             Sim|   20|             2|\n",
            "|           0 - 100|   Não aplicável| 2788|            73|\n",
            "|     1.601 - 3.000|   Não aplicável|89012|          1991|\n",
            "|     1.601 - 3.000|             Sim|10558|           229|\n",
            "|     1.601 - 3.000|             Não| 3200|            65|\n",
            "|   10.001 - 50.000|   Não aplicável| 4976|           129|\n",
            "|   10.001 - 50.000|             Não|  101|             3|\n",
            "|   10.001 - 50.000|             Sim| 2748|            63|\n",
            "|         101 - 300|   Não aplicável|13266|           381|\n",
            "|         101 - 300|             Sim|  104|             4|\n",
            "|         101 - 300|             Não|  921|            12|\n",
            "|    3.001 - 10.000|   Não aplicável|42891|           941|\n",
            "|    3.001 - 10.000|             Não| 1228|            34|\n",
            "|    3.001 - 10.000|             Sim|13627|           285|\n",
            "|         301 - 600|             Não| 1713|            34|\n",
            "|         301 - 600|             Sim|  686|            10|\n",
            "|         301 - 600|   Não aplicável|27809|           679|\n",
            "|  50.001 - 100.000|             Sim|   10|             1|\n",
            "|  50.001 - 100.000|   Não aplicável|   46|             1|\n",
            "+------------------+----------------+-----+--------------+\n",
            "only showing top 20 rows\n",
            "\n"
          ]
        }
      ]
    },
    {
      "cell_type": "markdown",
      "source": [
        "## **Análise avançada**"
      ],
      "metadata": {
        "id": "QZlz4jwrrrAY"
      }
    },
    {
      "cell_type": "code",
      "source": [
        "import matplotlib.pyplot as plt\n",
        "import pandas as pd\n",
        "import plotly.express as px"
      ],
      "metadata": {
        "id": "jzyZU8jSk9f_"
      },
      "execution_count": 38,
      "outputs": []
    },
    {
      "cell_type": "code",
      "source": [
        "spark.sql(\"\"\"\n",
        "SELECT NUM_MES_PESQUISA, COUNT(*) AS QTDE_REGISTROS\n",
        "FROM tabela_microdados\n",
        "GROUP BY NUM_MES_PESQUISA\n",
        "ORDER BY NUM_MES_PESQUISA;\n",
        "\"\"\").show()"
      ],
      "metadata": {
        "colab": {
          "base_uri": "https://localhost:8080/"
        },
        "id": "hOPzo3HTkAGh",
        "outputId": "1f028b9b-3672-4627-e3e4-0110bfbca430"
      },
      "execution_count": 37,
      "outputs": [
        {
          "output_type": "stream",
          "name": "stdout",
          "text": [
            "+----------------+--------------+\n",
            "|NUM_MES_PESQUISA|QTDE_REGISTROS|\n",
            "+----------------+--------------+\n",
            "|               7|        384166|\n",
            "|               9|        387298|\n",
            "|              11|        381438|\n",
            "+----------------+--------------+\n",
            "\n"
          ]
        }
      ]
    },
    {
      "cell_type": "markdown",
      "source": [
        "### Comportamento Clínico\n",
        "Insights a serem explorados:\n",
        "\n",
        "- Sintomas mais prevalentes ao longo dos meses e sua distribuição por UF.\n",
        "- Correlação entre sintomas graves (ex: dificuldade respiratória) e hospitalizações.\n",
        "- Comparar sintomas por faixa etária e sexo, identificando grupos de risco."
      ],
      "metadata": {
        "id": "-lhnzh_mg57-"
      }
    },
    {
      "cell_type": "markdown",
      "source": [
        "**Sintomas mais prevalentes ao longo dos meses e por UF**"
      ],
      "metadata": {
        "id": "Y6Aot2H7lI7P"
      }
    },
    {
      "cell_type": "code",
      "source": [
        "spark.sql(\"\"\"\n",
        "SELECT\n",
        "    NUM_MES_PESQUISA,\n",
        "    UF,\n",
        "    COUNT(CASE WHEN DSC_FEBRE = 'Sim' THEN 1 END) AS febre,\n",
        "    COUNT(CASE WHEN DSC_TOSSE = 'Sim' THEN 1 END) AS tosse,\n",
        "    COUNT(CASE WHEN DSC_DIFICULDADE_RESPIRATORIA = 'Sim' THEN 1 END) AS dificuldade_respiratoria,\n",
        "    COUNT(CASE WHEN DSC_PERDA_OLFATO_PALADAR = 'Sim' THEN 1 END) AS perda_olfato_paladar\n",
        "FROM tabela_microdados\n",
        "GROUP BY NUM_MES_PESQUISA, UF\n",
        "ORDER BY NUM_MES_PESQUISA, UF;\n",
        "\"\"\").show()"
      ],
      "metadata": {
        "colab": {
          "base_uri": "https://localhost:8080/"
        },
        "id": "CDj-Q4WVg0xQ",
        "outputId": "46043af6-94d2-4d42-ac68-80479342fe1e"
      },
      "execution_count": 34,
      "outputs": [
        {
          "output_type": "stream",
          "name": "stdout",
          "text": [
            "+----+-----------------+-----+-----+------------------------+\n",
            "|  UF|NUM_IDADE_MORADOR|FEBRE|TOSSE|DIFICULDADE_RESPIRATORIA|\n",
            "+----+-----------------+-----+-----+------------------------+\n",
            "|Acre|                0|    4|    4|                       4|\n",
            "|Acre|                1|    2|    2|                       2|\n",
            "|Acre|                2|    4|    4|                       4|\n",
            "|Acre|                3|    5|    5|                       5|\n",
            "|Acre|                4|    8|    8|                       8|\n",
            "|Acre|                5|    5|    5|                       5|\n",
            "|Acre|                6|    5|    5|                       5|\n",
            "|Acre|                7|    2|    2|                       2|\n",
            "|Acre|                8|    4|    4|                       4|\n",
            "|Acre|                9|    5|    5|                       5|\n",
            "|Acre|               10|    3|    3|                       3|\n",
            "|Acre|               11|    8|    8|                       8|\n",
            "|Acre|               12|    5|    5|                       5|\n",
            "|Acre|               13|    8|    8|                       8|\n",
            "|Acre|               14|    7|    7|                       7|\n",
            "|Acre|               15|    5|    5|                       5|\n",
            "|Acre|               16|    5|    5|                       5|\n",
            "|Acre|               17|    6|    6|                       6|\n",
            "|Acre|               18|   15|   15|                      15|\n",
            "|Acre|               19|    6|    6|                       6|\n",
            "+----+-----------------+-----+-----+------------------------+\n",
            "only showing top 20 rows\n",
            "\n"
          ]
        }
      ]
    },
    {
      "cell_type": "code",
      "source": [
        "sintomas_df = spark.sql(\"\"\"\n",
        "SELECT\n",
        "    NUM_MES_PESQUISA,\n",
        "    UF,\n",
        "    COUNT(CASE WHEN DSC_FEBRE = 'Sim' THEN 1 END) AS febre,\n",
        "    COUNT(CASE WHEN DSC_TOSSE = 'Sim' THEN 1 END) AS tosse,\n",
        "    COUNT(CASE WHEN DSC_DIFICULDADE_RESPIRATORIA = 'Sim' THEN 1 END) AS dificuldade_respiratoria,\n",
        "    COUNT(CASE WHEN DSC_PERDA_OLFATO_PALADAR = 'Sim' THEN 1 END) AS perda_olfato_paladar\n",
        "FROM tabela_microdados\n",
        "GROUP BY NUM_MES_PESQUISA, UF\n",
        "ORDER BY NUM_MES_PESQUISA, UF;\n",
        "\"\"\").toPandas()\n",
        "\n",
        "fig = px.bar(sintomas_df, x=\"UF\", y=[\"febre\", \"tosse\", \"dificuldade_respiratoria\", \"perda_olfato_paladar\"],\n",
        "             color=\"NUM_MES_PESQUISA\", barmode=\"group\", title=\"Sintomas por UF e Mês\")\n",
        "fig.show()"
      ],
      "metadata": {
        "colab": {
          "base_uri": "https://localhost:8080/",
          "height": 542
        },
        "id": "7KZvr2EPkvKE",
        "outputId": "e10739da-0f04-4542-fcb8-a68db92d094c"
      },
      "execution_count": 39,
      "outputs": [
        {
          "output_type": "display_data",
          "data": {
            "text/html": [
              "<html>\n",
              "<head><meta charset=\"utf-8\" /></head>\n",
              "<body>\n",
              "    <div>            <script src=\"https://cdnjs.cloudflare.com/ajax/libs/mathjax/2.7.5/MathJax.js?config=TeX-AMS-MML_SVG\"></script><script type=\"text/javascript\">if (window.MathJax && window.MathJax.Hub && window.MathJax.Hub.Config) {window.MathJax.Hub.Config({SVG: {font: \"STIX-Web\"}});}</script>                <script type=\"text/javascript\">window.PlotlyConfig = {MathJaxConfig: 'local'};</script>\n",
              "        <script charset=\"utf-8\" src=\"https://cdn.plot.ly/plotly-2.35.2.min.js\"></script>                <div id=\"abb6d42e-9a85-4206-8fb7-70771ef060df\" class=\"plotly-graph-div\" style=\"height:525px; width:100%;\"></div>            <script type=\"text/javascript\">                                    window.PLOTLYENV=window.PLOTLYENV || {};                                    if (document.getElementById(\"abb6d42e-9a85-4206-8fb7-70771ef060df\")) {                    Plotly.newPlot(                        \"abb6d42e-9a85-4206-8fb7-70771ef060df\",                        [{\"alignmentgroup\":\"True\",\"hovertemplate\":\"UF=%{x}\\u003cbr\\u003evalue=%{y}\\u003cbr\\u003eNUM_MES_PESQUISA=%{marker.color}\\u003cextra\\u003e\\u003c\\u002fextra\\u003e\",\"legendgroup\":\"\",\"marker\":{\"color\":[7,7,7,7,7,7,7,7,7,7,7,7,7,7,7,7,7,7,7,7,7,7,7,7,7,7,7,9,9,9,9,9,9,9,9,9,9,9,9,9,9,9,9,9,9,9,9,9,9,9,9,9,9,9,11,11,11,11,11,11,11,11,11,11,11,11,11,11,11,11,11,11,11,11,11,11,11,11,11,11,11,7,7,7,7,7,7,7,7,7,7,7,7,7,7,7,7,7,7,7,7,7,7,7,7,7,7,7,9,9,9,9,9,9,9,9,9,9,9,9,9,9,9,9,9,9,9,9,9,9,9,9,9,9,9,11,11,11,11,11,11,11,11,11,11,11,11,11,11,11,11,11,11,11,11,11,11,11,11,11,11,11,7,7,7,7,7,7,7,7,7,7,7,7,7,7,7,7,7,7,7,7,7,7,7,7,7,7,7,9,9,9,9,9,9,9,9,9,9,9,9,9,9,9,9,9,9,9,9,9,9,9,9,9,9,9,11,11,11,11,11,11,11,11,11,11,11,11,11,11,11,11,11,11,11,11,11,11,11,11,11,11,11,7,7,7,7,7,7,7,7,7,7,7,7,7,7,7,7,7,7,7,7,7,7,7,7,7,7,7,9,9,9,9,9,9,9,9,9,9,9,9,9,9,9,9,9,9,9,9,9,9,9,9,9,9,9,11,11,11,11,11,11,11,11,11,11,11,11,11,11,11,11,11,11,11,11,11,11,11,11,11,11,11],\"coloraxis\":\"coloraxis\",\"pattern\":{\"shape\":\"\"}},\"name\":\"\",\"offsetgroup\":\"\",\"orientation\":\"v\",\"showlegend\":false,\"textposition\":\"auto\",\"x\":[\"Acre\",\"Alagoas\",\"Amapá\",\"Amazonas\",\"Bahia\",\"Ceará\",\"Distrito Federal\",\"Espírito Santo\",\"Goiás\",\"Maranhão\",\"Mato Grosso\",\"Mato Grosso do Sul\",\"Minas Gerais\",\"Paraná\",\"Paraíba\",\"Pará\",\"Pernambuco\",\"Piauí\",\"Rio Grande do Norte\",\"Rio Grande do Sul\",\"Rio de Janeiro\",\"Rondônia\",\"Roraima\",\"Santa Catarina\",\"Sergipe\",\"São Paulo\",\"Tocantins\",\"Acre\",\"Alagoas\",\"Amapá\",\"Amazonas\",\"Bahia\",\"Ceará\",\"Distrito Federal\",\"Espírito Santo\",\"Goiás\",\"Maranhão\",\"Mato Grosso\",\"Mato Grosso do Sul\",\"Minas Gerais\",\"Paraná\",\"Paraíba\",\"Pará\",\"Pernambuco\",\"Piauí\",\"Rio Grande do Norte\",\"Rio Grande do Sul\",\"Rio de Janeiro\",\"Rondônia\",\"Roraima\",\"Santa Catarina\",\"Sergipe\",\"São Paulo\",\"Tocantins\",\"Acre\",\"Alagoas\",\"Amapá\",\"Amazonas\",\"Bahia\",\"Ceará\",\"Distrito Federal\",\"Espírito Santo\",\"Goiás\",\"Maranhão\",\"Mato Grosso\",\"Mato Grosso do Sul\",\"Minas Gerais\",\"Paraná\",\"Paraíba\",\"Pará\",\"Pernambuco\",\"Piauí\",\"Rio Grande do Norte\",\"Rio Grande do Sul\",\"Rio de Janeiro\",\"Rondônia\",\"Roraima\",\"Santa Catarina\",\"Sergipe\",\"São Paulo\",\"Tocantins\",\"Acre\",\"Alagoas\",\"Amapá\",\"Amazonas\",\"Bahia\",\"Ceará\",\"Distrito Federal\",\"Espírito Santo\",\"Goiás\",\"Maranhão\",\"Mato Grosso\",\"Mato Grosso do Sul\",\"Minas Gerais\",\"Paraná\",\"Paraíba\",\"Pará\",\"Pernambuco\",\"Piauí\",\"Rio Grande do Norte\",\"Rio Grande do Sul\",\"Rio de Janeiro\",\"Rondônia\",\"Roraima\",\"Santa Catarina\",\"Sergipe\",\"São Paulo\",\"Tocantins\",\"Acre\",\"Alagoas\",\"Amapá\",\"Amazonas\",\"Bahia\",\"Ceará\",\"Distrito Federal\",\"Espírito Santo\",\"Goiás\",\"Maranhão\",\"Mato Grosso\",\"Mato Grosso do Sul\",\"Minas Gerais\",\"Paraná\",\"Paraíba\",\"Pará\",\"Pernambuco\",\"Piauí\",\"Rio Grande do Norte\",\"Rio Grande do Sul\",\"Rio de Janeiro\",\"Rondônia\",\"Roraima\",\"Santa Catarina\",\"Sergipe\",\"São Paulo\",\"Tocantins\",\"Acre\",\"Alagoas\",\"Amapá\",\"Amazonas\",\"Bahia\",\"Ceará\",\"Distrito Federal\",\"Espírito Santo\",\"Goiás\",\"Maranhão\",\"Mato Grosso\",\"Mato Grosso do Sul\",\"Minas Gerais\",\"Paraná\",\"Paraíba\",\"Pará\",\"Pernambuco\",\"Piauí\",\"Rio Grande do Norte\",\"Rio Grande do Sul\",\"Rio de Janeiro\",\"Rondônia\",\"Roraima\",\"Santa Catarina\",\"Sergipe\",\"São Paulo\",\"Tocantins\",\"Acre\",\"Alagoas\",\"Amapá\",\"Amazonas\",\"Bahia\",\"Ceará\",\"Distrito Federal\",\"Espírito Santo\",\"Goiás\",\"Maranhão\",\"Mato Grosso\",\"Mato Grosso do Sul\",\"Minas Gerais\",\"Paraná\",\"Paraíba\",\"Pará\",\"Pernambuco\",\"Piauí\",\"Rio Grande do Norte\",\"Rio Grande do Sul\",\"Rio de Janeiro\",\"Rondônia\",\"Roraima\",\"Santa Catarina\",\"Sergipe\",\"São Paulo\",\"Tocantins\",\"Acre\",\"Alagoas\",\"Amapá\",\"Amazonas\",\"Bahia\",\"Ceará\",\"Distrito Federal\",\"Espírito Santo\",\"Goiás\",\"Maranhão\",\"Mato Grosso\",\"Mato Grosso do Sul\",\"Minas Gerais\",\"Paraná\",\"Paraíba\",\"Pará\",\"Pernambuco\",\"Piauí\",\"Rio Grande do Norte\",\"Rio Grande do Sul\",\"Rio de Janeiro\",\"Rondônia\",\"Roraima\",\"Santa Catarina\",\"Sergipe\",\"São Paulo\",\"Tocantins\",\"Acre\",\"Alagoas\",\"Amapá\",\"Amazonas\",\"Bahia\",\"Ceará\",\"Distrito Federal\",\"Espírito Santo\",\"Goiás\",\"Maranhão\",\"Mato Grosso\",\"Mato Grosso do Sul\",\"Minas Gerais\",\"Paraná\",\"Paraíba\",\"Pará\",\"Pernambuco\",\"Piauí\",\"Rio Grande do Norte\",\"Rio Grande do Sul\",\"Rio de Janeiro\",\"Rondônia\",\"Roraima\",\"Santa Catarina\",\"Sergipe\",\"São Paulo\",\"Tocantins\",\"Acre\",\"Alagoas\",\"Amapá\",\"Amazonas\",\"Bahia\",\"Ceará\",\"Distrito Federal\",\"Espírito Santo\",\"Goiás\",\"Maranhão\",\"Mato Grosso\",\"Mato Grosso do Sul\",\"Minas Gerais\",\"Paraná\",\"Paraíba\",\"Pará\",\"Pernambuco\",\"Piauí\",\"Rio Grande do Norte\",\"Rio Grande do Sul\",\"Rio de Janeiro\",\"Rondônia\",\"Roraima\",\"Santa Catarina\",\"Sergipe\",\"São Paulo\",\"Tocantins\",\"Acre\",\"Alagoas\",\"Amapá\",\"Amazonas\",\"Bahia\",\"Ceará\",\"Distrito Federal\",\"Espírito Santo\",\"Goiás\",\"Maranhão\",\"Mato Grosso\",\"Mato Grosso do Sul\",\"Minas Gerais\",\"Paraná\",\"Paraíba\",\"Pará\",\"Pernambuco\",\"Piauí\",\"Rio Grande do Norte\",\"Rio Grande do Sul\",\"Rio de Janeiro\",\"Rondônia\",\"Roraima\",\"Santa Catarina\",\"Sergipe\",\"São Paulo\",\"Tocantins\",\"Acre\",\"Alagoas\",\"Amapá\",\"Amazonas\",\"Bahia\",\"Ceará\",\"Distrito Federal\",\"Espírito Santo\",\"Goiás\",\"Maranhão\",\"Mato Grosso\",\"Mato Grosso do Sul\",\"Minas Gerais\",\"Paraná\",\"Paraíba\",\"Pará\",\"Pernambuco\",\"Piauí\",\"Rio Grande do Norte\",\"Rio Grande do Sul\",\"Rio de Janeiro\",\"Rondônia\",\"Roraima\",\"Santa Catarina\",\"Sergipe\",\"São Paulo\",\"Tocantins\"],\"xaxis\":\"x\",\"y\":[210,227,77,204,277,311,151,229,261,532,290,107,291,180,205,248,207,137,186,167,231,81,197,209,198,335,84,58,105,54,124,98,129,91,88,162,244,153,77,215,104,94,150,113,57,54,153,136,69,86,141,85,173,71,49,61,55,111,116,91,51,142,132,220,91,77,254,186,68,150,157,61,70,193,202,43,64,210,48,223,43,195,270,105,234,344,382,203,381,346,496,359,180,804,387,230,240,287,123,161,518,452,93,167,454,225,755,91,79,177,46,159,239,217,110,163,298,310,210,127,556,274,148,217,173,80,119,458,240,95,102,273,147,429,94,42,94,56,134,212,148,91,255,231,331,124,122,590,324,163,192,234,89,102,375,336,71,65,325,74,415,64,107,99,51,87,127,134,99,155,128,149,137,60,238,115,65,122,78,43,73,161,126,52,81,152,46,310,47,27,51,25,67,48,55,48,50,143,59,88,48,196,85,24,55,47,27,23,185,87,31,50,70,34,162,35,18,28,22,38,52,43,18,72,68,56,35,41,172,108,22,48,74,24,25,128,98,29,26,103,21,151,18,127,156,45,114,144,183,126,128,124,337,169,40,170,81,74,158,124,76,92,101,132,51,123,132,114,237,36,29,58,31,74,43,64,57,51,132,91,96,49,96,77,40,65,41,13,9,102,66,26,50,82,41,96,53,20,32,32,36,57,43,26,75,57,46,39,32,140,109,36,37,71,24,18,115,100,22,35,135,23,87,20],\"yaxis\":\"y\",\"type\":\"bar\"}],                        {\"template\":{\"data\":{\"histogram2dcontour\":[{\"type\":\"histogram2dcontour\",\"colorbar\":{\"outlinewidth\":0,\"ticks\":\"\"},\"colorscale\":[[0.0,\"#0d0887\"],[0.1111111111111111,\"#46039f\"],[0.2222222222222222,\"#7201a8\"],[0.3333333333333333,\"#9c179e\"],[0.4444444444444444,\"#bd3786\"],[0.5555555555555556,\"#d8576b\"],[0.6666666666666666,\"#ed7953\"],[0.7777777777777778,\"#fb9f3a\"],[0.8888888888888888,\"#fdca26\"],[1.0,\"#f0f921\"]]}],\"choropleth\":[{\"type\":\"choropleth\",\"colorbar\":{\"outlinewidth\":0,\"ticks\":\"\"}}],\"histogram2d\":[{\"type\":\"histogram2d\",\"colorbar\":{\"outlinewidth\":0,\"ticks\":\"\"},\"colorscale\":[[0.0,\"#0d0887\"],[0.1111111111111111,\"#46039f\"],[0.2222222222222222,\"#7201a8\"],[0.3333333333333333,\"#9c179e\"],[0.4444444444444444,\"#bd3786\"],[0.5555555555555556,\"#d8576b\"],[0.6666666666666666,\"#ed7953\"],[0.7777777777777778,\"#fb9f3a\"],[0.8888888888888888,\"#fdca26\"],[1.0,\"#f0f921\"]]}],\"heatmap\":[{\"type\":\"heatmap\",\"colorbar\":{\"outlinewidth\":0,\"ticks\":\"\"},\"colorscale\":[[0.0,\"#0d0887\"],[0.1111111111111111,\"#46039f\"],[0.2222222222222222,\"#7201a8\"],[0.3333333333333333,\"#9c179e\"],[0.4444444444444444,\"#bd3786\"],[0.5555555555555556,\"#d8576b\"],[0.6666666666666666,\"#ed7953\"],[0.7777777777777778,\"#fb9f3a\"],[0.8888888888888888,\"#fdca26\"],[1.0,\"#f0f921\"]]}],\"heatmapgl\":[{\"type\":\"heatmapgl\",\"colorbar\":{\"outlinewidth\":0,\"ticks\":\"\"},\"colorscale\":[[0.0,\"#0d0887\"],[0.1111111111111111,\"#46039f\"],[0.2222222222222222,\"#7201a8\"],[0.3333333333333333,\"#9c179e\"],[0.4444444444444444,\"#bd3786\"],[0.5555555555555556,\"#d8576b\"],[0.6666666666666666,\"#ed7953\"],[0.7777777777777778,\"#fb9f3a\"],[0.8888888888888888,\"#fdca26\"],[1.0,\"#f0f921\"]]}],\"contourcarpet\":[{\"type\":\"contourcarpet\",\"colorbar\":{\"outlinewidth\":0,\"ticks\":\"\"}}],\"contour\":[{\"type\":\"contour\",\"colorbar\":{\"outlinewidth\":0,\"ticks\":\"\"},\"colorscale\":[[0.0,\"#0d0887\"],[0.1111111111111111,\"#46039f\"],[0.2222222222222222,\"#7201a8\"],[0.3333333333333333,\"#9c179e\"],[0.4444444444444444,\"#bd3786\"],[0.5555555555555556,\"#d8576b\"],[0.6666666666666666,\"#ed7953\"],[0.7777777777777778,\"#fb9f3a\"],[0.8888888888888888,\"#fdca26\"],[1.0,\"#f0f921\"]]}],\"surface\":[{\"type\":\"surface\",\"colorbar\":{\"outlinewidth\":0,\"ticks\":\"\"},\"colorscale\":[[0.0,\"#0d0887\"],[0.1111111111111111,\"#46039f\"],[0.2222222222222222,\"#7201a8\"],[0.3333333333333333,\"#9c179e\"],[0.4444444444444444,\"#bd3786\"],[0.5555555555555556,\"#d8576b\"],[0.6666666666666666,\"#ed7953\"],[0.7777777777777778,\"#fb9f3a\"],[0.8888888888888888,\"#fdca26\"],[1.0,\"#f0f921\"]]}],\"mesh3d\":[{\"type\":\"mesh3d\",\"colorbar\":{\"outlinewidth\":0,\"ticks\":\"\"}}],\"scatter\":[{\"fillpattern\":{\"fillmode\":\"overlay\",\"size\":10,\"solidity\":0.2},\"type\":\"scatter\"}],\"parcoords\":[{\"type\":\"parcoords\",\"line\":{\"colorbar\":{\"outlinewidth\":0,\"ticks\":\"\"}}}],\"scatterpolargl\":[{\"type\":\"scatterpolargl\",\"marker\":{\"colorbar\":{\"outlinewidth\":0,\"ticks\":\"\"}}}],\"bar\":[{\"error_x\":{\"color\":\"#2a3f5f\"},\"error_y\":{\"color\":\"#2a3f5f\"},\"marker\":{\"line\":{\"color\":\"#E5ECF6\",\"width\":0.5},\"pattern\":{\"fillmode\":\"overlay\",\"size\":10,\"solidity\":0.2}},\"type\":\"bar\"}],\"scattergeo\":[{\"type\":\"scattergeo\",\"marker\":{\"colorbar\":{\"outlinewidth\":0,\"ticks\":\"\"}}}],\"scatterpolar\":[{\"type\":\"scatterpolar\",\"marker\":{\"colorbar\":{\"outlinewidth\":0,\"ticks\":\"\"}}}],\"histogram\":[{\"marker\":{\"pattern\":{\"fillmode\":\"overlay\",\"size\":10,\"solidity\":0.2}},\"type\":\"histogram\"}],\"scattergl\":[{\"type\":\"scattergl\",\"marker\":{\"colorbar\":{\"outlinewidth\":0,\"ticks\":\"\"}}}],\"scatter3d\":[{\"type\":\"scatter3d\",\"line\":{\"colorbar\":{\"outlinewidth\":0,\"ticks\":\"\"}},\"marker\":{\"colorbar\":{\"outlinewidth\":0,\"ticks\":\"\"}}}],\"scattermapbox\":[{\"type\":\"scattermapbox\",\"marker\":{\"colorbar\":{\"outlinewidth\":0,\"ticks\":\"\"}}}],\"scatterternary\":[{\"type\":\"scatterternary\",\"marker\":{\"colorbar\":{\"outlinewidth\":0,\"ticks\":\"\"}}}],\"scattercarpet\":[{\"type\":\"scattercarpet\",\"marker\":{\"colorbar\":{\"outlinewidth\":0,\"ticks\":\"\"}}}],\"carpet\":[{\"aaxis\":{\"endlinecolor\":\"#2a3f5f\",\"gridcolor\":\"white\",\"linecolor\":\"white\",\"minorgridcolor\":\"white\",\"startlinecolor\":\"#2a3f5f\"},\"baxis\":{\"endlinecolor\":\"#2a3f5f\",\"gridcolor\":\"white\",\"linecolor\":\"white\",\"minorgridcolor\":\"white\",\"startlinecolor\":\"#2a3f5f\"},\"type\":\"carpet\"}],\"table\":[{\"cells\":{\"fill\":{\"color\":\"#EBF0F8\"},\"line\":{\"color\":\"white\"}},\"header\":{\"fill\":{\"color\":\"#C8D4E3\"},\"line\":{\"color\":\"white\"}},\"type\":\"table\"}],\"barpolar\":[{\"marker\":{\"line\":{\"color\":\"#E5ECF6\",\"width\":0.5},\"pattern\":{\"fillmode\":\"overlay\",\"size\":10,\"solidity\":0.2}},\"type\":\"barpolar\"}],\"pie\":[{\"automargin\":true,\"type\":\"pie\"}]},\"layout\":{\"autotypenumbers\":\"strict\",\"colorway\":[\"#636efa\",\"#EF553B\",\"#00cc96\",\"#ab63fa\",\"#FFA15A\",\"#19d3f3\",\"#FF6692\",\"#B6E880\",\"#FF97FF\",\"#FECB52\"],\"font\":{\"color\":\"#2a3f5f\"},\"hovermode\":\"closest\",\"hoverlabel\":{\"align\":\"left\"},\"paper_bgcolor\":\"white\",\"plot_bgcolor\":\"#E5ECF6\",\"polar\":{\"bgcolor\":\"#E5ECF6\",\"angularaxis\":{\"gridcolor\":\"white\",\"linecolor\":\"white\",\"ticks\":\"\"},\"radialaxis\":{\"gridcolor\":\"white\",\"linecolor\":\"white\",\"ticks\":\"\"}},\"ternary\":{\"bgcolor\":\"#E5ECF6\",\"aaxis\":{\"gridcolor\":\"white\",\"linecolor\":\"white\",\"ticks\":\"\"},\"baxis\":{\"gridcolor\":\"white\",\"linecolor\":\"white\",\"ticks\":\"\"},\"caxis\":{\"gridcolor\":\"white\",\"linecolor\":\"white\",\"ticks\":\"\"}},\"coloraxis\":{\"colorbar\":{\"outlinewidth\":0,\"ticks\":\"\"}},\"colorscale\":{\"sequential\":[[0.0,\"#0d0887\"],[0.1111111111111111,\"#46039f\"],[0.2222222222222222,\"#7201a8\"],[0.3333333333333333,\"#9c179e\"],[0.4444444444444444,\"#bd3786\"],[0.5555555555555556,\"#d8576b\"],[0.6666666666666666,\"#ed7953\"],[0.7777777777777778,\"#fb9f3a\"],[0.8888888888888888,\"#fdca26\"],[1.0,\"#f0f921\"]],\"sequentialminus\":[[0.0,\"#0d0887\"],[0.1111111111111111,\"#46039f\"],[0.2222222222222222,\"#7201a8\"],[0.3333333333333333,\"#9c179e\"],[0.4444444444444444,\"#bd3786\"],[0.5555555555555556,\"#d8576b\"],[0.6666666666666666,\"#ed7953\"],[0.7777777777777778,\"#fb9f3a\"],[0.8888888888888888,\"#fdca26\"],[1.0,\"#f0f921\"]],\"diverging\":[[0,\"#8e0152\"],[0.1,\"#c51b7d\"],[0.2,\"#de77ae\"],[0.3,\"#f1b6da\"],[0.4,\"#fde0ef\"],[0.5,\"#f7f7f7\"],[0.6,\"#e6f5d0\"],[0.7,\"#b8e186\"],[0.8,\"#7fbc41\"],[0.9,\"#4d9221\"],[1,\"#276419\"]]},\"xaxis\":{\"gridcolor\":\"white\",\"linecolor\":\"white\",\"ticks\":\"\",\"title\":{\"standoff\":15},\"zerolinecolor\":\"white\",\"automargin\":true,\"zerolinewidth\":2},\"yaxis\":{\"gridcolor\":\"white\",\"linecolor\":\"white\",\"ticks\":\"\",\"title\":{\"standoff\":15},\"zerolinecolor\":\"white\",\"automargin\":true,\"zerolinewidth\":2},\"scene\":{\"xaxis\":{\"backgroundcolor\":\"#E5ECF6\",\"gridcolor\":\"white\",\"linecolor\":\"white\",\"showbackground\":true,\"ticks\":\"\",\"zerolinecolor\":\"white\",\"gridwidth\":2},\"yaxis\":{\"backgroundcolor\":\"#E5ECF6\",\"gridcolor\":\"white\",\"linecolor\":\"white\",\"showbackground\":true,\"ticks\":\"\",\"zerolinecolor\":\"white\",\"gridwidth\":2},\"zaxis\":{\"backgroundcolor\":\"#E5ECF6\",\"gridcolor\":\"white\",\"linecolor\":\"white\",\"showbackground\":true,\"ticks\":\"\",\"zerolinecolor\":\"white\",\"gridwidth\":2}},\"shapedefaults\":{\"line\":{\"color\":\"#2a3f5f\"}},\"annotationdefaults\":{\"arrowcolor\":\"#2a3f5f\",\"arrowhead\":0,\"arrowwidth\":1},\"geo\":{\"bgcolor\":\"white\",\"landcolor\":\"#E5ECF6\",\"subunitcolor\":\"white\",\"showland\":true,\"showlakes\":true,\"lakecolor\":\"white\"},\"title\":{\"x\":0.05},\"mapbox\":{\"style\":\"light\"}}},\"xaxis\":{\"anchor\":\"y\",\"domain\":[0.0,1.0],\"title\":{\"text\":\"UF\"}},\"yaxis\":{\"anchor\":\"x\",\"domain\":[0.0,1.0],\"title\":{\"text\":\"value\"}},\"coloraxis\":{\"colorbar\":{\"title\":{\"text\":\"NUM_MES_PESQUISA\"}},\"colorscale\":[[0.0,\"#0d0887\"],[0.1111111111111111,\"#46039f\"],[0.2222222222222222,\"#7201a8\"],[0.3333333333333333,\"#9c179e\"],[0.4444444444444444,\"#bd3786\"],[0.5555555555555556,\"#d8576b\"],[0.6666666666666666,\"#ed7953\"],[0.7777777777777778,\"#fb9f3a\"],[0.8888888888888888,\"#fdca26\"],[1.0,\"#f0f921\"]]},\"legend\":{\"tracegroupgap\":0},\"title\":{\"text\":\"Sintomas por UF e Mês\"},\"barmode\":\"group\"},                        {\"responsive\": true}                    ).then(function(){\n",
              "                            \n",
              "var gd = document.getElementById('abb6d42e-9a85-4206-8fb7-70771ef060df');\n",
              "var x = new MutationObserver(function (mutations, observer) {{\n",
              "        var display = window.getComputedStyle(gd).display;\n",
              "        if (!display || display === 'none') {{\n",
              "            console.log([gd, 'removed!']);\n",
              "            Plotly.purge(gd);\n",
              "            observer.disconnect();\n",
              "        }}\n",
              "}});\n",
              "\n",
              "// Listen for the removal of the full notebook cells\n",
              "var notebookContainer = gd.closest('#notebook-container');\n",
              "if (notebookContainer) {{\n",
              "    x.observe(notebookContainer, {childList: true});\n",
              "}}\n",
              "\n",
              "// Listen for the clearing of the current output cell\n",
              "var outputEl = gd.closest('.output');\n",
              "if (outputEl) {{\n",
              "    x.observe(outputEl, {childList: true});\n",
              "}}\n",
              "\n",
              "                        })                };                            </script>        </div>\n",
              "</body>\n",
              "</html>"
            ]
          },
          "metadata": {}
        }
      ]
    },
    {
      "cell_type": "markdown",
      "source": [
        "**Correlação entre sintomas graves e hospitalizações**"
      ],
      "metadata": {
        "id": "XnWn9AtmlNy5"
      }
    },
    {
      "cell_type": "code",
      "source": [
        "spark.sql(\"\"\"\n",
        "SELECT\n",
        "    NUM_MES_PESQUISA,\n",
        "    COUNT(CASE WHEN DSC_DIFICULDADE_RESPIRATORIA = 'Sim' AND DSC_FOI_INTERNADO = 'Sim' THEN 1 END) AS internacoes_graves,\n",
        "    COUNT(*) AS total_casos,\n",
        "    ROUND((COUNT(CASE WHEN DSC_DIFICULDADE_RESPIRATORIA = 'Sim' AND DSC_FOI_INTERNADO = 'Sim' THEN 1 END) / COUNT(*)) * 100, 2) AS taxa_internacao\n",
        "FROM tabela_microdados\n",
        "GROUP BY NUM_MES_PESQUISA\n",
        "ORDER BY NUM_MES_PESQUISA;\n",
        "\"\"\").show()"
      ],
      "metadata": {
        "colab": {
          "base_uri": "https://localhost:8080/"
        },
        "id": "mGO_S35olO8m",
        "outputId": "636421ab-bf0a-4b4c-ceb5-edefcdcdb35d"
      },
      "execution_count": 40,
      "outputs": [
        {
          "output_type": "stream",
          "name": "stdout",
          "text": [
            "+----------------+------------------+-----------+---------------+\n",
            "|NUM_MES_PESQUISA|internacoes_graves|total_casos|taxa_internacao|\n",
            "+----------------+------------------+-----------+---------------+\n",
            "|               7|               151|     384166|           0.04|\n",
            "|               9|               102|     387298|           0.03|\n",
            "|              11|               101|     381438|           0.03|\n",
            "+----------------+------------------+-----------+---------------+\n",
            "\n"
          ]
        }
      ]
    },
    {
      "cell_type": "code",
      "source": [
        "internacoes_df = spark.sql(\"\"\"\n",
        "SELECT\n",
        "    NUM_MES_PESQUISA,\n",
        "    COUNT(CASE WHEN DSC_DIFICULDADE_RESPIRATORIA = 'Sim' AND DSC_FOI_INTERNADO = 'Sim' THEN 1 END) AS internacoes_graves,\n",
        "    COUNT(*) AS total_casos,\n",
        "    ROUND((COUNT(CASE WHEN DSC_DIFICULDADE_RESPIRATORIA = 'Sim' AND DSC_FOI_INTERNADO = 'Sim' THEN 1 END) / COUNT(*)) * 100, 2) AS taxa_internacao\n",
        "FROM tabela_microdados\n",
        "GROUP BY NUM_MES_PESQUISA\n",
        "ORDER BY NUM_MES_PESQUISA;\n",
        "\"\"\").toPandas()\n",
        "\n",
        "plt.figure(figsize=(8, 5))\n",
        "plt.bar(internacoes_df['NUM_MES_PESQUISA'], internacoes_df['taxa_internacao'], color='skyblue')\n",
        "plt.title(\"Taxa de Internação por Sintomas Graves\")\n",
        "plt.xlabel(\"Mês\")\n",
        "plt.ylabel(\"Taxa de Internação (%)\")\n",
        "plt.show()"
      ],
      "metadata": {
        "colab": {
          "base_uri": "https://localhost:8080/",
          "height": 487
        },
        "id": "W9IGcFv1lV3T",
        "outputId": "8118422b-d5dc-4a55-d0d6-0c24c1b4a3e9"
      },
      "execution_count": 41,
      "outputs": [
        {
          "output_type": "display_data",
          "data": {
            "text/plain": [
              "<Figure size 800x500 with 1 Axes>"
            ],
            "image/png": "[encoded data removed]"
          },
          "metadata": {}
        }
      ]
    },
    {
      "cell_type": "markdown",
      "source": [
        "**Comparar sintomas por faixa etária e sexo**"
      ],
      "metadata": {
        "id": "AzITuLCYlghC"
      }
    },
    {
      "cell_type": "code",
      "source": [
        "spark.sql(\"\"\"\n",
        "SELECT\n",
        "    NUM_IDADE_MORADOR,\n",
        "    DSC_SEXO,\n",
        "    COUNT(CASE WHEN DSC_TOSSE = 'Sim' THEN 1 END) AS tosse,\n",
        "    COUNT(CASE WHEN DSC_FEBRE = 'Sim' THEN 1 END) AS febre\n",
        "FROM tabela_microdados\n",
        "GROUP BY NUM_IDADE_MORADOR, DSC_SEXO\n",
        "ORDER BY NUM_IDADE_MORADOR, DSC_SEXO;\n",
        "\"\"\").show()"
      ],
      "metadata": {
        "colab": {
          "base_uri": "https://localhost:8080/"
        },
        "id": "aROLwlDLlhlg",
        "outputId": "2f241704-8534-4579-ca2b-85fbd8ca296a"
      },
      "execution_count": 42,
      "outputs": [
        {
          "output_type": "stream",
          "name": "stdout",
          "text": [
            "+-----------------+--------+-----+-----+\n",
            "|NUM_IDADE_MORADOR|DSC_SEXO|tosse|febre|\n",
            "+-----------------+--------+-----+-----+\n",
            "|                0|   Homem|   46|   59|\n",
            "|                0|  Mulher|   58|   75|\n",
            "|                1|   Homem|  107|  122|\n",
            "|                1|  Mulher|   93|  120|\n",
            "|                2|   Homem|   90|   75|\n",
            "|                2|  Mulher|   91|   74|\n",
            "|                3|   Homem|   94|   77|\n",
            "|                3|  Mulher|   88|   77|\n",
            "|                4|   Homem|  101|   74|\n",
            "|                4|  Mulher|   91|   69|\n",
            "|                5|   Homem|   81|   68|\n",
            "|                5|  Mulher|   86|   67|\n",
            "|                6|   Homem|  104|   64|\n",
            "|                6|  Mulher|   90|   59|\n",
            "|                7|   Homem|   83|   51|\n",
            "|                7|  Mulher|   78|   56|\n",
            "|                8|   Homem|  110|   63|\n",
            "|                8|  Mulher|   85|   66|\n",
            "|                9|   Homem|   79|   61|\n",
            "|                9|  Mulher|   85|   52|\n",
            "+-----------------+--------+-----+-----+\n",
            "only showing top 20 rows\n",
            "\n"
          ]
        }
      ]
    },
    {
      "cell_type": "code",
      "source": [
        "sintomas_idade_df = spark.sql(\"\"\"\n",
        "SELECT\n",
        "    NUM_IDADE_MORADOR,\n",
        "    DSC_SEXO,\n",
        "    COUNT(CASE WHEN DSC_TOSSE = 'Sim' THEN 1 END) AS tosse,\n",
        "    COUNT(CASE WHEN DSC_FEBRE = 'Sim' THEN 1 END) AS febre\n",
        "FROM tabela_microdados\n",
        "GROUP BY NUM_IDADE_MORADOR, DSC_SEXO\n",
        "ORDER BY NUM_IDADE_MORADOR, DSC_SEXO;\n",
        "\"\"\").toPandas()\n",
        "\n",
        "fig = px.line(sintomas_idade_df, x=\"NUM_IDADE_MORADOR\", y=[\"tosse\", \"febre\"],\n",
        "              color=\"DSC_SEXO\", title=\"Sintomas por Idade e Sexo\")\n",
        "fig.show()"
      ],
      "metadata": {
        "colab": {
          "base_uri": "https://localhost:8080/",
          "height": 542
        },
        "id": "xHdylTyqlocB",
        "outputId": "9674fbe8-0b93-4d97-f452-af6ea644e3c4"
      },
      "execution_count": 43,
      "outputs": [
        {
          "output_type": "display_data",
          "data": {
            "text/html": [
              "<html>\n",
              "<head><meta charset=\"utf-8\" /></head>\n",
              "<body>\n",
              "    <div>            <script src=\"https://cdnjs.cloudflare.com/ajax/libs/mathjax/2.7.5/MathJax.js?config=TeX-AMS-MML_SVG\"></script><script type=\"text/javascript\">if (window.MathJax && window.MathJax.Hub && window.MathJax.Hub.Config) {window.MathJax.Hub.Config({SVG: {font: \"STIX-Web\"}});}</script>                <script type=\"text/javascript\">window.PlotlyConfig = {MathJaxConfig: 'local'};</script>\n",
              "        <script charset=\"utf-8\" src=\"https://cdn.plot.ly/plotly-2.35.2.min.js\"></script>                <div id=\"c8baef33-8881-4474-b936-7251a5f8d459\" class=\"plotly-graph-div\" style=\"height:525px; width:100%;\"></div>            <script type=\"text/javascript\">                                    window.PLOTLYENV=window.PLOTLYENV || {};                                    if (document.getElementById(\"c8baef33-8881-4474-b936-7251a5f8d459\")) {                    Plotly.newPlot(                        \"c8baef33-8881-4474-b936-7251a5f8d459\",                        [{\"hovertemplate\":\"DSC_SEXO=Homem\\u003cbr\\u003evariable=tosse\\u003cbr\\u003eNUM_IDADE_MORADOR=%{x}\\u003cbr\\u003evalue=%{y}\\u003cextra\\u003e\\u003c\\u002fextra\\u003e\",\"legendgroup\":\"Homem\",\"line\":{\"color\":\"#636efa\",\"dash\":\"solid\"},\"marker\":{\"symbol\":\"circle\"},\"mode\":\"lines\",\"name\":\"Homem\",\"orientation\":\"v\",\"showlegend\":true,\"x\":[0,1,2,3,4,5,6,7,8,9,10,11,12,13,14,15,16,17,18,19,20,21,22,23,24,25,26,27,28,29,30,31,32,33,34,35,36,37,38,39,40,41,42,43,44,45,46,47,48,49,50,51,52,53,54,55,56,57,58,59,60,61,62,63,64,65,66,67,68,69,70,71,72,73,74,75,76,77,78,79,80,81,82,83,84,85,86,87,88,89,90,91,92,93,94,95,96,97,98,99,100,101,102,103,104,105,106,107,110,111],\"xaxis\":\"x\",\"y\":[46,107,90,94,101,81,104,83,110,79,92,85,99,75,96,97,123,118,127,123,136,98,139,121,135,125,123,118,127,121,130,104,143,111,131,139,155,152,135,136,140,129,125,109,123,123,108,122,126,108,151,112,119,113,113,101,147,158,113,120,119,103,94,98,108,100,106,109,88,77,70,75,60,69,62,50,56,35,47,35,35,31,19,33,24,17,10,23,11,7,14,12,7,3,3,2,1,4,2,1,0,0,0,0,0,0,0,0,0,0],\"yaxis\":\"y\",\"type\":\"scatter\"},{\"hovertemplate\":\"DSC_SEXO=Homem\\u003cbr\\u003evariable=febre\\u003cbr\\u003eNUM_IDADE_MORADOR=%{x}\\u003cbr\\u003evalue=%{y}\\u003cextra\\u003e\\u003c\\u002fextra\\u003e\",\"legendgroup\":\"Homem\",\"line\":{\"color\":\"#636efa\",\"dash\":\"solid\"},\"marker\":{\"symbol\":\"circle\"},\"mode\":\"lines\",\"name\":\"Homem\",\"orientation\":\"v\",\"showlegend\":false,\"x\":[0,1,2,3,4,5,6,7,8,9,10,11,12,13,14,15,16,17,18,19,20,21,22,23,24,25,26,27,28,29,30,31,32,33,34,35,36,37,38,39,40,41,42,43,44,45,46,47,48,49,50,51,52,53,54,55,56,57,58,59,60,61,62,63,64,65,66,67,68,69,70,71,72,73,74,75,76,77,78,79,80,81,82,83,84,85,86,87,88,89,90,91,92,93,94,95,96,97,98,99,100,101,102,103,104,105,106,107,110,111],\"xaxis\":\"x\",\"y\":[59,122,75,77,74,68,64,51,63,61,57,57,68,54,62,78,89,86,99,97,114,72,94,81,93,87,98,89,81,77,101,82,103,90,99,95,90,102,111,96,92,104,86,70,80,86,73,80,72,90,97,62,70,68,81,69,81,78,63,48,61,46,47,36,62,45,35,41,41,33,26,36,12,25,21,18,17,13,22,12,11,11,8,11,9,3,8,8,1,1,6,2,0,1,0,0,2,1,1,0,0,0,0,0,0,0,0,0,0,0],\"yaxis\":\"y\",\"type\":\"scatter\"},{\"hovertemplate\":\"DSC_SEXO=Mulher\\u003cbr\\u003evariable=tosse\\u003cbr\\u003eNUM_IDADE_MORADOR=%{x}\\u003cbr\\u003evalue=%{y}\\u003cextra\\u003e\\u003c\\u002fextra\\u003e\",\"legendgroup\":\"Mulher\",\"line\":{\"color\":\"#EF553B\",\"dash\":\"solid\"},\"marker\":{\"symbol\":\"circle\"},\"mode\":\"lines\",\"name\":\"Mulher\",\"orientation\":\"v\",\"showlegend\":true,\"x\":[0,1,2,3,4,5,6,7,8,9,10,11,12,13,14,15,16,17,18,19,20,21,22,23,24,25,26,27,28,29,30,31,32,33,34,35,36,37,38,39,40,41,42,43,44,45,46,47,48,49,50,51,52,53,54,55,56,57,58,59,60,61,62,63,64,65,66,67,68,69,70,71,72,73,74,75,76,77,78,79,80,81,82,83,84,85,86,87,88,89,90,91,92,93,94,95,96,97,98,99,100,101,102,103,104,105,106,107,108,110,111],\"xaxis\":\"x\",\"y\":[58,93,91,88,91,86,90,78,85,85,83,76,90,104,87,112,108,113,132,113,124,119,146,151,152,141,112,149,139,136,155,161,178,167,178,171,171,207,195,193,192,161,174,169,165,174,154,162,152,160,180,180,175,167,161,157,172,160,136,134,127,145,131,124,116,112,114,104,93,109,82,79,94,74,69,66,56,52,52,47,52,40,35,36,30,35,17,13,21,9,14,14,9,7,4,7,3,2,2,1,1,0,1,0,0,0,0,0,0,0,0],\"yaxis\":\"y\",\"type\":\"scatter\"},{\"hovertemplate\":\"DSC_SEXO=Mulher\\u003cbr\\u003evariable=febre\\u003cbr\\u003eNUM_IDADE_MORADOR=%{x}\\u003cbr\\u003evalue=%{y}\\u003cextra\\u003e\\u003c\\u002fextra\\u003e\",\"legendgroup\":\"Mulher\",\"line\":{\"color\":\"#EF553B\",\"dash\":\"solid\"},\"marker\":{\"symbol\":\"circle\"},\"mode\":\"lines\",\"name\":\"Mulher\",\"orientation\":\"v\",\"showlegend\":false,\"x\":[0,1,2,3,4,5,6,7,8,9,10,11,12,13,14,15,16,17,18,19,20,21,22,23,24,25,26,27,28,29,30,31,32,33,34,35,36,37,38,39,40,41,42,43,44,45,46,47,48,49,50,51,52,53,54,55,56,57,58,59,60,61,62,63,64,65,66,67,68,69,70,71,72,73,74,75,76,77,78,79,80,81,82,83,84,85,86,87,88,89,90,91,92,93,94,95,96,97,98,99,100,101,102,103,104,105,106,107,108,110,111],\"xaxis\":\"x\",\"y\":[75,120,74,77,69,67,59,56,66,52,61,63,68,58,77,87,76,81,95,80,90,81,114,98,103,108,85,97,92,90,98,96,112,114,113,152,115,140,108,146,142,102,130,115,94,116,108,100,89,86,106,108,95,111,80,98,102,90,74,58,78,73,68,65,57,50,38,50,36,35,23,28,26,25,22,19,19,22,17,14,11,13,13,13,5,10,3,5,6,5,2,3,2,6,1,2,1,0,0,1,0,0,1,0,0,0,0,0,0,0,0],\"yaxis\":\"y\",\"type\":\"scatter\"}],                        {\"template\":{\"data\":{\"histogram2dcontour\":[{\"type\":\"histogram2dcontour\",\"colorbar\":{\"outlinewidth\":0,\"ticks\":\"\"},\"colorscale\":[[0.0,\"#0d0887\"],[0.1111111111111111,\"#46039f\"],[0.2222222222222222,\"#7201a8\"],[0.3333333333333333,\"#9c179e\"],[0.4444444444444444,\"#bd3786\"],[0.5555555555555556,\"#d8576b\"],[0.6666666666666666,\"#ed7953\"],[0.7777777777777778,\"#fb9f3a\"],[0.8888888888888888,\"#fdca26\"],[1.0,\"#f0f921\"]]}],\"choropleth\":[{\"type\":\"choropleth\",\"colorbar\":{\"outlinewidth\":0,\"ticks\":\"\"}}],\"histogram2d\":[{\"type\":\"histogram2d\",\"colorbar\":{\"outlinewidth\":0,\"ticks\":\"\"},\"colorscale\":[[0.0,\"#0d0887\"],[0.1111111111111111,\"#46039f\"],[0.2222222222222222,\"#7201a8\"],[0.3333333333333333,\"#9c179e\"],[0.4444444444444444,\"#bd3786\"],[0.5555555555555556,\"#d8576b\"],[0.6666666666666666,\"#ed7953\"],[0.7777777777777778,\"#fb9f3a\"],[0.8888888888888888,\"#fdca26\"],[1.0,\"#f0f921\"]]}],\"heatmap\":[{\"type\":\"heatmap\",\"colorbar\":{\"outlinewidth\":0,\"ticks\":\"\"},\"colorscale\":[[0.0,\"#0d0887\"],[0.1111111111111111,\"#46039f\"],[0.2222222222222222,\"#7201a8\"],[0.3333333333333333,\"#9c179e\"],[0.4444444444444444,\"#bd3786\"],[0.5555555555555556,\"#d8576b\"],[0.6666666666666666,\"#ed7953\"],[0.7777777777777778,\"#fb9f3a\"],[0.8888888888888888,\"#fdca26\"],[1.0,\"#f0f921\"]]}],\"heatmapgl\":[{\"type\":\"heatmapgl\",\"colorbar\":{\"outlinewidth\":0,\"ticks\":\"\"},\"colorscale\":[[0.0,\"#0d0887\"],[0.1111111111111111,\"#46039f\"],[0.2222222222222222,\"#7201a8\"],[0.3333333333333333,\"#9c179e\"],[0.4444444444444444,\"#bd3786\"],[0.5555555555555556,\"#d8576b\"],[0.6666666666666666,\"#ed7953\"],[0.7777777777777778,\"#fb9f3a\"],[0.8888888888888888,\"#fdca26\"],[1.0,\"#f0f921\"]]}],\"contourcarpet\":[{\"type\":\"contourcarpet\",\"colorbar\":{\"outlinewidth\":0,\"ticks\":\"\"}}],\"contour\":[{\"type\":\"contour\",\"colorbar\":{\"outlinewidth\":0,\"ticks\":\"\"},\"colorscale\":[[0.0,\"#0d0887\"],[0.1111111111111111,\"#46039f\"],[0.2222222222222222,\"#7201a8\"],[0.3333333333333333,\"#9c179e\"],[0.4444444444444444,\"#bd3786\"],[0.5555555555555556,\"#d8576b\"],[0.6666666666666666,\"#ed7953\"],[0.7777777777777778,\"#fb9f3a\"],[0.8888888888888888,\"#fdca26\"],[1.0,\"#f0f921\"]]}],\"surface\":[{\"type\":\"surface\",\"colorbar\":{\"outlinewidth\":0,\"ticks\":\"\"},\"colorscale\":[[0.0,\"#0d0887\"],[0.1111111111111111,\"#46039f\"],[0.2222222222222222,\"#7201a8\"],[0.3333333333333333,\"#9c179e\"],[0.4444444444444444,\"#bd3786\"],[0.5555555555555556,\"#d8576b\"],[0.6666666666666666,\"#ed7953\"],[0.7777777777777778,\"#fb9f3a\"],[0.8888888888888888,\"#fdca26\"],[1.0,\"#f0f921\"]]}],\"mesh3d\":[{\"type\":\"mesh3d\",\"colorbar\":{\"outlinewidth\":0,\"ticks\":\"\"}}],\"scatter\":[{\"fillpattern\":{\"fillmode\":\"overlay\",\"size\":10,\"solidity\":0.2},\"type\":\"scatter\"}],\"parcoords\":[{\"type\":\"parcoords\",\"line\":{\"colorbar\":{\"outlinewidth\":0,\"ticks\":\"\"}}}],\"scatterpolargl\":[{\"type\":\"scatterpolargl\",\"marker\":{\"colorbar\":{\"outlinewidth\":0,\"ticks\":\"\"}}}],\"bar\":[{\"error_x\":{\"color\":\"#2a3f5f\"},\"error_y\":{\"color\":\"#2a3f5f\"},\"marker\":{\"line\":{\"color\":\"#E5ECF6\",\"width\":0.5},\"pattern\":{\"fillmode\":\"overlay\",\"size\":10,\"solidity\":0.2}},\"type\":\"bar\"}],\"scattergeo\":[{\"type\":\"scattergeo\",\"marker\":{\"colorbar\":{\"outlinewidth\":0,\"ticks\":\"\"}}}],\"scatterpolar\":[{\"type\":\"scatterpolar\",\"marker\":{\"colorbar\":{\"outlinewidth\":0,\"ticks\":\"\"}}}],\"histogram\":[{\"marker\":{\"pattern\":{\"fillmode\":\"overlay\",\"size\":10,\"solidity\":0.2}},\"type\":\"histogram\"}],\"scattergl\":[{\"type\":\"scattergl\",\"marker\":{\"colorbar\":{\"outlinewidth\":0,\"ticks\":\"\"}}}],\"scatter3d\":[{\"type\":\"scatter3d\",\"line\":{\"colorbar\":{\"outlinewidth\":0,\"ticks\":\"\"}},\"marker\":{\"colorbar\":{\"outlinewidth\":0,\"ticks\":\"\"}}}],\"scattermapbox\":[{\"type\":\"scattermapbox\",\"marker\":{\"colorbar\":{\"outlinewidth\":0,\"ticks\":\"\"}}}],\"scatterternary\":[{\"type\":\"scatterternary\",\"marker\":{\"colorbar\":{\"outlinewidth\":0,\"ticks\":\"\"}}}],\"scattercarpet\":[{\"type\":\"scattercarpet\",\"marker\":{\"colorbar\":{\"outlinewidth\":0,\"ticks\":\"\"}}}],\"carpet\":[{\"aaxis\":{\"endlinecolor\":\"#2a3f5f\",\"gridcolor\":\"white\",\"linecolor\":\"white\",\"minorgridcolor\":\"white\",\"startlinecolor\":\"#2a3f5f\"},\"baxis\":{\"endlinecolor\":\"#2a3f5f\",\"gridcolor\":\"white\",\"linecolor\":\"white\",\"minorgridcolor\":\"white\",\"startlinecolor\":\"#2a3f5f\"},\"type\":\"carpet\"}],\"table\":[{\"cells\":{\"fill\":{\"color\":\"#EBF0F8\"},\"line\":{\"color\":\"white\"}},\"header\":{\"fill\":{\"color\":\"#C8D4E3\"},\"line\":{\"color\":\"white\"}},\"type\":\"table\"}],\"barpolar\":[{\"marker\":{\"line\":{\"color\":\"#E5ECF6\",\"width\":0.5},\"pattern\":{\"fillmode\":\"overlay\",\"size\":10,\"solidity\":0.2}},\"type\":\"barpolar\"}],\"pie\":[{\"automargin\":true,\"type\":\"pie\"}]},\"layout\":{\"autotypenumbers\":\"strict\",\"colorway\":[\"#636efa\",\"#EF553B\",\"#00cc96\",\"#ab63fa\",\"#FFA15A\",\"#19d3f3\",\"#FF6692\",\"#B6E880\",\"#FF97FF\",\"#FECB52\"],\"font\":{\"color\":\"#2a3f5f\"},\"hovermode\":\"closest\",\"hoverlabel\":{\"align\":\"left\"},\"paper_bgcolor\":\"white\",\"plot_bgcolor\":\"#E5ECF6\",\"polar\":{\"bgcolor\":\"#E5ECF6\",\"angularaxis\":{\"gridcolor\":\"white\",\"linecolor\":\"white\",\"ticks\":\"\"},\"radialaxis\":{\"gridcolor\":\"white\",\"linecolor\":\"white\",\"ticks\":\"\"}},\"ternary\":{\"bgcolor\":\"#E5ECF6\",\"aaxis\":{\"gridcolor\":\"white\",\"linecolor\":\"white\",\"ticks\":\"\"},\"baxis\":{\"gridcolor\":\"white\",\"linecolor\":\"white\",\"ticks\":\"\"},\"caxis\":{\"gridcolor\":\"white\",\"linecolor\":\"white\",\"ticks\":\"\"}},\"coloraxis\":{\"colorbar\":{\"outlinewidth\":0,\"ticks\":\"\"}},\"colorscale\":{\"sequential\":[[0.0,\"#0d0887\"],[0.1111111111111111,\"#46039f\"],[0.2222222222222222,\"#7201a8\"],[0.3333333333333333,\"#9c179e\"],[0.4444444444444444,\"#bd3786\"],[0.5555555555555556,\"#d8576b\"],[0.6666666666666666,\"#ed7953\"],[0.7777777777777778,\"#fb9f3a\"],[0.8888888888888888,\"#fdca26\"],[1.0,\"#f0f921\"]],\"sequentialminus\":[[0.0,\"#0d0887\"],[0.1111111111111111,\"#46039f\"],[0.2222222222222222,\"#7201a8\"],[0.3333333333333333,\"#9c179e\"],[0.4444444444444444,\"#bd3786\"],[0.5555555555555556,\"#d8576b\"],[0.6666666666666666,\"#ed7953\"],[0.7777777777777778,\"#fb9f3a\"],[0.8888888888888888,\"#fdca26\"],[1.0,\"#f0f921\"]],\"diverging\":[[0,\"#8e0152\"],[0.1,\"#c51b7d\"],[0.2,\"#de77ae\"],[0.3,\"#f1b6da\"],[0.4,\"#fde0ef\"],[0.5,\"#f7f7f7\"],[0.6,\"#e6f5d0\"],[0.7,\"#b8e186\"],[0.8,\"#7fbc41\"],[0.9,\"#4d9221\"],[1,\"#276419\"]]},\"xaxis\":{\"gridcolor\":\"white\",\"linecolor\":\"white\",\"ticks\":\"\",\"title\":{\"standoff\":15},\"zerolinecolor\":\"white\",\"automargin\":true,\"zerolinewidth\":2},\"yaxis\":{\"gridcolor\":\"white\",\"linecolor\":\"white\",\"ticks\":\"\",\"title\":{\"standoff\":15},\"zerolinecolor\":\"white\",\"automargin\":true,\"zerolinewidth\":2},\"scene\":{\"xaxis\":{\"backgroundcolor\":\"#E5ECF6\",\"gridcolor\":\"white\",\"linecolor\":\"white\",\"showbackground\":true,\"ticks\":\"\",\"zerolinecolor\":\"white\",\"gridwidth\":2},\"yaxis\":{\"backgroundcolor\":\"#E5ECF6\",\"gridcolor\":\"white\",\"linecolor\":\"white\",\"showbackground\":true,\"ticks\":\"\",\"zerolinecolor\":\"white\",\"gridwidth\":2},\"zaxis\":{\"backgroundcolor\":\"#E5ECF6\",\"gridcolor\":\"white\",\"linecolor\":\"white\",\"showbackground\":true,\"ticks\":\"\",\"zerolinecolor\":\"white\",\"gridwidth\":2}},\"shapedefaults\":{\"line\":{\"color\":\"#2a3f5f\"}},\"annotationdefaults\":{\"arrowcolor\":\"#2a3f5f\",\"arrowhead\":0,\"arrowwidth\":1},\"geo\":{\"bgcolor\":\"white\",\"landcolor\":\"#E5ECF6\",\"subunitcolor\":\"white\",\"showland\":true,\"showlakes\":true,\"lakecolor\":\"white\"},\"title\":{\"x\":0.05},\"mapbox\":{\"style\":\"light\"}}},\"xaxis\":{\"anchor\":\"y\",\"domain\":[0.0,1.0],\"title\":{\"text\":\"NUM_IDADE_MORADOR\"}},\"yaxis\":{\"anchor\":\"x\",\"domain\":[0.0,1.0],\"title\":{\"text\":\"value\"}},\"legend\":{\"title\":{\"text\":\"DSC_SEXO\"},\"tracegroupgap\":0},\"title\":{\"text\":\"Sintomas por Idade e Sexo\"}},                        {\"responsive\": true}                    ).then(function(){\n",
              "                            \n",
              "var gd = document.getElementById('c8baef33-8881-4474-b936-7251a5f8d459');\n",
              "var x = new MutationObserver(function (mutations, observer) {{\n",
              "        var display = window.getComputedStyle(gd).display;\n",
              "        if (!display || display === 'none') {{\n",
              "            console.log([gd, 'removed!']);\n",
              "            Plotly.purge(gd);\n",
              "            observer.disconnect();\n",
              "        }}\n",
              "}});\n",
              "\n",
              "// Listen for the removal of the full notebook cells\n",
              "var notebookContainer = gd.closest('#notebook-container');\n",
              "if (notebookContainer) {{\n",
              "    x.observe(notebookContainer, {childList: true});\n",
              "}}\n",
              "\n",
              "// Listen for the clearing of the current output cell\n",
              "var outputEl = gd.closest('.output');\n",
              "if (outputEl) {{\n",
              "    x.observe(outputEl, {childList: true});\n",
              "}}\n",
              "\n",
              "                        })                };                            </script>        </div>\n",
              "</body>\n",
              "</html>"
            ]
          },
          "metadata": {}
        }
      ]
    },
    {
      "cell_type": "markdown",
      "source": [
        "### Comportamento da População\n",
        "\n",
        "Insights a serem explorados:\n",
        "\n",
        "- Análise do trabalho presencial (DSC_TELETRABALHO) por idade, sexo e UF:\n",
        "- Identificar quais grupos precisaram sair mais de casa.\n",
        "- Analisar a busca por atendimento médico (DSC_FOI_ESTABELECIMENTO_SAUDE):\n",
        "- Avaliar regiões com menor acesso ao atendimento e correlação com infraestrutura (UF).\n",
        "- Contatos com outras pessoas:\n",
        "- Analisar comportamento da população em relação ao isolamento (DSC_CONTATO_COM_OUTRAS_PESSOAS)."
      ],
      "metadata": {
        "id": "3ldiBKbomA1c"
      }
    },
    {
      "cell_type": "markdown",
      "source": [
        "**Trabalho presencial por idade, sexo e UF**"
      ],
      "metadata": {
        "id": "GOyWKa1Kmc0A"
      }
    },
    {
      "cell_type": "code",
      "source": [
        "spark.sql(\"\"\"\n",
        "SELECT\n",
        "    UF,\n",
        "    NUM_IDADE_MORADOR,\n",
        "    DSC_SEXO,\n",
        "    COUNT(*) AS quantidade_trabalhadores\n",
        "FROM tabela_microdados\n",
        "WHERE DSC_TELETRABALHO = 'Não'\n",
        "GROUP BY UF, NUM_IDADE_MORADOR, DSC_SEXO\n",
        "ORDER BY quantidade_trabalhadores DESC;\n",
        "\"\"\").show()"
      ],
      "metadata": {
        "colab": {
          "base_uri": "https://localhost:8080/"
        },
        "id": "zgtoIIp-mYBQ",
        "outputId": "01a6448c-0f54-490c-c44c-0e4b0f41686d"
      },
      "execution_count": 44,
      "outputs": [
        {
          "output_type": "stream",
          "name": "stdout",
          "text": [
            "+--------------+-----------------+--------+------------------------+\n",
            "|            UF|NUM_IDADE_MORADOR|DSC_SEXO|quantidade_trabalhadores|\n",
            "+--------------+-----------------+--------+------------------------+\n",
            "|      Maranhão|               38|   Homem|                      49|\n",
            "|      Maranhão|               39|   Homem|                      40|\n",
            "|      Maranhão|               31|   Homem|                      39|\n",
            "|  Minas Gerais|               48|   Homem|                      38|\n",
            "|      Maranhão|               37|   Homem|                      36|\n",
            "|    Pernambuco|               42|   Homem|                      36|\n",
            "|      Maranhão|               32|   Homem|                      35|\n",
            "|      Maranhão|               23|   Homem|                      33|\n",
            "|      Maranhão|               33|   Homem|                      33|\n",
            "|  Minas Gerais|               41|   Homem|                      32|\n",
            "|  Minas Gerais|               46|   Homem|                      32|\n",
            "|  Minas Gerais|               37|   Homem|                      31|\n",
            "|  Minas Gerais|               50|   Homem|                      31|\n",
            "|      Maranhão|               40|   Homem|                      30|\n",
            "|Rio de Janeiro|               45|   Homem|                      30|\n",
            "|  Minas Gerais|               31|   Homem|                      28|\n",
            "|     São Paulo|               40|   Homem|                      28|\n",
            "|      Maranhão|               41|   Homem|                      28|\n",
            "|    Pernambuco|               27|   Homem|                      28|\n",
            "|Rio de Janeiro|               57|   Homem|                      28|\n",
            "+--------------+-----------------+--------+------------------------+\n",
            "only showing top 20 rows\n",
            "\n"
          ]
        }
      ]
    },
    {
      "cell_type": "code",
      "source": [
        "trabalho_df = spark.sql(\"\"\"\n",
        "SELECT\n",
        "    UF,\n",
        "    NUM_IDADE_MORADOR,\n",
        "    DSC_SEXO,\n",
        "    COUNT(*) AS quantidade_trabalhadores\n",
        "FROM tabela_microdados\n",
        "WHERE DSC_TELETRABALHO = 'Não'\n",
        "GROUP BY UF, NUM_IDADE_MORADOR, DSC_SEXO\n",
        "ORDER BY quantidade_trabalhadores DESC;\n",
        "\"\"\").toPandas()\n",
        "\n",
        "trabalho_df['FAIXA_ETARIA'] = pd.cut(trabalho_df['NUM_IDADE_MORADOR'], bins=[0, 17, 35, 60, 100], labels=['0-17', '18-35', '36-60', '60+'])\n",
        "\n",
        "fig = px.bar(trabalho_df, x=\"UF\", y=\"quantidade_trabalhadores\", color=\"DSC_SEXO\",\n",
        "             facet_col=\"FAIXA_ETARIA\", title=\"Trabalho Presencial por UF, Sexo e Faixa Etária\")\n",
        "\n",
        "fig.update_layout(\n",
        "    xaxis={'tickangle': 90},\n",
        "    yaxis_title=\"Quantidade de Trabalhadores\",\n",
        "    legend_title=\"Sexo\",\n",
        "    barmode='stack'\n",
        ")\n",
        "\n",
        "for annotation in fig['layout']['annotations']:\n",
        "    if annotation['text'].startswith('FAIXA_ETARIA='):\n",
        "        annotation['text'] = annotation['text'].split(\"=\")[-1]\n",
        "\n",
        "fig.update_layout(margin=dict(l=50, r=50, t=80, b=50))\n",
        "\n",
        "fig.show()"
      ],
      "metadata": {
        "colab": {
          "base_uri": "https://localhost:8080/",
          "height": 542
        },
        "id": "WxeKJztYmjvM",
        "outputId": "0ed01505-6ded-462e-d08e-7efcfe60e4b8"
      },
      "execution_count": 55,
      "outputs": [
        {
          "output_type": "display_data",
          "data": {
            "text/html": [
              "<html>\n",
              "<head><meta charset=\"utf-8\" /></head>\n",
              "<body>\n",
              "    <div>            <script src=\"https://cdnjs.cloudflare.com/ajax/libs/mathjax/2.7.5/MathJax.js?config=TeX-AMS-MML_SVG\"></script><script type=\"text/javascript\">if (window.MathJax && window.MathJax.Hub && window.MathJax.Hub.Config) {window.MathJax.Hub.Config({SVG: {font: \"STIX-Web\"}});}</script>                <script type=\"text/javascript\">window.PlotlyConfig = {MathJaxConfig: 'local'};</script>\n",
              "        <script charset=\"utf-8\" src=\"https://cdn.plot.ly/plotly-2.35.2.min.js\"></script>                <div id=\"ef155c2f-2d81-4c37-a7be-2a4b37ad337a\" class=\"plotly-graph-div\" style=\"height:525px; width:100%;\"></div>            <script type=\"text/javascript\">                                    window.PLOTLYENV=window.PLOTLYENV || {};                                    if (document.getElementById(\"ef155c2f-2d81-4c37-a7be-2a4b37ad337a\")) {                    Plotly.newPlot(                        \"ef155c2f-2d81-4c37-a7be-2a4b37ad337a\",                        [{\"alignmentgroup\":\"True\",\"hovertemplate\":\"DSC_SEXO=Homem\\u003cbr\\u003eFAIXA_ETARIA=36-60\\u003cbr\\u003eUF=%{x}\\u003cbr\\u003equantidade_trabalhadores=%{y}\\u003cextra\\u003e\\u003c\\u002fextra\\u003e\",\"legendgroup\":\"Homem\",\"marker\":{\"color\":\"#636efa\",\"pattern\":{\"shape\":\"\"}},\"name\":\"Homem\",\"offsetgroup\":\"Homem\",\"orientation\":\"v\",\"showlegend\":true,\"textposition\":\"auto\",\"x\":[\"Maranhão\",\"Maranhão\",\"Minas Gerais\",\"Maranhão\",\"Pernambuco\",\"Minas Gerais\",\"Minas Gerais\",\"Minas Gerais\",\"Minas Gerais\",\"Maranhão\",\"Rio de Janeiro\",\"Maranhão\",\"Maranhão\",\"Maranhão\",\"Rio de Janeiro\",\"São Paulo\",\"Rio de Janeiro\",\"São Paulo\",\"São Paulo\",\"Goiás\",\"Minas Gerais\",\"Bahia\",\"Pernambuco\",\"Maranhão\",\"Rio de Janeiro\",\"Rio de Janeiro\",\"Minas Gerais\",\"Minas Gerais\",\"Bahia\",\"Pará\",\"Maranhão\",\"São Paulo\",\"Rio de Janeiro\",\"Espírito Santo\",\"São Paulo\",\"Santa Catarina\",\"Minas Gerais\",\"Pará\",\"Alagoas\",\"Pará\",\"Pará\",\"Minas Gerais\",\"Pernambuco\",\"Pará\",\"São Paulo\",\"Santa Catarina\",\"Rio de Janeiro\",\"Santa Catarina\",\"Mato Grosso\",\"Mato Grosso\",\"Santa Catarina\",\"Minas Gerais\",\"Bahia\",\"Maranhão\",\"Espírito Santo\",\"Pará\",\"São Paulo\",\"Santa Catarina\",\"Rio de Janeiro\",\"Santa Catarina\",\"São Paulo\",\"Rio Grande do Sul\",\"Rio Grande do Sul\",\"Amazonas\",\"Minas Gerais\",\"Alagoas\",\"São Paulo\",\"Rio de Janeiro\",\"São Paulo\",\"Espírito Santo\",\"São Paulo\",\"Espírito Santo\",\"Rio de Janeiro\",\"São Paulo\",\"São Paulo\",\"Minas Gerais\",\"Maranhão\",\"Bahia\",\"Pará\",\"Mato Grosso\",\"Espírito Santo\",\"Rio de Janeiro\",\"São Paulo\",\"Santa Catarina\",\"Rio Grande do Sul\",\"Mato Grosso\",\"Rio de Janeiro\",\"Espírito Santo\",\"Acre\",\"Pernambuco\",\"Bahia\",\"Minas Gerais\",\"Bahia\",\"Maranhão\",\"Pará\",\"Alagoas\",\"Minas Gerais\",\"Pernambuco\",\"Bahia\",\"Rio Grande do Sul\",\"São Paulo\",\"Mato Grosso\",\"Rio Grande do Sul\",\"São Paulo\",\"Paraná\",\"São Paulo\",\"Acre\",\"Minas Gerais\",\"Maranhão\",\"Pernambuco\",\"Minas Gerais\",\"Minas Gerais\",\"Bahia\",\"Pernambuco\",\"Pernambuco\",\"Bahia\",\"Bahia\",\"Rio Grande do Sul\",\"Rio de Janeiro\",\"Espírito Santo\",\"São Paulo\",\"Santa Catarina\",\"Rio de Janeiro\",\"Rio de Janeiro\",\"Alagoas\",\"Maranhão\",\"Alagoas\",\"Pernambuco\",\"Amazonas\",\"Alagoas\",\"Pará\",\"Amazonas\",\"Acre\",\"Pernambuco\",\"São Paulo\",\"Santa Catarina\",\"Mato Grosso\",\"São Paulo\",\"Santa Catarina\",\"Rio de Janeiro\",\"Rio Grande do Sul\",\"Paraná\",\"Acre\",\"Pará\",\"Ceará\",\"Tocantins\",\"Pará\",\"Maranhão\",\"Bahia\",\"Ceará\",\"Bahia\",\"Santa Catarina\",\"Mato Grosso\",\"Rio Grande do Sul\",\"Goiás\",\"Rio Grande do Sul\",\"Santa Catarina\",\"Espírito Santo\",\"São Paulo\",\"Santa Catarina\",\"Goiás\",\"Espírito Santo\",\"Bahia\",\"Amazonas\",\"Maranhão\",\"Rio Grande do Norte\",\"Maranhão\",\"Pernambuco\",\"Maranhão\",\"Ceará\",\"Rio de Janeiro\",\"Mato Grosso\",\"Mato Grosso\",\"Paraná\",\"São Paulo\",\"Santa Catarina\",\"Santa Catarina\",\"Mato Grosso\",\"Goiás\",\"Paraná\",\"Espírito Santo\",\"Espírito Santo\",\"Distrito Federal\",\"Goiás\",\"Pará\",\"Alagoas\",\"Pará\",\"Minas Gerais\",\"Pernambuco\",\"Minas Gerais\",\"Piauí\",\"Pará\",\"Maranhão\",\"Rondônia\",\"Pernambuco\",\"Ceará\",\"Pernambuco\",\"Rio Grande do Norte\",\"Minas Gerais\",\"São Paulo\",\"Rio de Janeiro\",\"Mato Grosso\",\"Rio Grande do Sul\",\"Rio Grande do Sul\",\"Rio de Janeiro\",\"Rio Grande do Sul\",\"Santa Catarina\",\"Rio Grande do Sul\",\"Paraná\",\"Paraná\",\"Santa Catarina\",\"Mato Grosso\",\"Rio Grande do Sul\",\"Goiás\",\"Rio Grande do Sul\",\"Goiás\",\"Paraná\",\"Goiás\",\"Rio de Janeiro\",\"Paraná\",\"Santa Catarina\",\"São Paulo\",\"Rio de Janeiro\",\"Mato Grosso\",\"Espírito Santo\",\"Bahia\",\"Rondônia\",\"Bahia\",\"Piauí\",\"Tocantins\",\"Pará\",\"Ceará\",\"Espírito Santo\",\"Paraíba\",\"Pará\",\"Maranhão\",\"Ceará\",\"Tocantins\",\"Alagoas\",\"Pará\",\"Amazonas\",\"Pernambuco\",\"Espírito Santo\",\"Piauí\",\"Minas Gerais\",\"Ceará\",\"Amazonas\",\"Maranhão\",\"Maranhão\",\"Goiás\",\"Goiás\",\"Mato Grosso\",\"Espírito Santo\",\"Paraná\",\"Mato Grosso\",\"Santa Catarina\",\"Paraná\",\"Mato Grosso\",\"Goiás\",\"Espírito Santo\",\"Espírito Santo\",\"Minas Gerais\",\"Amazonas\",\"Ceará\",\"Paraíba\",\"Amazonas\",\"Bahia\",\"Ceará\",\"Ceará\",\"Minas Gerais\",\"Ceará\",\"Minas Gerais\",\"Alagoas\",\"Bahia\",\"Piauí\",\"Pernambuco\",\"Amazonas\",\"Paraná\",\"Mato Grosso\",\"Paraná\",\"Santa Catarina\",\"Goiás\",\"Rio de Janeiro\",\"Santa Catarina\",\"Rio de Janeiro\",\"Goiás\",\"Espírito Santo\",\"Santa Catarina\",\"Rio Grande do Sul\",\"Alagoas\",\"Acre\",\"Bahia\",\"Bahia\",\"Pará\",\"Alagoas\",\"Acre\",\"Santa Catarina\",\"Goiás\",\"Goiás\",\"Espírito Santo\",\"Mato Grosso\",\"Santa Catarina\",\"Espírito Santo\",\"Paraná\",\"Paraná\",\"Ceará\",\"Paraíba\",\"Pernambuco\",\"Maranhão\",\"Paraíba\",\"Ceará\",\"Acre\",\"Tocantins\",\"Acre\",\"Pernambuco\",\"Amazonas\",\"Amazonas\",\"Pernambuco\",\"Pernambuco\",\"Maranhão\",\"Paraíba\",\"Acre\",\"Pará\",\"Paraíba\",\"Santa Catarina\",\"Mato Grosso\",\"Goiás\",\"Espírito Santo\",\"São Paulo\",\"Paraná\",\"Rio de Janeiro\",\"Mato Grosso\",\"Rio Grande do Sul\",\"Maranhão\",\"Pará\",\"Bahia\",\"Alagoas\",\"Paraíba\",\"Ceará\",\"Amapá\",\"Tocantins\",\"Tocantins\",\"Rio Grande do Norte\",\"Rondônia\",\"Tocantins\",\"Sergipe\",\"Pernambuco\",\"Pernambuco\",\"Distrito Federal\",\"Goiás\",\"Goiás\",\"Espírito Santo\",\"Espírito Santo\",\"Goiás\",\"Paraná\",\"Espírito Santo\",\"Pernambuco\",\"Paraíba\",\"Paraíba\",\"Rio Grande do Norte\",\"Tocantins\",\"Amazonas\",\"Paraíba\",\"Alagoas\",\"Bahia\",\"Alagoas\",\"Ceará\",\"Rondônia\",\"Paraíba\",\"Tocantins\",\"Rio Grande do Norte\",\"Amazonas\",\"Roraima\",\"Amazonas\",\"Ceará\",\"Amazonas\",\"Tocantins\",\"Amapá\",\"Goiás\",\"Goiás\",\"Paraná\",\"Mato Grosso do Sul\",\"Paraná\",\"Goiás\",\"Rio Grande do Sul\",\"Rio Grande do Sul\",\"Sergipe\",\"Pará\",\"Ceará\",\"Ceará\",\"Sergipe\",\"Roraima\",\"Sergipe\",\"Paraíba\",\"Paraíba\",\"Rio Grande do Norte\",\"Rondônia\",\"Acre\",\"Roraima\",\"Acre\",\"Paraíba\",\"Piauí\",\"Roraima\",\"Amazonas\",\"Rio Grande do Norte\",\"Tocantins\",\"Alagoas\",\"Pará\",\"Amapá\",\"Ceará\",\"Acre\",\"Alagoas\",\"Rio Grande do Norte\",\"Rio Grande do Norte\",\"Ceará\",\"Rio Grande do Norte\",\"Paraíba\",\"Roraima\",\"Amazonas\",\"Paraíba\",\"Amazonas\",\"Pará\",\"Pará\",\"Mato Grosso\",\"Mato Grosso do Sul\",\"Mato Grosso do Sul\",\"Paraná\",\"Paraná\",\"Mato Grosso do Sul\",\"Rio Grande do Sul\",\"Mato Grosso\",\"Paraíba\",\"Piauí\",\"Sergipe\",\"Roraima\",\"Ceará\",\"Piauí\",\"Rio Grande do Norte\",\"Amapá\",\"Amapá\",\"Piauí\",\"Rio Grande do Norte\",\"Rio Grande do Norte\",\"Paraíba\",\"Tocantins\",\"Amapá\",\"Piauí\",\"Rondônia\",\"Piauí\",\"Piauí\",\"Roraima\",\"Rondônia\",\"Rio Grande do Norte\",\"Tocantins\",\"Pernambuco\",\"Rio Grande do Norte\",\"Alagoas\",\"Piauí\",\"Bahia\",\"Amazonas\",\"Amapá\",\"Amapá\",\"Acre\",\"Amapá\",\"Paraíba\",\"Rondônia\",\"Tocantins\",\"Ceará\",\"Tocantins\",\"Sergipe\",\"Paraíba\",\"Piauí\",\"Paraná\",\"Rio Grande do Sul\",\"Distrito Federal\",\"Rio Grande do Sul\",\"Mato Grosso\",\"Mato Grosso do Sul\",\"Roraima\",\"Rio Grande do Norte\",\"Tocantins\",\"Alagoas\",\"Sergipe\",\"Ceará\",\"Alagoas\",\"Goiás\",\"Alagoas\",\"Tocantins\",\"Pará\",\"Acre\",\"Sergipe\",\"Sergipe\",\"Sergipe\",\"Rio Grande do Norte\",\"Roraima\",\"Acre\",\"Sergipe\",\"Amazonas\",\"Acre\",\"Rondônia\",\"Alagoas\",\"Sergipe\",\"Acre\",\"Amapá\",\"Roraima\",\"Sergipe\",\"Goiás\",\"Rio Grande do Sul\",\"Mato Grosso do Sul\",\"Mato Grosso do Sul\",\"Espírito Santo\",\"Paraná\",\"Rio Grande do Sul\",\"Rio de Janeiro\",\"Distrito Federal\",\"Rondônia\",\"Amazonas\",\"Bahia\",\"Piauí\",\"Paraíba\",\"Distrito Federal\",\"Rio Grande do Sul\",\"Amapá\",\"Sergipe\",\"Piauí\",\"Rondônia\",\"Acre\",\"Piauí\",\"Paraíba\",\"Alagoas\",\"Amazonas\",\"Bahia\",\"Tocantins\",\"Ceará\",\"Amazonas\",\"Rondônia\",\"Ceará\",\"Amapá\",\"Alagoas\",\"Sergipe\",\"Tocantins\",\"Rio Grande do Norte\",\"Alagoas\",\"Sergipe\",\"Tocantins\",\"Amapá\",\"Roraima\",\"Roraima\",\"Acre\",\"Rio Grande do Norte\",\"Rio Grande do Norte\",\"Sergipe\",\"Rio Grande do Norte\",\"Mato Grosso do Sul\",\"Mato Grosso do Sul\",\"Mato Grosso do Sul\",\"Goiás\",\"Mato Grosso do Sul\",\"Mato Grosso do Sul\",\"Distrito Federal\",\"Mato Grosso do Sul\",\"Mato Grosso\",\"Distrito Federal\",\"Paraná\",\"Mato Grosso do Sul\",\"Paraná\",\"Bahia\",\"Tocantins\",\"Piauí\",\"Acre\",\"Sergipe\",\"Amapá\",\"Amapá\",\"Tocantins\",\"Alagoas\",\"Rondônia\",\"Piauí\",\"Rondônia\",\"Roraima\",\"Amapá\",\"Acre\",\"Tocantins\",\"Paraíba\",\"Tocantins\",\"Pernambuco\",\"Sergipe\",\"Rondônia\",\"Rio Grande do Norte\",\"Acre\",\"Mato Grosso do Sul\",\"Distrito Federal\",\"Mato Grosso do Sul\",\"Roraima\",\"Sergipe\",\"Rondônia\",\"Sergipe\",\"Roraima\",\"Piauí\",\"Amapá\",\"Sergipe\",\"Acre\",\"Amapá\",\"Roraima\",\"Roraima\",\"Rondônia\",\"Sergipe\",\"Amazonas\",\"Distrito Federal\",\"Distrito Federal\",\"Acre\",\"Mato Grosso\",\"Rondônia\",\"Piauí\",\"Amapá\",\"Amazonas\",\"Acre\",\"Roraima\",\"Rondônia\",\"Piauí\",\"Roraima\",\"Mato Grosso do Sul\",\"Distrito Federal\",\"Distrito Federal\",\"Mato Grosso do Sul\",\"Rondônia\",\"Rondônia\",\"Mato Grosso do Sul\",\"Mato Grosso do Sul\",\"Distrito Federal\",\"Distrito Federal\",\"Distrito Federal\",\"Distrito Federal\",\"Mato Grosso do Sul\",\"Rio Grande do Norte\",\"Amapá\",\"Rondônia\",\"Paraíba\",\"Rio Grande do Norte\",\"Rio Grande do Norte\",\"Rondônia\",\"Paraíba\",\"Roraima\",\"Sergipe\",\"Roraima\",\"Amapá\",\"Distrito Federal\"],\"xaxis\":\"x\",\"y\":[49,40,38,36,36,32,32,31,31,30,30,28,28,28,28,28,27,26,26,26,25,25,25,25,25,25,24,24,23,23,23,23,23,23,23,23,22,22,22,22,22,22,22,22,22,22,22,22,22,22,22,21,21,21,21,21,21,21,21,21,21,21,21,20,20,20,20,20,20,20,20,20,20,20,20,19,19,19,19,19,19,19,19,19,19,19,19,19,18,18,18,18,18,18,18,18,18,18,18,18,18,18,18,18,18,18,17,17,17,17,17,17,17,17,17,17,17,17,17,17,17,17,17,17,16,16,16,16,16,16,16,16,16,16,16,16,16,16,16,16,16,16,15,15,15,15,15,15,15,15,15,15,15,15,15,15,15,15,15,15,15,15,14,14,14,14,14,14,14,14,14,14,14,14,14,14,14,14,14,14,14,14,14,14,13,13,13,13,13,13,13,13,13,13,13,13,13,13,13,13,13,13,13,13,13,13,13,13,13,13,13,13,13,13,13,13,13,13,13,13,13,13,13,13,13,12,12,12,12,12,12,12,12,12,12,12,12,12,12,12,12,12,12,12,12,12,12,12,12,12,12,12,12,12,12,12,12,12,12,12,11,11,11,11,11,11,11,11,11,11,11,11,11,11,11,11,11,11,11,11,11,11,11,11,11,11,11,11,11,10,10,10,10,10,10,10,10,10,10,10,10,10,10,10,10,10,9,9,9,9,9,9,9,9,9,9,9,9,9,9,9,9,9,9,9,9,9,9,9,9,9,9,9,9,8,8,8,8,8,8,8,8,8,8,8,8,8,8,8,8,8,8,8,8,8,8,7,7,7,7,7,7,7,7,7,7,7,7,7,7,7,7,7,7,7,7,7,7,7,7,7,7,7,7,7,7,7,7,7,6,6,6,6,6,6,6,6,6,6,6,6,6,6,6,6,6,6,6,6,6,6,6,6,6,6,6,6,6,6,6,6,6,6,6,6,6,6,6,6,6,6,6,6,6,6,5,5,5,5,5,5,5,5,5,5,5,5,5,5,5,5,5,5,5,5,5,5,5,5,5,5,5,5,5,5,5,5,5,5,5,5,5,5,5,5,5,5,5,5,5,5,5,5,5,5,5,4,4,4,4,4,4,4,4,4,4,4,4,4,4,4,4,4,4,4,4,4,4,4,4,4,4,4,4,4,4,4,4,4,4,4,4,3,3,3,3,3,3,3,3,3,3,3,3,3,3,3,3,3,3,3,3,3,3,3,3,3,3,3,3,3,3,3,3,3,3,3,3,3,3,3,3,3,3,3,3,3,3,3,3,3,3,3,3,3,3,2,2,2,2,2,2,2,2,2,2,2,2,2,2,2,2,2,2,2,2,2,2,2,2,2,2,2,2,2,2,2,2,2,2,2,1,1,1,1,1,1,1,1,1,1,1,1,1,1,1,1,1,1,1,1,1,1,1,1,1,1,1,1,1,1,1,1,1,1,1],\"yaxis\":\"y\",\"type\":\"bar\"},{\"alignmentgroup\":\"True\",\"hovertemplate\":\"DSC_SEXO=Homem\\u003cbr\\u003eFAIXA_ETARIA=18-35\\u003cbr\\u003eUF=%{x}\\u003cbr\\u003equantidade_trabalhadores=%{y}\\u003cextra\\u003e\\u003c\\u002fextra\\u003e\",\"legendgroup\":\"Homem\",\"marker\":{\"color\":\"#636efa\",\"pattern\":{\"shape\":\"\"}},\"name\":\"Homem\",\"offsetgroup\":\"Homem\",\"orientation\":\"v\",\"showlegend\":false,\"textposition\":\"auto\",\"x\":[\"Maranhão\",\"Maranhão\",\"Maranhão\",\"Maranhão\",\"Pernambuco\",\"Pernambuco\",\"Minas Gerais\",\"Bahia\",\"Maranhão\",\"Santa Catarina\",\"Maranhão\",\"Minas Gerais\",\"Maranhão\",\"Maranhão\",\"São Paulo\",\"Bahia\",\"Rio de Janeiro\",\"Pernambuco\",\"Mato Grosso\",\"Bahia\",\"Minas Gerais\",\"Maranhão\",\"Santa Catarina\",\"Rio de Janeiro\",\"Pará\",\"Minas Gerais\",\"Bahia\",\"Maranhão\",\"Santa Catarina\",\"Pará\",\"Pará\",\"Bahia\",\"Maranhão\",\"Paraná\",\"Espírito Santo\",\"Santa Catarina\",\"Santa Catarina\",\"Rio de Janeiro\",\"Espírito Santo\",\"Minas Gerais\",\"Bahia\",\"Minas Gerais\",\"Minas Gerais\",\"Mato Grosso\",\"São Paulo\",\"Pará\",\"Bahia\",\"Rio Grande do Norte\",\"Minas Gerais\",\"Minas Gerais\",\"Maranhão\",\"Mato Grosso\",\"São Paulo\",\"São Paulo\",\"São Paulo\",\"Alagoas\",\"Acre\",\"Bahia\",\"Pernambuco\",\"Espírito Santo\",\"Minas Gerais\",\"Goiás\",\"Rio Grande do Sul\",\"São Paulo\",\"São Paulo\",\"Espírito Santo\",\"São Paulo\",\"Minas Gerais\",\"Bahia\",\"Pernambuco\",\"Maranhão\",\"Pernambuco\",\"Pará\",\"Rio Grande do Norte\",\"Rio Grande do Sul\",\"Santa Catarina\",\"Mato Grosso\",\"São Paulo\",\"Maranhão\",\"Ceará\",\"Pará\",\"Maranhão\",\"Pernambuco\",\"Amazonas\",\"São Paulo\",\"Rio de Janeiro\",\"Santa Catarina\",\"Rio de Janeiro\",\"Minas Gerais\",\"Pará\",\"Pernambuco\",\"Ceará\",\"Amazonas\",\"Ceará\",\"Maranhão\",\"Espírito Santo\",\"Paraná\",\"Santa Catarina\",\"Santa Catarina\",\"Goiás\",\"Santa Catarina\",\"Paraná\",\"Santa Catarina\",\"Goiás\",\"Santa Catarina\",\"Pernambuco\",\"Pará\",\"Ceará\",\"Amazonas\",\"Minas Gerais\",\"Bahia\",\"Paraíba\",\"Alagoas\",\"Bahia\",\"Alagoas\",\"São Paulo\",\"Rio de Janeiro\",\"Mato Grosso\",\"Santa Catarina\",\"Mato Grosso\",\"Paraná\",\"Espírito Santo\",\"Mato Grosso\",\"Rio Grande do Sul\",\"Rondônia\",\"Amazonas\",\"Pará\",\"Bahia\",\"Amazonas\",\"Alagoas\",\"Mato Grosso\",\"Goiás\",\"Goiás\",\"Minas Gerais\",\"Pará\",\"Alagoas\",\"Amazonas\",\"Amapá\",\"Ceará\",\"Amazonas\",\"Alagoas\",\"Pará\",\"Rio Grande do Norte\",\"Acre\",\"Maranhão\",\"Pará\",\"Tocantins\",\"Alagoas\",\"Amazonas\",\"Ceará\",\"Amazonas\",\"São Paulo\",\"Santa Catarina\",\"Espírito Santo\",\"Rio de Janeiro\",\"Goiás\",\"Rio de Janeiro\",\"Rio de Janeiro\",\"Santa Catarina\",\"Espírito Santo\",\"Minas Gerais\",\"Amazonas\",\"Paraíba\",\"Acre\",\"Alagoas\",\"Tocantins\",\"Maranhão\",\"Acre\",\"Paraíba\",\"Bahia\",\"Pernambuco\",\"Paraíba\",\"Pernambuco\",\"Paraíba\",\"Goiás\",\"Mato Grosso\",\"São Paulo\",\"Paraná\",\"Goiás\",\"Paraná\",\"Goiás\",\"São Paulo\",\"Distrito Federal\",\"Acre\",\"Minas Gerais\",\"Alagoas\",\"Minas Gerais\",\"Pernambuco\",\"Roraima\",\"Piauí\",\"Pará\",\"Bahia\",\"Piauí\",\"Paraíba\",\"Pará\",\"Espírito Santo\",\"Rio Grande do Norte\",\"Rio Grande do Norte\",\"Sergipe\",\"Santa Catarina\",\"Paraná\",\"Espírito Santo\",\"Rio Grande do Sul\",\"Rio Grande do Sul\",\"Rio de Janeiro\",\"Paraná\",\"São Paulo\",\"Rio Grande do Sul\",\"Rio Grande do Sul\",\"Bahia\",\"Paraná\",\"Pernambuco\",\"Alagoas\",\"Tocantins\",\"Pará\",\"Roraima\",\"Paraíba\",\"Minas Gerais\",\"Rondônia\",\"Rondônia\",\"Bahia\",\"Amazonas\",\"Pernambuco\",\"Pernambuco\",\"Piauí\",\"Ceará\",\"Roraima\",\"Alagoas\",\"Rio Grande do Norte\",\"Amapá\",\"Acre\",\"São Paulo\",\"Rio Grande do Sul\",\"Goiás\",\"Distrito Federal\",\"Espírito Santo\",\"Espírito Santo\",\"Distrito Federal\",\"Mato Grosso do Sul\",\"Sergipe\",\"Paraíba\",\"Paraíba\",\"Acre\",\"Acre\",\"Sergipe\",\"Tocantins\",\"Roraima\",\"Alagoas\",\"Pará\",\"Ceará\",\"Paraíba\",\"Amapá\",\"Acre\",\"Piauí\",\"Amapá\",\"Amazonas\",\"Paraíba\",\"Pará\",\"Paraíba\",\"Paraná\",\"Rio de Janeiro\",\"Espírito Santo\",\"Paraná\",\"Rio Grande do Sul\",\"Rio Grande do Sul\",\"Rio Grande do Sul\",\"Mato Grosso\",\"Rio de Janeiro\",\"Goiás\",\"Espírito Santo\",\"Rio de Janeiro\",\"Goiás\",\"Espírito Santo\",\"Rio Grande do Sul\",\"Paraná\",\"Paraná\",\"Tocantins\",\"Pará\",\"Ceará\",\"Roraima\",\"Amapá\",\"Paraíba\",\"Tocantins\",\"Sergipe\",\"Tocantins\",\"Ceará\",\"Piauí\",\"Amapá\",\"Acre\",\"Paraíba\",\"Ceará\",\"Tocantins\",\"Pernambuco\",\"Rio Grande do Norte\",\"Ceará\",\"Rondônia\",\"Amapá\",\"Pernambuco\",\"Tocantins\",\"São Paulo\",\"Santa Catarina\",\"Mato Grosso do Sul\",\"Paraná\",\"Mato Grosso\",\"Rio de Janeiro\",\"Mato Grosso do Sul\",\"Paraná\",\"Rio de Janeiro\",\"Rio de Janeiro\",\"Mato Grosso\",\"Goiás\",\"Distrito Federal\",\"Mato Grosso\",\"Piauí\",\"Rondônia\",\"Ceará\",\"Roraima\",\"Ceará\",\"Tocantins\",\"Amapá\",\"Piauí\",\"Amapá\",\"Rondônia\",\"Ceará\",\"Tocantins\",\"Sergipe\",\"Pernambuco\",\"Sergipe\",\"Rondônia\",\"Acre\",\"Bahia\",\"Amapá\",\"Amazonas\",\"Rio Grande do Norte\",\"Piauí\",\"Acre\",\"Rio Grande do Norte\",\"Rio Grande do Sul\",\"Mato Grosso\",\"Goiás\",\"Goiás\",\"Goiás\",\"Espírito Santo\",\"Rio Grande do Sul\",\"Santa Catarina\",\"Mato Grosso do Sul\",\"Rio Grande do Sul\",\"Tocantins\",\"Rondônia\",\"Sergipe\",\"Rondônia\",\"Acre\",\"Piauí\",\"Rio Grande do Norte\",\"Sergipe\",\"Acre\",\"Alagoas\",\"Tocantins\",\"Bahia\",\"Roraima\",\"Alagoas\",\"Sergipe\",\"Roraima\",\"Alagoas\",\"Acre\",\"Tocantins\",\"Amazonas\",\"Roraima\",\"Acre\",\"Rio Grande do Norte\",\"Roraima\",\"Acre\",\"Amapá\",\"Amazonas\",\"Rio Grande do Norte\",\"Rondônia\",\"Tocantins\",\"Distrito Federal\",\"Rio Grande do Sul\",\"Mato Grosso do Sul\",\"Rio Grande do Sul\",\"Mato Grosso do Sul\",\"Distrito Federal\",\"São Paulo\",\"Mato Grosso\",\"Rio de Janeiro\",\"Mato Grosso do Sul\",\"Rio de Janeiro\",\"Mato Grosso\",\"Paraíba\",\"Sergipe\",\"Rondônia\",\"Amapá\",\"Alagoas\",\"Paraíba\",\"Sergipe\",\"Rio Grande do Sul\",\"Mato Grosso\",\"Paraná\",\"Distrito Federal\",\"Rondônia\",\"Amapá\",\"Piauí\",\"Amazonas\",\"Roraima\",\"Piauí\",\"Amapá\",\"Sergipe\",\"Roraima\",\"Piauí\",\"Piauí\",\"Rondônia\",\"Alagoas\",\"Amapá\",\"Piauí\",\"Roraima\",\"Alagoas\",\"Distrito Federal\",\"Distrito Federal\",\"Goiás\",\"Mato Grosso do Sul\",\"Espírito Santo\",\"Rio Grande do Norte\",\"Paraíba\",\"Rondônia\",\"Rio Grande do Norte\",\"Roraima\",\"Tocantins\",\"Mato Grosso\",\"Paraná\",\"Mato Grosso do Sul\",\"Mato Grosso do Sul\",\"Ceará\",\"Rondônia\",\"Tocantins\",\"Rondônia\",\"Roraima\",\"Sergipe\",\"Piauí\",\"Rio Grande do Norte\",\"Amapá\",\"Piauí\",\"Piauí\",\"Piauí\",\"Roraima\",\"Mato Grosso do Sul\",\"Distrito Federal\",\"Mato Grosso do Sul\",\"Mato Grosso do Sul\",\"Amapá\",\"Paraíba\",\"Tocantins\",\"Goiás\",\"Distrito Federal\",\"Paraná\",\"Sergipe\",\"Sergipe\",\"Ceará\",\"Sergipe\",\"Rondônia\",\"Roraima\",\"Rio Grande do Norte\",\"Acre\",\"Distrito Federal\",\"Mato Grosso do Sul\"],\"xaxis\":\"x2\",\"y\":[39,35,33,33,28,28,28,27,27,27,26,25,25,25,25,24,24,23,22,21,21,21,21,21,20,20,20,20,20,19,19,19,19,19,19,19,19,19,19,18,18,18,18,18,18,17,17,17,17,17,17,17,17,17,17,16,16,16,16,16,16,16,16,16,16,16,16,15,15,15,15,15,15,15,15,15,15,15,14,14,14,14,14,14,14,14,14,14,13,13,13,13,13,13,13,13,13,13,13,13,13,13,13,13,13,12,12,12,12,12,12,12,12,12,12,12,12,12,12,12,12,12,12,12,11,11,11,11,11,11,11,11,11,10,10,10,10,10,10,10,10,10,10,10,10,10,10,10,10,10,10,10,10,10,10,10,10,10,10,10,9,9,9,9,9,9,9,9,9,9,9,9,9,9,9,9,9,9,9,9,9,9,9,8,8,8,8,8,8,8,8,8,8,8,8,8,8,8,8,8,8,8,8,8,8,8,8,8,8,8,8,7,7,7,7,7,7,7,7,7,7,7,7,7,7,7,7,7,7,7,7,7,7,7,7,7,7,7,7,6,6,6,6,6,6,6,6,6,6,6,6,6,6,6,6,6,6,6,6,6,6,6,6,6,6,6,6,6,6,6,6,6,6,6,6,6,6,6,6,5,5,5,5,5,5,5,5,5,5,5,5,5,5,5,5,5,5,5,5,5,5,5,5,5,5,5,5,5,5,5,5,5,5,5,5,5,5,4,4,4,4,4,4,4,4,4,4,4,4,4,4,4,4,4,4,4,4,4,4,4,4,4,4,4,4,4,4,4,4,4,4,4,4,4,3,3,3,3,3,3,3,3,3,3,3,3,3,3,3,3,3,3,3,3,3,3,3,3,3,3,3,3,3,3,3,3,3,3,3,3,3,3,3,3,3,3,3,3,3,3,3,2,2,2,2,2,2,2,2,2,2,2,2,2,2,2,2,2,2,2,2,2,2,2,2,2,2,2,2,2,2,2,2,2,1,1,1,1,1,1,1,1,1,1,1,1,1,1,1,1,1,1,1,1,1,1,1,1,1,1,1,1,1,1,1],\"yaxis\":\"y2\",\"type\":\"bar\"},{\"alignmentgroup\":\"True\",\"hovertemplate\":\"DSC_SEXO=Homem\\u003cbr\\u003eFAIXA_ETARIA=60+\\u003cbr\\u003eUF=%{x}\\u003cbr\\u003equantidade_trabalhadores=%{y}\\u003cextra\\u003e\\u003c\\u002fextra\\u003e\",\"legendgroup\":\"Homem\",\"marker\":{\"color\":\"#636efa\",\"pattern\":{\"shape\":\"\"}},\"name\":\"Homem\",\"offsetgroup\":\"Homem\",\"orientation\":\"v\",\"showlegend\":false,\"textposition\":\"auto\",\"x\":[\"Minas Gerais\",\"Mato Grosso\",\"Mato Grosso\",\"Rio de Janeiro\",\"Rio de Janeiro\",\"Rio Grande do Sul\",\"Minas Gerais\",\"Ceará\",\"Minas Gerais\",\"Espírito Santo\",\"São Paulo\",\"Rio de Janeiro\",\"São Paulo\",\"Santa Catarina\",\"Pernambuco\",\"Pará\",\"Acre\",\"Ceará\",\"Rio de Janeiro\",\"Goiás\",\"Espírito Santo\",\"Espírito Santo\",\"São Paulo\",\"São Paulo\",\"Espírito Santo\",\"Pernambuco\",\"Rio Grande do Norte\",\"Minas Gerais\",\"Pernambuco\",\"Minas Gerais\",\"Bahia\",\"Pará\",\"Paraíba\",\"São Paulo\",\"Santa Catarina\",\"São Paulo\",\"Mato Grosso\",\"Rio de Janeiro\",\"Espírito Santo\",\"Paraná\",\"Rio Grande do Sul\",\"Minas Gerais\",\"Minas Gerais\",\"Minas Gerais\",\"Distrito Federal\",\"Goiás\",\"Espírito Santo\",\"Rio Grande do Sul\",\"Paraná\",\"Rio Grande do Sul\",\"Santa Catarina\",\"Pará\",\"Rondônia\",\"Paraíba\",\"Piauí\",\"Maranhão\",\"Acre\",\"Pará\",\"Rio de Janeiro\",\"Santa Catarina\",\"Rio Grande do Sul\",\"Mato Grosso\",\"Rio Grande do Sul\",\"São Paulo\",\"Santa Catarina\",\"Paraná\",\"Maranhão\",\"Amazonas\",\"Santa Catarina\",\"Rio de Janeiro\",\"Maranhão\",\"Minas Gerais\",\"Bahia\",\"Tocantins\",\"Pernambuco\",\"Ceará\",\"Maranhão\",\"Pará\",\"Ceará\",\"Ceará\",\"Minas Gerais\",\"Tocantins\",\"Mato Grosso\",\"Paraná\",\"Rio Grande do Sul\",\"Paraná\",\"São Paulo\",\"Rio Grande do Sul\",\"São Paulo\",\"Rio Grande do Sul\",\"Rio Grande do Sul\",\"Goiás\",\"Goiás\",\"Mato Grosso\",\"Santa Catarina\",\"Rio de Janeiro\",\"Santa Catarina\",\"Goiás\",\"Rio Grande do Sul\",\"Minas Gerais\",\"Bahia\",\"Rondônia\",\"Maranhão\",\"Distrito Federal\",\"Bahia\",\"Ceará\",\"Rondônia\",\"Tocantins\",\"Rio Grande do Norte\",\"Pará\",\"Paraíba\",\"Acre\",\"Pará\",\"Maranhão\",\"Rio Grande do Norte\",\"Bahia\",\"Rio Grande do Norte\",\"Goiás\",\"São Paulo\",\"Goiás\",\"Espírito Santo\",\"Espírito Santo\",\"Paraná\",\"Paraná\",\"Mato Grosso do Sul\",\"Mato Grosso do Sul\",\"Santa Catarina\",\"Rio de Janeiro\",\"São Paulo\",\"São Paulo\",\"São Paulo\",\"Alagoas\",\"Pará\",\"Bahia\",\"Rondônia\",\"Minas Gerais\",\"Maranhão\",\"Ceará\",\"Rondônia\",\"Piauí\",\"Bahia\",\"Mato Grosso do Sul\",\"Santa Catarina\",\"Goiás\",\"Paraná\",\"Mato Grosso\",\"São Paulo\",\"Paraná\",\"Rio Grande do Sul\",\"Rio Grande do Sul\",\"Rio de Janeiro\",\"Pernambuco\",\"Maranhão\",\"Rondônia\",\"Piauí\",\"Amapá\",\"Pernambuco\",\"Minas Gerais\",\"Minas Gerais\",\"Pernambuco\",\"Bahia\",\"Maranhão\",\"Alagoas\",\"Tocantins\",\"Amazonas\",\"Piauí\",\"Minas Gerais\",\"Maranhão\",\"Rondônia\",\"Ceará\",\"Rio Grande do Norte\",\"Pará\",\"Tocantins\",\"Ceará\",\"Rondônia\",\"Rio Grande do Sul\",\"Rio Grande do Sul\",\"Goiás\",\"Mato Grosso do Sul\",\"Espírito Santo\",\"Rio de Janeiro\",\"Distrito Federal\",\"Santa Catarina\",\"Mato Grosso\",\"Mato Grosso\",\"Rio de Janeiro\",\"Mato Grosso\",\"Mato Grosso do Sul\",\"Rio Grande do Sul\",\"São Paulo\",\"Acre\",\"Amazonas\",\"Paraíba\",\"Bahia\",\"Rondônia\",\"Pará\",\"Maranhão\",\"Amapá\",\"Amapá\",\"Mato Grosso do Sul\",\"Distrito Federal\",\"São Paulo\",\"São Paulo\",\"Espírito Santo\",\"Goiás\",\"Goiás\",\"Paraná\",\"Amazonas\",\"Bahia\",\"Pernambuco\",\"Amapá\",\"Pernambuco\",\"Pará\",\"Ceará\",\"Paraíba\",\"Amazonas\",\"Paraíba\",\"Amazonas\",\"Sergipe\",\"Tocantins\",\"Sergipe\",\"Minas Gerais\",\"Alagoas\",\"Pernambuco\",\"Pará\",\"Rio Grande do Norte\",\"Rio Grande do Sul\",\"Espírito Santo\",\"Santa Catarina\",\"Goiás\",\"Mato Grosso\",\"Rio de Janeiro\",\"Mato Grosso\",\"Espírito Santo\",\"Mato Grosso do Sul\",\"Distrito Federal\"],\"xaxis\":\"x3\",\"y\":[14,12,12,11,11,11,10,9,9,9,9,9,9,9,8,8,8,8,8,8,8,8,8,8,8,7,6,6,6,6,6,6,6,6,6,6,6,6,6,6,6,5,5,5,5,5,5,5,5,5,5,5,4,4,4,4,4,4,4,4,4,4,4,4,4,4,4,4,4,4,4,3,3,3,3,3,3,3,3,3,3,3,3,3,3,3,3,3,3,3,3,3,3,3,3,3,3,3,3,3,3,3,3,3,2,2,2,2,2,2,2,2,2,2,2,2,2,2,2,2,2,2,2,2,2,2,2,2,2,2,2,2,2,2,2,2,2,2,2,2,2,2,2,2,2,2,2,2,2,2,2,2,2,1,1,1,1,1,1,1,1,1,1,1,1,1,1,1,1,1,1,1,1,1,1,1,1,1,1,1,1,1,1,1,1,1,1,1,1,1,1,1,1,1,1,1,1,1,1,1,1,1,1,1,1,1,1,1,1,1,1,1,1,1,1,1,1,1,1,1,1,1,1,1,1,1,1,1,1,1,1,1,1,1,1,1],\"yaxis\":\"y3\",\"type\":\"bar\"},{\"alignmentgroup\":\"True\",\"hovertemplate\":\"DSC_SEXO=Homem\\u003cbr\\u003eFAIXA_ETARIA=0-17\\u003cbr\\u003eUF=%{x}\\u003cbr\\u003equantidade_trabalhadores=%{y}\\u003cextra\\u003e\\u003c\\u002fextra\\u003e\",\"legendgroup\":\"Homem\",\"marker\":{\"color\":\"#636efa\",\"pattern\":{\"shape\":\"\"}},\"name\":\"Homem\",\"offsetgroup\":\"Homem\",\"orientation\":\"v\",\"showlegend\":false,\"textposition\":\"auto\",\"x\":[\"Minas Gerais\",\"Pernambuco\",\"Maranhão\",\"Pará\",\"São Paulo\",\"Bahia\",\"Alagoas\",\"Bahia\",\"Espírito Santo\",\"Rio Grande do Sul\",\"Maranhão\",\"Tocantins\",\"Maranhão\",\"Tocantins\",\"Santa Catarina\",\"Goiás\",\"Goiás\",\"Espírito Santo\",\"Maranhão\",\"São Paulo\",\"Bahia\",\"Sergipe\",\"Sergipe\",\"Rio Grande do Sul\",\"Santa Catarina\",\"Espírito Santo\",\"Amazonas\",\"Minas Gerais\",\"Sergipe\",\"Rondônia\",\"Roraima\",\"Acre\",\"Rio Grande do Norte\",\"Alagoas\",\"Mato Grosso\",\"Santa Catarina\",\"Minas Gerais\",\"Tocantins\",\"Acre\",\"Amazonas\",\"Piauí\",\"Piauí\",\"Mato Grosso do Sul\",\"Goiás\",\"Minas Gerais\",\"Paraíba\",\"Ceará\",\"Acre\",\"Pará\",\"Santa Catarina\",\"Ceará\",\"Amazonas\",\"Sergipe\",\"Mato Grosso\"],\"xaxis\":\"x4\",\"y\":[9,9,8,7,7,5,5,4,4,4,4,4,3,3,3,3,3,3,3,3,2,2,2,2,2,2,2,2,2,2,2,2,2,2,2,2,1,1,1,1,1,1,1,1,1,1,1,1,1,1,1,1,1,1],\"yaxis\":\"y4\",\"type\":\"bar\"},{\"alignmentgroup\":\"True\",\"hovertemplate\":\"DSC_SEXO=Mulher\\u003cbr\\u003eFAIXA_ETARIA=36-60\\u003cbr\\u003eUF=%{x}\\u003cbr\\u003equantidade_trabalhadores=%{y}\\u003cextra\\u003e\\u003c\\u002fextra\\u003e\",\"legendgroup\":\"Mulher\",\"marker\":{\"color\":\"#EF553B\",\"pattern\":{\"shape\":\"\"}},\"name\":\"Mulher\",\"offsetgroup\":\"Mulher\",\"orientation\":\"v\",\"showlegend\":true,\"textposition\":\"auto\",\"x\":[\"São Paulo\",\"Santa Catarina\",\"Maranhão\",\"Rio de Janeiro\",\"São Paulo\",\"Santa Catarina\",\"Santa Catarina\",\"Minas Gerais\",\"Santa Catarina\",\"Rio de Janeiro\",\"Santa Catarina\",\"Rio de Janeiro\",\"Roraima\",\"Santa Catarina\",\"São Paulo\",\"Espírito Santo\",\"Rio de Janeiro\",\"Paraná\",\"Minas Gerais\",\"Maranhão\",\"Minas Gerais\",\"Pernambuco\",\"Minas Gerais\",\"Santa Catarina\",\"São Paulo\",\"Mato Grosso\",\"São Paulo\",\"Santa Catarina\",\"Espírito Santo\",\"São Paulo\",\"Rio de Janeiro\",\"Espírito Santo\",\"Acre\",\"Amazonas\",\"Pará\",\"Ceará\",\"Minas Gerais\",\"São Paulo\",\"Santa Catarina\",\"São Paulo\",\"Espírito Santo\",\"Santa Catarina\",\"Goiás\",\"Santa Catarina\",\"Santa Catarina\",\"Rio Grande do Sul\",\"Rio de Janeiro\",\"Santa Catarina\",\"São Paulo\",\"Maranhão\",\"Maranhão\",\"Paraíba\",\"Minas Gerais\",\"Acre\",\"Minas Gerais\",\"São Paulo\",\"Rio de Janeiro\",\"Santa Catarina\",\"Mato Grosso\",\"Paraná\",\"Rio Grande do Sul\",\"Paraná\",\"Rio de Janeiro\",\"Rio Grande do Sul\",\"Paraná\",\"Rio Grande do Sul\",\"Minas Gerais\",\"Bahia\",\"Minas Gerais\",\"Paraíba\",\"Minas Gerais\",\"Maranhão\",\"Pará\",\"Amazonas\",\"Minas Gerais\",\"Maranhão\",\"Maranhão\",\"Roraima\",\"Minas Gerais\",\"Bahia\",\"Rio Grande do Norte\",\"Minas Gerais\",\"Roraima\",\"Minas Gerais\",\"Maranhão\",\"Ceará\",\"Minas Gerais\",\"Ceará\",\"Paraná\",\"Rio de Janeiro\",\"Santa Catarina\",\"São Paulo\",\"Mato Grosso\",\"Rio de Janeiro\",\"Rio de Janeiro\",\"Espírito Santo\",\"Espírito Santo\",\"Paraná\",\"Paraná\",\"Espírito Santo\",\"Espírito Santo\",\"São Paulo\",\"Paraná\",\"Rio de Janeiro\",\"Rio Grande do Sul\",\"Espírito Santo\",\"Rio de Janeiro\",\"Goiás\",\"Espírito Santo\",\"Maranhão\",\"Roraima\",\"Minas Gerais\",\"Bahia\",\"Minas Gerais\",\"Alagoas\",\"Maranhão\",\"Ceará\",\"Ceará\",\"Ceará\",\"Pernambuco\",\"Pernambuco\",\"Alagoas\",\"Rio Grande do Norte\",\"Maranhão\",\"Rio Grande do Norte\",\"Bahia\",\"Piauí\",\"Minas Gerais\",\"Pará\",\"Rondônia\",\"Maranhão\",\"Paraíba\",\"Pernambuco\",\"Ceará\",\"Rondônia\",\"Rio de Janeiro\",\"Paraná\",\"Espírito Santo\",\"Rio de Janeiro\",\"Rio de Janeiro\",\"Goiás\",\"Rio Grande do Sul\",\"São Paulo\",\"Rio de Janeiro\",\"Espírito Santo\",\"Rio Grande do Sul\",\"Rio de Janeiro\",\"Santa Catarina\",\"Goiás\",\"Rio Grande do Sul\",\"Distrito Federal\",\"Mato Grosso\",\"Rio Grande do Sul\",\"Mato Grosso\",\"São Paulo\",\"Minas Gerais\",\"Maranhão\",\"Rio de Janeiro\",\"São Paulo\",\"Santa Catarina\",\"Rio Grande do Sul\",\"Bahia\",\"Bahia\",\"Alagoas\",\"Bahia\",\"Pará\",\"Pará\",\"Bahia\",\"Amazonas\",\"Paraíba\",\"Paraíba\",\"Pará\",\"Rondônia\",\"Pará\",\"Pernambuco\",\"Rondônia\",\"Pará\",\"Maranhão\",\"Maranhão\",\"Acre\",\"Pará\",\"Amazonas\",\"Bahia\",\"Maranhão\",\"Alagoas\",\"Pará\",\"Maranhão\",\"Piauí\",\"Minas Gerais\",\"Rio Grande do Norte\",\"Amapá\",\"Pernambuco\",\"Distrito Federal\",\"Mato Grosso\",\"Rio de Janeiro\",\"Distrito Federal\",\"São Paulo\",\"Mato Grosso\",\"Paraná\",\"Rio de Janeiro\",\"Espírito Santo\",\"São Paulo\",\"Mato Grosso\",\"Goiás\",\"Rio Grande do Sul\",\"São Paulo\",\"Rio Grande do Sul\",\"Mato Grosso\",\"Goiás\",\"Goiás\",\"Paraná\",\"Espírito Santo\",\"Rio Grande do Sul\",\"São Paulo\",\"São Paulo\",\"Pará\",\"Alagoas\",\"Tocantins\",\"Rondônia\",\"São Paulo\",\"Rio Grande do Norte\",\"Bahia\",\"Pernambuco\",\"Acre\",\"Alagoas\",\"Pará\",\"Acre\",\"Alagoas\",\"Ceará\",\"Alagoas\",\"Amapá\",\"Acre\",\"Rio Grande do Norte\",\"Minas Gerais\",\"Piauí\",\"Amapá\",\"Bahia\",\"Ceará\",\"Maranhão\",\"Bahia\",\"Amazonas\",\"Pernambuco\",\"Pernambuco\",\"Ceará\",\"Maranhão\",\"Rio Grande do Norte\",\"Alagoas\",\"Ceará\",\"Rio Grande do Norte\",\"Pará\",\"Ceará\",\"Amazonas\",\"Roraima\",\"Amazonas\",\"Bahia\",\"Roraima\",\"Amazonas\",\"Rondônia\",\"Mato Grosso\",\"Santa Catarina\",\"Paraná\",\"Mato Grosso\",\"Mato Grosso\",\"Espírito Santo\",\"Rio Grande do Sul\",\"Paraná\",\"Rio Grande do Sul\",\"Distrito Federal\",\"Mato Grosso\",\"Distrito Federal\",\"Rio Grande do Sul\",\"Tocantins\",\"Amazonas\",\"Ceará\",\"Ceará\",\"Ceará\",\"Sergipe\",\"Amapá\",\"Tocantins\",\"Piauí\",\"Pernambuco\",\"Paraíba\",\"Mato Grosso\",\"Santa Catarina\",\"Santa Catarina\",\"Goiás\",\"Rio Grande do Sul\",\"Rio Grande do Sul\",\"São Paulo\",\"Rio Grande do Sul\",\"Goiás\",\"Bahia\",\"Roraima\",\"Amazonas\",\"Piauí\",\"Tocantins\",\"Amazonas\",\"Pernambuco\",\"Pernambuco\",\"Pernambuco\",\"Rio Grande do Norte\",\"Pará\",\"Rondônia\",\"Pernambuco\",\"Bahia\",\"Sergipe\",\"Rondônia\",\"Paraíba\",\"Amapá\",\"Tocantins\",\"Rondônia\",\"Pernambuco\",\"Paraíba\",\"Pernambuco\",\"Acre\",\"Ceará\",\"Distrito Federal\",\"Distrito Federal\",\"Rio Grande do Sul\",\"Mato Grosso do Sul\",\"Mato Grosso do Sul\",\"Rio de Janeiro\",\"Goiás\",\"Paraná\",\"Goiás\",\"Espírito Santo\",\"Goiás\",\"Paraná\",\"Mato Grosso\",\"Rio Grande do Sul\",\"Rio Grande do Sul\",\"Distrito Federal\",\"Espírito Santo\",\"Paraná\",\"Mato Grosso do Sul\",\"Espírito Santo\",\"Mato Grosso do Sul\",\"Mato Grosso do Sul\",\"Tocantins\",\"Amazonas\",\"Rio Grande do Norte\",\"Pará\",\"Acre\",\"Minas Gerais\",\"Alagoas\",\"Ceará\",\"Pará\",\"Piauí\",\"Pernambuco\",\"Pará\",\"Amazonas\",\"Amapá\",\"Distrito Federal\",\"Espírito Santo\",\"Paraná\",\"Goiás\",\"Espírito Santo\",\"Santa Catarina\",\"Rio Grande do Sul\",\"Minas Gerais\",\"Alagoas\",\"Rio Grande do Norte\",\"Minas Gerais\",\"Maranhão\",\"Distrito Federal\",\"Santa Catarina\",\"Goiás\",\"Ceará\",\"Amazonas\",\"Sergipe\",\"Bahia\",\"Tocantins\",\"Rio Grande do Norte\",\"Acre\",\"Bahia\",\"Acre\",\"Tocantins\",\"Ceará\",\"Pernambuco\",\"Sergipe\",\"Tocantins\",\"Paraíba\",\"Acre\",\"Paraíba\",\"Amazonas\",\"Paraíba\",\"Roraima\",\"Ceará\",\"Tocantins\",\"Amazonas\",\"Piauí\",\"Tocantins\",\"Amapá\",\"Amazonas\",\"Sergipe\",\"Piauí\",\"Sergipe\",\"Tocantins\",\"Sergipe\",\"Pará\",\"Ceará\",\"Bahia\",\"Tocantins\",\"Rondônia\",\"Alagoas\",\"Pernambuco\",\"Piauí\",\"Bahia\",\"Paraná\",\"Mato Grosso\",\"Mato Grosso do Sul\",\"Goiás\",\"Distrito Federal\",\"São Paulo\",\"Goiás\",\"Goiás\",\"Mato Grosso\",\"Mato Grosso do Sul\",\"Santa Catarina\",\"Mato Grosso\",\"Mato Grosso do Sul\",\"Paraná\",\"Mato Grosso do Sul\",\"Rio de Janeiro\",\"Rio Grande do Sul\",\"Tocantins\",\"Paraíba\",\"Paraíba\",\"Piauí\",\"Ceará\",\"Maranhão\",\"Paraíba\",\"Acre\",\"Tocantins\",\"Pará\",\"Amapá\",\"Sergipe\",\"Alagoas\",\"Piauí\",\"Ceará\",\"Alagoas\",\"Sergipe\",\"Bahia\",\"Rio Grande do Norte\",\"Pernambuco\",\"Piauí\",\"Paraíba\",\"Pernambuco\",\"Roraima\",\"Paraíba\",\"Amapá\",\"Pará\",\"Amazonas\",\"Alagoas\",\"Maranhão\",\"Espírito Santo\",\"Mato Grosso do Sul\",\"Espírito Santo\",\"Rio Grande do Sul\",\"Mato Grosso do Sul\",\"Goiás\",\"Mato Grosso\",\"Goiás\",\"Mato Grosso\",\"Sergipe\",\"Alagoas\",\"Pará\",\"Acre\",\"Rondônia\",\"Roraima\",\"Tocantins\",\"Bahia\",\"Paraíba\",\"Rondônia\",\"Amazonas\",\"Acre\",\"Acre\",\"Amapá\",\"Alagoas\",\"Piauí\",\"Rio Grande do Norte\",\"Acre\",\"Sergipe\",\"Amapá\",\"Tocantins\",\"Sergipe\",\"Maranhão\",\"Rondônia\",\"Tocantins\",\"Tocantins\",\"Maranhão\",\"Sergipe\",\"Tocantins\",\"Acre\",\"Alagoas\",\"Paraíba\",\"Acre\",\"Piauí\",\"Rio Grande do Norte\",\"Pernambuco\",\"Bahia\",\"Roraima\",\"Distrito Federal\",\"Paraná\",\"São Paulo\",\"Rio de Janeiro\",\"Mato Grosso\",\"Mato Grosso do Sul\",\"Goiás\",\"Goiás\",\"Paraná\"],\"xaxis\":\"x\",\"y\":[14,13,12,12,12,12,12,11,11,11,11,11,10,10,10,10,10,10,9,9,9,9,9,9,9,9,9,9,9,9,9,8,8,8,8,8,8,8,8,8,8,8,8,8,8,8,8,8,8,7,7,7,7,7,7,7,7,7,7,7,7,7,7,7,7,7,6,6,6,6,6,6,6,6,6,6,6,6,6,6,6,6,6,6,6,6,6,6,6,6,6,6,6,6,6,6,6,6,6,6,6,6,6,6,6,6,6,6,6,5,5,5,5,5,5,5,5,5,5,5,5,5,5,5,5,5,5,5,5,5,5,5,5,5,5,5,5,5,5,5,5,5,5,5,5,5,5,5,5,5,5,5,5,5,5,5,5,5,5,5,5,5,4,4,4,4,4,4,4,4,4,4,4,4,4,4,4,4,4,4,4,4,4,4,4,4,4,4,4,4,4,4,4,4,4,4,4,4,4,4,4,4,4,4,4,4,4,4,4,4,4,4,4,4,4,4,4,4,4,4,3,3,3,3,3,3,3,3,3,3,3,3,3,3,3,3,3,3,3,3,3,3,3,3,3,3,3,3,3,3,3,3,3,3,3,3,3,3,3,3,3,3,3,3,3,3,3,3,3,3,3,3,3,3,3,3,3,3,3,3,3,3,3,3,3,3,3,3,3,3,3,2,2,2,2,2,2,2,2,2,2,2,2,2,2,2,2,2,2,2,2,2,2,2,2,2,2,2,2,2,2,2,2,2,2,2,2,2,2,2,2,2,2,2,2,2,2,2,2,2,2,2,2,2,2,2,2,2,2,2,2,2,2,2,2,2,2,2,2,2,2,2,2,2,2,2,2,1,1,1,1,1,1,1,1,1,1,1,1,1,1,1,1,1,1,1,1,1,1,1,1,1,1,1,1,1,1,1,1,1,1,1,1,1,1,1,1,1,1,1,1,1,1,1,1,1,1,1,1,1,1,1,1,1,1,1,1,1,1,1,1,1,1,1,1,1,1,1,1,1,1,1,1,1,1,1,1,1,1,1,1,1,1,1,1,1,1,1,1,1,1,1,1,1,1,1,1,1,1,1,1,1,1,1,1,1,1,1,1,1,1,1,1,1,1,1,1,1,1,1,1,1,1,1,1,1,1,1,1,1,1,1,1,1,1,1,1,1,1,1,1],\"yaxis\":\"y\",\"type\":\"bar\"},{\"alignmentgroup\":\"True\",\"hovertemplate\":\"DSC_SEXO=Mulher\\u003cbr\\u003eFAIXA_ETARIA=18-35\\u003cbr\\u003eUF=%{x}\\u003cbr\\u003equantidade_trabalhadores=%{y}\\u003cextra\\u003e\\u003c\\u002fextra\\u003e\",\"legendgroup\":\"Mulher\",\"marker\":{\"color\":\"#EF553B\",\"pattern\":{\"shape\":\"\"}},\"name\":\"Mulher\",\"offsetgroup\":\"Mulher\",\"orientation\":\"v\",\"showlegend\":false,\"textposition\":\"auto\",\"x\":[\"São Paulo\",\"Minas Gerais\",\"Mato Grosso\",\"Rio de Janeiro\",\"Rio de Janeiro\",\"Santa Catarina\",\"São Paulo\",\"Espírito Santo\",\"Minas Gerais\",\"Maranhão\",\"São Paulo\",\"Bahia\",\"Maranhão\",\"Amapá\",\"Rio Grande do Sul\",\"São Paulo\",\"Rio de Janeiro\",\"Paraná\",\"Santa Catarina\",\"Maranhão\",\"Minas Gerais\",\"Maranhão\",\"Minas Gerais\",\"Bahia\",\"Minas Gerais\",\"Maranhão\",\"Rio de Janeiro\",\"Santa Catarina\",\"Santa Catarina\",\"Paraná\",\"Rio Grande do Sul\",\"São Paulo\",\"Rio de Janeiro\",\"Minas Gerais\",\"Maranhão\",\"Pernambuco\",\"Minas Gerais\",\"Amazonas\",\"Bahia\",\"Maranhão\",\"Minas Gerais\",\"Pará\",\"Rondônia\",\"Ceará\",\"São Paulo\",\"Espírito Santo\",\"Santa Catarina\",\"São Paulo\",\"São Paulo\",\"Santa Catarina\",\"São Paulo\",\"Santa Catarina\",\"Mato Grosso\",\"Rondônia\",\"Pernambuco\",\"Tocantins\",\"Rondônia\",\"Bahia\",\"Maranhão\",\"Maranhão\",\"Rondônia\",\"Ceará\",\"Amazonas\",\"Paraíba\",\"Pará\",\"Paraíba\",\"Alagoas\",\"Pará\",\"Santa Catarina\",\"Santa Catarina\",\"Santa Catarina\",\"Espírito Santo\",\"São Paulo\",\"Paraná\",\"Santa Catarina\",\"Goiás\",\"Mato Grosso\",\"Santa Catarina\",\"Espírito Santo\",\"Rio de Janeiro\",\"São Paulo\",\"São Paulo\",\"Espírito Santo\",\"Goiás\",\"Mato Grosso\",\"Espírito Santo\",\"Rio de Janeiro\",\"Rio Grande do Sul\",\"Minas Gerais\",\"Tocantins\",\"Ceará\",\"Piauí\",\"Maranhão\",\"Minas Gerais\",\"Amazonas\",\"Alagoas\",\"Maranhão\",\"Ceará\",\"Acre\",\"Amapá\",\"Pernambuco\",\"Maranhão\",\"Amazonas\",\"Alagoas\",\"Minas Gerais\",\"São Paulo\",\"Rio Grande do Sul\",\"Espírito Santo\",\"Mato Grosso do Sul\",\"Espírito Santo\",\"Goiás\",\"Mato Grosso do Sul\",\"Rio de Janeiro\",\"São Paulo\",\"Espírito Santo\",\"São Paulo\",\"São Paulo\",\"Pará\",\"Pernambuco\",\"Minas Gerais\",\"Santa Catarina\",\"Rondônia\",\"Alagoas\",\"Pará\",\"Pará\",\"Rio Grande do Norte\",\"Pernambuco\",\"Maranhão\",\"Pernambuco\",\"Alagoas\",\"Piauí\",\"Amazonas\",\"Acre\",\"Maranhão\",\"Paraíba\",\"Amazonas\",\"Roraima\",\"Minas Gerais\",\"Pará\",\"Minas Gerais\",\"Ceará\",\"Acre\",\"Amazonas\",\"Roraima\",\"Bahia\",\"Acre\",\"Ceará\",\"Pernambuco\",\"Rio Grande do Sul\",\"Rio Grande do Sul\",\"Mato Grosso\",\"Rio de Janeiro\",\"Paraná\",\"Mato Grosso do Sul\",\"Rio de Janeiro\",\"Mato Grosso\",\"Rio Grande do Sul\",\"Santa Catarina\",\"Distrito Federal\",\"Mato Grosso\",\"Goiás\",\"Rio de Janeiro\",\"Paraná\",\"Paraná\",\"Alagoas\",\"Pernambuco\",\"Ceará\",\"Maranhão\",\"Piauí\",\"Maranhão\",\"Bahia\",\"Pará\",\"Rio Grande do Sul\",\"Paraná\",\"Paraná\",\"Rio Grande do Sul\",\"Distrito Federal\",\"Rio Grande do Norte\",\"Sergipe\",\"Bahia\",\"Ceará\",\"Amapá\",\"Rondônia\",\"Paraíba\",\"Ceará\",\"Piauí\",\"Tocantins\",\"Tocantins\",\"Pernambuco\",\"Rio Grande do Norte\",\"Amapá\",\"Pernambuco\",\"Tocantins\",\"Tocantins\",\"Tocantins\",\"Ceará\",\"Bahia\",\"Minas Gerais\",\"Acre\",\"Alagoas\",\"Minas Gerais\",\"Amapá\",\"Paraíba\",\"Pernambuco\",\"Goiás\",\"Goiás\",\"Espírito Santo\",\"Mato Grosso do Sul\",\"Rio Grande do Sul\",\"Espírito Santo\",\"Rio de Janeiro\",\"Mato Grosso\",\"Rio de Janeiro\",\"Rio Grande do Sul\",\"Mato Grosso\",\"Mato Grosso do Sul\",\"Mato Grosso\",\"Mato Grosso\",\"Rio Grande do Sul\",\"Goiás\",\"Goiás\",\"Mato Grosso\",\"Espírito Santo\",\"Rio Grande do Sul\",\"Roraima\",\"Pará\",\"Piauí\",\"Bahia\",\"Ceará\",\"Ceará\",\"Rondônia\",\"Amapá\",\"Tocantins\",\"Amazonas\",\"Sergipe\",\"Bahia\",\"Maranhão\",\"Pernambuco\",\"Amazonas\",\"Amapá\",\"Alagoas\",\"Piauí\",\"Acre\",\"Ceará\",\"Espírito Santo\",\"Mato Grosso do Sul\",\"Mato Grosso\",\"Goiás\",\"Santa Catarina\",\"Paraná\",\"Goiás\",\"Distrito Federal\",\"Rio de Janeiro\",\"Bahia\",\"Bahia\",\"Paraíba\",\"Alagoas\",\"Amazonas\",\"Pará\",\"Pará\",\"Acre\",\"Pará\",\"Amapá\",\"Rio Grande do Norte\",\"Amapá\",\"Amapá\",\"Amazonas\",\"Espírito Santo\",\"Sergipe\",\"Roraima\",\"Rondônia\",\"Amazonas\",\"Alagoas\",\"Piauí\",\"Pernambuco\",\"Paraíba\",\"Rio Grande do Norte\",\"Bahia\",\"Pará\",\"Alagoas\",\"Tocantins\",\"Sergipe\",\"Paraíba\",\"Bahia\",\"Piauí\",\"Amapá\",\"Alagoas\",\"Pará\",\"Acre\",\"Ceará\",\"Rio Grande do Norte\",\"Alagoas\",\"Amazonas\",\"Alagoas\",\"Espírito Santo\",\"Goiás\",\"Mato Grosso\",\"Goiás\",\"Rio Grande do Sul\",\"Mato Grosso\",\"Paraná\",\"Mato Grosso do Sul\",\"Rio Grande do Sul\",\"Santa Catarina\",\"Distrito Federal\",\"Rio de Janeiro\",\"Paraná\",\"Paraná\",\"Sergipe\",\"Alagoas\",\"Rio Grande do Norte\",\"Piauí\",\"Amazonas\",\"Tocantins\",\"Rondônia\",\"Sergipe\",\"Acre\",\"Pernambuco\",\"Tocantins\",\"Sergipe\",\"Pará\",\"Pará\",\"Pará\",\"Piauí\",\"Piauí\",\"Sergipe\",\"Paraíba\",\"Tocantins\",\"Amapá\",\"Rondônia\",\"Amazonas\",\"Paraíba\",\"Sergipe\",\"Rio de Janeiro\",\"Paraná\",\"Paraná\",\"Paraná\",\"Distrito Federal\",\"Goiás\",\"Paraná\",\"Espírito Santo\",\"Tocantins\",\"Alagoas\",\"Bahia\",\"Acre\",\"Acre\",\"Roraima\",\"Piauí\",\"Paraíba\",\"Minas Gerais\",\"Rio Grande do Norte\",\"Bahia\",\"Rio Grande do Norte\",\"Bahia\",\"Acre\",\"Ceará\",\"Tocantins\",\"Roraima\",\"Tocantins\",\"Roraima\",\"Paraíba\",\"Rondônia\",\"Piauí\",\"Rio Grande do Norte\",\"Bahia\",\"Sergipe\",\"Distrito Federal\",\"Rio Grande do Sul\",\"São Paulo\",\"Goiás\",\"Distrito Federal\",\"Distrito Federal\",\"Mato Grosso\",\"São Paulo\",\"Espírito Santo\",\"Goiás\",\"Paraná\",\"Rio Grande do Sul\"],\"xaxis\":\"x2\",\"y\":[12,11,11,11,11,10,10,10,9,9,9,8,8,8,8,8,8,8,8,7,7,7,7,7,7,7,7,7,7,7,7,7,7,6,6,6,6,6,6,6,6,6,6,6,6,6,6,6,6,6,6,6,6,5,5,5,5,5,5,5,5,5,5,5,5,5,5,5,5,5,5,5,5,5,5,5,5,5,5,5,5,5,5,5,5,5,5,5,4,4,4,4,4,4,4,4,4,4,4,4,4,4,4,4,4,4,4,4,4,4,4,4,4,4,4,4,4,4,4,4,4,3,3,3,3,3,3,3,3,3,3,3,3,3,3,3,3,3,3,3,3,3,3,3,3,3,3,3,3,3,3,3,3,3,3,3,3,3,3,3,3,3,3,3,3,3,3,3,3,3,3,3,3,3,3,3,3,3,3,2,2,2,2,2,2,2,2,2,2,2,2,2,2,2,2,2,2,2,2,2,2,2,2,2,2,2,2,2,2,2,2,2,2,2,2,2,2,2,2,2,2,2,2,2,2,2,2,2,2,2,2,2,2,2,2,2,2,2,2,2,2,2,2,2,2,2,2,2,2,2,2,2,2,2,2,2,2,2,1,1,1,1,1,1,1,1,1,1,1,1,1,1,1,1,1,1,1,1,1,1,1,1,1,1,1,1,1,1,1,1,1,1,1,1,1,1,1,1,1,1,1,1,1,1,1,1,1,1,1,1,1,1,1,1,1,1,1,1,1,1,1,1,1,1,1,1,1,1,1,1,1,1,1,1,1,1,1,1,1,1,1,1,1,1,1,1,1,1,1,1,1,1,1,1,1,1,1,1,1,1,1,1,1,1,1,1,1,1,1,1,1,1,1,1,1,1,1,1],\"yaxis\":\"y2\",\"type\":\"bar\"},{\"alignmentgroup\":\"True\",\"hovertemplate\":\"DSC_SEXO=Mulher\\u003cbr\\u003eFAIXA_ETARIA=60+\\u003cbr\\u003eUF=%{x}\\u003cbr\\u003equantidade_trabalhadores=%{y}\\u003cextra\\u003e\\u003c\\u002fextra\\u003e\",\"legendgroup\":\"Mulher\",\"marker\":{\"color\":\"#EF553B\",\"pattern\":{\"shape\":\"\"}},\"name\":\"Mulher\",\"offsetgroup\":\"Mulher\",\"orientation\":\"v\",\"showlegend\":false,\"textposition\":\"auto\",\"x\":[\"Rio Grande do Norte\",\"Rio de Janeiro\",\"Ceará\",\"Rio de Janeiro\",\"Pará\",\"Pernambuco\",\"Espírito Santo\",\"Rio de Janeiro\",\"São Paulo\",\"São Paulo\",\"Paraná\",\"Mato Grosso\",\"Rio de Janeiro\",\"Rio de Janeiro\",\"Rio Grande do Sul\",\"Rio Grande do Sul\",\"Acre\",\"Ceará\",\"Bahia\",\"Ceará\",\"Maranhão\",\"São Paulo\",\"Espírito Santo\",\"Santa Catarina\",\"São Paulo\",\"Roraima\",\"Minas Gerais\",\"Ceará\",\"Santa Catarina\",\"Espírito Santo\",\"Espírito Santo\",\"Paraná\",\"Goiás\",\"São Paulo\",\"Mato Grosso\",\"Espírito Santo\",\"Piauí\",\"Tocantins\",\"Bahia\",\"Amazonas\",\"Minas Gerais\",\"Pará\",\"Maranhão\",\"Amapá\",\"Minas Gerais\",\"Rio de Janeiro\",\"Espírito Santo\",\"São Paulo\",\"Espírito Santo\",\"Rio Grande do Sul\",\"São Paulo\",\"Amapá\",\"Sergipe\",\"Rio Grande do Norte\",\"Pernambuco\",\"Goiás\",\"Espírito Santo\",\"Paraná\",\"Rio Grande do Sul\",\"Distrito Federal\",\"Distrito Federal\",\"Goiás\",\"Alagoas\",\"Minas Gerais\",\"Ceará\",\"Piauí\",\"Ceará\",\"Acre\",\"Ceará\",\"Pará\",\"Minas Gerais\",\"Minas Gerais\",\"São Paulo\",\"Santa Catarina\",\"Mato Grosso\",\"Rio Grande do Sul\",\"Goiás\",\"Rio Grande do Sul\",\"Distrito Federal\",\"Goiás\"],\"xaxis\":\"x3\",\"y\":[5,5,4,4,3,3,3,3,3,3,3,3,3,3,3,3,2,2,2,2,2,2,2,2,2,2,2,2,2,2,2,2,2,2,2,2,1,1,1,1,1,1,1,1,1,1,1,1,1,1,1,1,1,1,1,1,1,1,1,1,1,1,1,1,1,1,1,1,1,1,1,1,1,1,1,1,1,1,1,1],\"yaxis\":\"y3\",\"type\":\"bar\"},{\"alignmentgroup\":\"True\",\"hovertemplate\":\"DSC_SEXO=Mulher\\u003cbr\\u003eFAIXA_ETARIA=0-17\\u003cbr\\u003eUF=%{x}\\u003cbr\\u003equantidade_trabalhadores=%{y}\\u003cextra\\u003e\\u003c\\u002fextra\\u003e\",\"legendgroup\":\"Mulher\",\"marker\":{\"color\":\"#EF553B\",\"pattern\":{\"shape\":\"\"}},\"name\":\"Mulher\",\"offsetgroup\":\"Mulher\",\"orientation\":\"v\",\"showlegend\":false,\"textposition\":\"auto\",\"x\":[\"São Paulo\",\"Ceará\",\"Amapá\",\"Bahia\",\"Pará\",\"Ceará\",\"Santa Catarina\",\"Santa Catarina\",\"Rio Grande do Sul\",\"Rio Grande do Norte\",\"Alagoas\",\"Pernambuco\",\"Mato Grosso\",\"São Paulo\",\"Paraná\",\"Paraíba\",\"Distrito Federal\",\"Mato Grosso\",\"Alagoas\",\"Rio Grande do Sul\",\"São Paulo\"],\"xaxis\":\"x4\",\"y\":[5,3,3,2,2,2,2,2,2,1,1,1,1,1,1,1,1,1,1,1,1],\"yaxis\":\"y4\",\"type\":\"bar\"}],                        {\"template\":{\"data\":{\"histogram2dcontour\":[{\"type\":\"histogram2dcontour\",\"colorbar\":{\"outlinewidth\":0,\"ticks\":\"\"},\"colorscale\":[[0.0,\"#0d0887\"],[0.1111111111111111,\"#46039f\"],[0.2222222222222222,\"#7201a8\"],[0.3333333333333333,\"#9c179e\"],[0.4444444444444444,\"#bd3786\"],[0.5555555555555556,\"#d8576b\"],[0.6666666666666666,\"#ed7953\"],[0.7777777777777778,\"#fb9f3a\"],[0.8888888888888888,\"#fdca26\"],[1.0,\"#f0f921\"]]}],\"choropleth\":[{\"type\":\"choropleth\",\"colorbar\":{\"outlinewidth\":0,\"ticks\":\"\"}}],\"histogram2d\":[{\"type\":\"histogram2d\",\"colorbar\":{\"outlinewidth\":0,\"ticks\":\"\"},\"colorscale\":[[0.0,\"#0d0887\"],[0.1111111111111111,\"#46039f\"],[0.2222222222222222,\"#7201a8\"],[0.3333333333333333,\"#9c179e\"],[0.4444444444444444,\"#bd3786\"],[0.5555555555555556,\"#d8576b\"],[0.6666666666666666,\"#ed7953\"],[0.7777777777777778,\"#fb9f3a\"],[0.8888888888888888,\"#fdca26\"],[1.0,\"#f0f921\"]]}],\"heatmap\":[{\"type\":\"heatmap\",\"colorbar\":{\"outlinewidth\":0,\"ticks\":\"\"},\"colorscale\":[[0.0,\"#0d0887\"],[0.1111111111111111,\"#46039f\"],[0.2222222222222222,\"#7201a8\"],[0.3333333333333333,\"#9c179e\"],[0.4444444444444444,\"#bd3786\"],[0.5555555555555556,\"#d8576b\"],[0.6666666666666666,\"#ed7953\"],[0.7777777777777778,\"#fb9f3a\"],[0.8888888888888888,\"#fdca26\"],[1.0,\"#f0f921\"]]}],\"heatmapgl\":[{\"type\":\"heatmapgl\",\"colorbar\":{\"outlinewidth\":0,\"ticks\":\"\"},\"colorscale\":[[0.0,\"#0d0887\"],[0.1111111111111111,\"#46039f\"],[0.2222222222222222,\"#7201a8\"],[0.3333333333333333,\"#9c179e\"],[0.4444444444444444,\"#bd3786\"],[0.5555555555555556,\"#d8576b\"],[0.6666666666666666,\"#ed7953\"],[0.7777777777777778,\"#fb9f3a\"],[0.8888888888888888,\"#fdca26\"],[1.0,\"#f0f921\"]]}],\"contourcarpet\":[{\"type\":\"contourcarpet\",\"colorbar\":{\"outlinewidth\":0,\"ticks\":\"\"}}],\"contour\":[{\"type\":\"contour\",\"colorbar\":{\"outlinewidth\":0,\"ticks\":\"\"},\"colorscale\":[[0.0,\"#0d0887\"],[0.1111111111111111,\"#46039f\"],[0.2222222222222222,\"#7201a8\"],[0.3333333333333333,\"#9c179e\"],[0.4444444444444444,\"#bd3786\"],[0.5555555555555556,\"#d8576b\"],[0.6666666666666666,\"#ed7953\"],[0.7777777777777778,\"#fb9f3a\"],[0.8888888888888888,\"#fdca26\"],[1.0,\"#f0f921\"]]}],\"surface\":[{\"type\":\"surface\",\"colorbar\":{\"outlinewidth\":0,\"ticks\":\"\"},\"colorscale\":[[0.0,\"#0d0887\"],[0.1111111111111111,\"#46039f\"],[0.2222222222222222,\"#7201a8\"],[0.3333333333333333,\"#9c179e\"],[0.4444444444444444,\"#bd3786\"],[0.5555555555555556,\"#d8576b\"],[0.6666666666666666,\"#ed7953\"],[0.7777777777777778,\"#fb9f3a\"],[0.8888888888888888,\"#fdca26\"],[1.0,\"#f0f921\"]]}],\"mesh3d\":[{\"type\":\"mesh3d\",\"colorbar\":{\"outlinewidth\":0,\"ticks\":\"\"}}],\"scatter\":[{\"fillpattern\":{\"fillmode\":\"overlay\",\"size\":10,\"solidity\":0.2},\"type\":\"scatter\"}],\"parcoords\":[{\"type\":\"parcoords\",\"line\":{\"colorbar\":{\"outlinewidth\":0,\"ticks\":\"\"}}}],\"scatterpolargl\":[{\"type\":\"scatterpolargl\",\"marker\":{\"colorbar\":{\"outlinewidth\":0,\"ticks\":\"\"}}}],\"bar\":[{\"error_x\":{\"color\":\"#2a3f5f\"},\"error_y\":{\"color\":\"#2a3f5f\"},\"marker\":{\"line\":{\"color\":\"#E5ECF6\",\"width\":0.5},\"pattern\":{\"fillmode\":\"overlay\",\"size\":10,\"solidity\":0.2}},\"type\":\"bar\"}],\"scattergeo\":[{\"type\":\"scattergeo\",\"marker\":{\"colorbar\":{\"outlinewidth\":0,\"ticks\":\"\"}}}],\"scatterpolar\":[{\"type\":\"scatterpolar\",\"marker\":{\"colorbar\":{\"outlinewidth\":0,\"ticks\":\"\"}}}],\"histogram\":[{\"marker\":{\"pattern\":{\"fillmode\":\"overlay\",\"size\":10,\"solidity\":0.2}},\"type\":\"histogram\"}],\"scattergl\":[{\"type\":\"scattergl\",\"marker\":{\"colorbar\":{\"outlinewidth\":0,\"ticks\":\"\"}}}],\"scatter3d\":[{\"type\":\"scatter3d\",\"line\":{\"colorbar\":{\"outlinewidth\":0,\"ticks\":\"\"}},\"marker\":{\"colorbar\":{\"outlinewidth\":0,\"ticks\":\"\"}}}],\"scattermapbox\":[{\"type\":\"scattermapbox\",\"marker\":{\"colorbar\":{\"outlinewidth\":0,\"ticks\":\"\"}}}],\"scatterternary\":[{\"type\":\"scatterternary\",\"marker\":{\"colorbar\":{\"outlinewidth\":0,\"ticks\":\"\"}}}],\"scattercarpet\":[{\"type\":\"scattercarpet\",\"marker\":{\"colorbar\":{\"outlinewidth\":0,\"ticks\":\"\"}}}],\"carpet\":[{\"aaxis\":{\"endlinecolor\":\"#2a3f5f\",\"gridcolor\":\"white\",\"linecolor\":\"white\",\"minorgridcolor\":\"white\",\"startlinecolor\":\"#2a3f5f\"},\"baxis\":{\"endlinecolor\":\"#2a3f5f\",\"gridcolor\":\"white\",\"linecolor\":\"white\",\"minorgridcolor\":\"white\",\"startlinecolor\":\"#2a3f5f\"},\"type\":\"carpet\"}],\"table\":[{\"cells\":{\"fill\":{\"color\":\"#EBF0F8\"},\"line\":{\"color\":\"white\"}},\"header\":{\"fill\":{\"color\":\"#C8D4E3\"},\"line\":{\"color\":\"white\"}},\"type\":\"table\"}],\"barpolar\":[{\"marker\":{\"line\":{\"color\":\"#E5ECF6\",\"width\":0.5},\"pattern\":{\"fillmode\":\"overlay\",\"size\":10,\"solidity\":0.2}},\"type\":\"barpolar\"}],\"pie\":[{\"automargin\":true,\"type\":\"pie\"}]},\"layout\":{\"autotypenumbers\":\"strict\",\"colorway\":[\"#636efa\",\"#EF553B\",\"#00cc96\",\"#ab63fa\",\"#FFA15A\",\"#19d3f3\",\"#FF6692\",\"#B6E880\",\"#FF97FF\",\"#FECB52\"],\"font\":{\"color\":\"#2a3f5f\"},\"hovermode\":\"closest\",\"hoverlabel\":{\"align\":\"left\"},\"paper_bgcolor\":\"white\",\"plot_bgcolor\":\"#E5ECF6\",\"polar\":{\"bgcolor\":\"#E5ECF6\",\"angularaxis\":{\"gridcolor\":\"white\",\"linecolor\":\"white\",\"ticks\":\"\"},\"radialaxis\":{\"gridcolor\":\"white\",\"linecolor\":\"white\",\"ticks\":\"\"}},\"ternary\":{\"bgcolor\":\"#E5ECF6\",\"aaxis\":{\"gridcolor\":\"white\",\"linecolor\":\"white\",\"ticks\":\"\"},\"baxis\":{\"gridcolor\":\"white\",\"linecolor\":\"white\",\"ticks\":\"\"},\"caxis\":{\"gridcolor\":\"white\",\"linecolor\":\"white\",\"ticks\":\"\"}},\"coloraxis\":{\"colorbar\":{\"outlinewidth\":0,\"ticks\":\"\"}},\"colorscale\":{\"sequential\":[[0.0,\"#0d0887\"],[0.1111111111111111,\"#46039f\"],[0.2222222222222222,\"#7201a8\"],[0.3333333333333333,\"#9c179e\"],[0.4444444444444444,\"#bd3786\"],[0.5555555555555556,\"#d8576b\"],[0.6666666666666666,\"#ed7953\"],[0.7777777777777778,\"#fb9f3a\"],[0.8888888888888888,\"#fdca26\"],[1.0,\"#f0f921\"]],\"sequentialminus\":[[0.0,\"#0d0887\"],[0.1111111111111111,\"#46039f\"],[0.2222222222222222,\"#7201a8\"],[0.3333333333333333,\"#9c179e\"],[0.4444444444444444,\"#bd3786\"],[0.5555555555555556,\"#d8576b\"],[0.6666666666666666,\"#ed7953\"],[0.7777777777777778,\"#fb9f3a\"],[0.8888888888888888,\"#fdca26\"],[1.0,\"#f0f921\"]],\"diverging\":[[0,\"#8e0152\"],[0.1,\"#c51b7d\"],[0.2,\"#de77ae\"],[0.3,\"#f1b6da\"],[0.4,\"#fde0ef\"],[0.5,\"#f7f7f7\"],[0.6,\"#e6f5d0\"],[0.7,\"#b8e186\"],[0.8,\"#7fbc41\"],[0.9,\"#4d9221\"],[1,\"#276419\"]]},\"xaxis\":{\"gridcolor\":\"white\",\"linecolor\":\"white\",\"ticks\":\"\",\"title\":{\"standoff\":15},\"zerolinecolor\":\"white\",\"automargin\":true,\"zerolinewidth\":2},\"yaxis\":{\"gridcolor\":\"white\",\"linecolor\":\"white\",\"ticks\":\"\",\"title\":{\"standoff\":15},\"zerolinecolor\":\"white\",\"automargin\":true,\"zerolinewidth\":2},\"scene\":{\"xaxis\":{\"backgroundcolor\":\"#E5ECF6\",\"gridcolor\":\"white\",\"linecolor\":\"white\",\"showbackground\":true,\"ticks\":\"\",\"zerolinecolor\":\"white\",\"gridwidth\":2},\"yaxis\":{\"backgroundcolor\":\"#E5ECF6\",\"gridcolor\":\"white\",\"linecolor\":\"white\",\"showbackground\":true,\"ticks\":\"\",\"zerolinecolor\":\"white\",\"gridwidth\":2},\"zaxis\":{\"backgroundcolor\":\"#E5ECF6\",\"gridcolor\":\"white\",\"linecolor\":\"white\",\"showbackground\":true,\"ticks\":\"\",\"zerolinecolor\":\"white\",\"gridwidth\":2}},\"shapedefaults\":{\"line\":{\"color\":\"#2a3f5f\"}},\"annotationdefaults\":{\"arrowcolor\":\"#2a3f5f\",\"arrowhead\":0,\"arrowwidth\":1},\"geo\":{\"bgcolor\":\"white\",\"landcolor\":\"#E5ECF6\",\"subunitcolor\":\"white\",\"showland\":true,\"showlakes\":true,\"lakecolor\":\"white\"},\"title\":{\"x\":0.05},\"mapbox\":{\"style\":\"light\"}}},\"xaxis\":{\"anchor\":\"y\",\"domain\":[0.0,0.235],\"title\":{\"text\":\"UF\"},\"tickangle\":90},\"yaxis\":{\"anchor\":\"x\",\"domain\":[0.0,1.0],\"title\":{\"text\":\"Quantidade de Trabalhadores\"}},\"xaxis2\":{\"anchor\":\"y2\",\"domain\":[0.255,0.49],\"matches\":\"x\",\"title\":{\"text\":\"UF\"}},\"yaxis2\":{\"anchor\":\"x2\",\"domain\":[0.0,1.0],\"matches\":\"y\",\"showticklabels\":false},\"xaxis3\":{\"anchor\":\"y3\",\"domain\":[0.51,0.745],\"matches\":\"x\",\"title\":{\"text\":\"UF\"}},\"yaxis3\":{\"anchor\":\"x3\",\"domain\":[0.0,1.0],\"matches\":\"y\",\"showticklabels\":false},\"xaxis4\":{\"anchor\":\"y4\",\"domain\":[0.7649999999999999,0.9999999999999999],\"matches\":\"x\",\"title\":{\"text\":\"UF\"}},\"yaxis4\":{\"anchor\":\"x4\",\"domain\":[0.0,1.0],\"matches\":\"y\",\"showticklabels\":false},\"annotations\":[{\"font\":{},\"showarrow\":false,\"text\":\"36-60\",\"x\":0.1175,\"xanchor\":\"center\",\"xref\":\"paper\",\"y\":1.0,\"yanchor\":\"bottom\",\"yref\":\"paper\"},{\"font\":{},\"showarrow\":false,\"text\":\"18-35\",\"x\":0.3725,\"xanchor\":\"center\",\"xref\":\"paper\",\"y\":1.0,\"yanchor\":\"bottom\",\"yref\":\"paper\"},{\"font\":{},\"showarrow\":false,\"text\":\"60+\",\"x\":0.6275,\"xanchor\":\"center\",\"xref\":\"paper\",\"y\":1.0,\"yanchor\":\"bottom\",\"yref\":\"paper\"},{\"font\":{},\"showarrow\":false,\"text\":\"0-17\",\"x\":0.8824999999999998,\"xanchor\":\"center\",\"xref\":\"paper\",\"y\":1.0,\"yanchor\":\"bottom\",\"yref\":\"paper\"}],\"legend\":{\"title\":{\"text\":\"Sexo\"},\"tracegroupgap\":0},\"title\":{\"text\":\"Trabalho Presencial por UF, Sexo e Faixa Etária\"},\"barmode\":\"stack\",\"margin\":{\"l\":50,\"r\":50,\"t\":80,\"b\":50}},                        {\"responsive\": true}                    ).then(function(){\n",
              "                            \n",
              "var gd = document.getElementById('ef155c2f-2d81-4c37-a7be-2a4b37ad337a');\n",
              "var x = new MutationObserver(function (mutations, observer) {{\n",
              "        var display = window.getComputedStyle(gd).display;\n",
              "        if (!display || display === 'none') {{\n",
              "            console.log([gd, 'removed!']);\n",
              "            Plotly.purge(gd);\n",
              "            observer.disconnect();\n",
              "        }}\n",
              "}});\n",
              "\n",
              "// Listen for the removal of the full notebook cells\n",
              "var notebookContainer = gd.closest('#notebook-container');\n",
              "if (notebookContainer) {{\n",
              "    x.observe(notebookContainer, {childList: true});\n",
              "}}\n",
              "\n",
              "// Listen for the clearing of the current output cell\n",
              "var outputEl = gd.closest('.output');\n",
              "if (outputEl) {{\n",
              "    x.observe(outputEl, {childList: true});\n",
              "}}\n",
              "\n",
              "                        })                };                            </script>        </div>\n",
              "</body>\n",
              "</html>"
            ]
          },
          "metadata": {}
        }
      ]
    },
    {
      "cell_type": "markdown",
      "source": [
        "**Busca por atendimento médico por UF**"
      ],
      "metadata": {
        "id": "MgU1m9YXmsT4"
      }
    },
    {
      "cell_type": "code",
      "source": [
        "spark.sql(\"\"\"\n",
        "SELECT\n",
        "    UF,\n",
        "    COUNT(CASE WHEN DSC_FOI_ESTABELECIMENTO_SAUDE = 'Sim' THEN 1 END) AS buscaram_atendimento,\n",
        "    COUNT(*) AS total_pessoas,\n",
        "    ROUND((COUNT(CASE WHEN DSC_FOI_ESTABELECIMENTO_SAUDE = 'Sim' THEN 1 END) / COUNT(*)) * 100, 2) AS taxa_atendimento\n",
        "FROM tabela_microdados\n",
        "GROUP BY UF\n",
        "ORDER BY taxa_atendimento ASC;\n",
        "\"\"\").show()"
      ],
      "metadata": {
        "colab": {
          "base_uri": "https://localhost:8080/"
        },
        "id": "Lr8bssGdmtZq",
        "outputId": "524ef307-c477-481f-cc32-da082b879d4e"
      },
      "execution_count": 49,
      "outputs": [
        {
          "output_type": "stream",
          "name": "stdout",
          "text": [
            "+-------------------+--------------------+-------------+----------------+\n",
            "|                 UF|buscaram_atendimento|total_pessoas|taxa_atendimento|\n",
            "+-------------------+--------------------+-------------+----------------+\n",
            "|     Rio de Janeiro|                 672|        87260|            0.77|\n",
            "|         Pernambuco|                 439|        50199|            0.87|\n",
            "|              Ceará|                 471|        50737|            0.93|\n",
            "|           Rondônia|                 167|        16531|            1.01|\n",
            "|            Alagoas|                 361|        35019|            1.03|\n",
            "|           Maranhão|                 645|        60361|            1.07|\n",
            "|              Piauí|                 275|        25511|            1.08|\n",
            "|           Amazonas|                 330|        30497|            1.08|\n",
            "|              Bahia|                 574|        52081|             1.1|\n",
            "|               Acre|                 218|        19137|            1.14|\n",
            "|     Espírito Santo|                 550|        46761|            1.18|\n",
            "|       Minas Gerais|                1228|       103685|            1.18|\n",
            "|Rio Grande do Norte|                 295|        24330|            1.21|\n",
            "|               Pará|                 431|        35302|            1.22|\n",
            "| Mato Grosso do Sul|                 322|        26417|            1.22|\n",
            "|          São Paulo|                1250|       100601|            1.24|\n",
            "|            Sergipe|                 310|        24450|            1.27|\n",
            "|     Santa Catarina|                 896|        70662|            1.27|\n",
            "|  Rio Grande do Sul|                 895|        66680|            1.34|\n",
            "|             Paraná|                 824|        60489|            1.36|\n",
            "+-------------------+--------------------+-------------+----------------+\n",
            "only showing top 20 rows\n",
            "\n"
          ]
        }
      ]
    },
    {
      "cell_type": "code",
      "source": [
        "atendimento_df = spark.sql(\"\"\"\n",
        "SELECT\n",
        "    UF,\n",
        "    COUNT(CASE WHEN DSC_FOI_ESTABELECIMENTO_SAUDE = 'Sim' THEN 1 END) AS buscaram_atendimento,\n",
        "    COUNT(*) AS total_pessoas,\n",
        "    ROUND((COUNT(CASE WHEN DSC_FOI_ESTABELECIMENTO_SAUDE = 'Sim' THEN 1 END) / COUNT(*)) * 100, 2) AS taxa_atendimento\n",
        "FROM tabela_microdados\n",
        "GROUP BY UF\n",
        "ORDER BY taxa_atendimento ASC;\n",
        "\"\"\").toPandas()\n",
        "\n",
        "fig = px.bar(atendimento_df, x=\"taxa_atendimento\", y=\"UF\", orientation=\"h\",\n",
        "             title=\"Taxa de Atendimento Médico por UF\")\n",
        "fig.show()"
      ],
      "metadata": {
        "colab": {
          "base_uri": "https://localhost:8080/",
          "height": 542
        },
        "id": "Kog8vt3-nX18",
        "outputId": "34129fd9-a4a1-46a1-a1fa-e73fe5d61e27"
      },
      "execution_count": 51,
      "outputs": [
        {
          "output_type": "display_data",
          "data": {
            "text/html": [
              "<html>\n",
              "<head><meta charset=\"utf-8\" /></head>\n",
              "<body>\n",
              "    <div>            <script src=\"https://cdnjs.cloudflare.com/ajax/libs/mathjax/2.7.5/MathJax.js?config=TeX-AMS-MML_SVG\"></script><script type=\"text/javascript\">if (window.MathJax && window.MathJax.Hub && window.MathJax.Hub.Config) {window.MathJax.Hub.Config({SVG: {font: \"STIX-Web\"}});}</script>                <script type=\"text/javascript\">window.PlotlyConfig = {MathJaxConfig: 'local'};</script>\n",
              "        <script charset=\"utf-8\" src=\"https://cdn.plot.ly/plotly-2.35.2.min.js\"></script>                <div id=\"27329330-0675-4c77-9ee0-27c2bc6dcb7c\" class=\"plotly-graph-div\" style=\"height:525px; width:100%;\"></div>            <script type=\"text/javascript\">                                    window.PLOTLYENV=window.PLOTLYENV || {};                                    if (document.getElementById(\"27329330-0675-4c77-9ee0-27c2bc6dcb7c\")) {                    Plotly.newPlot(                        \"27329330-0675-4c77-9ee0-27c2bc6dcb7c\",                        [{\"alignmentgroup\":\"True\",\"hovertemplate\":\"taxa_atendimento=%{x}\\u003cbr\\u003eUF=%{y}\\u003cextra\\u003e\\u003c\\u002fextra\\u003e\",\"legendgroup\":\"\",\"marker\":{\"color\":\"#636efa\",\"pattern\":{\"shape\":\"\"}},\"name\":\"\",\"offsetgroup\":\"\",\"orientation\":\"h\",\"showlegend\":false,\"textposition\":\"auto\",\"x\":[0.77,0.87,0.93,1.01,1.03,1.07,1.08,1.08,1.1,1.14,1.18,1.18,1.21,1.22,1.22,1.24,1.27,1.27,1.34,1.36,1.44,1.51,1.6,1.69,1.72,1.83,1.96],\"xaxis\":\"x\",\"y\":[\"Rio de Janeiro\",\"Pernambuco\",\"Ceará\",\"Rondônia\",\"Alagoas\",\"Maranhão\",\"Piauí\",\"Amazonas\",\"Bahia\",\"Acre\",\"Espírito Santo\",\"Minas Gerais\",\"Rio Grande do Norte\",\"Pará\",\"Mato Grosso do Sul\",\"São Paulo\",\"Sergipe\",\"Santa Catarina\",\"Rio Grande do Sul\",\"Paraná\",\"Paraíba\",\"Tocantins\",\"Goiás\",\"Distrito Federal\",\"Roraima\",\"Mato Grosso\",\"Amapá\"],\"yaxis\":\"y\",\"type\":\"bar\"}],                        {\"template\":{\"data\":{\"histogram2dcontour\":[{\"type\":\"histogram2dcontour\",\"colorbar\":{\"outlinewidth\":0,\"ticks\":\"\"},\"colorscale\":[[0.0,\"#0d0887\"],[0.1111111111111111,\"#46039f\"],[0.2222222222222222,\"#7201a8\"],[0.3333333333333333,\"#9c179e\"],[0.4444444444444444,\"#bd3786\"],[0.5555555555555556,\"#d8576b\"],[0.6666666666666666,\"#ed7953\"],[0.7777777777777778,\"#fb9f3a\"],[0.8888888888888888,\"#fdca26\"],[1.0,\"#f0f921\"]]}],\"choropleth\":[{\"type\":\"choropleth\",\"colorbar\":{\"outlinewidth\":0,\"ticks\":\"\"}}],\"histogram2d\":[{\"type\":\"histogram2d\",\"colorbar\":{\"outlinewidth\":0,\"ticks\":\"\"},\"colorscale\":[[0.0,\"#0d0887\"],[0.1111111111111111,\"#46039f\"],[0.2222222222222222,\"#7201a8\"],[0.3333333333333333,\"#9c179e\"],[0.4444444444444444,\"#bd3786\"],[0.5555555555555556,\"#d8576b\"],[0.6666666666666666,\"#ed7953\"],[0.7777777777777778,\"#fb9f3a\"],[0.8888888888888888,\"#fdca26\"],[1.0,\"#f0f921\"]]}],\"heatmap\":[{\"type\":\"heatmap\",\"colorbar\":{\"outlinewidth\":0,\"ticks\":\"\"},\"colorscale\":[[0.0,\"#0d0887\"],[0.1111111111111111,\"#46039f\"],[0.2222222222222222,\"#7201a8\"],[0.3333333333333333,\"#9c179e\"],[0.4444444444444444,\"#bd3786\"],[0.5555555555555556,\"#d8576b\"],[0.6666666666666666,\"#ed7953\"],[0.7777777777777778,\"#fb9f3a\"],[0.8888888888888888,\"#fdca26\"],[1.0,\"#f0f921\"]]}],\"heatmapgl\":[{\"type\":\"heatmapgl\",\"colorbar\":{\"outlinewidth\":0,\"ticks\":\"\"},\"colorscale\":[[0.0,\"#0d0887\"],[0.1111111111111111,\"#46039f\"],[0.2222222222222222,\"#7201a8\"],[0.3333333333333333,\"#9c179e\"],[0.4444444444444444,\"#bd3786\"],[0.5555555555555556,\"#d8576b\"],[0.6666666666666666,\"#ed7953\"],[0.7777777777777778,\"#fb9f3a\"],[0.8888888888888888,\"#fdca26\"],[1.0,\"#f0f921\"]]}],\"contourcarpet\":[{\"type\":\"contourcarpet\",\"colorbar\":{\"outlinewidth\":0,\"ticks\":\"\"}}],\"contour\":[{\"type\":\"contour\",\"colorbar\":{\"outlinewidth\":0,\"ticks\":\"\"},\"colorscale\":[[0.0,\"#0d0887\"],[0.1111111111111111,\"#46039f\"],[0.2222222222222222,\"#7201a8\"],[0.3333333333333333,\"#9c179e\"],[0.4444444444444444,\"#bd3786\"],[0.5555555555555556,\"#d8576b\"],[0.6666666666666666,\"#ed7953\"],[0.7777777777777778,\"#fb9f3a\"],[0.8888888888888888,\"#fdca26\"],[1.0,\"#f0f921\"]]}],\"surface\":[{\"type\":\"surface\",\"colorbar\":{\"outlinewidth\":0,\"ticks\":\"\"},\"colorscale\":[[0.0,\"#0d0887\"],[0.1111111111111111,\"#46039f\"],[0.2222222222222222,\"#7201a8\"],[0.3333333333333333,\"#9c179e\"],[0.4444444444444444,\"#bd3786\"],[0.5555555555555556,\"#d8576b\"],[0.6666666666666666,\"#ed7953\"],[0.7777777777777778,\"#fb9f3a\"],[0.8888888888888888,\"#fdca26\"],[1.0,\"#f0f921\"]]}],\"mesh3d\":[{\"type\":\"mesh3d\",\"colorbar\":{\"outlinewidth\":0,\"ticks\":\"\"}}],\"scatter\":[{\"fillpattern\":{\"fillmode\":\"overlay\",\"size\":10,\"solidity\":0.2},\"type\":\"scatter\"}],\"parcoords\":[{\"type\":\"parcoords\",\"line\":{\"colorbar\":{\"outlinewidth\":0,\"ticks\":\"\"}}}],\"scatterpolargl\":[{\"type\":\"scatterpolargl\",\"marker\":{\"colorbar\":{\"outlinewidth\":0,\"ticks\":\"\"}}}],\"bar\":[{\"error_x\":{\"color\":\"#2a3f5f\"},\"error_y\":{\"color\":\"#2a3f5f\"},\"marker\":{\"line\":{\"color\":\"#E5ECF6\",\"width\":0.5},\"pattern\":{\"fillmode\":\"overlay\",\"size\":10,\"solidity\":0.2}},\"type\":\"bar\"}],\"scattergeo\":[{\"type\":\"scattergeo\",\"marker\":{\"colorbar\":{\"outlinewidth\":0,\"ticks\":\"\"}}}],\"scatterpolar\":[{\"type\":\"scatterpolar\",\"marker\":{\"colorbar\":{\"outlinewidth\":0,\"ticks\":\"\"}}}],\"histogram\":[{\"marker\":{\"pattern\":{\"fillmode\":\"overlay\",\"size\":10,\"solidity\":0.2}},\"type\":\"histogram\"}],\"scattergl\":[{\"type\":\"scattergl\",\"marker\":{\"colorbar\":{\"outlinewidth\":0,\"ticks\":\"\"}}}],\"scatter3d\":[{\"type\":\"scatter3d\",\"line\":{\"colorbar\":{\"outlinewidth\":0,\"ticks\":\"\"}},\"marker\":{\"colorbar\":{\"outlinewidth\":0,\"ticks\":\"\"}}}],\"scattermapbox\":[{\"type\":\"scattermapbox\",\"marker\":{\"colorbar\":{\"outlinewidth\":0,\"ticks\":\"\"}}}],\"scatterternary\":[{\"type\":\"scatterternary\",\"marker\":{\"colorbar\":{\"outlinewidth\":0,\"ticks\":\"\"}}}],\"scattercarpet\":[{\"type\":\"scattercarpet\",\"marker\":{\"colorbar\":{\"outlinewidth\":0,\"ticks\":\"\"}}}],\"carpet\":[{\"aaxis\":{\"endlinecolor\":\"#2a3f5f\",\"gridcolor\":\"white\",\"linecolor\":\"white\",\"minorgridcolor\":\"white\",\"startlinecolor\":\"#2a3f5f\"},\"baxis\":{\"endlinecolor\":\"#2a3f5f\",\"gridcolor\":\"white\",\"linecolor\":\"white\",\"minorgridcolor\":\"white\",\"startlinecolor\":\"#2a3f5f\"},\"type\":\"carpet\"}],\"table\":[{\"cells\":{\"fill\":{\"color\":\"#EBF0F8\"},\"line\":{\"color\":\"white\"}},\"header\":{\"fill\":{\"color\":\"#C8D4E3\"},\"line\":{\"color\":\"white\"}},\"type\":\"table\"}],\"barpolar\":[{\"marker\":{\"line\":{\"color\":\"#E5ECF6\",\"width\":0.5},\"pattern\":{\"fillmode\":\"overlay\",\"size\":10,\"solidity\":0.2}},\"type\":\"barpolar\"}],\"pie\":[{\"automargin\":true,\"type\":\"pie\"}]},\"layout\":{\"autotypenumbers\":\"strict\",\"colorway\":[\"#636efa\",\"#EF553B\",\"#00cc96\",\"#ab63fa\",\"#FFA15A\",\"#19d3f3\",\"#FF6692\",\"#B6E880\",\"#FF97FF\",\"#FECB52\"],\"font\":{\"color\":\"#2a3f5f\"},\"hovermode\":\"closest\",\"hoverlabel\":{\"align\":\"left\"},\"paper_bgcolor\":\"white\",\"plot_bgcolor\":\"#E5ECF6\",\"polar\":{\"bgcolor\":\"#E5ECF6\",\"angularaxis\":{\"gridcolor\":\"white\",\"linecolor\":\"white\",\"ticks\":\"\"},\"radialaxis\":{\"gridcolor\":\"white\",\"linecolor\":\"white\",\"ticks\":\"\"}},\"ternary\":{\"bgcolor\":\"#E5ECF6\",\"aaxis\":{\"gridcolor\":\"white\",\"linecolor\":\"white\",\"ticks\":\"\"},\"baxis\":{\"gridcolor\":\"white\",\"linecolor\":\"white\",\"ticks\":\"\"},\"caxis\":{\"gridcolor\":\"white\",\"linecolor\":\"white\",\"ticks\":\"\"}},\"coloraxis\":{\"colorbar\":{\"outlinewidth\":0,\"ticks\":\"\"}},\"colorscale\":{\"sequential\":[[0.0,\"#0d0887\"],[0.1111111111111111,\"#46039f\"],[0.2222222222222222,\"#7201a8\"],[0.3333333333333333,\"#9c179e\"],[0.4444444444444444,\"#bd3786\"],[0.5555555555555556,\"#d8576b\"],[0.6666666666666666,\"#ed7953\"],[0.7777777777777778,\"#fb9f3a\"],[0.8888888888888888,\"#fdca26\"],[1.0,\"#f0f921\"]],\"sequentialminus\":[[0.0,\"#0d0887\"],[0.1111111111111111,\"#46039f\"],[0.2222222222222222,\"#7201a8\"],[0.3333333333333333,\"#9c179e\"],[0.4444444444444444,\"#bd3786\"],[0.5555555555555556,\"#d8576b\"],[0.6666666666666666,\"#ed7953\"],[0.7777777777777778,\"#fb9f3a\"],[0.8888888888888888,\"#fdca26\"],[1.0,\"#f0f921\"]],\"diverging\":[[0,\"#8e0152\"],[0.1,\"#c51b7d\"],[0.2,\"#de77ae\"],[0.3,\"#f1b6da\"],[0.4,\"#fde0ef\"],[0.5,\"#f7f7f7\"],[0.6,\"#e6f5d0\"],[0.7,\"#b8e186\"],[0.8,\"#7fbc41\"],[0.9,\"#4d9221\"],[1,\"#276419\"]]},\"xaxis\":{\"gridcolor\":\"white\",\"linecolor\":\"white\",\"ticks\":\"\",\"title\":{\"standoff\":15},\"zerolinecolor\":\"white\",\"automargin\":true,\"zerolinewidth\":2},\"yaxis\":{\"gridcolor\":\"white\",\"linecolor\":\"white\",\"ticks\":\"\",\"title\":{\"standoff\":15},\"zerolinecolor\":\"white\",\"automargin\":true,\"zerolinewidth\":2},\"scene\":{\"xaxis\":{\"backgroundcolor\":\"#E5ECF6\",\"gridcolor\":\"white\",\"linecolor\":\"white\",\"showbackground\":true,\"ticks\":\"\",\"zerolinecolor\":\"white\",\"gridwidth\":2},\"yaxis\":{\"backgroundcolor\":\"#E5ECF6\",\"gridcolor\":\"white\",\"linecolor\":\"white\",\"showbackground\":true,\"ticks\":\"\",\"zerolinecolor\":\"white\",\"gridwidth\":2},\"zaxis\":{\"backgroundcolor\":\"#E5ECF6\",\"gridcolor\":\"white\",\"linecolor\":\"white\",\"showbackground\":true,\"ticks\":\"\",\"zerolinecolor\":\"white\",\"gridwidth\":2}},\"shapedefaults\":{\"line\":{\"color\":\"#2a3f5f\"}},\"annotationdefaults\":{\"arrowcolor\":\"#2a3f5f\",\"arrowhead\":0,\"arrowwidth\":1},\"geo\":{\"bgcolor\":\"white\",\"landcolor\":\"#E5ECF6\",\"subunitcolor\":\"white\",\"showland\":true,\"showlakes\":true,\"lakecolor\":\"white\"},\"title\":{\"x\":0.05},\"mapbox\":{\"style\":\"light\"}}},\"xaxis\":{\"anchor\":\"y\",\"domain\":[0.0,1.0],\"title\":{\"text\":\"taxa_atendimento\"}},\"yaxis\":{\"anchor\":\"x\",\"domain\":[0.0,1.0],\"title\":{\"text\":\"UF\"}},\"legend\":{\"tracegroupgap\":0},\"title\":{\"text\":\"Taxa de Atendimento Médico por UF\"},\"barmode\":\"relative\"},                        {\"responsive\": true}                    ).then(function(){\n",
              "                            \n",
              "var gd = document.getElementById('27329330-0675-4c77-9ee0-27c2bc6dcb7c');\n",
              "var x = new MutationObserver(function (mutations, observer) {{\n",
              "        var display = window.getComputedStyle(gd).display;\n",
              "        if (!display || display === 'none') {{\n",
              "            console.log([gd, 'removed!']);\n",
              "            Plotly.purge(gd);\n",
              "            observer.disconnect();\n",
              "        }}\n",
              "}});\n",
              "\n",
              "// Listen for the removal of the full notebook cells\n",
              "var notebookContainer = gd.closest('#notebook-container');\n",
              "if (notebookContainer) {{\n",
              "    x.observe(notebookContainer, {childList: true});\n",
              "}}\n",
              "\n",
              "// Listen for the clearing of the current output cell\n",
              "var outputEl = gd.closest('.output');\n",
              "if (outputEl) {{\n",
              "    x.observe(outputEl, {childList: true});\n",
              "}}\n",
              "\n",
              "                        })                };                            </script>        </div>\n",
              "</body>\n",
              "</html>"
            ]
          },
          "metadata": {}
        }
      ]
    },
    {
      "cell_type": "markdown",
      "source": [
        "### Características Econômicas da Sociedade\n",
        "\n",
        "Insights a serem explorados:\n",
        "\n",
        "- Impacto do desemprego: Filtrar por pessoas que não procuraram trabalho (DSC_MOTIVO_N_PROCUROU_TRABALHO) e analisar por nível de escolaridade.\n",
        "- Dependência do auxílio emergencial (DSC_AUXILIO_CORONAVIRUS):\n",
        "- Identificar regiões e faixas de renda com maior dependência do auxílio.\n",
        "- Renda e impacto por setor (DSC_AREA_ATUACAO):\n",
        "- Analisar setores mais impactados ao longo dos 3 meses."
      ],
      "metadata": {
        "id": "Kncc1wl-mQb2"
      }
    },
    {
      "cell_type": "markdown",
      "source": [
        "**Impacto do desemprego por nível de escolaridade**"
      ],
      "metadata": {
        "id": "wc0K0-Ozo_Xi"
      }
    },
    {
      "cell_type": "code",
      "source": [
        "spark.sql(\"\"\"\n",
        "SELECT\n",
        "    DSC_NIVEL_INSTRUCAO,\n",
        "    COUNT(*) AS quantidade_desempregados\n",
        "FROM tabela_microdados\n",
        "WHERE DSC_MOTIVO_N_PROCUROU_TRABALHO IS NOT NULL\n",
        "GROUP BY DSC_NIVEL_INSTRUCAO\n",
        "ORDER BY quantidade_desempregados DESC;\n",
        "\"\"\").show()"
      ],
      "metadata": {
        "colab": {
          "base_uri": "https://localhost:8080/"
        },
        "id": "kbUV0NMRmYi1",
        "outputId": "e1b05836-7fd5-440f-8726-1f51ce948aff"
      },
      "execution_count": 56,
      "outputs": [
        {
          "output_type": "stream",
          "name": "stdout",
          "text": [
            "+--------------------+------------------------+\n",
            "| DSC_NIVEL_INSTRUCAO|quantidade_desempregados|\n",
            "+--------------------+------------------------+\n",
            "|Fundamental incom...|                  389050|\n",
            "|      Médio completo|                  257051|\n",
            "|       Sem instrução|                  124279|\n",
            "|    Médio incompleto|                  108080|\n",
            "|   Superior completo|                  108019|\n",
            "|Fundamental completo|                   76365|\n",
            "| Superior incompleto|                   59914|\n",
            "|Pós Graduação, Me...|                   30144|\n",
            "+--------------------+------------------------+\n",
            "\n"
          ]
        }
      ]
    },
    {
      "cell_type": "code",
      "source": [
        "desemprego_df = spark.sql(\"\"\"\n",
        "SELECT\n",
        "    DSC_NIVEL_INSTRUCAO,\n",
        "    COUNT(*) AS quantidade_desempregados\n",
        "FROM tabela_microdados\n",
        "WHERE DSC_MOTIVO_N_PROCUROU_TRABALHO IS NOT NULL\n",
        "GROUP BY DSC_NIVEL_INSTRUCAO\n",
        "ORDER BY quantidade_desempregados DESC;\n",
        "\"\"\").toPandas()\n",
        "\n",
        "fig = px.pie(desemprego_df, names=\"DSC_NIVEL_INSTRUCAO\", values=\"quantidade_desempregados\",\n",
        "             title=\"Impacto do Desemprego por Escolaridade\")\n",
        "fig.show()"
      ],
      "metadata": {
        "colab": {
          "base_uri": "https://localhost:8080/",
          "height": 542
        },
        "id": "nN0VhWm9pHDn",
        "outputId": "ed877335-3844-4c32-c082-cd7c60b2453c"
      },
      "execution_count": 57,
      "outputs": [
        {
          "output_type": "display_data",
          "data": {
            "text/html": [
              "<html>\n",
              "<head><meta charset=\"utf-8\" /></head>\n",
              "<body>\n",
              "    <div>            <script src=\"https://cdnjs.cloudflare.com/ajax/libs/mathjax/2.7.5/MathJax.js?config=TeX-AMS-MML_SVG\"></script><script type=\"text/javascript\">if (window.MathJax && window.MathJax.Hub && window.MathJax.Hub.Config) {window.MathJax.Hub.Config({SVG: {font: \"STIX-Web\"}});}</script>                <script type=\"text/javascript\">window.PlotlyConfig = {MathJaxConfig: 'local'};</script>\n",
              "        <script charset=\"utf-8\" src=\"https://cdn.plot.ly/plotly-2.35.2.min.js\"></script>                <div id=\"176d6750-32ac-4e72-9836-e7ce6d34b796\" class=\"plotly-graph-div\" style=\"height:525px; width:100%;\"></div>            <script type=\"text/javascript\">                                    window.PLOTLYENV=window.PLOTLYENV || {};                                    if (document.getElementById(\"176d6750-32ac-4e72-9836-e7ce6d34b796\")) {                    Plotly.newPlot(                        \"176d6750-32ac-4e72-9836-e7ce6d34b796\",                        [{\"domain\":{\"x\":[0.0,1.0],\"y\":[0.0,1.0]},\"hovertemplate\":\"DSC_NIVEL_INSTRUCAO=%{label}\\u003cbr\\u003equantidade_desempregados=%{value}\\u003cextra\\u003e\\u003c\\u002fextra\\u003e\",\"labels\":[\"Fundamental incompleto\",\"Médio completo\",\"Sem instrução\",\"Médio incompleto\",\"Superior completo\",\"Fundamental completo\",\"Superior incompleto\",\"Pós Graduação, Mestrado ou Doutorado\"],\"legendgroup\":\"\",\"name\":\"\",\"showlegend\":true,\"values\":[389050,257051,124279,108080,108019,76365,59914,30144],\"type\":\"pie\"}],                        {\"template\":{\"data\":{\"histogram2dcontour\":[{\"type\":\"histogram2dcontour\",\"colorbar\":{\"outlinewidth\":0,\"ticks\":\"\"},\"colorscale\":[[0.0,\"#0d0887\"],[0.1111111111111111,\"#46039f\"],[0.2222222222222222,\"#7201a8\"],[0.3333333333333333,\"#9c179e\"],[0.4444444444444444,\"#bd3786\"],[0.5555555555555556,\"#d8576b\"],[0.6666666666666666,\"#ed7953\"],[0.7777777777777778,\"#fb9f3a\"],[0.8888888888888888,\"#fdca26\"],[1.0,\"#f0f921\"]]}],\"choropleth\":[{\"type\":\"choropleth\",\"colorbar\":{\"outlinewidth\":0,\"ticks\":\"\"}}],\"histogram2d\":[{\"type\":\"histogram2d\",\"colorbar\":{\"outlinewidth\":0,\"ticks\":\"\"},\"colorscale\":[[0.0,\"#0d0887\"],[0.1111111111111111,\"#46039f\"],[0.2222222222222222,\"#7201a8\"],[0.3333333333333333,\"#9c179e\"],[0.4444444444444444,\"#bd3786\"],[0.5555555555555556,\"#d8576b\"],[0.6666666666666666,\"#ed7953\"],[0.7777777777777778,\"#fb9f3a\"],[0.8888888888888888,\"#fdca26\"],[1.0,\"#f0f921\"]]}],\"heatmap\":[{\"type\":\"heatmap\",\"colorbar\":{\"outlinewidth\":0,\"ticks\":\"\"},\"colorscale\":[[0.0,\"#0d0887\"],[0.1111111111111111,\"#46039f\"],[0.2222222222222222,\"#7201a8\"],[0.3333333333333333,\"#9c179e\"],[0.4444444444444444,\"#bd3786\"],[0.5555555555555556,\"#d8576b\"],[0.6666666666666666,\"#ed7953\"],[0.7777777777777778,\"#fb9f3a\"],[0.8888888888888888,\"#fdca26\"],[1.0,\"#f0f921\"]]}],\"heatmapgl\":[{\"type\":\"heatmapgl\",\"colorbar\":{\"outlinewidth\":0,\"ticks\":\"\"},\"colorscale\":[[0.0,\"#0d0887\"],[0.1111111111111111,\"#46039f\"],[0.2222222222222222,\"#7201a8\"],[0.3333333333333333,\"#9c179e\"],[0.4444444444444444,\"#bd3786\"],[0.5555555555555556,\"#d8576b\"],[0.6666666666666666,\"#ed7953\"],[0.7777777777777778,\"#fb9f3a\"],[0.8888888888888888,\"#fdca26\"],[1.0,\"#f0f921\"]]}],\"contourcarpet\":[{\"type\":\"contourcarpet\",\"colorbar\":{\"outlinewidth\":0,\"ticks\":\"\"}}],\"contour\":[{\"type\":\"contour\",\"colorbar\":{\"outlinewidth\":0,\"ticks\":\"\"},\"colorscale\":[[0.0,\"#0d0887\"],[0.1111111111111111,\"#46039f\"],[0.2222222222222222,\"#7201a8\"],[0.3333333333333333,\"#9c179e\"],[0.4444444444444444,\"#bd3786\"],[0.5555555555555556,\"#d8576b\"],[0.6666666666666666,\"#ed7953\"],[0.7777777777777778,\"#fb9f3a\"],[0.8888888888888888,\"#fdca26\"],[1.0,\"#f0f921\"]]}],\"surface\":[{\"type\":\"surface\",\"colorbar\":{\"outlinewidth\":0,\"ticks\":\"\"},\"colorscale\":[[0.0,\"#0d0887\"],[0.1111111111111111,\"#46039f\"],[0.2222222222222222,\"#7201a8\"],[0.3333333333333333,\"#9c179e\"],[0.4444444444444444,\"#bd3786\"],[0.5555555555555556,\"#d8576b\"],[0.6666666666666666,\"#ed7953\"],[0.7777777777777778,\"#fb9f3a\"],[0.8888888888888888,\"#fdca26\"],[1.0,\"#f0f921\"]]}],\"mesh3d\":[{\"type\":\"mesh3d\",\"colorbar\":{\"outlinewidth\":0,\"ticks\":\"\"}}],\"scatter\":[{\"fillpattern\":{\"fillmode\":\"overlay\",\"size\":10,\"solidity\":0.2},\"type\":\"scatter\"}],\"parcoords\":[{\"type\":\"parcoords\",\"line\":{\"colorbar\":{\"outlinewidth\":0,\"ticks\":\"\"}}}],\"scatterpolargl\":[{\"type\":\"scatterpolargl\",\"marker\":{\"colorbar\":{\"outlinewidth\":0,\"ticks\":\"\"}}}],\"bar\":[{\"error_x\":{\"color\":\"#2a3f5f\"},\"error_y\":{\"color\":\"#2a3f5f\"},\"marker\":{\"line\":{\"color\":\"#E5ECF6\",\"width\":0.5},\"pattern\":{\"fillmode\":\"overlay\",\"size\":10,\"solidity\":0.2}},\"type\":\"bar\"}],\"scattergeo\":[{\"type\":\"scattergeo\",\"marker\":{\"colorbar\":{\"outlinewidth\":0,\"ticks\":\"\"}}}],\"scatterpolar\":[{\"type\":\"scatterpolar\",\"marker\":{\"colorbar\":{\"outlinewidth\":0,\"ticks\":\"\"}}}],\"histogram\":[{\"marker\":{\"pattern\":{\"fillmode\":\"overlay\",\"size\":10,\"solidity\":0.2}},\"type\":\"histogram\"}],\"scattergl\":[{\"type\":\"scattergl\",\"marker\":{\"colorbar\":{\"outlinewidth\":0,\"ticks\":\"\"}}}],\"scatter3d\":[{\"type\":\"scatter3d\",\"line\":{\"colorbar\":{\"outlinewidth\":0,\"ticks\":\"\"}},\"marker\":{\"colorbar\":{\"outlinewidth\":0,\"ticks\":\"\"}}}],\"scattermapbox\":[{\"type\":\"scattermapbox\",\"marker\":{\"colorbar\":{\"outlinewidth\":0,\"ticks\":\"\"}}}],\"scatterternary\":[{\"type\":\"scatterternary\",\"marker\":{\"colorbar\":{\"outlinewidth\":0,\"ticks\":\"\"}}}],\"scattercarpet\":[{\"type\":\"scattercarpet\",\"marker\":{\"colorbar\":{\"outlinewidth\":0,\"ticks\":\"\"}}}],\"carpet\":[{\"aaxis\":{\"endlinecolor\":\"#2a3f5f\",\"gridcolor\":\"white\",\"linecolor\":\"white\",\"minorgridcolor\":\"white\",\"startlinecolor\":\"#2a3f5f\"},\"baxis\":{\"endlinecolor\":\"#2a3f5f\",\"gridcolor\":\"white\",\"linecolor\":\"white\",\"minorgridcolor\":\"white\",\"startlinecolor\":\"#2a3f5f\"},\"type\":\"carpet\"}],\"table\":[{\"cells\":{\"fill\":{\"color\":\"#EBF0F8\"},\"line\":{\"color\":\"white\"}},\"header\":{\"fill\":{\"color\":\"#C8D4E3\"},\"line\":{\"color\":\"white\"}},\"type\":\"table\"}],\"barpolar\":[{\"marker\":{\"line\":{\"color\":\"#E5ECF6\",\"width\":0.5},\"pattern\":{\"fillmode\":\"overlay\",\"size\":10,\"solidity\":0.2}},\"type\":\"barpolar\"}],\"pie\":[{\"automargin\":true,\"type\":\"pie\"}]},\"layout\":{\"autotypenumbers\":\"strict\",\"colorway\":[\"#636efa\",\"#EF553B\",\"#00cc96\",\"#ab63fa\",\"#FFA15A\",\"#19d3f3\",\"#FF6692\",\"#B6E880\",\"#FF97FF\",\"#FECB52\"],\"font\":{\"color\":\"#2a3f5f\"},\"hovermode\":\"closest\",\"hoverlabel\":{\"align\":\"left\"},\"paper_bgcolor\":\"white\",\"plot_bgcolor\":\"#E5ECF6\",\"polar\":{\"bgcolor\":\"#E5ECF6\",\"angularaxis\":{\"gridcolor\":\"white\",\"linecolor\":\"white\",\"ticks\":\"\"},\"radialaxis\":{\"gridcolor\":\"white\",\"linecolor\":\"white\",\"ticks\":\"\"}},\"ternary\":{\"bgcolor\":\"#E5ECF6\",\"aaxis\":{\"gridcolor\":\"white\",\"linecolor\":\"white\",\"ticks\":\"\"},\"baxis\":{\"gridcolor\":\"white\",\"linecolor\":\"white\",\"ticks\":\"\"},\"caxis\":{\"gridcolor\":\"white\",\"linecolor\":\"white\",\"ticks\":\"\"}},\"coloraxis\":{\"colorbar\":{\"outlinewidth\":0,\"ticks\":\"\"}},\"colorscale\":{\"sequential\":[[0.0,\"#0d0887\"],[0.1111111111111111,\"#46039f\"],[0.2222222222222222,\"#7201a8\"],[0.3333333333333333,\"#9c179e\"],[0.4444444444444444,\"#bd3786\"],[0.5555555555555556,\"#d8576b\"],[0.6666666666666666,\"#ed7953\"],[0.7777777777777778,\"#fb9f3a\"],[0.8888888888888888,\"#fdca26\"],[1.0,\"#f0f921\"]],\"sequentialminus\":[[0.0,\"#0d0887\"],[0.1111111111111111,\"#46039f\"],[0.2222222222222222,\"#7201a8\"],[0.3333333333333333,\"#9c179e\"],[0.4444444444444444,\"#bd3786\"],[0.5555555555555556,\"#d8576b\"],[0.6666666666666666,\"#ed7953\"],[0.7777777777777778,\"#fb9f3a\"],[0.8888888888888888,\"#fdca26\"],[1.0,\"#f0f921\"]],\"diverging\":[[0,\"#8e0152\"],[0.1,\"#c51b7d\"],[0.2,\"#de77ae\"],[0.3,\"#f1b6da\"],[0.4,\"#fde0ef\"],[0.5,\"#f7f7f7\"],[0.6,\"#e6f5d0\"],[0.7,\"#b8e186\"],[0.8,\"#7fbc41\"],[0.9,\"#4d9221\"],[1,\"#276419\"]]},\"xaxis\":{\"gridcolor\":\"white\",\"linecolor\":\"white\",\"ticks\":\"\",\"title\":{\"standoff\":15},\"zerolinecolor\":\"white\",\"automargin\":true,\"zerolinewidth\":2},\"yaxis\":{\"gridcolor\":\"white\",\"linecolor\":\"white\",\"ticks\":\"\",\"title\":{\"standoff\":15},\"zerolinecolor\":\"white\",\"automargin\":true,\"zerolinewidth\":2},\"scene\":{\"xaxis\":{\"backgroundcolor\":\"#E5ECF6\",\"gridcolor\":\"white\",\"linecolor\":\"white\",\"showbackground\":true,\"ticks\":\"\",\"zerolinecolor\":\"white\",\"gridwidth\":2},\"yaxis\":{\"backgroundcolor\":\"#E5ECF6\",\"gridcolor\":\"white\",\"linecolor\":\"white\",\"showbackground\":true,\"ticks\":\"\",\"zerolinecolor\":\"white\",\"gridwidth\":2},\"zaxis\":{\"backgroundcolor\":\"#E5ECF6\",\"gridcolor\":\"white\",\"linecolor\":\"white\",\"showbackground\":true,\"ticks\":\"\",\"zerolinecolor\":\"white\",\"gridwidth\":2}},\"shapedefaults\":{\"line\":{\"color\":\"#2a3f5f\"}},\"annotationdefaults\":{\"arrowcolor\":\"#2a3f5f\",\"arrowhead\":0,\"arrowwidth\":1},\"geo\":{\"bgcolor\":\"white\",\"landcolor\":\"#E5ECF6\",\"subunitcolor\":\"white\",\"showland\":true,\"showlakes\":true,\"lakecolor\":\"white\"},\"title\":{\"x\":0.05},\"mapbox\":{\"style\":\"light\"}}},\"legend\":{\"tracegroupgap\":0},\"title\":{\"text\":\"Impacto do Desemprego por Escolaridade\"}},                        {\"responsive\": true}                    ).then(function(){\n",
              "                            \n",
              "var gd = document.getElementById('176d6750-32ac-4e72-9836-e7ce6d34b796');\n",
              "var x = new MutationObserver(function (mutations, observer) {{\n",
              "        var display = window.getComputedStyle(gd).display;\n",
              "        if (!display || display === 'none') {{\n",
              "            console.log([gd, 'removed!']);\n",
              "            Plotly.purge(gd);\n",
              "            observer.disconnect();\n",
              "        }}\n",
              "}});\n",
              "\n",
              "// Listen for the removal of the full notebook cells\n",
              "var notebookContainer = gd.closest('#notebook-container');\n",
              "if (notebookContainer) {{\n",
              "    x.observe(notebookContainer, {childList: true});\n",
              "}}\n",
              "\n",
              "// Listen for the clearing of the current output cell\n",
              "var outputEl = gd.closest('.output');\n",
              "if (outputEl) {{\n",
              "    x.observe(outputEl, {childList: true});\n",
              "}}\n",
              "\n",
              "                        })                };                            </script>        </div>\n",
              "</body>\n",
              "</html>"
            ]
          },
          "metadata": {}
        }
      ]
    },
    {
      "cell_type": "markdown",
      "source": [
        "**Dependência do auxílio emergencial**"
      ],
      "metadata": {
        "id": "eO43CJsXpNbq"
      }
    },
    {
      "cell_type": "code",
      "source": [
        "spark.sql(\"\"\"\n",
        "SELECT\n",
        "    UF,\n",
        "    COUNT(*) AS beneficiarios_auxilio\n",
        "FROM tabela_microdados\n",
        "WHERE DSC_AUXILIO_CORONAVIRUS = 'Sim'\n",
        "GROUP BY UF\n",
        "ORDER BY beneficiarios_auxilio DESC;\n",
        "\"\"\").show()"
      ],
      "metadata": {
        "colab": {
          "base_uri": "https://localhost:8080/"
        },
        "id": "Y8zcPiRDpOnJ",
        "outputId": "11c07414-fb50-4d28-dd88-5df68830ea47"
      },
      "execution_count": 58,
      "outputs": [
        {
          "output_type": "stream",
          "name": "stdout",
          "text": [
            "+-------------------+---------------------+\n",
            "|                 UF|beneficiarios_auxilio|\n",
            "+-------------------+---------------------+\n",
            "|       Minas Gerais|                48537|\n",
            "|           Maranhão|                41537|\n",
            "|          São Paulo|                39416|\n",
            "|     Rio de Janeiro|                36489|\n",
            "|              Bahia|                34097|\n",
            "|              Ceará|                32788|\n",
            "|         Pernambuco|                31684|\n",
            "|            Alagoas|                24313|\n",
            "|               Pará|                23699|\n",
            "|             Paraná|                23604|\n",
            "|     Espírito Santo|                22860|\n",
            "|  Rio Grande do Sul|                21161|\n",
            "|              Goiás|                20329|\n",
            "|           Amazonas|                19903|\n",
            "|     Santa Catarina|                19193|\n",
            "|            Paraíba|                18423|\n",
            "|              Piauí|                16571|\n",
            "|        Mato Grosso|                15932|\n",
            "|            Sergipe|                15697|\n",
            "|Rio Grande do Norte|                14984|\n",
            "+-------------------+---------------------+\n",
            "only showing top 20 rows\n",
            "\n"
          ]
        }
      ]
    },
    {
      "cell_type": "code",
      "source": [
        "auxilio_df = spark.sql(\"\"\"\n",
        "SELECT\n",
        "    UF,\n",
        "    COUNT(*) AS beneficiarios_auxilio\n",
        "FROM tabela_microdados\n",
        "WHERE DSC_AUXILIO_CORONAVIRUS = 'Sim'\n",
        "GROUP BY UF\n",
        "ORDER BY beneficiarios_auxilio DESC;\n",
        "\"\"\").toPandas()\n",
        "\n",
        "fig = px.bar(auxilio_df, x=\"UF\", y=\"beneficiarios_auxilio\", title=\"Dependência do Auxílio Emergencial por UF\")\n",
        "fig.show()"
      ],
      "metadata": {
        "colab": {
          "base_uri": "https://localhost:8080/",
          "height": 542
        },
        "id": "0kmy3Cg9pVgi",
        "outputId": "a1545e52-b945-4c10-a3f2-eaa7abaab4aa"
      },
      "execution_count": 59,
      "outputs": [
        {
          "output_type": "display_data",
          "data": {
            "text/html": [
              "<html>\n",
              "<head><meta charset=\"utf-8\" /></head>\n",
              "<body>\n",
              "    <div>            <script src=\"https://cdnjs.cloudflare.com/ajax/libs/mathjax/2.7.5/MathJax.js?config=TeX-AMS-MML_SVG\"></script><script type=\"text/javascript\">if (window.MathJax && window.MathJax.Hub && window.MathJax.Hub.Config) {window.MathJax.Hub.Config({SVG: {font: \"STIX-Web\"}});}</script>                <script type=\"text/javascript\">window.PlotlyConfig = {MathJaxConfig: 'local'};</script>\n",
              "        <script charset=\"utf-8\" src=\"https://cdn.plot.ly/plotly-2.35.2.min.js\"></script>                <div id=\"27adff0c-c15c-4b78-9c55-5824dd69fb9e\" class=\"plotly-graph-div\" style=\"height:525px; width:100%;\"></div>            <script type=\"text/javascript\">                                    window.PLOTLYENV=window.PLOTLYENV || {};                                    if (document.getElementById(\"27adff0c-c15c-4b78-9c55-5824dd69fb9e\")) {                    Plotly.newPlot(                        \"27adff0c-c15c-4b78-9c55-5824dd69fb9e\",                        [{\"alignmentgroup\":\"True\",\"hovertemplate\":\"UF=%{x}\\u003cbr\\u003ebeneficiarios_auxilio=%{y}\\u003cextra\\u003e\\u003c\\u002fextra\\u003e\",\"legendgroup\":\"\",\"marker\":{\"color\":\"#636efa\",\"pattern\":{\"shape\":\"\"}},\"name\":\"\",\"offsetgroup\":\"\",\"orientation\":\"v\",\"showlegend\":false,\"textposition\":\"auto\",\"x\":[\"Minas Gerais\",\"Maranhão\",\"São Paulo\",\"Rio de Janeiro\",\"Bahia\",\"Ceará\",\"Pernambuco\",\"Alagoas\",\"Pará\",\"Paraná\",\"Espírito Santo\",\"Rio Grande do Sul\",\"Goiás\",\"Amazonas\",\"Santa Catarina\",\"Paraíba\",\"Piauí\",\"Mato Grosso\",\"Sergipe\",\"Rio Grande do Norte\",\"Acre\",\"Mato Grosso do Sul\",\"Roraima\",\"Rondônia\",\"Tocantins\",\"Distrito Federal\",\"Amapá\"],\"xaxis\":\"x\",\"y\":[48537,41537,39416,36489,34097,32788,31684,24313,23699,23604,22860,21161,20329,19903,19193,18423,16571,15932,15697,14984,11826,11730,9271,8641,8540,7046,5858],\"yaxis\":\"y\",\"type\":\"bar\"}],                        {\"template\":{\"data\":{\"histogram2dcontour\":[{\"type\":\"histogram2dcontour\",\"colorbar\":{\"outlinewidth\":0,\"ticks\":\"\"},\"colorscale\":[[0.0,\"#0d0887\"],[0.1111111111111111,\"#46039f\"],[0.2222222222222222,\"#7201a8\"],[0.3333333333333333,\"#9c179e\"],[0.4444444444444444,\"#bd3786\"],[0.5555555555555556,\"#d8576b\"],[0.6666666666666666,\"#ed7953\"],[0.7777777777777778,\"#fb9f3a\"],[0.8888888888888888,\"#fdca26\"],[1.0,\"#f0f921\"]]}],\"choropleth\":[{\"type\":\"choropleth\",\"colorbar\":{\"outlinewidth\":0,\"ticks\":\"\"}}],\"histogram2d\":[{\"type\":\"histogram2d\",\"colorbar\":{\"outlinewidth\":0,\"ticks\":\"\"},\"colorscale\":[[0.0,\"#0d0887\"],[0.1111111111111111,\"#46039f\"],[0.2222222222222222,\"#7201a8\"],[0.3333333333333333,\"#9c179e\"],[0.4444444444444444,\"#bd3786\"],[0.5555555555555556,\"#d8576b\"],[0.6666666666666666,\"#ed7953\"],[0.7777777777777778,\"#fb9f3a\"],[0.8888888888888888,\"#fdca26\"],[1.0,\"#f0f921\"]]}],\"heatmap\":[{\"type\":\"heatmap\",\"colorbar\":{\"outlinewidth\":0,\"ticks\":\"\"},\"colorscale\":[[0.0,\"#0d0887\"],[0.1111111111111111,\"#46039f\"],[0.2222222222222222,\"#7201a8\"],[0.3333333333333333,\"#9c179e\"],[0.4444444444444444,\"#bd3786\"],[0.5555555555555556,\"#d8576b\"],[0.6666666666666666,\"#ed7953\"],[0.7777777777777778,\"#fb9f3a\"],[0.8888888888888888,\"#fdca26\"],[1.0,\"#f0f921\"]]}],\"heatmapgl\":[{\"type\":\"heatmapgl\",\"colorbar\":{\"outlinewidth\":0,\"ticks\":\"\"},\"colorscale\":[[0.0,\"#0d0887\"],[0.1111111111111111,\"#46039f\"],[0.2222222222222222,\"#7201a8\"],[0.3333333333333333,\"#9c179e\"],[0.4444444444444444,\"#bd3786\"],[0.5555555555555556,\"#d8576b\"],[0.6666666666666666,\"#ed7953\"],[0.7777777777777778,\"#fb9f3a\"],[0.8888888888888888,\"#fdca26\"],[1.0,\"#f0f921\"]]}],\"contourcarpet\":[{\"type\":\"contourcarpet\",\"colorbar\":{\"outlinewidth\":0,\"ticks\":\"\"}}],\"contour\":[{\"type\":\"contour\",\"colorbar\":{\"outlinewidth\":0,\"ticks\":\"\"},\"colorscale\":[[0.0,\"#0d0887\"],[0.1111111111111111,\"#46039f\"],[0.2222222222222222,\"#7201a8\"],[0.3333333333333333,\"#9c179e\"],[0.4444444444444444,\"#bd3786\"],[0.5555555555555556,\"#d8576b\"],[0.6666666666666666,\"#ed7953\"],[0.7777777777777778,\"#fb9f3a\"],[0.8888888888888888,\"#fdca26\"],[1.0,\"#f0f921\"]]}],\"surface\":[{\"type\":\"surface\",\"colorbar\":{\"outlinewidth\":0,\"ticks\":\"\"},\"colorscale\":[[0.0,\"#0d0887\"],[0.1111111111111111,\"#46039f\"],[0.2222222222222222,\"#7201a8\"],[0.3333333333333333,\"#9c179e\"],[0.4444444444444444,\"#bd3786\"],[0.5555555555555556,\"#d8576b\"],[0.6666666666666666,\"#ed7953\"],[0.7777777777777778,\"#fb9f3a\"],[0.8888888888888888,\"#fdca26\"],[1.0,\"#f0f921\"]]}],\"mesh3d\":[{\"type\":\"mesh3d\",\"colorbar\":{\"outlinewidth\":0,\"ticks\":\"\"}}],\"scatter\":[{\"fillpattern\":{\"fillmode\":\"overlay\",\"size\":10,\"solidity\":0.2},\"type\":\"scatter\"}],\"parcoords\":[{\"type\":\"parcoords\",\"line\":{\"colorbar\":{\"outlinewidth\":0,\"ticks\":\"\"}}}],\"scatterpolargl\":[{\"type\":\"scatterpolargl\",\"marker\":{\"colorbar\":{\"outlinewidth\":0,\"ticks\":\"\"}}}],\"bar\":[{\"error_x\":{\"color\":\"#2a3f5f\"},\"error_y\":{\"color\":\"#2a3f5f\"},\"marker\":{\"line\":{\"color\":\"#E5ECF6\",\"width\":0.5},\"pattern\":{\"fillmode\":\"overlay\",\"size\":10,\"solidity\":0.2}},\"type\":\"bar\"}],\"scattergeo\":[{\"type\":\"scattergeo\",\"marker\":{\"colorbar\":{\"outlinewidth\":0,\"ticks\":\"\"}}}],\"scatterpolar\":[{\"type\":\"scatterpolar\",\"marker\":{\"colorbar\":{\"outlinewidth\":0,\"ticks\":\"\"}}}],\"histogram\":[{\"marker\":{\"pattern\":{\"fillmode\":\"overlay\",\"size\":10,\"solidity\":0.2}},\"type\":\"histogram\"}],\"scattergl\":[{\"type\":\"scattergl\",\"marker\":{\"colorbar\":{\"outlinewidth\":0,\"ticks\":\"\"}}}],\"scatter3d\":[{\"type\":\"scatter3d\",\"line\":{\"colorbar\":{\"outlinewidth\":0,\"ticks\":\"\"}},\"marker\":{\"colorbar\":{\"outlinewidth\":0,\"ticks\":\"\"}}}],\"scattermapbox\":[{\"type\":\"scattermapbox\",\"marker\":{\"colorbar\":{\"outlinewidth\":0,\"ticks\":\"\"}}}],\"scatterternary\":[{\"type\":\"scatterternary\",\"marker\":{\"colorbar\":{\"outlinewidth\":0,\"ticks\":\"\"}}}],\"scattercarpet\":[{\"type\":\"scattercarpet\",\"marker\":{\"colorbar\":{\"outlinewidth\":0,\"ticks\":\"\"}}}],\"carpet\":[{\"aaxis\":{\"endlinecolor\":\"#2a3f5f\",\"gridcolor\":\"white\",\"linecolor\":\"white\",\"minorgridcolor\":\"white\",\"startlinecolor\":\"#2a3f5f\"},\"baxis\":{\"endlinecolor\":\"#2a3f5f\",\"gridcolor\":\"white\",\"linecolor\":\"white\",\"minorgridcolor\":\"white\",\"startlinecolor\":\"#2a3f5f\"},\"type\":\"carpet\"}],\"table\":[{\"cells\":{\"fill\":{\"color\":\"#EBF0F8\"},\"line\":{\"color\":\"white\"}},\"header\":{\"fill\":{\"color\":\"#C8D4E3\"},\"line\":{\"color\":\"white\"}},\"type\":\"table\"}],\"barpolar\":[{\"marker\":{\"line\":{\"color\":\"#E5ECF6\",\"width\":0.5},\"pattern\":{\"fillmode\":\"overlay\",\"size\":10,\"solidity\":0.2}},\"type\":\"barpolar\"}],\"pie\":[{\"automargin\":true,\"type\":\"pie\"}]},\"layout\":{\"autotypenumbers\":\"strict\",\"colorway\":[\"#636efa\",\"#EF553B\",\"#00cc96\",\"#ab63fa\",\"#FFA15A\",\"#19d3f3\",\"#FF6692\",\"#B6E880\",\"#FF97FF\",\"#FECB52\"],\"font\":{\"color\":\"#2a3f5f\"},\"hovermode\":\"closest\",\"hoverlabel\":{\"align\":\"left\"},\"paper_bgcolor\":\"white\",\"plot_bgcolor\":\"#E5ECF6\",\"polar\":{\"bgcolor\":\"#E5ECF6\",\"angularaxis\":{\"gridcolor\":\"white\",\"linecolor\":\"white\",\"ticks\":\"\"},\"radialaxis\":{\"gridcolor\":\"white\",\"linecolor\":\"white\",\"ticks\":\"\"}},\"ternary\":{\"bgcolor\":\"#E5ECF6\",\"aaxis\":{\"gridcolor\":\"white\",\"linecolor\":\"white\",\"ticks\":\"\"},\"baxis\":{\"gridcolor\":\"white\",\"linecolor\":\"white\",\"ticks\":\"\"},\"caxis\":{\"gridcolor\":\"white\",\"linecolor\":\"white\",\"ticks\":\"\"}},\"coloraxis\":{\"colorbar\":{\"outlinewidth\":0,\"ticks\":\"\"}},\"colorscale\":{\"sequential\":[[0.0,\"#0d0887\"],[0.1111111111111111,\"#46039f\"],[0.2222222222222222,\"#7201a8\"],[0.3333333333333333,\"#9c179e\"],[0.4444444444444444,\"#bd3786\"],[0.5555555555555556,\"#d8576b\"],[0.6666666666666666,\"#ed7953\"],[0.7777777777777778,\"#fb9f3a\"],[0.8888888888888888,\"#fdca26\"],[1.0,\"#f0f921\"]],\"sequentialminus\":[[0.0,\"#0d0887\"],[0.1111111111111111,\"#46039f\"],[0.2222222222222222,\"#7201a8\"],[0.3333333333333333,\"#9c179e\"],[0.4444444444444444,\"#bd3786\"],[0.5555555555555556,\"#d8576b\"],[0.6666666666666666,\"#ed7953\"],[0.7777777777777778,\"#fb9f3a\"],[0.8888888888888888,\"#fdca26\"],[1.0,\"#f0f921\"]],\"diverging\":[[0,\"#8e0152\"],[0.1,\"#c51b7d\"],[0.2,\"#de77ae\"],[0.3,\"#f1b6da\"],[0.4,\"#fde0ef\"],[0.5,\"#f7f7f7\"],[0.6,\"#e6f5d0\"],[0.7,\"#b8e186\"],[0.8,\"#7fbc41\"],[0.9,\"#4d9221\"],[1,\"#276419\"]]},\"xaxis\":{\"gridcolor\":\"white\",\"linecolor\":\"white\",\"ticks\":\"\",\"title\":{\"standoff\":15},\"zerolinecolor\":\"white\",\"automargin\":true,\"zerolinewidth\":2},\"yaxis\":{\"gridcolor\":\"white\",\"linecolor\":\"white\",\"ticks\":\"\",\"title\":{\"standoff\":15},\"zerolinecolor\":\"white\",\"automargin\":true,\"zerolinewidth\":2},\"scene\":{\"xaxis\":{\"backgroundcolor\":\"#E5ECF6\",\"gridcolor\":\"white\",\"linecolor\":\"white\",\"showbackground\":true,\"ticks\":\"\",\"zerolinecolor\":\"white\",\"gridwidth\":2},\"yaxis\":{\"backgroundcolor\":\"#E5ECF6\",\"gridcolor\":\"white\",\"linecolor\":\"white\",\"showbackground\":true,\"ticks\":\"\",\"zerolinecolor\":\"white\",\"gridwidth\":2},\"zaxis\":{\"backgroundcolor\":\"#E5ECF6\",\"gridcolor\":\"white\",\"linecolor\":\"white\",\"showbackground\":true,\"ticks\":\"\",\"zerolinecolor\":\"white\",\"gridwidth\":2}},\"shapedefaults\":{\"line\":{\"color\":\"#2a3f5f\"}},\"annotationdefaults\":{\"arrowcolor\":\"#2a3f5f\",\"arrowhead\":0,\"arrowwidth\":1},\"geo\":{\"bgcolor\":\"white\",\"landcolor\":\"#E5ECF6\",\"subunitcolor\":\"white\",\"showland\":true,\"showlakes\":true,\"lakecolor\":\"white\"},\"title\":{\"x\":0.05},\"mapbox\":{\"style\":\"light\"}}},\"xaxis\":{\"anchor\":\"y\",\"domain\":[0.0,1.0],\"title\":{\"text\":\"UF\"}},\"yaxis\":{\"anchor\":\"x\",\"domain\":[0.0,1.0],\"title\":{\"text\":\"beneficiarios_auxilio\"}},\"legend\":{\"tracegroupgap\":0},\"title\":{\"text\":\"Dependência do Auxílio Emergencial por UF\"},\"barmode\":\"relative\"},                        {\"responsive\": true}                    ).then(function(){\n",
              "                            \n",
              "var gd = document.getElementById('27adff0c-c15c-4b78-9c55-5824dd69fb9e');\n",
              "var x = new MutationObserver(function (mutations, observer) {{\n",
              "        var display = window.getComputedStyle(gd).display;\n",
              "        if (!display || display === 'none') {{\n",
              "            console.log([gd, 'removed!']);\n",
              "            Plotly.purge(gd);\n",
              "            observer.disconnect();\n",
              "        }}\n",
              "}});\n",
              "\n",
              "// Listen for the removal of the full notebook cells\n",
              "var notebookContainer = gd.closest('#notebook-container');\n",
              "if (notebookContainer) {{\n",
              "    x.observe(notebookContainer, {childList: true});\n",
              "}}\n",
              "\n",
              "// Listen for the clearing of the current output cell\n",
              "var outputEl = gd.closest('.output');\n",
              "if (outputEl) {{\n",
              "    x.observe(outputEl, {childList: true});\n",
              "}}\n",
              "\n",
              "                        })                };                            </script>        </div>\n",
              "</body>\n",
              "</html>"
            ]
          },
          "metadata": {}
        }
      ]
    }
  ]
}